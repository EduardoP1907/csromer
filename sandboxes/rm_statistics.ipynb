{
 "cells": [
  {
   "cell_type": "code",
   "execution_count": 1,
   "id": "daa033e5",
   "metadata": {
    "ExecuteTime": {
     "end_time": "2022-04-23T11:48:59.534312Z",
     "start_time": "2022-04-23T11:48:58.612707Z"
    }
   },
   "outputs": [],
   "source": [
    "import astropy.units as un\n",
    "import matplotlib.pyplot as plt\n",
    "import numpy as np\n",
    "from astropy.coordinates import SkyCoord\n",
    "from astropy.cosmology import Planck18\n",
    "from astropy.io import fits\n",
    "from astropy.stats import median_absolute_deviation as mad\n",
    "from astropy.units import Quantity\n",
    "from astropy.wcs import WCS\n",
    "from mpl_toolkits.axes_grid1 import make_axes_locatable"
   ]
  },
  {
   "cell_type": "code",
   "execution_count": 2,
   "id": "91c94b2b",
   "metadata": {
    "ExecuteTime": {
     "end_time": "2022-04-23T11:48:59.538557Z",
     "start_time": "2022-04-23T11:48:59.535211Z"
    }
   },
   "outputs": [],
   "source": [
    "def get_lims(wcs: WCS = None, radius: Quantity = None, center_coord: SkyCoord = None):\n",
    "    if isinstance(radius, Quantity):\n",
    "        if radius.isscalar:\n",
    "            radius_x = radius_y = radius\n",
    "        else:\n",
    "            radius_x = radius[0]\n",
    "            radius_y = radius[1]\n",
    "\n",
    "    else:\n",
    "        if isinstance(radius, list):\n",
    "            radius_x = radius[0] * un.deg\n",
    "            radius_y = radius[1] * un.deg\n",
    "        else:\n",
    "            radius_x = radius_y = radius * un.deg\n",
    "\n",
    "    left_corner = SkyCoord(ra=center_coord.ra - radius_x, dec=center_coord.dec - radius_y)\n",
    "    right_corner = SkyCoord(ra=center_coord.ra + radius_x, dec=center_coord.dec + radius_y)\n",
    "    left, up = left_corner.to_pixel(wcs, origin=0)\n",
    "    right, down = right_corner.to_pixel(wcs, origin=0)\n",
    "    xlim = [int(right), int(left)]\n",
    "    ylim = [int(up), int(down)]\n",
    "    return xlim, ylim"
   ]
  },
  {
   "cell_type": "code",
   "execution_count": 3,
   "id": "00f39775",
   "metadata": {
    "ExecuteTime": {
     "end_time": "2022-04-23T11:48:59.595688Z",
     "start_time": "2022-04-23T11:48:59.539889Z"
    }
   },
   "outputs": [],
   "source": [
    "rm_hdu = fits.open(\n",
    "    \"/home/miguel/Documents/datasets/A1314_JVLA/mfs/rm_images/delta_wavelet/max_faraday_depth.fits\"\n",
    ")[0]\n",
    "p_hdu = fits.open(\n",
    "    \"/home/miguel/Documents/datasets/A1314_JVLA/mfs/rm_images/delta_wavelet/max_rotated_intensity.fits\"\n",
    ")[0]\n",
    "sigma_qu_hdu = fits.open(\n",
    "    \"/home/miguel/Documents/datasets/A1314_JVLA/mfs/rm_images/delta_wavelet/sigma_qu_faraday.fits\"\n",
    ")[0]\n",
    "sigma_phi_hdu = fits.open(\n",
    "    \"/home/miguel/Documents/datasets/A1314_JVLA/mfs/rm_images/delta_wavelet/sigma_phi_peak.fits\"\n",
    ")[0]"
   ]
  },
  {
   "cell_type": "code",
   "execution_count": 4,
   "id": "43dab090",
   "metadata": {
    "ExecuteTime": {
     "end_time": "2022-04-23T11:48:59.639010Z",
     "start_time": "2022-04-23T11:48:59.597608Z"
    }
   },
   "outputs": [],
   "source": [
    "cluster_center_coord = SkyCoord(ra=173.714 * un.deg, dec=49.091 * un.deg, frame=\"fk5\")"
   ]
  },
  {
   "cell_type": "code",
   "execution_count": 5,
   "id": "db0b06b6",
   "metadata": {
    "ExecuteTime": {
     "end_time": "2022-04-23T11:48:59.686779Z",
     "start_time": "2022-04-23T11:48:59.639766Z"
    }
   },
   "outputs": [],
   "source": [
    "#center_coord = SkyCoord(ra=173.705 * un.deg,dec=49.077 *un.deg, frame=\"fk5\") # Center Source 10\n",
    "#center_coord = SkyCoord(ra=173.479 * un.deg,dec=49.064 *un.deg, frame=\"fk5\") # C-W Source 3\n",
    "center_coord = SkyCoord(ra=173.654 * un.deg, dec=48.978 * un.deg, frame=\"fk5\")  # C-S Extended 9\n",
    "#center_coord = SkyCoord(ra=173.453 * un.deg,dec=48.985 *un.deg, frame=\"fk5\") # S-W Source 1\n",
    "#center_coord = SkyCoord(ra=173.803 * un.deg,dec=48.966 *un.deg, frame=\"fk5\") # S-E Source 13"
   ]
  },
  {
   "cell_type": "code",
   "execution_count": 6,
   "id": "38c8e057",
   "metadata": {
    "ExecuteTime": {
     "end_time": "2022-04-23T11:48:59.747258Z",
     "start_time": "2022-04-23T11:48:59.687828Z"
    }
   },
   "outputs": [],
   "source": [
    "# Centers based on core centers\n",
    "#center_coord = SkyCoord(ra=173.705 * un.deg,dec=49.077 *un.deg, frame=\"fk5\") # Center Source 10*\n",
    "#center_coord = SkyCoord(ra=173.496 * un.deg,dec=49.062 *un.deg, frame=\"fk5\") # C-W Source 3*\n",
    "#center_coord = SkyCoord(ra=173.693 * un.deg,dec=48.956 *un.deg, frame=\"fk5\") # C-S Extended 9*\n",
    "#center_coord = SkyCoord(ra=173.453 * un.deg,dec=48.985 *un.deg, frame=\"fk5\") # S-W Source 1 *\n",
    "#center_coord = SkyCoord(ra=173.803 * un.deg,dec=48.966 *un.deg, frame=\"fk5\") # S-E Source 13*\n",
    "#center_coord = SkyCoord(ra=173.521 * un.deg,dec=49.106 *un.deg, frame=\"fk5\") # 5*\n",
    "#center_coord = SkyCoord(ra=173.762 * un.deg,dec=49.193 *un.deg, frame=\"fk5\") # 12*\n",
    "#center_coord = SkyCoord(ra=173.943 * un.deg,dec=48.921 *un.deg, frame=\"fk5\") # 15*"
   ]
  },
  {
   "cell_type": "code",
   "execution_count": 7,
   "id": "a2771671",
   "metadata": {
    "ExecuteTime": {
     "end_time": "2022-04-23T11:48:59.810110Z",
     "start_time": "2022-04-23T11:48:59.748752Z"
    }
   },
   "outputs": [],
   "source": [
    "dist_to_center = center_coord.separation(cluster_center_coord)"
   ]
  },
  {
   "cell_type": "code",
   "execution_count": 8,
   "id": "d67ef418",
   "metadata": {
    "ExecuteTime": {
     "end_time": "2022-04-23T11:48:59.875808Z",
     "start_time": "2022-04-23T11:48:59.811557Z"
    }
   },
   "outputs": [
    {
     "data": {
      "text/latex": [
       "$430.74326 \\; \\mathrm{{}^{\\prime\\prime}}$"
      ],
      "text/plain": [
       "<Quantity 430.74326329 arcsec>"
      ]
     },
     "execution_count": 8,
     "metadata": {},
     "output_type": "execute_result"
    }
   ],
   "source": [
    "dist_to_center.arcsec * un.arcsec"
   ]
  },
  {
   "cell_type": "code",
   "execution_count": 9,
   "id": "7328296f",
   "metadata": {
    "ExecuteTime": {
     "end_time": "2022-04-23T11:49:00.302765Z",
     "start_time": "2022-04-23T11:48:59.877334Z"
    }
   },
   "outputs": [],
   "source": [
    "redshift_z = 0.034  # X-Ray Center\n",
    "#redshift_z = 0.033 # Center Source\n",
    "#redshift_z = 0.032 # C-W Source\n",
    "#redshift_z = 0.032 # C-S Extended"
   ]
  },
  {
   "cell_type": "code",
   "execution_count": 10,
   "id": "d39d6115",
   "metadata": {
    "ExecuteTime": {
     "end_time": "2022-04-23T11:49:00.358960Z",
     "start_time": "2022-04-23T11:49:00.304169Z"
    }
   },
   "outputs": [],
   "source": [
    "dist = Planck18.comoving_distance(redshift_z)\n",
    "scale = Planck18.arcsec_per_kpc_comoving(redshift_z)"
   ]
  },
  {
   "cell_type": "code",
   "execution_count": 11,
   "id": "59d49ded",
   "metadata": {
    "ExecuteTime": {
     "end_time": "2022-04-23T11:49:00.414435Z",
     "start_time": "2022-04-23T11:49:00.359717Z"
    }
   },
   "outputs": [],
   "source": [
    "dist_kpc = dist_to_center.arcsecond * un.arcsec / scale"
   ]
  },
  {
   "cell_type": "code",
   "execution_count": 12,
   "id": "8ed22e61",
   "metadata": {
    "ExecuteTime": {
     "end_time": "2022-04-23T11:49:00.470461Z",
     "start_time": "2022-04-23T11:49:00.416140Z"
    }
   },
   "outputs": [
    {
     "data": {
      "text/latex": [
       "$312.08903 \\; \\mathrm{kpc}$"
      ],
      "text/plain": [
       "<Quantity 312.08902673 kpc>"
      ]
     },
     "execution_count": 12,
     "metadata": {},
     "output_type": "execute_result"
    }
   ],
   "source": [
    "dist_kpc"
   ]
  },
  {
   "cell_type": "code",
   "execution_count": 13,
   "id": "86927f35",
   "metadata": {
    "ExecuteTime": {
     "end_time": "2022-04-23T11:49:00.535662Z",
     "start_time": "2022-04-23T11:49:00.471152Z"
    }
   },
   "outputs": [
    {
     "name": "stderr",
     "output_type": "stream",
     "text": [
      "WARNING: FITSFixedWarning: 'obsfix' made the change 'Set OBSGEO-L to  -107.618000 from OBSGEO-[XYZ].\n",
      "Set OBSGEO-B to    34.078827 from OBSGEO-[XYZ].\n",
      "Set OBSGEO-H to     2115.607 from OBSGEO-[XYZ]'. [astropy.wcs.wcs]\n"
     ]
    }
   ],
   "source": [
    "wcs = WCS(rm_hdu.header, naxis=2)"
   ]
  },
  {
   "cell_type": "code",
   "execution_count": 14,
   "id": "799fef8a",
   "metadata": {
    "ExecuteTime": {
     "end_time": "2022-04-23T11:49:00.590481Z",
     "start_time": "2022-04-23T11:49:00.536386Z"
    }
   },
   "outputs": [],
   "source": [
    "rm = rm_hdu.data\n",
    "p = p_hdu.data\n",
    "sigma_qu = sigma_qu_hdu.data\n",
    "sigma_phi = sigma_phi_hdu.data"
   ]
  },
  {
   "cell_type": "code",
   "execution_count": 15,
   "id": "294baf8b",
   "metadata": {
    "ExecuteTime": {
     "end_time": "2022-04-23T11:49:00.666260Z",
     "start_time": "2022-04-23T11:49:00.591670Z"
    }
   },
   "outputs": [],
   "source": [
    "rm = np.where(p > 6 * sigma_qu, rm, np.nan)\n",
    "sigma_phi = np.where(p > 6 * sigma_qu, sigma_phi, np.nan)\n",
    "sigma_qu = np.where(p > 6 * sigma_qu, sigma_qu, np.nan)"
   ]
  },
  {
   "cell_type": "code",
   "execution_count": 16,
   "id": "c7956ef8",
   "metadata": {
    "ExecuteTime": {
     "end_time": "2022-04-23T11:49:00.709824Z",
     "start_time": "2022-04-23T11:49:00.667601Z"
    }
   },
   "outputs": [],
   "source": [
    "x_lim, y_lim = get_lims(wcs, radius=0.05 * un.deg, center_coord=center_coord)"
   ]
  },
  {
   "cell_type": "code",
   "execution_count": 17,
   "id": "c878f1d0",
   "metadata": {
    "ExecuteTime": {
     "end_time": "2022-04-23T11:49:00.786515Z",
     "start_time": "2022-04-23T11:49:00.711381Z"
    }
   },
   "outputs": [],
   "source": [
    "rm = rm[y_lim[0]:y_lim[1], x_lim[0]:x_lim[1]]\n",
    "sigma_phi = sigma_phi[y_lim[0]:y_lim[1], x_lim[0]:x_lim[1]]\n",
    "p = p[y_lim[0]:y_lim[1], x_lim[0]:x_lim[1]]\n",
    "sigma_qu = sigma_qu[y_lim[0]:y_lim[1], x_lim[0]:x_lim[1]]"
   ]
  },
  {
   "cell_type": "code",
   "execution_count": 18,
   "id": "8519bbf8",
   "metadata": {
    "ExecuteTime": {
     "end_time": "2022-04-23T11:49:01.214114Z",
     "start_time": "2022-04-23T11:49:00.787704Z"
    }
   },
   "outputs": [
    {
     "data": {
      "text/plain": [
       "<matplotlib.colorbar.Colorbar at 0x7efb2f2a5e10>"
      ]
     },
     "execution_count": 18,
     "metadata": {},
     "output_type": "execute_result"
    },
    {
     "data": {
      "image/png": "[encoded data removed]",
      "text/plain": [
       "<Figure size 432x288 with 2 Axes>"
      ]
     },
     "metadata": {
      "needs_background": "light"
     },
     "output_type": "display_data"
    }
   ],
   "source": [
    "fig = plt.figure()\n",
    "ax = plt.subplot(projection=wcs)\n",
    "im = ax.imshow(p)\n",
    "#ax.set_xlim(x_lim[1], x_lim[0])\n",
    "#ax.set_ylim(y_lim[1], y_lim[0])\n",
    "fig.colorbar(im, ax=ax, orientation='vertical')"
   ]
  },
  {
   "cell_type": "code",
   "execution_count": 19,
   "id": "55ca5d04",
   "metadata": {
    "ExecuteTime": {
     "end_time": "2022-04-23T11:49:01.394501Z",
     "start_time": "2022-04-23T11:49:01.214926Z"
    }
   },
   "outputs": [
    {
     "data": {
      "text/plain": [
       "<matplotlib.colorbar.Colorbar at 0x7efb2ef25270>"
      ]
     },
     "execution_count": 19,
     "metadata": {},
     "output_type": "execute_result"
    },
    {
     "data": {
      "image/png": "[encoded data removed]",
      "text/plain": [
       "<Figure size 432x288 with 2 Axes>"
      ]
     },
     "metadata": {
      "needs_background": "light"
     },
     "output_type": "display_data"
    }
   ],
   "source": [
    "fig = plt.figure()\n",
    "ax = plt.subplot(projection=wcs)\n",
    "im = ax.imshow(rm)\n",
    "#ax.set_xlim(x_lim[1], x_lim[0])\n",
    "#ax.set_ylim(y_lim[1], y_lim[0])\n",
    "fig.colorbar(im, ax=ax, orientation='vertical')"
   ]
  },
  {
   "cell_type": "code",
   "execution_count": 20,
   "id": "62c7875f",
   "metadata": {
    "ExecuteTime": {
     "end_time": "2022-04-23T11:49:01.523821Z",
     "start_time": "2022-04-23T11:49:01.395294Z"
    }
   },
   "outputs": [
    {
     "data": {
      "text/plain": [
       "<matplotlib.colorbar.Colorbar at 0x7efb2edde380>"
      ]
     },
     "execution_count": 20,
     "metadata": {},
     "output_type": "execute_result"
    },
    {
     "data": {
      "image/png": "[encoded data removed]",
      "text/plain": [
       "<Figure size 432x288 with 2 Axes>"
      ]
     },
     "metadata": {
      "needs_background": "light"
     },
     "output_type": "display_data"
    }
   ],
   "source": [
    "fig = plt.figure()\n",
    "ax = plt.subplot(projection=wcs)\n",
    "ax.imshow(sigma_phi)\n",
    "#ax.set_xlim(x_lim[1], x_lim[0])\n",
    "#ax.set_ylim(y_lim[1], y_lim[0])\n",
    "fig.colorbar(im, ax=ax, orientation='vertical')"
   ]
  },
  {
   "cell_type": "code",
   "execution_count": 21,
   "id": "3e66ab96",
   "metadata": {
    "ExecuteTime": {
     "end_time": "2022-04-23T11:49:01.527607Z",
     "start_time": "2022-04-23T11:49:01.524635Z"
    }
   },
   "outputs": [
    {
     "data": {
      "text/plain": [
       "array([-13.64981384, -13.64981384, -13.64981384, ...,  47.77434843,\n",
       "        47.77434843,  47.77434843])"
      ]
     },
     "execution_count": 21,
     "metadata": {},
     "output_type": "execute_result"
    }
   ],
   "source": [
    "rm[~np.isnan(rm)]"
   ]
  },
  {
   "cell_type": "code",
   "execution_count": 22,
   "id": "63a452e5",
   "metadata": {
    "ExecuteTime": {
     "end_time": "2022-04-23T11:49:01.587668Z",
     "start_time": "2022-04-23T11:49:01.528680Z"
    }
   },
   "outputs": [
    {
     "data": {
      "text/plain": [
       "array([0.9991397 , 0.90454036, 0.84470564, ..., 1.4390793 , 1.3847916 ,\n",
       "       1.3930504 ], dtype=float32)"
      ]
     },
     "execution_count": 22,
     "metadata": {},
     "output_type": "execute_result"
    }
   ],
   "source": [
    "sigma_phi[~np.isnan(sigma_phi)]"
   ]
  },
  {
   "cell_type": "code",
   "execution_count": 23,
   "id": "796a5401",
   "metadata": {
    "ExecuteTime": {
     "end_time": "2022-04-23T11:49:01.642511Z",
     "start_time": "2022-04-23T11:49:01.588380Z"
    }
   },
   "outputs": [],
   "source": [
    "dx = rm_hdu.header[\"CDELT1\"] * un.deg\n",
    "dy = rm_hdu.header[\"CDELT2\"] * un.deg"
   ]
  },
  {
   "cell_type": "code",
   "execution_count": 24,
   "id": "81d26ff1",
   "metadata": {
    "ExecuteTime": {
     "end_time": "2022-04-23T11:49:01.702184Z",
     "start_time": "2022-04-23T11:49:01.643466Z"
    }
   },
   "outputs": [],
   "source": [
    "npixels = np.count_nonzero(~np.isnan(rm))"
   ]
  },
  {
   "cell_type": "code",
   "execution_count": 25,
   "id": "016c52cb",
   "metadata": {
    "ExecuteTime": {
     "end_time": "2022-04-23T11:49:01.762364Z",
     "start_time": "2022-04-23T11:49:01.703200Z"
    }
   },
   "outputs": [],
   "source": [
    "bmaj = 12.381457328796387 * un.arcsec\n",
    "bmin = 11.684733390808105 * un.arcsec\n",
    "area_pixels = np.pi * bmaj.to(un.deg) * bmin.to(un.deg) / (4. * np.log(2)) / (-dx * dy)\n",
    "nbeams = npixels / area_pixels"
   ]
  },
  {
   "cell_type": "code",
   "execution_count": 26,
   "id": "5c419d12",
   "metadata": {
    "ExecuteTime": {
     "end_time": "2022-04-23T11:49:01.825803Z",
     "start_time": "2022-04-23T11:49:01.763266Z"
    }
   },
   "outputs": [
    {
     "data": {
      "text/plain": [
       "(277, 182)"
      ]
     },
     "execution_count": 26,
     "metadata": {},
     "output_type": "execute_result"
    }
   ],
   "source": [
    "sigma_phi.shape"
   ]
  },
  {
   "cell_type": "code",
   "execution_count": 27,
   "id": "016991cc",
   "metadata": {
    "ExecuteTime": {
     "end_time": "2022-04-23T11:49:01.891994Z",
     "start_time": "2022-04-23T11:49:01.826794Z"
    }
   },
   "outputs": [],
   "source": [
    "pos_max = np.unravel_index(np.nanargmax(p), shape=p.shape)\n",
    "max_rm = rm[pos_max]\n",
    "sigma_phi_at_max = sigma_phi[pos_max]\n",
    "avg_rm = np.nanmean(rm)\n",
    "med_rm = np.nanmedian(rm)\n",
    "mad_rm = np.nanmedian(np.abs(rm - np.nanmedian(rm)))\n",
    "sigma_rm_obs = np.nanstd(rm)\n",
    "med_sigma_phi = np.nanmedian(sigma_phi)\n",
    "sigma_rm = np.sqrt(sigma_rm_obs**2 - med_sigma_phi**2)"
   ]
  },
  {
   "cell_type": "code",
   "execution_count": 28,
   "id": "89dae14b",
   "metadata": {
    "ExecuteTime": {
     "end_time": "2022-04-23T11:49:01.952461Z",
     "start_time": "2022-04-23T11:49:01.893482Z"
    }
   },
   "outputs": [],
   "source": [
    "mean_error = sigma_rm_obs / np.sqrt(nbeams)\n",
    "sigma_error = sigma_rm / np.sqrt(nbeams)"
   ]
  },
  {
   "cell_type": "code",
   "execution_count": 29,
   "id": "ab3725f9",
   "metadata": {
    "ExecuteTime": {
     "end_time": "2022-04-23T11:49:02.016250Z",
     "start_time": "2022-04-23T11:49:01.953684Z"
    },
    "scrolled": true
   },
   "outputs": [
    {
     "name": "stdout",
     "output_type": "stream",
     "text": [
      "RM at max(P): -6.825\n",
      "sigma phi at max(P): 0.169\n",
      "<RM> : 5.896\n",
      "sigma(RM): 48.977\n",
      "med(RM): 6.825\n",
      "MAD(RM): 13.650\n",
      "med(sigma_phi): 1.031\n",
      "nbeams: 75.660\n",
      "sigma(RM)_obs:  48.988\n",
      "mean error:  5.632\n",
      "sigma error:  5.631\n"
     ]
    }
   ],
   "source": [
    "print(\"RM at max(P): {0:.3f}\".format(max_rm))\n",
    "print(\"sigma phi at max(P): {0:.3f}\".format(sigma_phi_at_max))\n",
    "print(\"<RM> : {0:.3f}\".format(avg_rm))\n",
    "print(\"sigma(RM): {0:.3f}\".format(sigma_rm))\n",
    "print(\"med(RM): {0:.3f}\".format(med_rm))\n",
    "print(\"MAD(RM): {0:.3f}\".format(mad_rm))\n",
    "print(\"med(sigma_phi): {0:.3f}\".format(med_sigma_phi))\n",
    "print(\"nbeams: {0:.3f}\".format(nbeams))\n",
    "print(\"sigma(RM)_obs: {0: .3f}\".format(sigma_rm_obs))\n",
    "print(\"mean error: {0: .3f}\".format(mean_error))\n",
    "print(\"sigma error: {0: .3f}\".format(sigma_error))"
   ]
  },
  {
   "cell_type": "code",
   "execution_count": 30,
   "id": "efb54efd",
   "metadata": {
    "ExecuteTime": {
     "end_time": "2022-04-23T11:49:02.106933Z",
     "start_time": "2022-04-23T11:49:02.017163Z"
    }
   },
   "outputs": [
    {
     "data": {
      "text/plain": [
       "2399.8555084586255"
      ]
     },
     "execution_count": 30,
     "metadata": {},
     "output_type": "execute_result"
    }
   ],
   "source": [
    "sigma_rm_obs**2"
   ]
  },
  {
   "cell_type": "code",
   "execution_count": 31,
   "id": "a0ae3d88",
   "metadata": {
    "ExecuteTime": {
     "end_time": "2022-04-23T11:49:02.169363Z",
     "start_time": "2022-04-23T11:49:02.108280Z"
    }
   },
   "outputs": [
    {
     "data": {
      "text/plain": [
       "-1.0629288365546472"
      ]
     },
     "execution_count": 31,
     "metadata": {},
     "output_type": "execute_result"
    }
   ],
   "source": [
    "-med_sigma_phi**2"
   ]
  },
  {
   "cell_type": "code",
   "execution_count": 32,
   "id": "135d2d65",
   "metadata": {
    "ExecuteTime": {
     "end_time": "2022-04-23T11:49:02.232882Z",
     "start_time": "2022-04-23T11:49:02.170041Z"
    }
   },
   "outputs": [],
   "source": [
    "sigma_rm = np.sqrt(sigma_rm_obs**2 - med_sigma_phi**2)"
   ]
  }
 ],
 "metadata": {
  "kernelspec": {
   "display_name": "Python 3 (ipykernel)",
   "language": "python",
   "name": "python3"
  },
  "language_info": {
   "codemirror_mode": {
    "name": "ipython",
    "version": 3
   },
   "file_extension": ".py",
   "mimetype": "text/x-python",
   "name": "python",
   "nbconvert_exporter": "python",
   "pygments_lexer": "ipython3",
   "version": "3.10.4"
  },
  "latex_envs": {
   "LaTeX_envs_menu_present": true,
   "autoclose": false,
   "autocomplete": true,
   "bibliofile": "biblio.bib",
   "cite_by": "apalike",
   "current_citInitial": 1,
   "eqLabelWithNumbers": true,
   "eqNumInitial": 1,
   "hotkeys": {
    "equation": "Ctrl-E",
    "itemize": "Ctrl-I"
   },
   "labels_anchors": false,
   "latex_user_defs": false,
   "report_style_numbering": false,
   "user_envs_cfg": false
  },
  "varInspector": {
   "cols": {
    "lenName": 16,
    "lenType": 16,
    "lenVar": 40
   },
   "kernels_config": {
    "python": {
     "delete_cmd_postfix": "",
     "delete_cmd_prefix": "del ",
     "library": "var_list.py",
     "varRefreshCmd": "print(var_dic_list())"
    },
    "r": {
     "delete_cmd_postfix": ") ",
     "delete_cmd_prefix": "rm(",
     "library": "var_list.r",
     "varRefreshCmd": "cat(var_dic_list()) "
    }
   },
   "types_to_exclude": [
    "module",
    "function",
    "builtin_function_or_method",
    "instance",
    "_Feature"
   ],
   "window_display": false
  }
 },
 "nbformat": 4,
 "nbformat_minor": 5
}
