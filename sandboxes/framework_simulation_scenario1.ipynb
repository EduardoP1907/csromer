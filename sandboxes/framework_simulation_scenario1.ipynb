{
 "cells": [
  {
   "cell_type": "code",
   "execution_count": 1,
   "id": "71d19339",
   "metadata": {
    "ExecuteTime": {
     "end_time": "2022-09-12T09:38:57.142288Z",
     "start_time": "2022-09-12T09:38:56.256329Z"
    },
    "pycharm": {
     "name": "#%%\n"
    }
   },
   "outputs": [
    {
     "ename": "IndentationError",
     "evalue": "unindent does not match any outer indentation level (fi.py, line 13)",
     "output_type": "error",
     "traceback": [
      "Traceback \u001b[0;36m(most recent call last)\u001b[0m:\n",
      "  File \u001b[1;32m~/.local/lib/python3.10/site-packages/IPython/core/interactiveshell.py:3398\u001b[0m in \u001b[1;35mrun_code\u001b[0m\n    exec(code_obj, self.user_global_ns, self.user_ns)\n",
      "  Input \u001b[1;32mIn [1]\u001b[0m in \u001b[1;35m<cell line: 18>\u001b[0m\n    from csromer.objectivefunction import OFunction\n",
      "\u001b[0;36m  File \u001b[0;32m~/Documents/repositories/csromer/csromer/objectivefunction/__init__.py:2\u001b[0;36m in \u001b[0;35m<module>\u001b[0;36m\u001b[0m\n\u001b[0;31m    from .fi import *\u001b[0m\n",
      "\u001b[0;36m  File \u001b[0;32m~/Documents/repositories/csromer/csromer/objectivefunction/fi.py:13\u001b[0;36m\u001b[0m\n\u001b[0;31m    def __post_init__(self):\u001b[0m\n\u001b[0m                            ^\u001b[0m\n\u001b[0;31mIndentationError\u001b[0m\u001b[0;31m:\u001b[0m unindent does not match any outer indentation level\n"
     ]
    }
   ],
   "source": [
    "import copy\n",
    "import itertools\n",
    "import time\n",
    "\n",
    "import matplotlib\n",
    "import matplotlib.pyplot as plt\n",
    "import numpy as np\n",
    "from IPython.display import clear_output\n",
    "from pynufft import NUFFT\n",
    "from scipy import signal as sci_signal\n",
    "from scipy import stats\n",
    "from scipy.constants import c\n",
    "from scipy.stats import median_abs_deviation, norm\n",
    "\n",
    "from csromer.base import Dataset\n",
    "from csromer.dictionaries import DiscreteWavelet, UndecimatedWavelet\n",
    "from csromer.io import Reader, Writer\n",
    "from csromer.objectivefunction import OFunction\n",
    "from csromer.optimization import ADMM, FISTA, SDMM, GradientBasedMethod\n",
    "from csromer.objectivefunction priors import L1, TSV, TV, Chi2\n",
    "from csromer.reconstruction import Parameter\n",
    "from csromer.simulation import FaradayThickSource, FaradayThinSource\n",
    "from csromer.transformers import Gridding\n",
    "from csromer.transformers.dfts import DFT1D, NUFFT1D\n",
    "from csromer.utils import Gaussian, complex_to_real, real_to_complex"
   ]
  },
  {
   "cell_type": "code",
   "execution_count": null,
   "id": "10964547",
   "metadata": {
    "ExecuteTime": {
     "end_time": "2022-09-12T09:38:57.146008Z",
     "start_time": "2022-09-12T09:38:57.143266Z"
    }
   },
   "outputs": [],
   "source": [
    "SMALL_SIZE = 17\n",
    "MEDIUM_SIZE = 18\n",
    "BIGGER_SIZE = 19\n",
    "\n",
    "plt.rcParams.update(\n",
    "    {\n",
    "        \"font.family\": \"serif\",\n",
    "        \"text.usetex\": True,\n",
    "        \"pgf.rcfonts\": False,\n",
    "        \"pgf.texsystem\": 'pdflatex',  # default is xetex\n",
    "    }\n",
    ")\n",
    "\n",
    "plt.rc('font', size=MEDIUM_SIZE)  # controls default text sizes\n",
    "plt.rc('axes', titlesize=SMALL_SIZE)  # fontsize of the axes title\n",
    "plt.rc('axes', labelsize=MEDIUM_SIZE)  # fontsize of the x and y labels\n",
    "plt.rc('xtick', labelsize=SMALL_SIZE)  # fontsize of the tick labels\n",
    "plt.rc('ytick', labelsize=SMALL_SIZE)  # fontsize of the tick labels\n",
    "plt.rc('legend', fontsize=SMALL_SIZE)  # legend fontsize"
   ]
  },
  {
   "cell_type": "code",
   "execution_count": null,
   "id": "aad05405",
   "metadata": {
    "ExecuteTime": {
     "end_time": "2022-09-12T09:38:57.197650Z",
     "start_time": "2022-09-12T09:38:57.147131Z"
    },
    "pycharm": {
     "name": "#%%\n"
    }
   },
   "outputs": [],
   "source": [
    "def chi2_calc(residuals):\n",
    "    if residuals.dtype == np.complex64 or residuals.dtype == np.complex128:\n",
    "        data = (residuals.real * residuals.real) + (residuals.imag * residuals.imag)\n",
    "    else:\n",
    "        data = residuals**2\n",
    "    return np.sum(data)"
   ]
  },
  {
   "cell_type": "code",
   "execution_count": null,
   "id": "6d90a423",
   "metadata": {
    "ExecuteTime": {
     "end_time": "2022-09-12T09:38:57.246418Z",
     "start_time": "2022-09-12T09:38:57.198905Z"
    },
    "pycharm": {
     "name": "#%%\n"
    }
   },
   "outputs": [],
   "source": [
    "def aicbic(residuals_coeffs, x_coeffs):\n",
    "    rss = chi2_calc(residuals)\n",
    "    if x.dtype == np.complex64 or x.dtype == np.complex128:\n",
    "        df = np.count_nonzero(x.real) + np.count_nonzero(x.imag)\n",
    "    else:\n",
    "        df = np.count_nonzero(x)\n",
    "    l = len(residuals)\n",
    "    return l * np.log(rss / l) + 2 * df, l * np.log(rss / l) + df * np.log(l)"
   ]
  },
  {
   "cell_type": "code",
   "execution_count": null,
   "id": "a7cdb152",
   "metadata": {
    "ExecuteTime": {
     "end_time": "2022-09-12T09:38:57.332296Z",
     "start_time": "2022-09-12T09:38:57.247573Z"
    },
    "pycharm": {
     "name": "#%%\n"
    }
   },
   "outputs": [],
   "source": [
    "def aicbic(residuals, x):\n",
    "    rss = chi2_calc(residuals)\n",
    "    if x.dtype == np.complex64 or x.dtype == np.complex128:\n",
    "        df = np.count_nonzero(x.real) + np.count_nonzero(x.imag)\n",
    "        lcoeffs = 2 * len(x)\n",
    "    else:\n",
    "        df = np.count_nonzero(x)\n",
    "        lcoeffs = len(x)\n",
    "    l = len(residuals)\n",
    "    print(\"len(coeffs):\", lcoeffs)\n",
    "    print(\"l:\", l)\n",
    "    print(\"df:\", df)\n",
    "    print(\"rss:\", rss)\n",
    "    print(\"rss/l\", rss / l)\n",
    "    print(\"log(rss/l)\", np.log(rss / l))\n",
    "    print(\"log(l)\", np.log(l))\n",
    "    return l * np.log(rss / l) + 2 * df, l * np.log(rss / l) + df * np.log(l)"
   ]
  },
  {
   "cell_type": "code",
   "execution_count": null,
   "id": "6f447fc3",
   "metadata": {
    "ExecuteTime": {
     "end_time": "2022-09-12T09:38:57.380475Z",
     "start_time": "2022-09-12T09:38:57.334270Z"
    },
    "pycharm": {
     "name": "#%%\n"
    }
   },
   "outputs": [],
   "source": [
    "np.random.seed(666)"
   ]
  },
  {
   "cell_type": "code",
   "execution_count": null,
   "id": "b5bcde93",
   "metadata": {
    "ExecuteTime": {
     "end_time": "2022-09-12T09:38:57.429704Z",
     "start_time": "2022-09-12T09:38:57.382468Z"
    },
    "pycharm": {
     "name": "#%%\n"
    }
   },
   "outputs": [],
   "source": [
    "# JVLA 1.008e9 2.031e9 1000\n",
    "nu = np.linspace(start=1.008e9, stop=2.031e9, num=1000)  # VLA\n",
    "#nu = np.linspace(start=0.89e9, stop=1.681e9, num=1000) # MeerKAT\n",
    "#nu = np.linspace(start=0.58e9, stop=2.50e9, num=512)"
   ]
  },
  {
   "cell_type": "code",
   "execution_count": null,
   "id": "9ff1ea9b",
   "metadata": {
    "ExecuteTime": {
     "end_time": "2022-09-12T09:38:57.477652Z",
     "start_time": "2022-09-12T09:38:57.433156Z"
    },
    "pycharm": {
     "name": "#%%\n"
    }
   },
   "outputs": [],
   "source": [
    "peak_thinsource = 1.\n",
    "peak_thicksource = 1."
   ]
  },
  {
   "cell_type": "code",
   "execution_count": null,
   "id": "cd7ba535",
   "metadata": {
    "ExecuteTime": {
     "end_time": "2022-09-12T09:38:57.527552Z",
     "start_time": "2022-09-12T09:38:57.479724Z"
    },
    "pycharm": {
     "name": "#%%\n"
    }
   },
   "outputs": [],
   "source": [
    "thinsource = FaradayThinSource(nu=nu, s_nu=peak_thinsource, phi_gal=-200, spectral_idx=0.0)"
   ]
  },
  {
   "cell_type": "code",
   "execution_count": null,
   "id": "0bac7941",
   "metadata": {
    "ExecuteTime": {
     "end_time": "2022-09-12T09:38:57.576487Z",
     "start_time": "2022-09-12T09:38:57.529594Z"
    },
    "pycharm": {
     "name": "#%%\n"
    }
   },
   "outputs": [],
   "source": [
    "#140 JVLA\n",
    "# 95 MeerKAT\n",
    "thicksource = FaradayThickSource(\n",
    "    nu=nu, s_nu=peak_thicksource, phi_fg=140., phi_center=200., spectral_idx=0.0\n",
    ")"
   ]
  },
  {
   "cell_type": "code",
   "execution_count": null,
   "id": "5f2d4c49",
   "metadata": {
    "ExecuteTime": {
     "end_time": "2022-09-12T09:38:57.624282Z",
     "start_time": "2022-09-12T09:38:57.578676Z"
    },
    "pycharm": {
     "name": "#%%\n"
    }
   },
   "outputs": [],
   "source": [
    "thinsource.l2_ref = thinsource.calculate_l2ref()"
   ]
  },
  {
   "cell_type": "code",
   "execution_count": null,
   "id": "fb7c928a",
   "metadata": {
    "ExecuteTime": {
     "end_time": "2022-09-12T09:38:57.709010Z",
     "start_time": "2022-09-12T09:38:57.626607Z"
    },
    "pycharm": {
     "name": "#%%\n"
    }
   },
   "outputs": [],
   "source": [
    "thicksource.l2_ref = thicksource.calculate_l2ref()"
   ]
  },
  {
   "cell_type": "code",
   "execution_count": null,
   "id": "a98400e4",
   "metadata": {
    "ExecuteTime": {
     "end_time": "2022-09-12T09:38:57.765271Z",
     "start_time": "2022-09-12T09:38:57.710612Z"
    },
    "pycharm": {
     "name": "#%%\n"
    }
   },
   "outputs": [],
   "source": [
    "thinsource.simulate()\n",
    "thicksource.simulate()"
   ]
  },
  {
   "cell_type": "code",
   "execution_count": null,
   "id": "57cf656a",
   "metadata": {
    "ExecuteTime": {
     "end_time": "2022-09-12T09:38:57.822142Z",
     "start_time": "2022-09-12T09:38:57.766796Z"
    },
    "pycharm": {
     "name": "#%%\n"
    }
   },
   "outputs": [],
   "source": [
    "simsource = thinsource + thicksource"
   ]
  },
  {
   "cell_type": "code",
   "execution_count": null,
   "id": "99e4e10c",
   "metadata": {
    "ExecuteTime": {
     "end_time": "2022-09-12T09:38:57.877963Z",
     "start_time": "2022-09-12T09:38:57.823714Z"
    }
   },
   "outputs": [],
   "source": [
    "simsource.l2_ref = simsource.calculate_l2ref()"
   ]
  },
  {
   "cell_type": "code",
   "execution_count": null,
   "id": "e99850d6",
   "metadata": {
    "ExecuteTime": {
     "end_time": "2022-09-12T09:38:57.942223Z",
     "start_time": "2022-09-12T09:38:57.879734Z"
    }
   },
   "outputs": [],
   "source": [
    "simsource.l2_ref"
   ]
  },
  {
   "cell_type": "code",
   "execution_count": null,
   "id": "93b03e12",
   "metadata": {
    "ExecuteTime": {
     "end_time": "2022-09-12T09:38:57.999696Z",
     "start_time": "2022-09-12T09:38:57.944418Z"
    },
    "pycharm": {
     "name": "#%%\n"
    }
   },
   "outputs": [],
   "source": [
    "original_source = copy.deepcopy(simsource)"
   ]
  },
  {
   "cell_type": "code",
   "execution_count": null,
   "id": "c248fe2d",
   "metadata": {
    "ExecuteTime": {
     "end_time": "2022-09-12T09:38:58.057830Z",
     "start_time": "2022-09-12T09:38:58.001923Z"
    },
    "pycharm": {
     "name": "#%%\n"
    }
   },
   "outputs": [],
   "source": [
    "remove_channels_seed = int(time.time())\n",
    "remove_channels_seed"
   ]
  },
  {
   "cell_type": "code",
   "execution_count": null,
   "id": "5b3e58ff",
   "metadata": {
    "ExecuteTime": {
     "end_time": "2022-09-12T09:38:58.117281Z",
     "start_time": "2022-09-12T09:38:58.059465Z"
    },
    "pycharm": {
     "name": "#%%\n"
    }
   },
   "outputs": [],
   "source": [
    "#simsource.remove_channels(0.1, np.random.RandomState(1648643337))\n",
    "#simsource.remove_channels(0.1, np.random.RandomState(1648650067))\n",
    "simsource.remove_channels(0.2)"
   ]
  },
  {
   "cell_type": "code",
   "execution_count": null,
   "id": "6a7461d3",
   "metadata": {
    "ExecuteTime": {
     "end_time": "2022-09-12T09:38:58.190406Z",
     "start_time": "2022-09-12T09:38:58.118926Z"
    },
    "pycharm": {
     "name": "#%%\n"
    }
   },
   "outputs": [],
   "source": [
    "peak_thinsource"
   ]
  },
  {
   "cell_type": "code",
   "execution_count": null,
   "id": "91dde538",
   "metadata": {
    "ExecuteTime": {
     "end_time": "2022-09-12T09:38:58.246255Z",
     "start_time": "2022-09-12T09:38:58.192470Z"
    },
    "pycharm": {
     "name": "#%%\n"
    }
   },
   "outputs": [],
   "source": [
    "applied_noise = 0.2 * peak_thinsource"
   ]
  },
  {
   "cell_type": "code",
   "execution_count": null,
   "id": "81f4bea6",
   "metadata": {
    "ExecuteTime": {
     "end_time": "2022-09-12T09:38:58.335844Z",
     "start_time": "2022-09-12T09:38:58.248395Z"
    },
    "pycharm": {
     "name": "#%%\n"
    }
   },
   "outputs": [],
   "source": [
    "applied_noise * 1000.0"
   ]
  },
  {
   "cell_type": "code",
   "execution_count": null,
   "id": "09e5ab9b",
   "metadata": {
    "ExecuteTime": {
     "end_time": "2022-09-12T09:38:58.423045Z",
     "start_time": "2022-09-12T09:38:58.342492Z"
    },
    "pycharm": {
     "name": "#%%\n"
    }
   },
   "outputs": [],
   "source": [
    "#simsource.data = np.random.normal(loc=0.0, scale=applied_noise, size=simsource.m) + 1j * np.random.normal(loc=0.0, scale=applied_noise, size=simsource.m)"
   ]
  },
  {
   "cell_type": "code",
   "execution_count": null,
   "id": "1c54c7a8",
   "metadata": {
    "ExecuteTime": {
     "end_time": "2022-09-12T09:38:58.479421Z",
     "start_time": "2022-09-12T09:38:58.425310Z"
    },
    "pycharm": {
     "name": "#%%\n"
    }
   },
   "outputs": [],
   "source": [
    "simsource.apply_noise(applied_noise)"
   ]
  },
  {
   "cell_type": "code",
   "execution_count": null,
   "id": "8c376a0c",
   "metadata": {
    "ExecuteTime": {
     "end_time": "2022-09-12T09:38:59.357614Z",
     "start_time": "2022-09-12T09:38:58.481732Z"
    },
    "pycharm": {
     "name": "#%%\n"
    }
   },
   "outputs": [],
   "source": [
    "plt.plot(original_source.lambda2, original_source.data.real, 'k.', label=r\"Stokes $Q$\")\n",
    "plt.plot(original_source.lambda2, original_source.data.imag, 'c.', label=r\"Stokes $U$\")\n",
    "plt.plot(original_source.lambda2, np.abs(original_source.data), 'g.', label=r\"$|P|$\")\n",
    "plt.xlabel(r'$\\lambda^2$[m$^{2}$]')\n",
    "plt.ylabel(r'Jy/beam')\n",
    "plt.legend(loc=(1.04, 0.755), fancybox=True, shadow=True)\n",
    "plt.tight_layout()\n",
    "#plt.ylim([-0.01,0.01])\n",
    "#plt.savefig(\"pol_sim1.png\", dpi=100)"
   ]
  },
  {
   "cell_type": "code",
   "execution_count": null,
   "id": "3e1f62f3",
   "metadata": {
    "ExecuteTime": {
     "end_time": "2022-09-12T09:38:59.364000Z",
     "start_time": "2022-09-12T09:38:59.360046Z"
    },
    "pycharm": {
     "name": "#%%\n"
    }
   },
   "outputs": [],
   "source": [
    "np.max(np.abs(original_source.data))"
   ]
  },
  {
   "cell_type": "code",
   "execution_count": null,
   "id": "e88ea0ca",
   "metadata": {
    "ExecuteTime": {
     "end_time": "2022-09-12T09:38:59.548740Z",
     "start_time": "2022-09-12T09:38:59.366097Z"
    },
    "pycharm": {
     "name": "#%%\n"
    }
   },
   "outputs": [],
   "source": [
    "plt.plot(simsource.lambda2, simsource.data.real, 'k.', label=r\"Stokes $Q$\")\n",
    "plt.plot(simsource.lambda2, simsource.data.imag, 'c.', label=r\"Stokes $U$\")\n",
    "plt.plot(simsource.lambda2, np.abs(simsource.data), 'g.', label=r\"$|P|$\")\n",
    "plt.xlabel(r'$\\lambda^2$[m$^{2}$]')\n",
    "plt.ylabel(r'Jy/beam')\n",
    "plt.legend(loc=(1.04, 0.755), fancybox=True, shadow=True)\n",
    "plt.tight_layout()\n",
    "#plt.ylim([-0.01,0.01])\n",
    "#plt.savefig(\"pol_sim1.png\", dpi=100)"
   ]
  },
  {
   "cell_type": "code",
   "execution_count": null,
   "id": "c713f3d8",
   "metadata": {
    "ExecuteTime": {
     "end_time": "2022-09-12T09:38:59.552985Z",
     "start_time": "2022-09-12T09:38:59.549973Z"
    },
    "pycharm": {
     "name": "#%%\n"
    }
   },
   "outputs": [],
   "source": [
    "(simsource.m / original_source.m) * 100"
   ]
  },
  {
   "cell_type": "code",
   "execution_count": null,
   "id": "6bebd70f",
   "metadata": {
    "ExecuteTime": {
     "end_time": "2022-09-12T09:38:59.619440Z",
     "start_time": "2022-09-12T09:38:59.553971Z"
    },
    "pycharm": {
     "name": "#%%\n"
    }
   },
   "outputs": [],
   "source": [
    "sigma_qu = 0.5 * (np.std(simsource.data.real) + np.std(simsource.data.imag))\n",
    "sigma_qu"
   ]
  },
  {
   "cell_type": "code",
   "execution_count": null,
   "id": "3bb9e176",
   "metadata": {
    "ExecuteTime": {
     "end_time": "2022-09-12T09:39:00.014622Z",
     "start_time": "2022-09-12T09:38:59.620742Z"
    },
    "pycharm": {
     "name": "#%%\n"
    }
   },
   "outputs": [],
   "source": [
    "import astropy.units as u\n",
    "\n",
    "plt.plot(\n",
    "    simsource.lambda2,\n",
    "    simsource.calculate_polangle('data').to(u.deg),\n",
    "    'k.',\n",
    "    label=r\"Polarization angle\"\n",
    ")\n",
    "plt.xlabel(r'$\\lambda^2$[m$^{2}$]')\n",
    "plt.ylabel(r'Polarization angle (deg)')\n",
    "plt.legend(loc='upper right')\n",
    "plt.tight_layout()"
   ]
  },
  {
   "cell_type": "code",
   "execution_count": null,
   "id": "86c25432",
   "metadata": {
    "ExecuteTime": {
     "end_time": "2022-09-12T09:39:00.382949Z",
     "start_time": "2022-09-12T09:39:00.015689Z"
    },
    "pycharm": {
     "name": "#%%\n"
    }
   },
   "outputs": [],
   "source": [
    "plt.plot(simsource.lambda2, simsource.s, 'k.', label=r\"Spectral index\")\n",
    "plt.xlabel(r'$\\lambda^2$[m$^{2}$]')\n",
    "plt.ylabel(r'Unitless')\n",
    "plt.legend(loc='upper right')\n",
    "plt.tight_layout()"
   ]
  },
  {
   "cell_type": "code",
   "execution_count": null,
   "id": "bb7eca98",
   "metadata": {
    "ExecuteTime": {
     "end_time": "2022-09-12T09:39:00.386567Z",
     "start_time": "2022-09-12T09:39:00.384509Z"
    },
    "pycharm": {
     "name": "#%%\n"
    }
   },
   "outputs": [],
   "source": [
    "dataset = simsource"
   ]
  },
  {
   "cell_type": "code",
   "execution_count": null,
   "id": "0a5a5c67",
   "metadata": {
    "ExecuteTime": {
     "end_time": "2022-09-12T09:39:00.489725Z",
     "start_time": "2022-09-12T09:39:00.387480Z"
    },
    "pycharm": {
     "name": "#%%\n"
    }
   },
   "outputs": [],
   "source": [
    "parameter = Parameter()\n",
    "original_parameter = Parameter()"
   ]
  },
  {
   "cell_type": "code",
   "execution_count": null,
   "id": "f2210db5",
   "metadata": {
    "ExecuteTime": {
     "end_time": "2022-09-12T09:39:00.557278Z",
     "start_time": "2022-09-12T09:39:00.491118Z"
    },
    "pycharm": {
     "name": "#%%\n"
    }
   },
   "outputs": [],
   "source": [
    "original_parameter.calculate_cellsize(dataset=original_source, oversampling=8)"
   ]
  },
  {
   "cell_type": "code",
   "execution_count": null,
   "id": "5a998e51",
   "metadata": {
    "ExecuteTime": {
     "end_time": "2022-09-12T09:39:00.621102Z",
     "start_time": "2022-09-12T09:39:00.558583Z"
    },
    "pycharm": {
     "name": "#%%\n"
    }
   },
   "outputs": [],
   "source": [
    "parameter.calculate_cellsize(dataset=dataset, oversampling=8)"
   ]
  },
  {
   "cell_type": "code",
   "execution_count": null,
   "id": "baf7c1f1",
   "metadata": {
    "ExecuteTime": {
     "end_time": "2022-09-12T09:39:01.237208Z",
     "start_time": "2022-09-12T09:39:00.622768Z"
    },
    "pycharm": {
     "name": "#%%\n"
    }
   },
   "outputs": [],
   "source": [
    "nufft = NUFFT1D(dataset=dataset, parameter=parameter, solve=True)"
   ]
  },
  {
   "cell_type": "code",
   "execution_count": null,
   "id": "6101dab5",
   "metadata": {
    "ExecuteTime": {
     "end_time": "2022-09-12T09:39:01.241952Z",
     "start_time": "2022-09-12T09:39:01.238916Z"
    },
    "pycharm": {
     "name": "#%%\n"
    }
   },
   "outputs": [],
   "source": [
    "dft = DFT1D(dataset=dataset, parameter=parameter)\n",
    "dft_original = DFT1D(dataset=original_source, parameter=original_parameter)"
   ]
  },
  {
   "cell_type": "code",
   "execution_count": null,
   "id": "eb95522e",
   "metadata": {
    "ExecuteTime": {
     "end_time": "2022-09-12T09:39:02.049646Z",
     "start_time": "2022-09-12T09:39:01.242873Z"
    },
    "pycharm": {
     "name": "#%%\n"
    }
   },
   "outputs": [],
   "source": [
    "F_dirty = dft.backward(dataset.data)\n",
    "F_dirty_original = dft_original.backward(original_source.data)"
   ]
  },
  {
   "cell_type": "code",
   "execution_count": null,
   "id": "9291b39e",
   "metadata": {
    "ExecuteTime": {
     "end_time": "2022-09-12T09:39:02.338315Z",
     "start_time": "2022-09-12T09:39:02.050778Z"
    },
    "pycharm": {
     "name": "#%%\n"
    }
   },
   "outputs": [],
   "source": [
    "plt.plot(original_parameter.phi, F_dirty_original.real, 'c--', label=r\"Stokes $Q$\")\n",
    "plt.plot(original_parameter.phi, F_dirty_original.imag, 'c:', label=r\"Stokes $U$\")\n",
    "plt.plot(original_parameter.phi, np.abs(F_dirty_original), '-', c='grey', label=r\"|P|\")\n",
    "#plt.plot([-200., -200.], [0., 0.0035], ls='-', lw=2., c='black')\n",
    "plt.plot(original_parameter.phi, np.zeros(len(original_parameter.phi)), ls='-', lw=2., c='black')\n",
    "plt.xlabel(r'$\\phi$[rad m$^{-2}$]')\n",
    "plt.ylabel(r'Jy/beam m$^2$ rad$^{-1}$ rmtf$^{-1}$')\n",
    "plt.legend(loc='upper right')\n",
    "plt.xlim([-1000, 1000])\n",
    "plt.tight_layout()\n",
    "#plt.savefig(\"fds_sim1.png\", dpi=100)"
   ]
  },
  {
   "cell_type": "code",
   "execution_count": null,
   "id": "4e342d53",
   "metadata": {
    "ExecuteTime": {
     "end_time": "2022-09-12T09:39:02.342686Z",
     "start_time": "2022-09-12T09:39:02.339433Z"
    }
   },
   "outputs": [],
   "source": [
    "np.max(np.abs(original_source.data)) / np.max(np.abs(F_dirty_original))"
   ]
  },
  {
   "cell_type": "code",
   "execution_count": null,
   "id": "8a431ba1",
   "metadata": {
    "ExecuteTime": {
     "end_time": "2022-09-12T09:39:02.473759Z",
     "start_time": "2022-09-12T09:39:02.343798Z"
    }
   },
   "outputs": [],
   "source": [
    "# 1/(np.sqrt(original_source.m*np.pi)/(original_source.phi_fg))"
   ]
  },
  {
   "cell_type": "code",
   "execution_count": null,
   "id": "41005d4f",
   "metadata": {
    "ExecuteTime": {
     "end_time": "2022-09-12T09:39:02.720689Z",
     "start_time": "2022-09-12T09:39:02.475069Z"
    },
    "pycharm": {
     "name": "#%%\n"
    }
   },
   "outputs": [],
   "source": [
    "plt.plot(parameter.phi, F_dirty.real, 'c--', label=r\"Stokes $Q$\")\n",
    "plt.plot(parameter.phi, F_dirty.imag, 'c:', label=r\"Stokes $U$\")\n",
    "plt.plot(parameter.phi, np.abs(F_dirty), '-', c='grey', label=r\"|P|\")\n",
    "#plt.plot([-200., -200.], [0., 0.0035], ls='-', lw=2., c='black')\n",
    "plt.plot(parameter.phi, np.zeros(len(parameter.phi)), ls='-', lw=2., c='black')\n",
    "plt.xlabel(r'$\\phi$[rad m$^{-2}$]')\n",
    "plt.ylabel(r'Jy/beam m$^2$ rad$^{-1}$ rmtf$^{-1}$')\n",
    "plt.legend(loc='upper right')\n",
    "plt.xlim([-1000, 1000])\n",
    "plt.tight_layout()\n",
    "#plt.savefig(\"fds_sim1.png\", dpi=100)"
   ]
  },
  {
   "cell_type": "code",
   "execution_count": null,
   "id": "851b336a",
   "metadata": {
    "ExecuteTime": {
     "end_time": "2022-09-12T09:39:02.726777Z",
     "start_time": "2022-09-12T09:39:02.722488Z"
    },
    "pycharm": {
     "name": "#%%\n"
    }
   },
   "outputs": [],
   "source": [
    "idx_noise = np.where(np.abs(parameter.phi) > 0.8 * parameter.max_faraday_depth)\n",
    "noise_F = 0.5 * (\n",
    "    median_abs_deviation(F_dirty[idx_noise].real, scale=\"normal\") +\n",
    "    median_abs_deviation(F_dirty[idx_noise].imag, scale=\"normal\")\n",
    ")\n",
    "noise_F"
   ]
  },
  {
   "cell_type": "code",
   "execution_count": null,
   "id": "64c050d6",
   "metadata": {
    "ExecuteTime": {
     "end_time": "2022-09-12T09:39:02.880115Z",
     "start_time": "2022-09-12T09:39:02.727720Z"
    },
    "pycharm": {
     "name": "#%%\n"
    }
   },
   "outputs": [],
   "source": [
    "dataset.theo_noise"
   ]
  },
  {
   "cell_type": "code",
   "execution_count": null,
   "id": "133bbe82",
   "metadata": {
    "ExecuteTime": {
     "end_time": "2022-09-12T09:39:02.952996Z",
     "start_time": "2022-09-12T09:39:02.881098Z"
    },
    "pycharm": {
     "name": "#%%\n"
    }
   },
   "outputs": [],
   "source": [
    "noise_from_w = 1.0 / np.sqrt(np.sum(dataset.w))\n",
    "noise_from_w * 1000.0"
   ]
  },
  {
   "cell_type": "code",
   "execution_count": null,
   "id": "73df2026",
   "metadata": {
    "ExecuteTime": {
     "end_time": "2022-09-12T09:39:03.265938Z",
     "start_time": "2022-09-12T09:39:02.954451Z"
    },
    "pycharm": {
     "name": "#%%\n"
    }
   },
   "outputs": [],
   "source": [
    "F_back = dft.backward(dataset.data)"
   ]
  },
  {
   "cell_type": "code",
   "execution_count": null,
   "id": "77d7cc89",
   "metadata": {
    "ExecuteTime": {
     "end_time": "2022-09-12T09:39:03.331650Z",
     "start_time": "2022-09-12T09:39:03.267357Z"
    },
    "pycharm": {
     "name": "#%%\n"
    }
   },
   "outputs": [],
   "source": [
    "plt.plot(parameter.phi, F_back.real, 'c--', label=r\"Real part\")\n",
    "plt.plot(parameter.phi, F_back.imag, 'c:', label=r\"Imaginary part\")\n",
    "plt.plot(parameter.phi, np.abs(F_back), 'k-', label=r\"Amplitude\")\n",
    "plt.xlim([-1000, 1000])"
   ]
  },
  {
   "cell_type": "code",
   "execution_count": null,
   "id": "b7bc78f9",
   "metadata": {
    "ExecuteTime": {
     "end_time": "2022-09-12T09:39:03.350903Z",
     "start_time": "2022-09-12T09:39:03.333410Z"
    },
    "pycharm": {
     "name": "#%%\n"
    }
   },
   "outputs": [],
   "source": [
    "wav = None\n",
    "#wav = DiscreteWavelet(wavelet_name=\"haar\", mode=\"periodization\", append_signal=True)\n",
    "#wav = UndecimatedWavelet(wavelet_name=\"sym2\", mode=\"periodization\", append_signal=True)"
   ]
  },
  {
   "cell_type": "code",
   "execution_count": null,
   "id": "c1d191cd",
   "metadata": {
    "ExecuteTime": {
     "end_time": "2022-09-12T09:39:03.423257Z",
     "start_time": "2022-09-12T09:39:03.352027Z"
    },
    "pycharm": {
     "name": "#%%\n"
    }
   },
   "outputs": [],
   "source": [
    "parameter.data = F_dirty\n",
    "parameter.complex_data_to_real()\n",
    "if wav is not None:\n",
    "    print(wav.calculate_max_level(parameter.data))\n",
    "    parameter.data = wav.decompose(parameter.data)\n",
    "    if wav.append_signal is True:\n",
    "        parameter.data[0:2 * len(F_dirty)] = 0.0\n",
    "    plt.plot(parameter.data)"
   ]
  },
  {
   "cell_type": "code",
   "execution_count": null,
   "id": "3e62cdcd",
   "metadata": {
    "ExecuteTime": {
     "end_time": "2022-09-12T09:39:03.495766Z",
     "start_time": "2022-09-12T09:39:03.424192Z"
    },
    "pycharm": {
     "name": "#%%\n"
    }
   },
   "outputs": [],
   "source": [
    "len(parameter.data)"
   ]
  },
  {
   "cell_type": "code",
   "execution_count": null,
   "id": "de8899ab",
   "metadata": {
    "ExecuteTime": {
     "end_time": "2022-09-12T09:39:03.568356Z",
     "start_time": "2022-09-12T09:39:03.496859Z"
    },
    "pycharm": {
     "name": "#%%\n"
    }
   },
   "outputs": [],
   "source": [
    "np.sqrt(2) * np.mean(dataset.sigma) * 1000.0"
   ]
  },
  {
   "cell_type": "code",
   "execution_count": null,
   "id": "39247473",
   "metadata": {
    "ExecuteTime": {
     "end_time": "2022-09-12T09:39:04.102456Z",
     "start_time": "2022-09-12T09:39:03.569489Z"
    },
    "pycharm": {
     "name": "#%%\n"
    }
   },
   "outputs": [],
   "source": [
    "#lambda_l1 = np.sqrt(2*dataset.m + (4*np.sqrt(2*dataset.m))) * dataset.theo_noise\n",
    "#lambda_l1 = np.sqrt(dataset.m + (2*np.sqrt(2*dataset.m))) * np.sqrt(2) * dataset.theo_noise\n",
    "#lambda_l1 = np.sqrt(dataset.m) * noise_F\n",
    "if wav is not None:\n",
    "    lambda_l1 = np.sqrt(dataset.m +\n",
    "                        2 * np.sqrt(dataset.m)) * 2. * np.sqrt(2) * np.mean(dataset.sigma)\n",
    "else:\n",
    "    lambda_l1 = np.sqrt(dataset.m + 2 * np.sqrt(dataset.m)) * np.sqrt(2) * np.mean(dataset.sigma)\n",
    "#lambda_l1 = np.sqrt(dataset.m) * noise_F\n",
    "#print(lambda_l1)\n",
    "#lambda_l1 /= 2\n",
    "#lambda_l1=0.5\n",
    "lambda_tsv = 0.0\n",
    "chi2 = Chi2(dft_obj=nufft, wavelet=wav)\n",
    "l1 = L1(reg=lambda_l1)\n",
    "tsv = TSV(reg=lambda_tsv)\n",
    "# F_func = [chi2(P, dft, W), L1(lambda_l1)]\n",
    "F_func = [chi2, l1]\n",
    "f_func = [chi2]\n",
    "g_func = [l1]\n",
    "\n",
    "F_obj = OFunction(F_func)\n",
    "f_obj = OFunction(f_func)\n",
    "g_obj = OFunction(g_func)"
   ]
  },
  {
   "cell_type": "code",
   "execution_count": null,
   "id": "9e0d9873",
   "metadata": {
    "ExecuteTime": {
     "end_time": "2022-09-12T09:39:04.127716Z",
     "start_time": "2022-09-12T09:39:04.103538Z"
    },
    "pycharm": {
     "name": "#%%\n"
    }
   },
   "outputs": [],
   "source": [
    "lambda_l1"
   ]
  },
  {
   "cell_type": "code",
   "execution_count": null,
   "id": "46db3d74",
   "metadata": {
    "ExecuteTime": {
     "end_time": "2022-09-12T09:39:05.684273Z",
     "start_time": "2022-09-12T09:39:04.129693Z"
    },
    "pycharm": {
     "name": "#%%\n"
    }
   },
   "outputs": [],
   "source": [
    "if wav is not None:\n",
    "    opt = FISTA(\n",
    "        guess_param=parameter,\n",
    "        F_obj=F_obj,\n",
    "        fx=chi2,\n",
    "        gx=g_obj,\n",
    "        noise=2.0 * dataset.theo_noise,\n",
    "        verbose=False\n",
    "    )\n",
    "else:\n",
    "    opt = FISTA(\n",
    "        guess_param=parameter,\n",
    "        F_obj=F_obj,\n",
    "        fx=chi2,\n",
    "        gx=g_obj,\n",
    "        noise=dataset.theo_noise,\n",
    "        verbose=False\n",
    "    )\n",
    "#opt = FISTA(i_guess=F_real, F_obj=F_obj, fx=chi2, gx=g_obj, maxiter=1000, noise=1e-5, verbose=True)\n",
    "obj, X = opt.run()\n",
    "print(obj)"
   ]
  },
  {
   "cell_type": "code",
   "execution_count": null,
   "id": "eeeb6002",
   "metadata": {
    "ExecuteTime": {
     "end_time": "2022-09-12T09:39:05.687111Z",
     "start_time": "2022-09-12T09:39:05.685313Z"
    },
    "pycharm": {
     "name": "#%%\n"
    }
   },
   "outputs": [],
   "source": [
    "if wav is not None:\n",
    "    plt.plot(X.data)"
   ]
  },
  {
   "cell_type": "code",
   "execution_count": null,
   "id": "ad29bc79",
   "metadata": {
    "ExecuteTime": {
     "end_time": "2022-09-12T09:39:05.736639Z",
     "start_time": "2022-09-12T09:39:05.688082Z"
    },
    "pycharm": {
     "name": "#%%\n"
    }
   },
   "outputs": [],
   "source": [
    "if wav is not None:\n",
    "    X.data = wav.reconstruct(X.data)\n",
    "X.real_data_to_complex()"
   ]
  },
  {
   "cell_type": "code",
   "execution_count": null,
   "id": "9d4e0854",
   "metadata": {
    "ExecuteTime": {
     "end_time": "2022-09-12T09:39:05.864506Z",
     "start_time": "2022-09-12T09:39:05.737767Z"
    },
    "pycharm": {
     "name": "#%%\n"
    }
   },
   "outputs": [],
   "source": [
    "plt.plot(\n",
    "    dataset.lambda2,\n",
    "    dataset.calculate_polangle('model_data').to(u.deg),\n",
    "    'k.',\n",
    "    label=r\"Polarization angle\"\n",
    ")\n",
    "plt.xlabel(r'$\\lambda^2$[m$^{2}$]')\n",
    "plt.ylabel(r'Polarization angle (deg)')\n",
    "plt.legend(loc='upper right')\n",
    "plt.tight_layout()"
   ]
  },
  {
   "cell_type": "code",
   "execution_count": null,
   "id": "6446e4a4",
   "metadata": {
    "ExecuteTime": {
     "end_time": "2022-09-12T09:39:06.044518Z",
     "start_time": "2022-09-12T09:39:05.866331Z"
    },
    "pycharm": {
     "name": "#%%\n"
    }
   },
   "outputs": [],
   "source": [
    "plt.plot(dataset.lambda2, dataset.residual.real, 'k.', label=r\"Stokes $Q$\")\n",
    "plt.plot(dataset.lambda2, dataset.residual.imag, 'c.', label=r\"Stokes $U$\")\n",
    "plt.plot(dataset.lambda2, np.abs(dataset.residual), 'g.', label=r\"$|P|$\")"
   ]
  },
  {
   "cell_type": "code",
   "execution_count": null,
   "id": "091c15bb",
   "metadata": {
    "ExecuteTime": {
     "end_time": "2022-09-12T09:39:06.111274Z",
     "start_time": "2022-09-12T09:39:06.045799Z"
    },
    "pycharm": {
     "name": "#%%\n"
    }
   },
   "outputs": [],
   "source": [
    "plt.plot(dataset.lambda2, dataset.model_data.real, 'k.', label=r\"Stokes $Q$\")\n",
    "plt.plot(dataset.lambda2, dataset.model_data.imag, 'c.', label=r\"Stokes $U$\")\n",
    "plt.plot(dataset.lambda2, np.abs(dataset.model_data), 'g.', label=r\"$|P|$\")"
   ]
  },
  {
   "cell_type": "code",
   "execution_count": null,
   "id": "a863286f",
   "metadata": {
    "ExecuteTime": {
     "end_time": "2022-09-12T09:39:06.122179Z",
     "start_time": "2022-09-12T09:39:06.112199Z"
    },
    "pycharm": {
     "name": "#%%\n"
    }
   },
   "outputs": [],
   "source": [
    "sigma_res = 0.5 * (np.std(dataset.residual.real) + np.std(dataset.residual.imag))"
   ]
  },
  {
   "cell_type": "code",
   "execution_count": null,
   "id": "1f06c5e5",
   "metadata": {
    "ExecuteTime": {
     "end_time": "2022-09-12T09:39:06.172534Z",
     "start_time": "2022-09-12T09:39:06.123530Z"
    },
    "pycharm": {
     "name": "#%%\n"
    }
   },
   "outputs": [],
   "source": [
    "sigma_res * 1000.0"
   ]
  },
  {
   "cell_type": "code",
   "execution_count": null,
   "id": "12bc83bc",
   "metadata": {
    "ExecuteTime": {
     "end_time": "2022-09-12T09:39:06.421941Z",
     "start_time": "2022-09-12T09:39:06.173714Z"
    },
    "pycharm": {
     "name": "#%%\n"
    }
   },
   "outputs": [],
   "source": [
    "F_residual = dft.backward(dataset.residual)"
   ]
  },
  {
   "cell_type": "code",
   "execution_count": null,
   "id": "55125732",
   "metadata": {
    "ExecuteTime": {
     "end_time": "2022-09-12T09:39:06.513417Z",
     "start_time": "2022-09-12T09:39:06.423132Z"
    },
    "pycharm": {
     "name": "#%%\n"
    }
   },
   "outputs": [],
   "source": [
    "plt.plot(parameter.phi, F_residual.real, 'c--', label=r\"Stokes $Q$\")\n",
    "plt.plot(parameter.phi, F_residual.imag, 'c:', label=r\"Stokes $U$\")\n",
    "plt.plot(parameter.phi, np.abs(F_residual), '-', c='grey', label=r\"|P|\")\n",
    "#plt.plot([-200.,-200.],[0.,0.0035],ls='-',lw=2.,c='black')\n",
    "#plt.plot(parameter.phi,np.zeros(len(parameter.phi)),ls='-',lw=2.,c='black')\n",
    "plt.axhline(y=5 * dataset.theo_noise, color='crimson', alpha=0.7)\n",
    "plt.axhline(y=-5 * dataset.theo_noise, color='crimson', alpha=0.7)\n",
    "plt.xlabel(r'$\\phi$[rad m$^{-2}$]')\n",
    "plt.ylabel(r'Jy/beam m$^2$ rad$^{-1}$ rmtf$^{-1}$')\n",
    "plt.legend(loc='upper right')\n",
    "plt.xlim([-1000, 1000])\n",
    "plt.tight_layout()\n",
    "#plt.savefig(\"fds_sim1.png\", dpi=100)"
   ]
  },
  {
   "cell_type": "code",
   "execution_count": null,
   "id": "8e3af63c",
   "metadata": {
    "ExecuteTime": {
     "end_time": "2022-09-12T09:39:06.517230Z",
     "start_time": "2022-09-12T09:39:06.514389Z"
    },
    "pycharm": {
     "name": "#%%\n"
    }
   },
   "outputs": [],
   "source": [
    "rms_residual = 0.5 * (np.std(F_residual.real) + np.std(F_residual.imag))\n",
    "rms_residual * 1000.0"
   ]
  },
  {
   "cell_type": "code",
   "execution_count": null,
   "id": "518aada0",
   "metadata": {
    "ExecuteTime": {
     "end_time": "2022-09-12T09:39:06.570332Z",
     "start_time": "2022-09-12T09:39:06.518219Z"
    },
    "pycharm": {
     "name": "#%%\n"
    }
   },
   "outputs": [],
   "source": [
    "dataset.theo_noise * 1000.0"
   ]
  },
  {
   "cell_type": "code",
   "execution_count": null,
   "id": "4b0005f7",
   "metadata": {
    "ExecuteTime": {
     "end_time": "2022-09-12T09:39:06.619722Z",
     "start_time": "2022-09-12T09:39:06.571786Z"
    },
    "pycharm": {
     "name": "#%%\n"
    }
   },
   "outputs": [],
   "source": [
    "noise_F * 1000.0"
   ]
  },
  {
   "cell_type": "code",
   "execution_count": null,
   "id": "687fc6fb",
   "metadata": {
    "ExecuteTime": {
     "end_time": "2022-09-12T09:39:06.672246Z",
     "start_time": "2022-09-12T09:39:06.621474Z"
    },
    "pycharm": {
     "name": "#%%\n"
    }
   },
   "outputs": [],
   "source": [
    "applied_noise * 1000.0"
   ]
  },
  {
   "cell_type": "code",
   "execution_count": null,
   "id": "03f9840f",
   "metadata": {
    "ExecuteTime": {
     "end_time": "2022-09-12T09:39:06.728318Z",
     "start_time": "2022-09-12T09:39:06.680301Z"
    },
    "pycharm": {
     "name": "#%%\n"
    }
   },
   "outputs": [],
   "source": [
    "sigma_qu * 1000.0"
   ]
  },
  {
   "cell_type": "code",
   "execution_count": null,
   "id": "f3ca4ec5",
   "metadata": {
    "ExecuteTime": {
     "end_time": "2022-09-12T09:39:07.024750Z",
     "start_time": "2022-09-12T09:39:06.730151Z"
    },
    "pycharm": {
     "name": "#%%\n"
    }
   },
   "outputs": [],
   "source": [
    "model_2 = dft.backward(dataset.model_data)"
   ]
  },
  {
   "cell_type": "code",
   "execution_count": null,
   "id": "493573d7",
   "metadata": {
    "ExecuteTime": {
     "end_time": "2022-09-12T09:39:07.107895Z",
     "start_time": "2022-09-12T09:39:07.025760Z"
    },
    "pycharm": {
     "name": "#%%\n"
    }
   },
   "outputs": [],
   "source": [
    "plt.plot(parameter.phi, model_2.real, 'c--', label=r\"Stokes $Q$\")\n",
    "plt.plot(parameter.phi, model_2.imag, 'c:', label=r\"Stokes $U$\")\n",
    "plt.plot(parameter.phi, np.abs(model_2), '-', c='grey', label=r\"|P|\")\n",
    "#plt.plot([-200.,-200.],[0.,0.0035],ls='-',lw=2.,c='black')\n",
    "#plt.plot(parameter.phi,np.zeros(len(parameter.phi)),ls='-',lw=2.,c='black')\n",
    "plt.xlabel(r'$\\phi$[rad m$^{-2}$]')\n",
    "plt.ylabel(r'Jy/beam m$^2$ rad$^{-1}$ rmtf$^{-1}$')\n",
    "plt.legend(loc='upper right')\n",
    "plt.xlim([-1000, 1000])\n",
    "plt.tight_layout()\n",
    "#plt.savefig(\"fds_sim1.png\", dpi=100)"
   ]
  },
  {
   "cell_type": "code",
   "execution_count": null,
   "id": "80fbf1ca",
   "metadata": {
    "ExecuteTime": {
     "end_time": "2022-09-12T09:39:07.110850Z",
     "start_time": "2022-09-12T09:39:07.109106Z"
    },
    "pycharm": {
     "name": "#%%\n"
    }
   },
   "outputs": [],
   "source": [
    "residual_faraday = F_dirty - model_2"
   ]
  },
  {
   "cell_type": "code",
   "execution_count": null,
   "id": "608e869e",
   "metadata": {
    "ExecuteTime": {
     "end_time": "2022-09-12T09:39:07.303040Z",
     "start_time": "2022-09-12T09:39:07.111651Z"
    },
    "pycharm": {
     "name": "#%%\n"
    }
   },
   "outputs": [],
   "source": [
    "conv_model = X.convolve() + F_residual"
   ]
  },
  {
   "cell_type": "code",
   "execution_count": null,
   "id": "ab06d831",
   "metadata": {
    "ExecuteTime": {
     "end_time": "2022-09-12T09:39:07.899513Z",
     "start_time": "2022-09-12T09:39:07.304710Z"
    },
    "pycharm": {
     "name": "#%%\n"
    }
   },
   "outputs": [],
   "source": [
    "fig = plt.figure(figsize=(18, 5))\n",
    "#fig, ax = plt.subplots(ncols=3, nrows=1, figsize=(18, 5))\n",
    "ax1 = fig.add_subplot(1, 3, 1)\n",
    "ax1.plot(original_source.lambda2, original_source.data.real, 'c--', label=r\"Stokes $Q$\")\n",
    "ax1.plot(original_source.lambda2, original_source.data.imag, 'c:', label=r\"Stokes $U$\")\n",
    "ax1.plot(original_source.lambda2, np.abs(original_source.data), '.', color=\"grey\", label=r\"$|P|$\")\n",
    "ax1.set_xlabel(r'$\\lambda^2$[m$^{2}$]')\n",
    "ax1.set_ylabel(r'Jy/beam')\n",
    "\n",
    "ax2 = fig.add_subplot(1, 3, 2)\n",
    "ax2.plot(original_parameter.phi, F_dirty_original.real, 'c--', label=r\"Stokes $Q$\")\n",
    "ax2.plot(original_parameter.phi, F_dirty_original.imag, 'c:', label=r\"Stokes $U$\")\n",
    "ax2.plot(original_parameter.phi, np.abs(F_dirty_original), '-', c='grey', label=r\"|P|\")\n",
    "ax2.plot([-200., -200.], [0., 0.0035], ls='-', lw=2., c='black')\n",
    "ax2.plot([130., 130.], [0., 0.0035], ls='-', lw=2., c='black')\n",
    "ax2.plot([270., 270.], [0., 0.0035], ls='-', lw=2., c='black')\n",
    "ax2.plot([130., 270.], [0.0035, 0.0035], ls='-', lw=2., c='black')\n",
    "ax2.plot(original_parameter.phi, np.zeros(len(original_parameter.phi)), ls='-', lw=2., c='black')\n",
    "#ax2.axhline (y = 5*original_source.theo_noise*1000.0, color = 'crimson', alpha=0.7)\n",
    "#ax2.axhline (y = -5*original_source.theo_noise*1000.0, color = 'crimson', alpha=0.7)\n",
    "ax2.set_xlabel(r'$\\phi$[rad m$^{-2}$]')\n",
    "ax2.set_ylabel(r'Jy/beam m$^2$ rad$^{-1}$ rmtf$^{-1}$')\n",
    "ax2.set_xlim([-1000, 1000])\n",
    "\n",
    "ax3 = fig.add_subplot(1, 3, 3, sharex=ax2, sharey=ax2)\n",
    "ax3.plot(parameter.phi, conv_model.real, 'c--', label=r\"Stokes $Q$\")\n",
    "ax3.plot(parameter.phi, conv_model.imag, 'c:', label=r\"Stokes $U$\")\n",
    "ax3.plot(parameter.phi, np.abs(conv_model), '-', c='grey', label=r\"$|P|$\")\n",
    "ax3.plot([-200., -200.], [0., 0.0035], ls='-', lw=2., c='black')\n",
    "ax3.plot([130., 130.], [0., 0.0035], ls='-', lw=2., c='black')\n",
    "ax3.plot([270., 270.], [0., 0.0035], ls='-', lw=2., c='black')\n",
    "ax3.plot([130., 270.], [0.0035, 0.0035], ls='-', lw=2., c='black')\n",
    "\n",
    "ax3.plot(parameter.phi, np.zeros(len(parameter.phi)), ls='-', lw=2., c='black')\n",
    "#ax3.set_xlim([-1000,1000])\n",
    "ax3.axhline(y=5 * dataset.theo_noise, color='crimson', alpha=0.7)\n",
    "ax3.axhline(y=-5 * dataset.theo_noise, color='crimson', alpha=0.7)\n",
    "ax3.set_xlabel(r'$\\phi$[rad m$^{-2}$]')\n",
    "ax3.set_ylabel(r'Jy/beam m$^2$ rad$^{-1}$ rmtf$^{-1}$')\n",
    "\n",
    "handles, labels = ax3.get_legend_handles_labels()\n",
    "legend = fig.legend(handles, labels, loc=\"upper right\", borderaxespad=0)\n",
    "legend.get_frame().set_alpha(1.0)\n",
    "fig.tight_layout()\n",
    "fig.savefig(\"thinthicksource.pdf\", dpi=500)"
   ]
  },
  {
   "cell_type": "code",
   "execution_count": null,
   "id": "b33114ef",
   "metadata": {
    "ExecuteTime": {
     "end_time": "2022-09-12T09:39:07.981589Z",
     "start_time": "2022-09-12T09:39:07.900482Z"
    },
    "pycharm": {
     "name": "#%%\n"
    }
   },
   "outputs": [],
   "source": [
    "plt.plot(parameter.phi, residual_faraday.real, 'c--', label=r\"Stokes $Q$\")\n",
    "plt.plot(parameter.phi, residual_faraday.imag, 'c:', label=r\"Stokes $U$\")\n",
    "plt.plot(parameter.phi, np.abs(residual_faraday), '-', c='grey', label=r\"$|P|$\")\n",
    "#plt.plot([-200.,-200.],[0.,0.0035],ls='-',lw=2.,c='black')\n",
    "#plt.plot(parameter.phi,np.zeros(len(parameter.phi)),ls='-',lw=2.,c='black')\n",
    "plt.axhline(y=5 * dataset.theo_noise, color='crimson', alpha=0.7)\n",
    "plt.axhline(y=-5 * dataset.theo_noise, color='crimson', alpha=0.7)\n",
    "plt.xlabel(r'$\\phi$[rad m$^{-2}$]')\n",
    "plt.ylabel(r'Jy/beam m$^2$ rad$^{-1}$ rmtf$^{-1}$')\n",
    "plt.legend(loc='upper right')\n",
    "plt.xlim([-1000, 1000])\n",
    "plt.tight_layout()\n",
    "#plt.savefig(\"fds_sim1.png\", dpi=100)"
   ]
  },
  {
   "cell_type": "code",
   "execution_count": null,
   "id": "8bc518c9",
   "metadata": {
    "ExecuteTime": {
     "end_time": "2022-09-12T09:39:08.147479Z",
     "start_time": "2022-09-12T09:39:07.983032Z"
    },
    "pycharm": {
     "name": "#%%\n"
    }
   },
   "outputs": [],
   "source": [
    "plt.plot(parameter.phi, conv_model.real, 'c--', label=r\"Stokes $Q$\")\n",
    "plt.plot(parameter.phi, conv_model.imag, 'c:', label=r\"Stokes $U$\")\n",
    "plt.plot(parameter.phi, np.abs(conv_model), 'k-', label=r\"$|P|$\")\n",
    "plt.plot([-200., -200.], [0., 0.0035], ls='-', lw=2., c='black')\n",
    "plt.plot(parameter.phi, np.zeros(len(parameter.phi)), ls='-', lw=2., c='black')\n",
    "plt.xlim([-1000, 1000])\n",
    "plt.axhline(y=5 * noise_F, color='b')\n",
    "plt.axhline(y=-5 * noise_F, color='b')\n",
    "plt.xlabel(r'$\\phi$[rad m$^{-2}$]')\n",
    "plt.ylabel(r'Jy/beam m$^2$ rad$^{-1}$ rmtf$^{-1}$')\n",
    "plt.legend(loc='upper right')\n",
    "plt.tight_layout()\n",
    "#plt.savefig(\"restored.png\", dpi=100)"
   ]
  },
  {
   "cell_type": "code",
   "execution_count": null,
   "id": "78d95348",
   "metadata": {
    "ExecuteTime": {
     "end_time": "2022-09-12T09:39:08.151927Z",
     "start_time": "2022-09-12T09:39:08.148844Z"
    },
    "pycharm": {
     "name": "#%%\n"
    }
   },
   "outputs": [],
   "source": [
    "np.nanmax(np.abs(conv_model))"
   ]
  },
  {
   "cell_type": "code",
   "execution_count": null,
   "id": "3ec3b41a",
   "metadata": {
    "ExecuteTime": {
     "end_time": "2022-09-12T09:39:08.208255Z",
     "start_time": "2022-09-12T09:39:08.152888Z"
    },
    "pycharm": {
     "name": "#%%\n"
    }
   },
   "outputs": [],
   "source": [
    "P = np.sqrt(np.max(np.abs(conv_model))**2 - (2.3 * rms_residual**2))"
   ]
  },
  {
   "cell_type": "code",
   "execution_count": null,
   "id": "c33691de",
   "metadata": {
    "ExecuteTime": {
     "end_time": "2022-09-12T09:39:08.265038Z",
     "start_time": "2022-09-12T09:39:08.209782Z"
    },
    "pycharm": {
     "name": "#%%\n"
    }
   },
   "outputs": [],
   "source": [
    "parameter.rmtf_fwhm / (2 * P / rms_residual)"
   ]
  },
  {
   "cell_type": "code",
   "execution_count": null,
   "id": "98b617ea",
   "metadata": {
    "ExecuteTime": {
     "end_time": "2022-09-12T09:39:08.353914Z",
     "start_time": "2022-09-12T09:39:08.267464Z"
    },
    "pycharm": {
     "name": "#%%\n"
    }
   },
   "outputs": [],
   "source": [
    "residual_1d = np.concatenate([residual_faraday.real, residual_faraday.imag])\n",
    "#residual_1d = np.concatenate([dataset.residual.real, dataset.residual.imag])\n",
    "stat, p = stats.jarque_bera(residual_1d)"
   ]
  },
  {
   "cell_type": "code",
   "execution_count": null,
   "id": "d8f4532c",
   "metadata": {
    "ExecuteTime": {
     "end_time": "2022-09-12T09:39:08.441003Z",
     "start_time": "2022-09-12T09:39:08.355485Z"
    },
    "pycharm": {
     "name": "#%%\n"
    }
   },
   "outputs": [],
   "source": [
    "print(\"stat={0:.3f}, p={1:.3f}\".format(stat, p))"
   ]
  },
  {
   "cell_type": "code",
   "execution_count": null,
   "id": "49334fa9",
   "metadata": {
    "ExecuteTime": {
     "end_time": "2022-09-12T09:39:08.502829Z",
     "start_time": "2022-09-12T09:39:08.441900Z"
    },
    "pycharm": {
     "name": "#%%\n"
    }
   },
   "outputs": [],
   "source": [
    "p"
   ]
  },
  {
   "cell_type": "code",
   "execution_count": null,
   "id": "b30a533b",
   "metadata": {
    "ExecuteTime": {
     "end_time": "2022-09-12T09:39:08.565968Z",
     "start_time": "2022-09-12T09:39:08.504646Z"
    },
    "pycharm": {
     "name": "#%%\n"
    }
   },
   "outputs": [],
   "source": [
    "if p > 0.05:\n",
    "    print(\"Probably Gaussian\")\n",
    "else:\n",
    "    print(\"Probably not Gaussian\")"
   ]
  },
  {
   "cell_type": "code",
   "execution_count": null,
   "id": "5a9e61af",
   "metadata": {
    "ExecuteTime": {
     "end_time": "2022-09-12T09:39:08.630458Z",
     "start_time": "2022-09-12T09:39:08.568090Z"
    },
    "pycharm": {
     "name": "#%%\n"
    }
   },
   "outputs": [],
   "source": [
    "residual_all = np.concatenate([F_residual.real, F_residual.imag]) * 1000.0"
   ]
  },
  {
   "cell_type": "code",
   "execution_count": null,
   "id": "bc2e3cfb",
   "metadata": {
    "ExecuteTime": {
     "end_time": "2022-09-12T09:39:08.776121Z",
     "start_time": "2022-09-12T09:39:08.632078Z"
    },
    "pycharm": {
     "name": "#%%\n"
    }
   },
   "outputs": [],
   "source": [
    "frequency, bins = np.histogram(residual_all, bins=\"auto\", density=True)\n",
    "frequency /= np.max(frequency)\n",
    "xmin = np.min(bins)\n",
    "xmax = np.max(bins)\n",
    "dist = np.abs(xmax - xmin)\n",
    "x = np.linspace(xmin, xmax, 100)\n",
    "p = norm.pdf(x, 0.0, dataset.theo_noise * 1000.0)\n",
    "p /= np.max(p)"
   ]
  },
  {
   "cell_type": "code",
   "execution_count": null,
   "id": "fdbdbe64",
   "metadata": {
    "ExecuteTime": {
     "end_time": "2022-09-12T09:39:10.108146Z",
     "start_time": "2022-09-12T09:39:08.778055Z"
    },
    "pycharm": {
     "name": "#%%\n"
    }
   },
   "outputs": [],
   "source": [
    "fig, ax = plt.subplots(nrows=2, ncols=4, sharex='row', figsize=(20, 10))\n",
    "\n",
    "# Data\n",
    "ax[0, 0].plot(dataset.lambda2, dataset.data.real * 1000.0, 'k.', label=r\"Stokes $Q$\")\n",
    "ax[0, 0].plot(dataset.lambda2, dataset.data.imag * 1000.0, 'c.', label=r\"Stokes $U$\")\n",
    "ax[0, 0].plot(dataset.lambda2, np.abs(dataset.data) * 1000.0, 'g.', label=r\"$|P|$\")\n",
    "ax[0, 0].set_xlabel(r'$\\lambda^2$[m$^{2}$]')\n",
    "ax[0, 0].set_ylabel(r'mJy/beam')\n",
    "ax[0, 0].title.set_text(\"Data\")\n",
    "\n",
    "ax[1, 0].plot(parameter.phi, F_dirty.real * 1000.0, 'c--', label=r\"Stokes $Q$\")\n",
    "ax[1, 0].plot(parameter.phi, F_dirty.imag * 1000.0, 'c:', label=r\"Stokes $U$\")\n",
    "ax[1, 0].plot(parameter.phi, np.abs(F_dirty) * 1000.0, 'k-', label=r\"|P|\")\n",
    "ax[1, 0].set_xlabel(r'$\\phi$[rad m$^{-2}$]')\n",
    "ax[1, 0].set_ylabel(r'mJy/beam m$^2$ rad$^{-1}$ rmtf$^{-1}$')\n",
    "ax[1, 0].set_xlim([-1000, 1000])\n",
    "\n",
    "# Model\n",
    "ax[0, 1].plot(dataset.lambda2, dataset.model_data.real * 1000.0, 'k.', label=r\"Stokes $Q$\")\n",
    "ax[0, 1].plot(dataset.lambda2, dataset.model_data.imag * 1000.0, 'c.', label=r\"Stokes $U$\")\n",
    "ax[0, 1].plot(dataset.lambda2, np.abs(dataset.model_data) * 1000.0, 'g.', label=r\"$|P|$\")\n",
    "ax[0, 1].set_xlabel(r'$\\lambda^2$[m$^{2}$]')\n",
    "ax[0, 1].set_ylabel(r'mJy/beam')\n",
    "ax[0, 1].title.set_text(\"Model\")\n",
    "# Model\n",
    "ax[1, 1].plot(parameter.phi, X.data.real * 1000.0, 'c--', label=r\"Stokes $Q$\")\n",
    "ax[1, 1].plot(parameter.phi, X.data.imag * 1000.0, 'c:', label=r\"Stokes $U$\")\n",
    "ax[1, 1].plot(parameter.phi, np.abs(X.data) * 1000.0, 'k-', label=r\"$|P|$\")\n",
    "ax[1, 1].set_xlabel(r'$\\phi$[rad m$^{-2}$]')\n",
    "ax[1, 1].set_ylabel(r'mJy/beam m$^2$ rad$^{-1}$ pix$^{-1}$')\n",
    "ax[1, 1].set_xlim([-1000, 1000])\n",
    "\n",
    "# Residual\n",
    "\n",
    "ax[0, 2].plot(dataset.lambda2, dataset.residual.real * 1000.0, 'k.', label=r\"Stokes $Q$\")\n",
    "ax[0, 2].plot(dataset.lambda2, dataset.residual.imag * 1000.0, 'c.', label=r\"Stokes $U$\")\n",
    "ax[0, 2].plot(dataset.lambda2, np.abs(dataset.residual) * 1000.0, 'g.', label=r\"$|P|$\")\n",
    "ax[0, 2].set_xlabel(r'$\\lambda^2$[m$^{2}$]')\n",
    "ax[0, 2].set_ylabel(r'mJy/beam')\n",
    "ax[0, 2].title.set_text(\"Residuals\")\n",
    "\n",
    "ax[0, 3].get_shared_x_axes().remove(ax[0, 3])\n",
    "# Create and assign new ticker\n",
    "xticker = matplotlib.axis.Ticker()\n",
    "ax[0, 3].xaxis.major = xticker\n",
    "\n",
    "# The new ticker needs new locator and formatters\n",
    "xloc = matplotlib.ticker.AutoLocator()\n",
    "xfmt = matplotlib.ticker.ScalarFormatter()\n",
    "\n",
    "ax[0, 3].xaxis.set_major_locator(xloc)\n",
    "ax[0, 3].xaxis.set_major_formatter(xfmt)\n",
    "\n",
    "ax[0, 3].bar(bins[:-1], frequency, width=dist / 20, alpha=0.3)\n",
    "ax[0, 3].plot(x, p, 'crimson', linewidth=2)\n",
    "\n",
    "ax[1, 2].plot(parameter.phi, F_residual.real * 1000.0, 'c--', label=r\"Stokes $Q$\")\n",
    "ax[1, 2].plot(parameter.phi, F_residual.imag * 1000.0, 'c:', label=r\"Stokes $U$\")\n",
    "ax[1, 2].plot(parameter.phi, np.abs(F_residual) * 1000.0, 'k-', label=r\"$|P|$\")\n",
    "ax[1, 2].axhline(y=5 * dataset.theo_noise * 1000.0, color='b')\n",
    "ax[1, 2].axhline(y=-5 * dataset.theo_noise * 1000.0, color='b')\n",
    "ax[1, 2].set_xlabel(r'$\\phi$[rad m$^{-2}$]')\n",
    "ax[1, 2].set_ylabel(r'mJy/beam m$^2$ rad$^{-1}$ rmtf$^{-1}$')\n",
    "ax[1, 2].set_xlim([-1000, 1000])\n",
    "\n",
    "ax[1, 3].plot(parameter.phi, conv_model.real * 1000.0, 'c--', label=r\"Stokes $Q$\")\n",
    "ax[1, 3].plot(parameter.phi, conv_model.imag * 1000.0, 'c:', label=r\"Stokes $U$\")\n",
    "ax[1, 3].plot(parameter.phi, np.abs(conv_model) * 1000.0, 'k-', label=r\"$|P|$\")\n",
    "ax[1, 3].axhline(y=5 * dataset.theo_noise * 1000.0, color='b')\n",
    "ax[1, 3].axhline(y=-5 * dataset.theo_noise * 1000.0, color='b')\n",
    "ax[1, 3].set_xlim([-1000, 1000])\n",
    "ax[1, 3].set_xlabel(r'$\\phi$[rad m$^{-2}$]')\n",
    "ax[1, 3].set_ylabel(r'mJy/beam m$^2$ rad$^{-1}$ rmtf$^{-1}$')\n",
    "ax[1, 3].title.set_text(\"Restored\")\n",
    "\n",
    "title = \"Scenario 3 - \"\n",
    "\"\"\"\n",
    "if isinstance(dataset, FaradayThinSource):\n",
    "    title += \"Scenario 1 - \"\n",
    "elif isinstance(dataset, FaradayThickSource):\n",
    "    title += \"Scenario 2 - \"\n",
    "else:\n",
    "    title += \"Scenario 3 - \"\n",
    "\"\"\"\n",
    "if wav is None:\n",
    "    title += \"Delta function basis \"\n",
    "else:\n",
    "    if isinstance(wav, DiscreteWavelet):\n",
    "        if wav.append_signal is True:\n",
    "            title += \"Delta function basis + {0} discrete wavelet \".format(wav.wavelet_name)\n",
    "        else:\n",
    "            title += \"{0} discrete wavelet \".format(wav.wavelet_name)\n",
    "    else:\n",
    "        if wav.append_signal is True:\n",
    "            title += \"Delta function basis + {0} undecimated wavelet \".format(wav.wavelet_name)\n",
    "        else:\n",
    "            title += \"{0} undecimated wavelet \".format(wav.wavelet_name)\n",
    "\"\"\"\n",
    "if wav is None:\n",
    "    title += \"- Delta function basis \"\n",
    "else:\n",
    "    if isinstance(wav, DiscreteWavelet):\n",
    "        if wav.append_signal is True:\n",
    "            title += \"- Delta function basis + {0} discrete wavelet \".format(wav.wavelet_name)\n",
    "        else:\n",
    "            title += \"- {0} discrete wavelet \".format(wav.wavelet_name)\n",
    "    else:\n",
    "        if wav.append_signal is True:\n",
    "            title += \"- Delta function basis + {0} undecimated wavelet \".format(wav.wavelet_name)\n",
    "        else:\n",
    "            title += \"- {0} undecimated wavelet \".format(wav.wavelet_name)\n",
    "\n",
    "if (dataset.w == dataset.w[0]).all():\n",
    "    title += \"uniform weights equal to {0:.3f}\".format(dataset.w[0])   \n",
    "else:\n",
    "    title += \"natural weights \"\n",
    "\n",
    "\n",
    "\n",
    "\n",
    "\"\"\"\n",
    "fig.suptitle(title)\n",
    "fig.tight_layout()"
   ]
  },
  {
   "cell_type": "code",
   "execution_count": null,
   "id": "48d8534d",
   "metadata": {
    "ExecuteTime": {
     "end_time": "2022-09-12T09:39:10.922148Z",
     "start_time": "2022-09-12T09:39:10.109275Z"
    },
    "pycharm": {
     "name": "#%%\n"
    }
   },
   "outputs": [],
   "source": [
    "fig, ax = plt.subplots(nrows=3, ncols=2, figsize=(11, 11))\n",
    "ax[0, 0].plot(\n",
    "    original_source.nu[::-1] / 1e9,\n",
    "    original_source.data[::-1].real * 1000.0,\n",
    "    'k.',\n",
    "    label=r\"Stokes $Q$\"\n",
    ")\n",
    "ax[0, 0].plot(\n",
    "    original_source.nu[::-1] / 1e9,\n",
    "    original_source.data[::-1].imag * 1000.0,\n",
    "    'c.',\n",
    "    label=r\"Stokes $U$\"\n",
    ")\n",
    "ax[0, 0].plot(\n",
    "    original_source.nu[::-1] / 1e9,\n",
    "    np.abs(original_source.data[::-1]) * 1000.0,\n",
    "    'g.',\n",
    "    label=r\"$|P|$\"\n",
    ")\n",
    "ax[0, 0].set_xlabel(r'$\\nu$ [GHz]')\n",
    "ax[0, 0].set_ylabel(r'mJy/beam')\n",
    "\n",
    "#hide x-axis\n",
    "#ax.get_xaxis().set_visible(False)\n",
    "\n",
    "#hide y-axis\n",
    "#ax.get_yaxis().set_visible(False)\n",
    "ax[0, 1].get_xaxis().set_visible(False)\n",
    "ax[0, 1].get_yaxis().set_visible(False)\n",
    "ax[0, 1].set_frame_on(False)\n",
    "\n",
    "ax[1,\n",
    "   0].plot(original_source.lambda2, original_source.data.real * 1000.0, 'k.', label=r\"Stokes $Q$\")\n",
    "ax[1,\n",
    "   0].plot(original_source.lambda2, original_source.data.imag * 1000.0, 'c.', label=r\"Stokes $U$\")\n",
    "ax[1, 0].plot(original_source.lambda2, np.abs(original_source.data) * 1000.0, 'g.', label=r\"$|P|$\")\n",
    "ax[1, 0].set_xlabel(r'$\\lambda^2$ [m$^{2}$]')\n",
    "ax[1, 0].set_ylabel(r'mJy/beam')\n",
    "\n",
    "ax[1, 1].plot(original_parameter.phi, F_dirty_original.real * 1000.0, 'c--', label=r\"Stokes $Q$\")\n",
    "ax[1, 1].plot(original_parameter.phi, F_dirty_original.imag * 1000.0, 'c:', label=r\"Stokes $U$\")\n",
    "ax[1,\n",
    "   1].plot(original_parameter.phi, np.abs(F_dirty_original) * 1000.0, '-', c='grey', label=r\"|P|\")\n",
    "#ax[1,1].plot([-200., -200.], [0., 0.0035], ls='-', lw=2., c='black')\n",
    "#ax[1,1].plot(original_parameter.phi, np.zeros(len(original_parameter.phi)), ls='-', lw=2., c='black')\n",
    "ax[1, 1].set_xlabel(r'$\\phi$ [rad m$^{-2}$]')\n",
    "ax[1, 1].set_ylabel(r'mJy/beam m$^2$ rad$^{-1}$ rmtf$^{-1}$')\n",
    "#ax[1,1].legend(loc='upper right')\n",
    "ax[1, 1].set_xlim([-1000, 1000])\n",
    "\n",
    "ax[2, 0].plot(dataset.lambda2, dataset.data.real * 1000.0, 'k.', label=r\"Stokes $Q$\")\n",
    "ax[2, 0].plot(dataset.lambda2, dataset.data.imag * 1000.0, 'c.', label=r\"Stokes $U$\")\n",
    "ax[2, 0].plot(dataset.lambda2, np.abs(dataset.data) * 1000.0, 'g.', label=r\"$|P|$\")\n",
    "ax[2, 0].set_xlabel(r'$\\lambda^2$ [m$^{2}$]')\n",
    "ax[2, 0].set_ylabel(r'mJy/beam')\n",
    "\n",
    "ax[2, 1].plot(parameter.phi, F_dirty.real * 1000.0, 'c--', label=r\"Stokes $Q$\")\n",
    "ax[2, 1].plot(parameter.phi, F_dirty.imag * 1000.0, 'c:', label=r\"Stokes $U$\")\n",
    "ax[2, 1].plot(parameter.phi, np.abs(F_dirty) * 1000.0, '-', c='grey', label=r\"|P|\")\n",
    "ax[2, 1].set_xlabel(r'$\\phi$[ rad m$^{-2}$]')\n",
    "ax[2, 1].set_ylabel(r'mJy/beam m$^2$ rad$^{-1}$ rmtf$^{-1}$')\n",
    "ax[2, 1].set_xlim([-1000, 1000])\n",
    "\n",
    "fig.tight_layout()\n",
    "\n",
    "fig.savefig(\"example_ursi.pdf\", dpi=100)"
   ]
  },
  {
   "cell_type": "code",
   "execution_count": null,
   "id": "8fa9e6b5",
   "metadata": {},
   "outputs": [],
   "source": []
  }
 ],
 "metadata": {
  "kernelspec": {
   "display_name": "Python 3 (ipykernel)",
   "language": "python",
   "name": "python3"
  },
  "language_info": {
   "codemirror_mode": {
    "name": "ipython",
    "version": 3
   },
   "file_extension": ".py",
   "mimetype": "text/x-python",
   "name": "python",
   "nbconvert_exporter": "python",
   "pygments_lexer": "ipython3",
   "version": "3.10.6"
  },
  "latex_envs": {
   "LaTeX_envs_menu_present": true,
   "autoclose": false,
   "autocomplete": true,
   "bibliofile": "biblio.bib",
   "cite_by": "apalike",
   "current_citInitial": 1,
   "eqLabelWithNumbers": true,
   "eqNumInitial": 1,
   "hotkeys": {
    "equation": "Ctrl-E",
    "itemize": "Ctrl-I"
   },
   "labels_anchors": false,
   "latex_user_defs": false,
   "report_style_numbering": false,
   "user_envs_cfg": false
  },
  "toc": {
   "base_numbering": 1,
   "nav_menu": {},
   "number_sections": true,
   "sideBar": true,
   "skip_h1_title": false,
   "title_cell": "Table of Contents",
   "title_sidebar": "Contents",
   "toc_cell": false,
   "toc_position": {},
   "toc_section_display": true,
   "toc_window_display": false
  },
  "varInspector": {
   "cols": {
    "lenName": 16,
    "lenType": 16,
    "lenVar": 40
   },
   "kernels_config": {
    "python": {
     "delete_cmd_postfix": "",
     "delete_cmd_prefix": "del ",
     "library": "var_list.py",
     "varRefreshCmd": "print(var_dic_list())"
    },
    "r": {
     "delete_cmd_postfix": ") ",
     "delete_cmd_prefix": "rm(",
     "library": "var_list.r",
     "varRefreshCmd": "cat(var_dic_list()) "
    }
   },
   "types_to_exclude": [
    "module",
    "function",
    "builtin_function_or_method",
    "instance",
    "_Feature"
   ],
   "window_display": false
  }
 },
 "nbformat": 4,
 "nbformat_minor": 5
}
