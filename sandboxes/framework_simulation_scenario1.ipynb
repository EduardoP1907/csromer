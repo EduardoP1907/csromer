{
 "cells": [
  {
   "cell_type": "code",
   "execution_count": 1,
   "id": "71d19339",
   "metadata": {
    "ExecuteTime": {
     "end_time": "2022-10-07T19:57:57.316546Z",
     "start_time": "2022-10-07T19:57:56.407098Z"
    },
    "pycharm": {
     "name": "#%%\n"
    }
   },
   "outputs": [],
   "source": [
    "import copy\n",
    "import itertools\n",
    "import time\n",
    "\n",
    "import matplotlib\n",
    "import matplotlib.pyplot as plt\n",
    "import numpy as np\n",
    "from IPython.display import clear_output\n",
    "from pynufft import NUFFT\n",
    "from scipy import signal as sci_signal\n",
    "from scipy import stats\n",
    "from scipy.constants import c\n",
    "from scipy.stats import median_abs_deviation, norm\n",
    "\n",
    "from csromer.base import Dataset\n",
    "from csromer.dictionaries import DiscreteWavelet, UndecimatedWavelet\n",
    "from csromer.io import Reader, Writer\n",
    "from csromer.objectivefunction import L1, TSV, TV, Chi2, OFunction\n",
    "from csromer.optimization import FISTA, GradientBasedMethod\n",
    "from csromer.reconstruction import Parameter\n",
    "from csromer.simulation import FaradayThickSource, FaradayThinSource\n",
    "from csromer.transformers import Gridding\n",
    "from csromer.transformers.dfts import NDFT1D, NUFFT1D\n",
    "from csromer.utils import Gaussian, complex_to_real, real_to_complex"
   ]
  },
  {
   "cell_type": "code",
   "execution_count": 2,
   "id": "10964547",
   "metadata": {
    "ExecuteTime": {
     "end_time": "2022-10-07T19:57:57.320089Z",
     "start_time": "2022-10-07T19:57:57.317594Z"
    }
   },
   "outputs": [],
   "source": [
    "SMALL_SIZE = 17\n",
    "MEDIUM_SIZE = 18\n",
    "BIGGER_SIZE = 19\n",
    "\n",
    "plt.rcParams.update(\n",
    "    {\n",
    "        \"font.family\": \"serif\",\n",
    "        \"text.usetex\": True,\n",
    "        \"pgf.rcfonts\": False,\n",
    "        \"pgf.texsystem\": 'pdflatex',  # default is xetex\n",
    "    }\n",
    ")\n",
    "\n",
    "plt.rc('font', size=MEDIUM_SIZE)  # controls default text sizes\n",
    "plt.rc('axes', titlesize=SMALL_SIZE)  # fontsize of the axes title\n",
    "plt.rc('axes', labelsize=MEDIUM_SIZE)  # fontsize of the x and y labels\n",
    "plt.rc('xtick', labelsize=SMALL_SIZE)  # fontsize of the tick labels\n",
    "plt.rc('ytick', labelsize=SMALL_SIZE)  # fontsize of the tick labels\n",
    "plt.rc('legend', fontsize=SMALL_SIZE)  # legend fontsize"
   ]
  },
  {
   "cell_type": "code",
   "execution_count": 3,
   "id": "aad05405",
   "metadata": {
    "ExecuteTime": {
     "end_time": "2022-10-07T19:57:57.366701Z",
     "start_time": "2022-10-07T19:57:57.321362Z"
    },
    "pycharm": {
     "name": "#%%\n"
    }
   },
   "outputs": [],
   "source": [
    "def chi2_calc(residuals):\n",
    "    if residuals.dtype == np.complex64 or residuals.dtype == np.complex128:\n",
    "        data = (residuals.real * residuals.real) + (residuals.imag * residuals.imag)\n",
    "    else:\n",
    "        data = residuals**2\n",
    "    return np.sum(data)"
   ]
  },
  {
   "cell_type": "code",
   "execution_count": 4,
   "id": "6d90a423",
   "metadata": {
    "ExecuteTime": {
     "end_time": "2022-10-07T19:57:57.415951Z",
     "start_time": "2022-10-07T19:57:57.367551Z"
    },
    "pycharm": {
     "name": "#%%\n"
    }
   },
   "outputs": [],
   "source": [
    "def aicbic(residuals_coeffs, x_coeffs):\n",
    "    rss = chi2_calc(residuals)\n",
    "    if x.dtype == np.complex64 or x.dtype == np.complex128:\n",
    "        df = np.count_nonzero(x.real) + np.count_nonzero(x.imag)\n",
    "    else:\n",
    "        df = np.count_nonzero(x)\n",
    "    l = len(residuals)\n",
    "    return l * np.log(rss / l) + 2 * df, l * np.log(rss / l) + df * np.log(l)"
   ]
  },
  {
   "cell_type": "code",
   "execution_count": 5,
   "id": "a7cdb152",
   "metadata": {
    "ExecuteTime": {
     "end_time": "2022-10-07T19:57:57.476690Z",
     "start_time": "2022-10-07T19:57:57.417024Z"
    },
    "pycharm": {
     "name": "#%%\n"
    }
   },
   "outputs": [],
   "source": [
    "def aicbic(residuals, x):\n",
    "    rss = chi2_calc(residuals)\n",
    "    if x.dtype == np.complex64 or x.dtype == np.complex128:\n",
    "        df = np.count_nonzero(x.real) + np.count_nonzero(x.imag)\n",
    "        lcoeffs = 2 * len(x)\n",
    "    else:\n",
    "        df = np.count_nonzero(x)\n",
    "        lcoeffs = len(x)\n",
    "    l = len(residuals)\n",
    "    print(\"len(coeffs):\", lcoeffs)\n",
    "    print(\"l:\", l)\n",
    "    print(\"df:\", df)\n",
    "    print(\"rss:\", rss)\n",
    "    print(\"rss/l\", rss / l)\n",
    "    print(\"log(rss/l)\", np.log(rss / l))\n",
    "    print(\"log(l)\", np.log(l))\n",
    "    return l * np.log(rss / l) + 2 * df, l * np.log(rss / l) + df * np.log(l)"
   ]
  },
  {
   "cell_type": "code",
   "execution_count": 6,
   "id": "6f447fc3",
   "metadata": {
    "ExecuteTime": {
     "end_time": "2022-10-07T19:57:57.523874Z",
     "start_time": "2022-10-07T19:57:57.478165Z"
    },
    "pycharm": {
     "name": "#%%\n"
    }
   },
   "outputs": [],
   "source": [
    "np.random.seed(666)"
   ]
  },
  {
   "cell_type": "code",
   "execution_count": 7,
   "id": "b5bcde93",
   "metadata": {
    "ExecuteTime": {
     "end_time": "2022-10-07T19:57:57.572831Z",
     "start_time": "2022-10-07T19:57:57.525320Z"
    },
    "pycharm": {
     "name": "#%%\n"
    }
   },
   "outputs": [],
   "source": [
    "#nu = np.linspace(start=1.008e9, stop=2.031e9, num=1000)  # VLA\n",
    "nu = np.linspace(start=0.89e9, stop=1.681e9, num=1000)  # MeerKAT Larry's config\n",
    "#nu = np.linspace(start=0.58e9, stop=2.50e9, num=512) # MIGHTEE config"
   ]
  },
  {
   "cell_type": "code",
   "execution_count": 8,
   "id": "9ff1ea9b",
   "metadata": {
    "ExecuteTime": {
     "end_time": "2022-10-07T19:57:57.621120Z",
     "start_time": "2022-10-07T19:57:57.576065Z"
    },
    "pycharm": {
     "name": "#%%\n"
    }
   },
   "outputs": [],
   "source": [
    "peak_thinsource = 1.\n",
    "peak_thicksource = 1."
   ]
  },
  {
   "cell_type": "code",
   "execution_count": 9,
   "id": "cd7ba535",
   "metadata": {
    "ExecuteTime": {
     "end_time": "2022-10-07T19:57:57.670601Z",
     "start_time": "2022-10-07T19:57:57.622596Z"
    },
    "pycharm": {
     "name": "#%%\n"
    }
   },
   "outputs": [],
   "source": [
    "thinsource = FaradayThinSource(nu=nu, s_nu=peak_thinsource, phi_gal=-200, spectral_idx=0.0)"
   ]
  },
  {
   "cell_type": "code",
   "execution_count": 10,
   "id": "0bac7941",
   "metadata": {
    "ExecuteTime": {
     "end_time": "2022-10-07T19:57:57.722627Z",
     "start_time": "2022-10-07T19:57:57.671989Z"
    },
    "pycharm": {
     "name": "#%%\n"
    }
   },
   "outputs": [],
   "source": [
    "#140 JVLA\n",
    "# 95 MeerKAT\n",
    "thicksource = FaradayThickSource(\n",
    "    nu=nu, s_nu=peak_thicksource, phi_fg=90., phi_center=200., spectral_idx=0.0\n",
    ")"
   ]
  },
  {
   "cell_type": "code",
   "execution_count": 11,
   "id": "5f2d4c49",
   "metadata": {
    "ExecuteTime": {
     "end_time": "2022-10-07T19:57:57.774105Z",
     "start_time": "2022-10-07T19:57:57.723973Z"
    },
    "pycharm": {
     "name": "#%%\n"
    }
   },
   "outputs": [],
   "source": [
    "#thinsource.l2_ref = thinsource.calculate_l2ref()"
   ]
  },
  {
   "cell_type": "code",
   "execution_count": 12,
   "id": "fb7c928a",
   "metadata": {
    "ExecuteTime": {
     "end_time": "2022-10-07T19:57:57.885432Z",
     "start_time": "2022-10-07T19:57:57.775546Z"
    },
    "pycharm": {
     "name": "#%%\n"
    }
   },
   "outputs": [],
   "source": [
    "#thicksource.l2_ref = thicksource.calculate_l2ref()"
   ]
  },
  {
   "cell_type": "code",
   "execution_count": 13,
   "id": "a98400e4",
   "metadata": {
    "ExecuteTime": {
     "end_time": "2022-10-07T19:57:57.989500Z",
     "start_time": "2022-10-07T19:57:57.886930Z"
    },
    "pycharm": {
     "name": "#%%\n"
    }
   },
   "outputs": [],
   "source": [
    "thinsource.simulate()\n",
    "thicksource.simulate()"
   ]
  },
  {
   "cell_type": "code",
   "execution_count": 14,
   "id": "57cf656a",
   "metadata": {
    "ExecuteTime": {
     "end_time": "2022-10-07T19:57:58.044594Z",
     "start_time": "2022-10-07T19:57:57.990953Z"
    },
    "pycharm": {
     "name": "#%%\n"
    }
   },
   "outputs": [],
   "source": [
    "simsource = thicksource"
   ]
  },
  {
   "cell_type": "code",
   "execution_count": 15,
   "id": "99e4e10c",
   "metadata": {
    "ExecuteTime": {
     "end_time": "2022-10-07T19:57:58.282591Z",
     "start_time": "2022-10-07T19:57:58.045836Z"
    }
   },
   "outputs": [],
   "source": [
    "simsource.l2_ref = simsource.calculate_l2ref()"
   ]
  },
  {
   "cell_type": "code",
   "execution_count": 16,
   "id": "e99850d6",
   "metadata": {
    "ExecuteTime": {
     "end_time": "2022-10-07T19:57:58.521889Z",
     "start_time": "2022-10-07T19:57:58.283462Z"
    }
   },
   "outputs": [
    {
     "data": {
      "text/plain": [
       "0.06008617981851801"
      ]
     },
     "execution_count": 16,
     "metadata": {},
     "output_type": "execute_result"
    }
   ],
   "source": [
    "simsource.l2_ref"
   ]
  },
  {
   "cell_type": "code",
   "execution_count": 17,
   "id": "93b03e12",
   "metadata": {
    "ExecuteTime": {
     "end_time": "2022-10-07T19:57:58.578419Z",
     "start_time": "2022-10-07T19:57:58.523392Z"
    },
    "pycharm": {
     "name": "#%%\n"
    }
   },
   "outputs": [],
   "source": [
    "original_source = copy.deepcopy(simsource)"
   ]
  },
  {
   "cell_type": "code",
   "execution_count": 18,
   "id": "c248fe2d",
   "metadata": {
    "ExecuteTime": {
     "end_time": "2022-10-07T19:57:58.635564Z",
     "start_time": "2022-10-07T19:57:58.580169Z"
    },
    "pycharm": {
     "name": "#%%\n"
    }
   },
   "outputs": [
    {
     "data": {
      "text/plain": [
       "1665172678"
      ]
     },
     "execution_count": 18,
     "metadata": {},
     "output_type": "execute_result"
    }
   ],
   "source": [
    "remove_channels_seed = int(time.time())\n",
    "remove_channels_seed"
   ]
  },
  {
   "cell_type": "code",
   "execution_count": 19,
   "id": "5b3e58ff",
   "metadata": {
    "ExecuteTime": {
     "end_time": "2022-10-07T19:57:58.694972Z",
     "start_time": "2022-10-07T19:57:58.636587Z"
    },
    "pycharm": {
     "name": "#%%\n"
    }
   },
   "outputs": [],
   "source": [
    "#simsource.remove_channels(0.1, np.random.RandomState(1648643337))\n",
    "#simsource.remove_channels(0.1, np.random.RandomState(1648650067))\n",
    "simsource.remove_channels(0.2)"
   ]
  },
  {
   "cell_type": "code",
   "execution_count": 20,
   "id": "6a7461d3",
   "metadata": {
    "ExecuteTime": {
     "end_time": "2022-10-07T19:57:58.748097Z",
     "start_time": "2022-10-07T19:57:58.696797Z"
    },
    "pycharm": {
     "name": "#%%\n"
    }
   },
   "outputs": [
    {
     "data": {
      "text/plain": [
       "1.0"
      ]
     },
     "execution_count": 20,
     "metadata": {},
     "output_type": "execute_result"
    }
   ],
   "source": [
    "peak_thinsource"
   ]
  },
  {
   "cell_type": "code",
   "execution_count": 21,
   "id": "91dde538",
   "metadata": {
    "ExecuteTime": {
     "end_time": "2022-10-07T19:57:58.821555Z",
     "start_time": "2022-10-07T19:57:58.749422Z"
    },
    "pycharm": {
     "name": "#%%\n"
    }
   },
   "outputs": [],
   "source": [
    "applied_noise = 0.2 * peak_thinsource"
   ]
  },
  {
   "cell_type": "code",
   "execution_count": 22,
   "id": "81f4bea6",
   "metadata": {
    "ExecuteTime": {
     "end_time": "2022-10-07T19:57:58.878491Z",
     "start_time": "2022-10-07T19:57:58.822577Z"
    },
    "pycharm": {
     "name": "#%%\n"
    }
   },
   "outputs": [
    {
     "data": {
      "text/plain": [
       "200.0"
      ]
     },
     "execution_count": 22,
     "metadata": {},
     "output_type": "execute_result"
    }
   ],
   "source": [
    "applied_noise * 1000.0"
   ]
  },
  {
   "cell_type": "code",
   "execution_count": 23,
   "id": "09e5ab9b",
   "metadata": {
    "ExecuteTime": {
     "end_time": "2022-10-07T19:57:58.933882Z",
     "start_time": "2022-10-07T19:57:58.885125Z"
    },
    "pycharm": {
     "name": "#%%\n"
    }
   },
   "outputs": [],
   "source": [
    "#simsource.data = np.random.normal(loc=0.0, scale=applied_noise, size=simsource.m) + 1j * np.random.normal(loc=0.0, scale=applied_noise, size=simsource.m)"
   ]
  },
  {
   "cell_type": "code",
   "execution_count": 24,
   "id": "1c54c7a8",
   "metadata": {
    "ExecuteTime": {
     "end_time": "2022-10-07T19:57:59.021325Z",
     "start_time": "2022-10-07T19:57:58.936018Z"
    },
    "pycharm": {
     "name": "#%%\n"
    }
   },
   "outputs": [],
   "source": [
    "simsource.apply_noise(applied_noise)"
   ]
  },
  {
   "cell_type": "code",
   "execution_count": 25,
   "id": "1b0029b1",
   "metadata": {
    "ExecuteTime": {
     "end_time": "2022-10-07T19:57:59.290090Z",
     "start_time": "2022-10-07T19:57:59.022426Z"
    }
   },
   "outputs": [
    {
     "data": {
      "image/png": "[encoded data removed]",
      "text/plain": [
       "<Figure size 1000x400 with 2 Axes>"
      ]
     },
     "metadata": {},
     "output_type": "display_data"
    }
   ],
   "source": [
    "fig, ax = plt.subplots(figsize=(10, 4), nrows=1, ncols=2, sharex=True, sharey=True)\n",
    "\n",
    "ax[0].plot(original_source.lambda2, original_source.data.real, 'k.', label=r\"Stokes $Q$\")\n",
    "ax[0].plot(original_source.lambda2, original_source.data.imag, 'c.', label=r\"Stokes $U$\")\n",
    "ax[0].plot(original_source.lambda2, np.abs(original_source.data), 'g.', label=r\"$|P|$\")\n",
    "ax[0].set_xlabel(r'$\\lambda^2$[m$^{2}$]')\n",
    "ax[0].set_ylabel(r'Jy/beam')\n",
    "\n",
    "ax[1].plot(simsource.lambda2, simsource.data.real, 'k.', label=r\"Stokes $Q$\")\n",
    "ax[1].plot(simsource.lambda2, simsource.data.imag, 'c.', label=r\"Stokes $U$\")\n",
    "ax[1].plot(simsource.lambda2, np.abs(simsource.data), 'g.', label=r\"$|P|$\")\n",
    "ax[1].set_xlabel(r'$\\lambda^2$[m$^{2}$]')\n",
    "plt.tight_layout()"
   ]
  },
  {
   "cell_type": "code",
   "execution_count": 26,
   "id": "6bebd70f",
   "metadata": {
    "ExecuteTime": {
     "end_time": "2022-10-07T19:57:59.293792Z",
     "start_time": "2022-10-07T19:57:59.291122Z"
    },
    "pycharm": {
     "name": "#%%\n"
    }
   },
   "outputs": [
    {
     "data": {
      "text/plain": [
       "0.21790253529988834"
      ]
     },
     "execution_count": 26,
     "metadata": {},
     "output_type": "execute_result"
    }
   ],
   "source": [
    "sigma_qu = 0.5 * (np.std(simsource.data.real) + np.std(simsource.data.imag))\n",
    "sigma_qu"
   ]
  },
  {
   "cell_type": "code",
   "execution_count": 27,
   "id": "bb7eca98",
   "metadata": {
    "ExecuteTime": {
     "end_time": "2022-10-07T19:57:59.435040Z",
     "start_time": "2022-10-07T19:57:59.294670Z"
    },
    "pycharm": {
     "name": "#%%\n"
    }
   },
   "outputs": [],
   "source": [
    "dataset = simsource"
   ]
  },
  {
   "cell_type": "code",
   "execution_count": 28,
   "id": "0a5a5c67",
   "metadata": {
    "ExecuteTime": {
     "end_time": "2022-10-07T19:57:59.497195Z",
     "start_time": "2022-10-07T19:57:59.436987Z"
    },
    "pycharm": {
     "name": "#%%\n"
    }
   },
   "outputs": [],
   "source": [
    "parameter = Parameter()\n",
    "original_parameter = Parameter()"
   ]
  },
  {
   "cell_type": "code",
   "execution_count": 29,
   "id": "f2210db5",
   "metadata": {
    "ExecuteTime": {
     "end_time": "2022-10-07T19:57:59.562067Z",
     "start_time": "2022-10-07T19:57:59.498601Z"
    },
    "pycharm": {
     "name": "#%%\n"
    }
   },
   "outputs": [
    {
     "name": "stdout",
     "output_type": "stream",
     "text": [
      "FWHM of the main peak of the RMTF: 42.422 rad/m^2\n",
      "Maximum recovered width structure: 98.774 rad/m^2\n",
      "Maximum Faraday Depth to which one has more than 50% sensitivity: 21189.543\n"
     ]
    }
   ],
   "source": [
    "original_parameter.calculate_cellsize(dataset=original_source, oversampling=8)"
   ]
  },
  {
   "cell_type": "code",
   "execution_count": 30,
   "id": "5a998e51",
   "metadata": {
    "ExecuteTime": {
     "end_time": "2022-10-07T19:57:59.624843Z",
     "start_time": "2022-10-07T19:57:59.564050Z"
    },
    "pycharm": {
     "name": "#%%\n"
    }
   },
   "outputs": [
    {
     "name": "stdout",
     "output_type": "stream",
     "text": [
      "FWHM of the main peak of the RMTF: 42.527 rad/m^2\n",
      "Maximum recovered width structure: 98.774 rad/m^2\n",
      "Maximum Faraday Depth to which one has more than 50% sensitivity: 16989.340\n"
     ]
    }
   ],
   "source": [
    "parameter.calculate_cellsize(dataset=dataset, oversampling=8)"
   ]
  },
  {
   "cell_type": "code",
   "execution_count": 31,
   "id": "baf7c1f1",
   "metadata": {
    "ExecuteTime": {
     "end_time": "2022-10-07T19:57:59.784942Z",
     "start_time": "2022-10-07T19:57:59.625858Z"
    },
    "pycharm": {
     "name": "#%%\n"
    }
   },
   "outputs": [],
   "source": [
    "nufft_original = NUFFT1D(dataset=original_source, parameter=original_parameter)\n",
    "nufft = NUFFT1D(dataset=dataset, parameter=parameter)"
   ]
  },
  {
   "cell_type": "code",
   "execution_count": 32,
   "id": "6101dab5",
   "metadata": {
    "ExecuteTime": {
     "end_time": "2022-10-07T19:57:59.788153Z",
     "start_time": "2022-10-07T19:57:59.786069Z"
    },
    "pycharm": {
     "name": "#%%\n"
    }
   },
   "outputs": [],
   "source": [
    "dft = NDFT1D(dataset=dataset, parameter=parameter)\n",
    "dft_original = NDFT1D(dataset=original_source, parameter=original_parameter)"
   ]
  },
  {
   "cell_type": "code",
   "execution_count": 33,
   "id": "eb95522e",
   "metadata": {
    "ExecuteTime": {
     "end_time": "2022-10-07T19:58:00.590477Z",
     "start_time": "2022-10-07T19:57:59.789123Z"
    },
    "pycharm": {
     "name": "#%%\n"
    }
   },
   "outputs": [],
   "source": [
    "F_dirty = dft.backward(dataset.data)\n",
    "F_dirty_original = dft_original.backward(original_source.data)\n",
    "\n",
    "rmtf_original = dft_original.RMTF()\n",
    "rmtf = dft.RMTF()"
   ]
  },
  {
   "cell_type": "code",
   "execution_count": 34,
   "id": "b64ffff8",
   "metadata": {
    "ExecuteTime": {
     "end_time": "2022-10-07T19:58:00.724137Z",
     "start_time": "2022-10-07T19:58:00.591938Z"
    }
   },
   "outputs": [
    {
     "data": {
      "image/png": "[encoded data removed]",
      "text/plain": [
       "<Figure size 800x200 with 2 Axes>"
      ]
     },
     "metadata": {},
     "output_type": "display_data"
    }
   ],
   "source": [
    "fig, ax = plt.subplots(figsize=(8, 2), nrows=1, ncols=2, sharex=True, sharey=True)\n",
    "\n",
    "ax[0].plot(original_parameter.phi, rmtf_original.real, 'c--', label=r\"Stokes $Q$\")\n",
    "ax[0].plot(original_parameter.phi, rmtf_original.imag, 'c:', label=r\"Stokes $U$\")\n",
    "ax[0].plot(original_parameter.phi, np.abs(rmtf_original), '-', c='grey', label=r\"|P|\")\n",
    "#plt.plot([-200., -200.], [0., 0.0035], ls='-', lw=2., c='black')\n",
    "ax[0].plot(original_parameter.phi, np.zeros(len(original_parameter.phi)), ls='-', lw=2., c='black')\n",
    "ax[0].set_xlabel(r'$\\phi$[rad m$^{-2}$]')\n",
    "ax[0].set_ylabel(r'Jy/beam m$^2$ rad$^{-1}$ rmtf$^{-1}$')\n",
    "#plt.legend(loc='upper right')\n",
    "ax[0].set_xlim([-500, 500])\n",
    "\n",
    "ax[1].plot(parameter.phi, rmtf.real, 'c--', label=r\"Stokes $Q$\")\n",
    "ax[1].plot(parameter.phi, rmtf.imag, 'c:', label=r\"Stokes $U$\")\n",
    "ax[1].plot(parameter.phi, np.abs(rmtf), '-', c='grey', label=r\"|P|\")\n",
    "#plt.plot([-200., -200.], [0., 0.0035], ls='-', lw=2., c='black')\n",
    "ax[1].plot(parameter.phi, np.zeros(len(parameter.phi)), ls='-', lw=2., c='black')\n",
    "ax[1].set_xlabel(r'$\\phi$[rad m$^{-2}$]')\n",
    "#ax[1].set_ylabel(r'Jy/beam m$^2$ rad$^{-1}$ rmtf$^{-1}$')\n",
    "#plt.legend(loc='upper right')\n",
    "ax[1].set_xlim([-500, 500])\n",
    "\n",
    "plt.tight_layout()"
   ]
  },
  {
   "cell_type": "code",
   "execution_count": 35,
   "id": "9291b39e",
   "metadata": {
    "ExecuteTime": {
     "end_time": "2022-10-07T19:58:00.836285Z",
     "start_time": "2022-10-07T19:58:00.725181Z"
    },
    "pycharm": {
     "name": "#%%\n"
    }
   },
   "outputs": [
    {
     "data": {
      "image/png": "[encoded data removed]",
      "text/plain": [
       "<Figure size 800x200 with 2 Axes>"
      ]
     },
     "metadata": {},
     "output_type": "display_data"
    }
   ],
   "source": [
    "fig, ax = plt.subplots(figsize=(8, 2), nrows=1, ncols=2, sharex=True, sharey=True)\n",
    "\n",
    "ax[0].plot(original_parameter.phi, F_dirty_original.real, 'c--', label=r\"Stokes $Q$\")\n",
    "ax[0].plot(original_parameter.phi, F_dirty_original.imag, 'c:', label=r\"Stokes $U$\")\n",
    "ax[0].plot(original_parameter.phi, np.abs(F_dirty_original), '-', c='grey', label=r\"|P|\")\n",
    "#plt.plot([-200., -200.], [0., 0.0035], ls='-', lw=2., c='black')\n",
    "ax[0].plot(original_parameter.phi, np.zeros(len(original_parameter.phi)), ls='-', lw=2., c='black')\n",
    "ax[0].set_xlabel(r'$\\phi$[rad m$^{-2}$]')\n",
    "ax[0].set_ylabel(r'Jy/beam m$^2$ rad$^{-1}$ rmtf$^{-1}$')\n",
    "#plt.legend(loc='upper right')\n",
    "ax[0].set_xlim([-1000, 1000])\n",
    "\n",
    "ax[1].plot(parameter.phi, F_dirty.real, 'c--', label=r\"Stokes $Q$\")\n",
    "ax[1].plot(parameter.phi, F_dirty.imag, 'c:', label=r\"Stokes $U$\")\n",
    "ax[1].plot(parameter.phi, np.abs(F_dirty), '-', c='grey', label=r\"|P|\")\n",
    "#plt.plot([-200., -200.], [0., 0.0035], ls='-', lw=2., c='black')\n",
    "ax[1].plot(parameter.phi, np.zeros(len(parameter.phi)), ls='-', lw=2., c='black')\n",
    "ax[1].set_xlabel(r'$\\phi$[rad m$^{-2}$]')\n",
    "#ax[1].set_ylabel(r'Jy/beam m$^2$ rad$^{-1}$ rmtf$^{-1}$')\n",
    "#plt.legend(loc='upper right')\n",
    "ax[1].set_xlim([-1000, 1000])\n",
    "\n",
    "plt.tight_layout()"
   ]
  },
  {
   "cell_type": "code",
   "execution_count": 36,
   "id": "f9103c2a",
   "metadata": {
    "ExecuteTime": {
     "end_time": "2022-10-07T19:58:00.842412Z",
     "start_time": "2022-10-07T19:58:00.837665Z"
    }
   },
   "outputs": [],
   "source": [
    "F_dirty_nufft = nufft.backward(dataset.data)"
   ]
  },
  {
   "cell_type": "code",
   "execution_count": 37,
   "id": "1c315fe2",
   "metadata": {
    "ExecuteTime": {
     "end_time": "2022-10-07T19:58:01.006314Z",
     "start_time": "2022-10-07T19:58:00.843524Z"
    }
   },
   "outputs": [
    {
     "data": {
      "image/png": "[encoded data removed]",
      "text/plain": [
       "<Figure size 800x200 with 2 Axes>"
      ]
     },
     "metadata": {},
     "output_type": "display_data"
    }
   ],
   "source": [
    "fig, ax = plt.subplots(figsize=(8, 2), nrows=1, ncols=2, sharex=True, sharey=True)\n",
    "\n",
    "ax[0].plot(parameter.phi, F_dirty.real, 'c--', label=r\"Stokes $Q$\")\n",
    "ax[0].plot(parameter.phi, F_dirty.imag, 'c:', label=r\"Stokes $U$\")\n",
    "ax[0].plot(parameter.phi, np.abs(F_dirty), '-', c='grey', label=r\"|P|\")\n",
    "#plt.plot([-200., -200.], [0., 0.0035], ls='-', lw=2., c='black')\n",
    "ax[0].plot(parameter.phi, np.zeros(len(parameter.phi)), ls='-', lw=2., c='black')\n",
    "ax[0].set_xlabel(r'$\\phi$[rad m$^{-2}$]')\n",
    "#ax[0].set_ylabel(r'Jy/beam m$^2$ rad$^{-1}$ rmtf$^{-1}$')\n",
    "#plt.legend(loc='upper right')\n",
    "ax[0].set_xlim([-1000, 1000])\n",
    "\n",
    "ax[1].plot(parameter.phi, F_dirty_nufft.real, 'c--', label=r\"Stokes $Q$\")\n",
    "ax[1].plot(parameter.phi, F_dirty_nufft.imag, 'c:', label=r\"Stokes $U$\")\n",
    "ax[1].plot(parameter.phi, np.abs(F_dirty_nufft), '-', c='grey', label=r\"|P|\")\n",
    "#plt.plot([-200., -200.], [0., 0.0035], ls='-', lw=2., c='black')\n",
    "ax[1].plot(parameter.phi, np.zeros(len(parameter.phi)), ls='-', lw=2., c='black')\n",
    "ax[1].set_xlabel(r'$\\phi$[rad m$^{-2}$]')\n",
    "#ax[1].set_ylabel(r'Jy/beam m$^2$ rad$^{-1}$ rmtf$^{-1}$')\n",
    "#plt.legend(loc='upper right')\n",
    "ax[1].set_xlim([-1000, 1000])\n",
    "\n",
    "plt.tight_layout()"
   ]
  },
  {
   "cell_type": "code",
   "execution_count": null,
   "id": "851b336a",
   "metadata": {
    "ExecuteTime": {
     "end_time": "2022-10-07T19:58:03.097531Z",
     "start_time": "2022-10-07T19:58:03.097524Z"
    },
    "pycharm": {
     "name": "#%%\n"
    }
   },
   "outputs": [],
   "source": [
    "idx_noise = np.where(np.abs(parameter.phi) > 0.8 * parameter.max_faraday_depth)\n",
    "noise_F = 0.5 * (\n",
    "    median_abs_deviation(F_dirty[idx_noise].real, scale=\"normal\") +\n",
    "    median_abs_deviation(F_dirty[idx_noise].imag, scale=\"normal\")\n",
    ")\n",
    "noise_F"
   ]
  },
  {
   "cell_type": "code",
   "execution_count": null,
   "id": "64c050d6",
   "metadata": {
    "ExecuteTime": {
     "end_time": "2022-10-07T19:58:03.098248Z",
     "start_time": "2022-10-07T19:58:03.098241Z"
    },
    "pycharm": {
     "name": "#%%\n"
    }
   },
   "outputs": [],
   "source": [
    "dataset.theo_noise"
   ]
  },
  {
   "cell_type": "code",
   "execution_count": null,
   "id": "133bbe82",
   "metadata": {
    "ExecuteTime": {
     "end_time": "2022-10-07T19:58:03.098876Z",
     "start_time": "2022-10-07T19:58:03.098870Z"
    },
    "pycharm": {
     "name": "#%%\n"
    }
   },
   "outputs": [],
   "source": [
    "noise_from_w = 1.0 / np.sqrt(np.sum(dataset.w))\n",
    "noise_from_w * 1000.0"
   ]
  },
  {
   "cell_type": "code",
   "execution_count": null,
   "id": "b7bc78f9",
   "metadata": {
    "ExecuteTime": {
     "end_time": "2022-10-07T19:58:03.099632Z",
     "start_time": "2022-10-07T19:58:03.099626Z"
    },
    "pycharm": {
     "name": "#%%\n"
    }
   },
   "outputs": [],
   "source": [
    "wav = None\n",
    "#wav = DiscreteWavelet(wavelet_name=\"haar\", mode=\"periodization\", append_signal=True)\n",
    "#wav = UndecimatedWavelet(wavelet_name=\"sym2\", mode=\"periodization\", append_signal=True)"
   ]
  },
  {
   "cell_type": "code",
   "execution_count": null,
   "id": "c1d191cd",
   "metadata": {
    "ExecuteTime": {
     "end_time": "2022-10-07T19:58:03.100235Z",
     "start_time": "2022-10-07T19:58:03.100228Z"
    },
    "pycharm": {
     "name": "#%%\n"
    }
   },
   "outputs": [],
   "source": [
    "parameter.data = F_dirty\n",
    "parameter.complex_data_to_real()\n",
    "if wav is not None:\n",
    "    print(wav.calculate_max_level(parameter.data))\n",
    "    parameter.data = wav.decompose(parameter.data)\n",
    "    if wav.append_signal is True:\n",
    "        parameter.data[0:2 * len(F_dirty)] = 0.0\n",
    "    plt.plot(parameter.data)"
   ]
  },
  {
   "cell_type": "code",
   "execution_count": null,
   "id": "3e62cdcd",
   "metadata": {
    "ExecuteTime": {
     "end_time": "2022-10-07T19:58:03.101076Z",
     "start_time": "2022-10-07T19:58:03.101070Z"
    },
    "pycharm": {
     "name": "#%%\n"
    }
   },
   "outputs": [],
   "source": [
    "len(parameter.data)"
   ]
  },
  {
   "cell_type": "code",
   "execution_count": null,
   "id": "de8899ab",
   "metadata": {
    "ExecuteTime": {
     "end_time": "2022-10-07T19:58:03.101928Z",
     "start_time": "2022-10-07T19:58:03.101921Z"
    },
    "pycharm": {
     "name": "#%%\n"
    }
   },
   "outputs": [],
   "source": [
    "np.sqrt(2) * np.mean(dataset.sigma) * 1000.0"
   ]
  },
  {
   "cell_type": "code",
   "execution_count": null,
   "id": "39247473",
   "metadata": {
    "ExecuteTime": {
     "end_time": "2022-10-07T19:58:03.102469Z",
     "start_time": "2022-10-07T19:58:03.102462Z"
    },
    "pycharm": {
     "name": "#%%\n"
    }
   },
   "outputs": [],
   "source": [
    "#lambda_l1 = np.sqrt(2*dataset.m + (4*np.sqrt(2*dataset.m))) * dataset.theo_noise\n",
    "#lambda_l1 = np.sqrt(dataset.m + (2*np.sqrt(2*dataset.m))) * np.sqrt(2) * dataset.theo_noise\n",
    "#lambda_l1 = np.sqrt(dataset.m) * noise_F\n",
    "if wav is not None:\n",
    "    lambda_l1 = np.sqrt(dataset.m +\n",
    "                        2 * np.sqrt(dataset.m)) * 2. * np.sqrt(2) * np.mean(dataset.sigma)\n",
    "else:\n",
    "    lambda_l1 = np.sqrt(dataset.m + 2 * np.sqrt(dataset.m)) * np.sqrt(2) * np.mean(dataset.sigma)\n",
    "#lambda_l1 = np.sqrt(dataset.m) * noise_F\n",
    "#print(lambda_l1)\n",
    "#lambda_l1 /= 2\n",
    "#lambda_l1=0.5\n",
    "lambda_tsv = 0.0\n",
    "chi2 = Chi2(dft_obj=nufft, wavelet=wav)\n",
    "l1 = L1(reg=lambda_l1)\n",
    "tsv = TSV(reg=lambda_tsv)\n",
    "# F_func = [chi2(P, dft, W), L1(lambda_l1)]\n",
    "F_func = [chi2, l1]\n",
    "f_func = [chi2]\n",
    "g_func = [l1]\n",
    "\n",
    "F_obj = OFunction(F_func)\n",
    "f_obj = OFunction(f_func)\n",
    "g_obj = OFunction(g_func)"
   ]
  },
  {
   "cell_type": "code",
   "execution_count": null,
   "id": "9e0d9873",
   "metadata": {
    "ExecuteTime": {
     "end_time": "2022-10-07T19:58:03.102997Z",
     "start_time": "2022-10-07T19:58:03.102990Z"
    },
    "pycharm": {
     "name": "#%%\n"
    }
   },
   "outputs": [],
   "source": [
    "lambda_l1"
   ]
  },
  {
   "cell_type": "code",
   "execution_count": null,
   "id": "46db3d74",
   "metadata": {
    "ExecuteTime": {
     "end_time": "2022-10-07T19:58:03.103410Z",
     "start_time": "2022-10-07T19:58:03.103404Z"
    },
    "pycharm": {
     "name": "#%%\n"
    }
   },
   "outputs": [],
   "source": [
    "if wav is not None:\n",
    "    opt = FISTA(\n",
    "        guess_param=parameter,\n",
    "        F_obj=F_obj,\n",
    "        fx=chi2,\n",
    "        gx=g_obj,\n",
    "        noise=2.0 * dataset.theo_noise,\n",
    "        verbose=False\n",
    "    )\n",
    "else:\n",
    "    opt = FISTA(\n",
    "        guess_param=parameter,\n",
    "        F_obj=F_obj,\n",
    "        fx=chi2,\n",
    "        gx=g_obj,\n",
    "        noise=dataset.theo_noise,\n",
    "        verbose=False\n",
    "    )\n",
    "#opt = FISTA(i_guess=F_real, F_obj=F_obj, fx=chi2, gx=g_obj, maxiter=1000, noise=1e-5, verbose=True)\n",
    "obj, X = opt.run()\n",
    "print(obj)"
   ]
  },
  {
   "cell_type": "code",
   "execution_count": null,
   "id": "eeeb6002",
   "metadata": {
    "ExecuteTime": {
     "end_time": "2022-10-07T19:58:03.104162Z",
     "start_time": "2022-10-07T19:58:03.104155Z"
    },
    "pycharm": {
     "name": "#%%\n"
    }
   },
   "outputs": [],
   "source": [
    "if wav is not None:\n",
    "    plt.plot(X.data)"
   ]
  },
  {
   "cell_type": "code",
   "execution_count": null,
   "id": "ad29bc79",
   "metadata": {
    "ExecuteTime": {
     "end_time": "2022-10-07T19:58:03.104727Z",
     "start_time": "2022-10-07T19:58:03.104721Z"
    },
    "pycharm": {
     "name": "#%%\n"
    }
   },
   "outputs": [],
   "source": [
    "if wav is not None:\n",
    "    X.data = wav.reconstruct(X.data)\n",
    "X.real_data_to_complex()"
   ]
  },
  {
   "cell_type": "code",
   "execution_count": null,
   "id": "6446e4a4",
   "metadata": {
    "ExecuteTime": {
     "end_time": "2022-10-07T19:58:03.105601Z",
     "start_time": "2022-10-07T19:58:03.105594Z"
    },
    "pycharm": {
     "name": "#%%\n"
    }
   },
   "outputs": [],
   "source": [
    "plt.plot(dataset.lambda2, dataset.residual.real, 'k.', label=r\"Stokes $Q$\")\n",
    "plt.plot(dataset.lambda2, dataset.residual.imag, 'c.', label=r\"Stokes $U$\")\n",
    "plt.plot(dataset.lambda2, np.abs(dataset.residual), 'g.', label=r\"$|P|$\")"
   ]
  },
  {
   "cell_type": "code",
   "execution_count": null,
   "id": "091c15bb",
   "metadata": {
    "ExecuteTime": {
     "end_time": "2022-10-07T19:58:03.106144Z",
     "start_time": "2022-10-07T19:58:03.106137Z"
    },
    "pycharm": {
     "name": "#%%\n"
    }
   },
   "outputs": [],
   "source": [
    "plt.plot(dataset.lambda2, dataset.model_data.real, 'k.', label=r\"Stokes $Q$\")\n",
    "plt.plot(dataset.lambda2, dataset.model_data.imag, 'c.', label=r\"Stokes $U$\")\n",
    "plt.plot(dataset.lambda2, np.abs(dataset.model_data), 'g.', label=r\"$|P|$\")"
   ]
  },
  {
   "cell_type": "code",
   "execution_count": null,
   "id": "a863286f",
   "metadata": {
    "ExecuteTime": {
     "end_time": "2022-10-07T19:58:03.106631Z",
     "start_time": "2022-10-07T19:58:03.106625Z"
    },
    "pycharm": {
     "name": "#%%\n"
    }
   },
   "outputs": [],
   "source": [
    "sigma_res = 0.5 * (np.std(dataset.residual.real) + np.std(dataset.residual.imag))"
   ]
  },
  {
   "cell_type": "code",
   "execution_count": null,
   "id": "1f06c5e5",
   "metadata": {
    "ExecuteTime": {
     "end_time": "2022-10-07T19:58:03.107370Z",
     "start_time": "2022-10-07T19:58:03.107364Z"
    },
    "pycharm": {
     "name": "#%%\n"
    }
   },
   "outputs": [],
   "source": [
    "sigma_res * 1000.0"
   ]
  },
  {
   "cell_type": "code",
   "execution_count": null,
   "id": "12bc83bc",
   "metadata": {
    "ExecuteTime": {
     "end_time": "2022-10-07T19:58:03.107910Z",
     "start_time": "2022-10-07T19:58:03.107904Z"
    },
    "pycharm": {
     "name": "#%%\n"
    }
   },
   "outputs": [],
   "source": [
    "F_residual = dft.backward(dataset.residual)"
   ]
  },
  {
   "cell_type": "code",
   "execution_count": null,
   "id": "55125732",
   "metadata": {
    "ExecuteTime": {
     "end_time": "2022-10-07T19:58:03.108332Z",
     "start_time": "2022-10-07T19:58:03.108326Z"
    },
    "pycharm": {
     "name": "#%%\n"
    }
   },
   "outputs": [],
   "source": [
    "plt.plot(parameter.phi, F_residual.real, 'c--', label=r\"Stokes $Q$\")\n",
    "plt.plot(parameter.phi, F_residual.imag, 'c:', label=r\"Stokes $U$\")\n",
    "plt.plot(parameter.phi, np.abs(F_residual), '-', c='grey', label=r\"|P|\")\n",
    "#plt.plot([-200.,-200.],[0.,0.0035],ls='-',lw=2.,c='black')\n",
    "#plt.plot(parameter.phi,np.zeros(len(parameter.phi)),ls='-',lw=2.,c='black')\n",
    "plt.axhline(y=5 * dataset.theo_noise, color='crimson', alpha=0.7)\n",
    "plt.axhline(y=-5 * dataset.theo_noise, color='crimson', alpha=0.7)\n",
    "plt.xlabel(r'$\\phi$[rad m$^{-2}$]')\n",
    "plt.ylabel(r'Jy/beam m$^2$ rad$^{-1}$ rmtf$^{-1}$')\n",
    "plt.legend(loc='upper right')\n",
    "plt.xlim([-1000, 1000])\n",
    "plt.tight_layout()\n",
    "#plt.savefig(\"fds_sim1.png\", dpi=100)"
   ]
  },
  {
   "cell_type": "code",
   "execution_count": null,
   "id": "8e3af63c",
   "metadata": {
    "ExecuteTime": {
     "end_time": "2022-10-07T19:58:03.108823Z",
     "start_time": "2022-10-07T19:58:03.108817Z"
    },
    "pycharm": {
     "name": "#%%\n"
    }
   },
   "outputs": [],
   "source": [
    "rms_residual = 0.5 * (np.std(F_residual.real) + np.std(F_residual.imag))\n",
    "rms_residual * 1000.0"
   ]
  },
  {
   "cell_type": "code",
   "execution_count": null,
   "id": "518aada0",
   "metadata": {
    "ExecuteTime": {
     "end_time": "2022-10-07T19:58:03.109426Z",
     "start_time": "2022-10-07T19:58:03.109420Z"
    },
    "pycharm": {
     "name": "#%%\n"
    }
   },
   "outputs": [],
   "source": [
    "dataset.theo_noise * 1000.0"
   ]
  },
  {
   "cell_type": "code",
   "execution_count": null,
   "id": "4b0005f7",
   "metadata": {
    "ExecuteTime": {
     "end_time": "2022-10-07T19:58:03.110105Z",
     "start_time": "2022-10-07T19:58:03.110098Z"
    },
    "pycharm": {
     "name": "#%%\n"
    }
   },
   "outputs": [],
   "source": [
    "noise_F * 1000.0"
   ]
  },
  {
   "cell_type": "code",
   "execution_count": null,
   "id": "687fc6fb",
   "metadata": {
    "ExecuteTime": {
     "end_time": "2022-10-07T19:58:03.110551Z",
     "start_time": "2022-10-07T19:58:03.110545Z"
    },
    "pycharm": {
     "name": "#%%\n"
    }
   },
   "outputs": [],
   "source": [
    "applied_noise * 1000.0"
   ]
  },
  {
   "cell_type": "code",
   "execution_count": null,
   "id": "03f9840f",
   "metadata": {
    "ExecuteTime": {
     "end_time": "2022-10-07T19:58:03.111047Z",
     "start_time": "2022-10-07T19:58:03.111041Z"
    },
    "pycharm": {
     "name": "#%%\n"
    }
   },
   "outputs": [],
   "source": [
    "sigma_qu * 1000.0"
   ]
  },
  {
   "cell_type": "code",
   "execution_count": null,
   "id": "f3ca4ec5",
   "metadata": {
    "ExecuteTime": {
     "end_time": "2022-10-07T19:58:03.111510Z",
     "start_time": "2022-10-07T19:58:03.111504Z"
    },
    "pycharm": {
     "name": "#%%\n"
    }
   },
   "outputs": [],
   "source": [
    "model_2 = dft.backward(dataset.model_data)"
   ]
  },
  {
   "cell_type": "code",
   "execution_count": null,
   "id": "493573d7",
   "metadata": {
    "ExecuteTime": {
     "end_time": "2022-10-07T19:58:03.111974Z",
     "start_time": "2022-10-07T19:58:03.111968Z"
    },
    "pycharm": {
     "name": "#%%\n"
    }
   },
   "outputs": [],
   "source": [
    "plt.plot(parameter.phi, model_2.real, 'c--', label=r\"Stokes $Q$\")\n",
    "plt.plot(parameter.phi, model_2.imag, 'c:', label=r\"Stokes $U$\")\n",
    "plt.plot(parameter.phi, np.abs(model_2), '-', c='grey', label=r\"|P|\")\n",
    "#plt.plot([-200.,-200.],[0.,0.0035],ls='-',lw=2.,c='black')\n",
    "#plt.plot(parameter.phi,np.zeros(len(parameter.phi)),ls='-',lw=2.,c='black')\n",
    "plt.xlabel(r'$\\phi$[rad m$^{-2}$]')\n",
    "plt.ylabel(r'Jy/beam m$^2$ rad$^{-1}$ rmtf$^{-1}$')\n",
    "plt.legend(loc='upper right')\n",
    "plt.xlim([-1000, 1000])\n",
    "plt.tight_layout()\n",
    "#plt.savefig(\"fds_sim1.png\", dpi=100)"
   ]
  },
  {
   "cell_type": "code",
   "execution_count": null,
   "id": "80fbf1ca",
   "metadata": {
    "ExecuteTime": {
     "end_time": "2022-10-07T19:58:03.112450Z",
     "start_time": "2022-10-07T19:58:03.112444Z"
    },
    "pycharm": {
     "name": "#%%\n"
    }
   },
   "outputs": [],
   "source": [
    "residual_faraday = F_dirty - model_2"
   ]
  },
  {
   "cell_type": "code",
   "execution_count": null,
   "id": "608e869e",
   "metadata": {
    "ExecuteTime": {
     "end_time": "2022-10-07T19:58:03.112951Z",
     "start_time": "2022-10-07T19:58:03.112944Z"
    },
    "pycharm": {
     "name": "#%%\n"
    }
   },
   "outputs": [],
   "source": [
    "conv_model = X.convolve() + F_residual"
   ]
  },
  {
   "cell_type": "code",
   "execution_count": null,
   "id": "ab06d831",
   "metadata": {
    "ExecuteTime": {
     "end_time": "2022-10-07T19:58:03.113356Z",
     "start_time": "2022-10-07T19:58:03.113350Z"
    },
    "pycharm": {
     "name": "#%%\n"
    }
   },
   "outputs": [],
   "source": [
    "fig = plt.figure(figsize=(18, 5))\n",
    "#fig, ax = plt.subplots(ncols=3, nrows=1, figsize=(18, 5))\n",
    "ax1 = fig.add_subplot(1, 3, 1)\n",
    "ax1.plot(original_source.lambda2, original_source.data.real, 'c--', label=r\"Stokes $Q$\")\n",
    "ax1.plot(original_source.lambda2, original_source.data.imag, 'c:', label=r\"Stokes $U$\")\n",
    "ax1.plot(original_source.lambda2, np.abs(original_source.data), '.', color=\"grey\", label=r\"$|P|$\")\n",
    "ax1.set_xlabel(r'$\\lambda^2$[m$^{2}$]')\n",
    "ax1.set_ylabel(r'Jy/beam')\n",
    "\n",
    "ax2 = fig.add_subplot(1, 3, 2)\n",
    "ax2.plot(original_parameter.phi, F_dirty_original.real, 'c--', label=r\"Stokes $Q$\")\n",
    "ax2.plot(original_parameter.phi, F_dirty_original.imag, 'c:', label=r\"Stokes $U$\")\n",
    "ax2.plot(original_parameter.phi, np.abs(F_dirty_original), '-', c='grey', label=r\"|P|\")\n",
    "ax2.plot(original_parameter.phi, np.zeros(len(original_parameter.phi)), ls='-', lw=2., c='black')\n",
    "#ax2.axhline (y = 5*original_source.theo_noise*1000.0, color = 'crimson', alpha=0.7)\n",
    "#ax2.axhline (y = -5*original_source.theo_noise*1000.0, color = 'crimson', alpha=0.7)\n",
    "ax2.set_xlabel(r'$\\phi$[rad m$^{-2}$]')\n",
    "ax2.set_ylabel(r'Jy/beam m$^2$ rad$^{-1}$ rmtf$^{-1}$')\n",
    "ax2.set_xlim([-1000, 1000])\n",
    "\n",
    "ax3 = fig.add_subplot(1, 3, 3, sharex=ax2, sharey=ax2)\n",
    "ax3.plot(parameter.phi, conv_model.real, 'c--', label=r\"Stokes $Q$\")\n",
    "ax3.plot(parameter.phi, conv_model.imag, 'c:', label=r\"Stokes $U$\")\n",
    "ax3.plot(parameter.phi, np.abs(conv_model), '-', c='grey', label=r\"$|P|$\")\n",
    "\n",
    "ax3.plot(parameter.phi, np.zeros(len(parameter.phi)), ls='-', lw=2., c='black')\n",
    "#ax3.set_xlim([-1000,1000])\n",
    "ax3.axhline(y=5 * dataset.theo_noise, color='crimson', alpha=0.7)\n",
    "ax3.axhline(y=-5 * dataset.theo_noise, color='crimson', alpha=0.7)\n",
    "ax3.set_xlabel(r'$\\phi$[rad m$^{-2}$]')\n",
    "ax3.set_ylabel(r'Jy/beam m$^2$ rad$^{-1}$ rmtf$^{-1}$')\n",
    "\n",
    "handles, labels = ax3.get_legend_handles_labels()\n",
    "legend = fig.legend(handles, labels, loc=\"upper right\", borderaxespad=0)\n",
    "legend.get_frame().set_alpha(1.0)\n",
    "fig.tight_layout()\n",
    "fig.savefig(\"thinthicksource.pdf\", dpi=500)"
   ]
  },
  {
   "cell_type": "code",
   "execution_count": null,
   "id": "b33114ef",
   "metadata": {
    "ExecuteTime": {
     "end_time": "2022-10-07T19:58:03.114155Z",
     "start_time": "2022-10-07T19:58:03.114148Z"
    },
    "pycharm": {
     "name": "#%%\n"
    }
   },
   "outputs": [],
   "source": [
    "plt.plot(parameter.phi, residual_faraday.real, 'c--', label=r\"Stokes $Q$\")\n",
    "plt.plot(parameter.phi, residual_faraday.imag, 'c:', label=r\"Stokes $U$\")\n",
    "plt.plot(parameter.phi, np.abs(residual_faraday), '-', c='grey', label=r\"$|P|$\")\n",
    "#plt.plot([-200.,-200.],[0.,0.0035],ls='-',lw=2.,c='black')\n",
    "#plt.plot(parameter.phi,np.zeros(len(parameter.phi)),ls='-',lw=2.,c='black')\n",
    "plt.axhline(y=5 * dataset.theo_noise, color='crimson', alpha=0.7)\n",
    "plt.axhline(y=-5 * dataset.theo_noise, color='crimson', alpha=0.7)\n",
    "plt.xlabel(r'$\\phi$[rad m$^{-2}$]')\n",
    "plt.ylabel(r'Jy/beam m$^2$ rad$^{-1}$ rmtf$^{-1}$')\n",
    "plt.legend(loc='upper right')\n",
    "plt.xlim([-1000, 1000])\n",
    "plt.tight_layout()\n",
    "#plt.savefig(\"fds_sim1.png\", dpi=100)"
   ]
  },
  {
   "cell_type": "code",
   "execution_count": null,
   "id": "8bc518c9",
   "metadata": {
    "ExecuteTime": {
     "end_time": "2022-10-07T19:58:03.114634Z",
     "start_time": "2022-10-07T19:58:03.114627Z"
    },
    "pycharm": {
     "name": "#%%\n"
    }
   },
   "outputs": [],
   "source": [
    "plt.plot(parameter.phi, conv_model.real, 'c--', label=r\"Stokes $Q$\")\n",
    "plt.plot(parameter.phi, conv_model.imag, 'c:', label=r\"Stokes $U$\")\n",
    "plt.plot(parameter.phi, np.abs(conv_model), 'k-', label=r\"$|P|$\")\n",
    "plt.plot([-200., -200.], [0., 0.0035], ls='-', lw=2., c='black')\n",
    "plt.plot(parameter.phi, np.zeros(len(parameter.phi)), ls='-', lw=2., c='black')\n",
    "plt.xlim([-1000, 1000])\n",
    "plt.axhline(y=5 * noise_F, color='b')\n",
    "plt.axhline(y=-5 * noise_F, color='b')\n",
    "plt.xlabel(r'$\\phi$[rad m$^{-2}$]')\n",
    "plt.ylabel(r'Jy/beam m$^2$ rad$^{-1}$ rmtf$^{-1}$')\n",
    "plt.legend(loc='upper right')\n",
    "plt.tight_layout()\n",
    "#plt.savefig(\"restored.png\", dpi=100)"
   ]
  },
  {
   "cell_type": "code",
   "execution_count": null,
   "id": "78d95348",
   "metadata": {
    "ExecuteTime": {
     "end_time": "2022-10-07T19:58:03.115393Z",
     "start_time": "2022-10-07T19:58:03.115387Z"
    },
    "pycharm": {
     "name": "#%%\n"
    }
   },
   "outputs": [],
   "source": [
    "np.nanmax(np.abs(conv_model))"
   ]
  },
  {
   "cell_type": "code",
   "execution_count": null,
   "id": "3ec3b41a",
   "metadata": {
    "ExecuteTime": {
     "end_time": "2022-10-07T19:58:03.115804Z",
     "start_time": "2022-10-07T19:58:03.115798Z"
    },
    "pycharm": {
     "name": "#%%\n"
    }
   },
   "outputs": [],
   "source": [
    "P = np.sqrt(np.max(np.abs(conv_model))**2 - (2.3 * rms_residual**2))"
   ]
  },
  {
   "cell_type": "code",
   "execution_count": null,
   "id": "c33691de",
   "metadata": {
    "ExecuteTime": {
     "end_time": "2022-10-07T19:58:03.116398Z",
     "start_time": "2022-10-07T19:58:03.116392Z"
    },
    "pycharm": {
     "name": "#%%\n"
    }
   },
   "outputs": [],
   "source": [
    "parameter.rmtf_fwhm / (2 * P / rms_residual)"
   ]
  },
  {
   "cell_type": "code",
   "execution_count": null,
   "id": "98b617ea",
   "metadata": {
    "ExecuteTime": {
     "end_time": "2022-10-07T19:58:03.116811Z",
     "start_time": "2022-10-07T19:58:03.116804Z"
    },
    "pycharm": {
     "name": "#%%\n"
    }
   },
   "outputs": [],
   "source": [
    "residual_1d = np.concatenate([residual_faraday.real, residual_faraday.imag])\n",
    "#residual_1d = np.concatenate([dataset.residual.real, dataset.residual.imag])\n",
    "stat, p = stats.jarque_bera(residual_1d)"
   ]
  },
  {
   "cell_type": "code",
   "execution_count": null,
   "id": "d8f4532c",
   "metadata": {
    "ExecuteTime": {
     "end_time": "2022-10-07T19:58:03.117400Z",
     "start_time": "2022-10-07T19:58:03.117394Z"
    },
    "pycharm": {
     "name": "#%%\n"
    }
   },
   "outputs": [],
   "source": [
    "print(\"stat={0:.3f}, p={1:.3f}\".format(stat, p))"
   ]
  },
  {
   "cell_type": "code",
   "execution_count": null,
   "id": "49334fa9",
   "metadata": {
    "ExecuteTime": {
     "end_time": "2022-10-07T19:58:03.118026Z",
     "start_time": "2022-10-07T19:58:03.118020Z"
    },
    "pycharm": {
     "name": "#%%\n"
    }
   },
   "outputs": [],
   "source": [
    "p"
   ]
  },
  {
   "cell_type": "code",
   "execution_count": null,
   "id": "b30a533b",
   "metadata": {
    "ExecuteTime": {
     "end_time": "2022-10-07T19:58:03.118451Z",
     "start_time": "2022-10-07T19:58:03.118445Z"
    },
    "pycharm": {
     "name": "#%%\n"
    }
   },
   "outputs": [],
   "source": [
    "if p > 0.05:\n",
    "    print(\"Probably Gaussian\")\n",
    "else:\n",
    "    print(\"Probably not Gaussian\")"
   ]
  },
  {
   "cell_type": "code",
   "execution_count": null,
   "id": "5a9e61af",
   "metadata": {
    "ExecuteTime": {
     "end_time": "2022-10-07T19:58:03.119100Z",
     "start_time": "2022-10-07T19:58:03.119094Z"
    },
    "pycharm": {
     "name": "#%%\n"
    }
   },
   "outputs": [],
   "source": [
    "residual_all = np.concatenate([F_residual.real, F_residual.imag]) * 1000.0"
   ]
  },
  {
   "cell_type": "code",
   "execution_count": null,
   "id": "bc2e3cfb",
   "metadata": {
    "ExecuteTime": {
     "end_time": "2022-10-07T19:58:03.119746Z",
     "start_time": "2022-10-07T19:58:03.119740Z"
    },
    "pycharm": {
     "name": "#%%\n"
    }
   },
   "outputs": [],
   "source": [
    "frequency, bins = np.histogram(residual_all, bins=\"auto\", density=True)\n",
    "frequency /= np.max(frequency)\n",
    "xmin = np.min(bins)\n",
    "xmax = np.max(bins)\n",
    "dist = np.abs(xmax - xmin)\n",
    "x = np.linspace(xmin, xmax, 100)\n",
    "p = norm.pdf(x, 0.0, dataset.theo_noise * 1000.0)\n",
    "p /= np.max(p)"
   ]
  },
  {
   "cell_type": "code",
   "execution_count": null,
   "id": "fdbdbe64",
   "metadata": {
    "ExecuteTime": {
     "end_time": "2022-10-07T19:58:03.120215Z",
     "start_time": "2022-10-07T19:58:03.120209Z"
    },
    "pycharm": {
     "name": "#%%\n"
    }
   },
   "outputs": [],
   "source": [
    "fig, ax = plt.subplots(nrows=2, ncols=4, sharex='row', figsize=(20, 10))\n",
    "\n",
    "# Data\n",
    "ax[0, 0].plot(dataset.lambda2, dataset.data.real * 1000.0, 'k.', label=r\"Stokes $Q$\")\n",
    "ax[0, 0].plot(dataset.lambda2, dataset.data.imag * 1000.0, 'c.', label=r\"Stokes $U$\")\n",
    "ax[0, 0].plot(dataset.lambda2, np.abs(dataset.data) * 1000.0, 'g.', label=r\"$|P|$\")\n",
    "ax[0, 0].set_xlabel(r'$\\lambda^2$[m$^{2}$]')\n",
    "ax[0, 0].set_ylabel(r'mJy/beam')\n",
    "ax[0, 0].title.set_text(\"Data\")\n",
    "\n",
    "ax[1, 0].plot(parameter.phi, F_dirty.real * 1000.0, 'c--', label=r\"Stokes $Q$\")\n",
    "ax[1, 0].plot(parameter.phi, F_dirty.imag * 1000.0, 'c:', label=r\"Stokes $U$\")\n",
    "ax[1, 0].plot(parameter.phi, np.abs(F_dirty) * 1000.0, 'k-', label=r\"|P|\")\n",
    "ax[1, 0].set_xlabel(r'$\\phi$[rad m$^{-2}$]')\n",
    "ax[1, 0].set_ylabel(r'mJy/beam m$^2$ rad$^{-1}$ rmtf$^{-1}$')\n",
    "ax[1, 0].set_xlim([-1000, 1000])\n",
    "\n",
    "# Model\n",
    "ax[0, 1].plot(dataset.lambda2, dataset.model_data.real * 1000.0, 'k.', label=r\"Stokes $Q$\")\n",
    "ax[0, 1].plot(dataset.lambda2, dataset.model_data.imag * 1000.0, 'c.', label=r\"Stokes $U$\")\n",
    "ax[0, 1].plot(dataset.lambda2, np.abs(dataset.model_data) * 1000.0, 'g.', label=r\"$|P|$\")\n",
    "ax[0, 1].set_xlabel(r'$\\lambda^2$[m$^{2}$]')\n",
    "ax[0, 1].set_ylabel(r'mJy/beam')\n",
    "ax[0, 1].title.set_text(\"Model\")\n",
    "# Model\n",
    "ax[1, 1].plot(parameter.phi, X.data.real * 1000.0, 'c--', label=r\"Stokes $Q$\")\n",
    "ax[1, 1].plot(parameter.phi, X.data.imag * 1000.0, 'c:', label=r\"Stokes $U$\")\n",
    "ax[1, 1].plot(parameter.phi, np.abs(X.data) * 1000.0, 'k-', label=r\"$|P|$\")\n",
    "ax[1, 1].set_xlabel(r'$\\phi$[rad m$^{-2}$]')\n",
    "ax[1, 1].set_ylabel(r'mJy/beam m$^2$ rad$^{-1}$ pix$^{-1}$')\n",
    "ax[1, 1].set_xlim([-1000, 1000])\n",
    "\n",
    "# Residual\n",
    "\n",
    "ax[0, 2].plot(dataset.lambda2, dataset.residual.real * 1000.0, 'k.', label=r\"Stokes $Q$\")\n",
    "ax[0, 2].plot(dataset.lambda2, dataset.residual.imag * 1000.0, 'c.', label=r\"Stokes $U$\")\n",
    "ax[0, 2].plot(dataset.lambda2, np.abs(dataset.residual) * 1000.0, 'g.', label=r\"$|P|$\")\n",
    "ax[0, 2].set_xlabel(r'$\\lambda^2$[m$^{2}$]')\n",
    "ax[0, 2].set_ylabel(r'mJy/beam')\n",
    "ax[0, 2].title.set_text(\"Residuals\")\n",
    "\n",
    "ax[0, 3].get_shared_x_axes().remove(ax[0, 3])\n",
    "# Create and assign new ticker\n",
    "xticker = matplotlib.axis.Ticker()\n",
    "ax[0, 3].xaxis.major = xticker\n",
    "\n",
    "# The new ticker needs new locator and formatters\n",
    "xloc = matplotlib.ticker.AutoLocator()\n",
    "xfmt = matplotlib.ticker.ScalarFormatter()\n",
    "\n",
    "ax[0, 3].xaxis.set_major_locator(xloc)\n",
    "ax[0, 3].xaxis.set_major_formatter(xfmt)\n",
    "\n",
    "ax[0, 3].bar(bins[:-1], frequency, width=dist / 20, alpha=0.3)\n",
    "ax[0, 3].plot(x, p, 'crimson', linewidth=2)\n",
    "\n",
    "ax[1, 2].plot(parameter.phi, F_residual.real * 1000.0, 'c--', label=r\"Stokes $Q$\")\n",
    "ax[1, 2].plot(parameter.phi, F_residual.imag * 1000.0, 'c:', label=r\"Stokes $U$\")\n",
    "ax[1, 2].plot(parameter.phi, np.abs(F_residual) * 1000.0, 'k-', label=r\"$|P|$\")\n",
    "ax[1, 2].axhline(y=5 * dataset.theo_noise * 1000.0, color='b')\n",
    "ax[1, 2].axhline(y=-5 * dataset.theo_noise * 1000.0, color='b')\n",
    "ax[1, 2].set_xlabel(r'$\\phi$[rad m$^{-2}$]')\n",
    "ax[1, 2].set_ylabel(r'mJy/beam m$^2$ rad$^{-1}$ rmtf$^{-1}$')\n",
    "ax[1, 2].set_xlim([-1000, 1000])\n",
    "\n",
    "ax[1, 3].plot(parameter.phi, conv_model.real * 1000.0, 'c--', label=r\"Stokes $Q$\")\n",
    "ax[1, 3].plot(parameter.phi, conv_model.imag * 1000.0, 'c:', label=r\"Stokes $U$\")\n",
    "ax[1, 3].plot(parameter.phi, np.abs(conv_model) * 1000.0, 'k-', label=r\"$|P|$\")\n",
    "ax[1, 3].axhline(y=5 * dataset.theo_noise * 1000.0, color='b')\n",
    "ax[1, 3].axhline(y=-5 * dataset.theo_noise * 1000.0, color='b')\n",
    "ax[1, 3].set_xlim([-1000, 1000])\n",
    "ax[1, 3].set_xlabel(r'$\\phi$[rad m$^{-2}$]')\n",
    "ax[1, 3].set_ylabel(r'mJy/beam m$^2$ rad$^{-1}$ rmtf$^{-1}$')\n",
    "ax[1, 3].title.set_text(\"Restored\")\n",
    "\n",
    "title = \"Scenario 3 - \"\n",
    "\"\"\"\n",
    "if isinstance(dataset, FaradayThinSource):\n",
    "    title += \"Scenario 1 - \"\n",
    "elif isinstance(dataset, FaradayThickSource):\n",
    "    title += \"Scenario 2 - \"\n",
    "else:\n",
    "    title += \"Scenario 3 - \"\n",
    "\"\"\"\n",
    "if wav is None:\n",
    "    title += \"Delta function basis \"\n",
    "else:\n",
    "    if isinstance(wav, DiscreteWavelet):\n",
    "        if wav.append_signal is True:\n",
    "            title += \"Delta function basis + {0} discrete wavelet \".format(wav.wavelet_name)\n",
    "        else:\n",
    "            title += \"{0} discrete wavelet \".format(wav.wavelet_name)\n",
    "    else:\n",
    "        if wav.append_signal is True:\n",
    "            title += \"Delta function basis + {0} undecimated wavelet \".format(wav.wavelet_name)\n",
    "        else:\n",
    "            title += \"{0} undecimated wavelet \".format(wav.wavelet_name)\n",
    "\"\"\"\n",
    "if wav is None:\n",
    "    title += \"- Delta function basis \"\n",
    "else:\n",
    "    if isinstance(wav, DiscreteWavelet):\n",
    "        if wav.append_signal is True:\n",
    "            title += \"- Delta function basis + {0} discrete wavelet \".format(wav.wavelet_name)\n",
    "        else:\n",
    "            title += \"- {0} discrete wavelet \".format(wav.wavelet_name)\n",
    "    else:\n",
    "        if wav.append_signal is True:\n",
    "            title += \"- Delta function basis + {0} undecimated wavelet \".format(wav.wavelet_name)\n",
    "        else:\n",
    "            title += \"- {0} undecimated wavelet \".format(wav.wavelet_name)\n",
    "\n",
    "if (dataset.w == dataset.w[0]).all():\n",
    "    title += \"uniform weights equal to {0:.3f}\".format(dataset.w[0])   \n",
    "else:\n",
    "    title += \"natural weights \"\n",
    "\n",
    "\n",
    "\n",
    "\n",
    "\"\"\"\n",
    "fig.suptitle(title)\n",
    "fig.tight_layout()"
   ]
  },
  {
   "cell_type": "code",
   "execution_count": null,
   "id": "5626b605",
   "metadata": {},
   "outputs": [],
   "source": []
  }
 ],
 "metadata": {
  "kernelspec": {
   "display_name": "Python 3 (ipykernel)",
   "language": "python",
   "name": "python3"
  },
  "language_info": {
   "codemirror_mode": {
    "name": "ipython",
    "version": 3
   },
   "file_extension": ".py",
   "mimetype": "text/x-python",
   "name": "python",
   "nbconvert_exporter": "python",
   "pygments_lexer": "ipython3",
   "version": "3.10.7"
  },
  "latex_envs": {
   "LaTeX_envs_menu_present": true,
   "autoclose": false,
   "autocomplete": true,
   "bibliofile": "biblio.bib",
   "cite_by": "apalike",
   "current_citInitial": 1,
   "eqLabelWithNumbers": true,
   "eqNumInitial": 1,
   "hotkeys": {
    "equation": "Ctrl-E",
    "itemize": "Ctrl-I"
   },
   "labels_anchors": false,
   "latex_user_defs": false,
   "report_style_numbering": false,
   "user_envs_cfg": false
  },
  "toc": {
   "base_numbering": 1,
   "nav_menu": {},
   "number_sections": true,
   "sideBar": true,
   "skip_h1_title": false,
   "title_cell": "Table of Contents",
   "title_sidebar": "Contents",
   "toc_cell": false,
   "toc_position": {},
   "toc_section_display": true,
   "toc_window_display": false
  },
  "varInspector": {
   "cols": {
    "lenName": 16,
    "lenType": 16,
    "lenVar": 40
   },
   "kernels_config": {
    "python": {
     "delete_cmd_postfix": "",
     "delete_cmd_prefix": "del ",
     "library": "var_list.py",
     "varRefreshCmd": "print(var_dic_list())"
    },
    "r": {
     "delete_cmd_postfix": ") ",
     "delete_cmd_prefix": "rm(",
     "library": "var_list.r",
     "varRefreshCmd": "cat(var_dic_list()) "
    }
   },
   "types_to_exclude": [
    "module",
    "function",
    "builtin_function_or_method",
    "instance",
    "_Feature"
   ],
   "window_display": false
  }
 },
 "nbformat": 4,
 "nbformat_minor": 5
}
