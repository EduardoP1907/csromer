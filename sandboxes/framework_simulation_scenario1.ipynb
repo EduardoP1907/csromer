{
 "cells": [
  {
   "cell_type": "code",
   "execution_count": 2,
   "id": "01df5827",
   "metadata": {
    "ExecuteTime": {
     "end_time": "2022-06-13T12:39:38.669771Z",
     "start_time": "2022-06-13T12:39:38.558675Z"
    }
   },
   "outputs": [
    {
     "name": "stdout",
     "output_type": "stream",
     "text": [
      "Python 3.10.5\r\n"
     ]
    }
   ],
   "source": [
    "!python --version"
   ]
  },
  {
   "cell_type": "code",
   "execution_count": 1,
   "id": "71d19339",
   "metadata": {
    "ExecuteTime": {
     "end_time": "2022-06-13T12:38:40.454412Z",
     "start_time": "2022-06-13T12:38:39.618709Z"
    }
   },
   "outputs": [
    {
     "ename": "ModuleNotFoundError",
     "evalue": "No module named 'csromer'",
     "output_type": "error",
     "traceback": [
      "\u001b[0;31m---------------------------------------------------------------------------\u001b[0m",
      "\u001b[0;31mModuleNotFoundError\u001b[0m                       Traceback (most recent call last)",
      "Input \u001b[0;32mIn [1]\u001b[0m, in \u001b[0;36m<cell line: 15>\u001b[0;34m()\u001b[0m\n\u001b[1;32m     12\u001b[0m \u001b[38;5;28;01mfrom\u001b[39;00m \u001b[38;5;21;01mscipy\u001b[39;00m\u001b[38;5;21;01m.\u001b[39;00m\u001b[38;5;21;01mconstants\u001b[39;00m \u001b[38;5;28;01mimport\u001b[39;00m c\n\u001b[1;32m     13\u001b[0m \u001b[38;5;28;01mfrom\u001b[39;00m \u001b[38;5;21;01mscipy\u001b[39;00m\u001b[38;5;21;01m.\u001b[39;00m\u001b[38;5;21;01mstats\u001b[39;00m \u001b[38;5;28;01mimport\u001b[39;00m median_abs_deviation, norm\n\u001b[0;32m---> 15\u001b[0m \u001b[38;5;28;01mfrom\u001b[39;00m \u001b[38;5;21;01mcsromer\u001b[39;00m\u001b[38;5;21;01m.\u001b[39;00m\u001b[38;5;21;01mbase\u001b[39;00m \u001b[38;5;28;01mimport\u001b[39;00m Dataset\n\u001b[1;32m     16\u001b[0m \u001b[38;5;28;01mfrom\u001b[39;00m \u001b[38;5;21;01mcsromer\u001b[39;00m\u001b[38;5;21;01m.\u001b[39;00m\u001b[38;5;21;01mdictionaries\u001b[39;00m \u001b[38;5;28;01mimport\u001b[39;00m DiscreteWavelet, UndecimatedWavelet\n\u001b[1;32m     17\u001b[0m \u001b[38;5;28;01mfrom\u001b[39;00m \u001b[38;5;21;01mcsromer\u001b[39;00m\u001b[38;5;21;01m.\u001b[39;00m\u001b[38;5;21;01mio\u001b[39;00m \u001b[38;5;28;01mimport\u001b[39;00m Reader, Writer\n",
      "\u001b[0;31mModuleNotFoundError\u001b[0m: No module named 'csromer'"
     ]
    }
   ],
   "source": [
    "import copy\n",
    "import itertools\n",
    "import time\n",
    "\n",
    "import matplotlib\n",
    "import matplotlib.pyplot as plt\n",
    "import numpy as np\n",
    "from IPython.display import clear_output\n",
    "from pynufft import NUFFT\n",
    "from scipy import signal as sci_signal\n",
    "from scipy import stats\n",
    "from scipy.constants import c\n",
    "from scipy.stats import median_abs_deviation, norm\n",
    "\n",
    "from csromer.base import Dataset\n",
    "from csromer.dictionaries import DiscreteWavelet, UndecimatedWavelet\n",
    "from csromer.io import Reader, Writer\n",
    "from csromer.objectivefunction import L1, TSV, TV, Chi2, OFunction\n",
    "from csromer.optimization import ADMM, FISTA, SDMM, GradientBasedMethod\n",
    "from csromer.reconstruction import Parameter\n",
    "from csromer.simulation import FaradayThickSource, FaradayThinSource\n",
    "from csromer.transformers import DFT1D, NUFFT1D, Gridding\n",
    "from csromer.utils import Gaussian, complex_to_real, real_to_complex"
   ]
  },
  {
   "cell_type": "code",
   "execution_count": null,
   "id": "aad05405",
   "metadata": {
    "ExecuteTime": {
     "end_time": "2022-06-13T12:33:27.281547Z",
     "start_time": "2022-06-13T12:33:27.281540Z"
    }
   },
   "outputs": [],
   "source": [
    "def chi2_calc(residuals):\n",
    "    if residuals.dtype == np.complex64 or residuals.dtype == np.complex128:\n",
    "        data = (residuals.real * residuals.real) + (residuals.imag * residuals.imag)\n",
    "    else:\n",
    "        data = residuals**2\n",
    "    return np.sum(data)"
   ]
  },
  {
   "cell_type": "code",
   "execution_count": null,
   "id": "6d90a423",
   "metadata": {
    "ExecuteTime": {
     "end_time": "2022-06-13T12:33:18.034901Z",
     "start_time": "2022-06-13T12:33:18.034895Z"
    }
   },
   "outputs": [],
   "source": [
    "def aicbic(residuals_coeffs, x_coeffs):\n",
    "    rss = chi2_calc(residuals)\n",
    "    if x.dtype == np.complex64 or x.dtype == np.complex128:\n",
    "        df = np.count_nonzero(x.real) + np.count_nonzero(x.imag)\n",
    "    else:\n",
    "        df = np.count_nonzero(x)\n",
    "    l = len(residuals)\n",
    "    return l * np.log(rss / l) + 2 * df, l * np.log(rss / l) + df * np.log(l)"
   ]
  },
  {
   "cell_type": "code",
   "execution_count": null,
   "id": "a7cdb152",
   "metadata": {
    "ExecuteTime": {
     "end_time": "2022-06-13T12:33:18.039660Z",
     "start_time": "2022-06-13T12:33:18.039653Z"
    }
   },
   "outputs": [],
   "source": [
    "def aicbic(residuals, x):\n",
    "    rss = chi2_calc(residuals)\n",
    "    if x.dtype == np.complex64 or x.dtype == np.complex128:\n",
    "        df = np.count_nonzero(x.real) + np.count_nonzero(x.imag)\n",
    "        lcoeffs = 2 * len(x)\n",
    "    else:\n",
    "        df = np.count_nonzero(x)\n",
    "        lcoeffs = len(x)\n",
    "    l = len(residuals)\n",
    "    print(\"len(coeffs):\", lcoeffs)\n",
    "    print(\"l:\", l)\n",
    "    print(\"df:\", df)\n",
    "    print(\"rss:\", rss)\n",
    "    print(\"rss/l\", rss / l)\n",
    "    print(\"log(rss/l)\", np.log(rss / l))\n",
    "    print(\"log(l)\", np.log(l))\n",
    "    return l * np.log(rss / l) + 2 * df, l * np.log(rss / l) + df * np.log(l)"
   ]
  },
  {
   "cell_type": "code",
   "execution_count": null,
   "id": "6f447fc3",
   "metadata": {
    "ExecuteTime": {
     "end_time": "2022-06-13T12:33:18.167719Z",
     "start_time": "2022-06-13T12:33:18.165969Z"
    }
   },
   "outputs": [],
   "source": [
    "np.random.seed(666)"
   ]
  },
  {
   "cell_type": "code",
   "execution_count": null,
   "id": "2b1f698e",
   "metadata": {
    "ExecuteTime": {
     "end_time": "2022-06-13T12:33:18.493204Z",
     "start_time": "2022-06-13T12:33:18.397395Z"
    }
   },
   "outputs": [],
   "source": [
    "# JVLA 1.008e9 2.031e9 1000\n",
    "#nu = np.linspace(start=1.008e9, stop=2.031e9, num=1000)\n",
    "nu = np.linspace(start=0.89e9, stop=1.681e9, num=1000)"
   ]
  },
  {
   "cell_type": "code",
   "execution_count": null,
   "id": "2feeb06e",
   "metadata": {
    "ExecuteTime": {
     "end_time": "2022-06-13T12:31:58.019568Z",
     "start_time": "2022-06-13T12:31:58.017084Z"
    }
   },
   "outputs": [],
   "source": [
    "peak_thinsource = 0.0035\n",
    "peak_thicksource = 0.0035"
   ]
  },
  {
   "cell_type": "code",
   "execution_count": null,
   "id": "e509e5bc",
   "metadata": {
    "ExecuteTime": {
     "end_time": "2022-06-13T12:31:58.632746Z",
     "start_time": "2022-06-13T12:31:58.630411Z"
    }
   },
   "outputs": [],
   "source": [
    "thinsource = FaradayThinSource(nu=nu, s_nu=peak_thinsource, phi_gal=-200, spectral_idx=0.7)"
   ]
  },
  {
   "cell_type": "code",
   "execution_count": null,
   "id": "bef0d552",
   "metadata": {
    "ExecuteTime": {
     "end_time": "2022-06-13T12:31:59.823469Z",
     "start_time": "2022-06-13T12:31:59.820021Z"
    }
   },
   "outputs": [],
   "source": [
    "#140 JVLA\n",
    "# 95 MeerKAT\n",
    "thicksource = FaradayThickSource(\n",
    "    nu=nu, s_nu=peak_thicksource, phi_fg=140, phi_center=200, spectral_idx=1.0\n",
    ")"
   ]
  },
  {
   "cell_type": "code",
   "execution_count": null,
   "id": "63d62855",
   "metadata": {
    "ExecuteTime": {
     "end_time": "2022-06-13T12:32:02.143085Z",
     "start_time": "2022-06-13T12:32:02.139820Z"
    }
   },
   "outputs": [],
   "source": [
    "thinsource.simulate()\n",
    "thicksource.simulate()"
   ]
  },
  {
   "cell_type": "code",
   "execution_count": null,
   "id": "116ef402",
   "metadata": {
    "ExecuteTime": {
     "end_time": "2022-06-13T12:32:03.728955Z",
     "start_time": "2022-06-13T12:32:03.727089Z"
    }
   },
   "outputs": [],
   "source": [
    "simsource = thinsource"
   ]
  },
  {
   "cell_type": "code",
   "execution_count": null,
   "id": "bb0580c1",
   "metadata": {
    "ExecuteTime": {
     "end_time": "2022-06-13T12:26:10.471229Z",
     "start_time": "2022-06-13T12:26:10.468644Z"
    }
   },
   "outputs": [],
   "source": [
    "original_source = copy.deepcopy(simsource)"
   ]
  },
  {
   "cell_type": "code",
   "execution_count": null,
   "id": "3548cb3f",
   "metadata": {
    "ExecuteTime": {
     "end_time": "2022-06-13T12:26:12.776999Z",
     "start_time": "2022-06-13T12:26:12.767822Z"
    }
   },
   "outputs": [],
   "source": [
    "remove_channels_seed = int(time.time())\n",
    "remove_channels_seed"
   ]
  },
  {
   "cell_type": "code",
   "execution_count": null,
   "id": "8d531c09",
   "metadata": {
    "ExecuteTime": {
     "end_time": "2022-06-13T12:26:15.194123Z",
     "start_time": "2022-06-13T12:26:15.188593Z"
    }
   },
   "outputs": [],
   "source": [
    "#simsource.remove_channels(0.1, np.random.RandomState(1648643337))\n",
    "#simsource.remove_channels(0.1, np.random.RandomState(1648650067))\n",
    "simsource.remove_channels(0.2)"
   ]
  },
  {
   "cell_type": "code",
   "execution_count": null,
   "id": "d28ebab4",
   "metadata": {
    "ExecuteTime": {
     "end_time": "2022-06-13T12:26:15.563410Z",
     "start_time": "2022-06-13T12:26:15.559785Z"
    }
   },
   "outputs": [],
   "source": [
    "peak_thinsource"
   ]
  },
  {
   "cell_type": "code",
   "execution_count": null,
   "id": "f1fe0b9a",
   "metadata": {
    "ExecuteTime": {
     "end_time": "2022-06-13T12:26:15.963979Z",
     "start_time": "2022-06-13T12:26:15.961875Z"
    }
   },
   "outputs": [],
   "source": [
    "applied_noise = 0.2 * peak_thinsource"
   ]
  },
  {
   "cell_type": "code",
   "execution_count": null,
   "id": "308f6613",
   "metadata": {
    "ExecuteTime": {
     "end_time": "2022-06-13T12:26:16.213507Z",
     "start_time": "2022-06-13T12:26:16.211030Z"
    }
   },
   "outputs": [],
   "source": [
    "applied_noise * 1000.0"
   ]
  },
  {
   "cell_type": "code",
   "execution_count": null,
   "id": "356a432d",
   "metadata": {
    "ExecuteTime": {
     "end_time": "2022-06-13T12:26:16.431732Z",
     "start_time": "2022-06-13T12:26:16.429849Z"
    }
   },
   "outputs": [],
   "source": [
    "#simsource.data = np.random.normal(loc=0.0, scale=applied_noise, size=simsource.m) + 1j * np.random.normal(loc=0.0, scale=applied_noise, size=simsource.m)"
   ]
  },
  {
   "cell_type": "code",
   "execution_count": null,
   "id": "3e1b2761",
   "metadata": {
    "ExecuteTime": {
     "end_time": "2022-06-13T12:26:17.045967Z",
     "start_time": "2022-06-13T12:26:17.043203Z"
    }
   },
   "outputs": [],
   "source": [
    "simsource.apply_noise(applied_noise)"
   ]
  },
  {
   "cell_type": "code",
   "execution_count": null,
   "id": "aad42582",
   "metadata": {
    "ExecuteTime": {
     "end_time": "2022-06-13T12:27:46.944267Z",
     "start_time": "2022-06-13T12:27:46.938628Z"
    }
   },
   "outputs": [],
   "source": [
    "simsource.sigma"
   ]
  },
  {
   "cell_type": "code",
   "execution_count": null,
   "id": "2076db37",
   "metadata": {
    "ExecuteTime": {
     "end_time": "2022-06-13T12:26:18.659968Z",
     "start_time": "2022-06-13T12:26:18.377372Z"
    }
   },
   "outputs": [],
   "source": [
    "plt.plot(simsource.lambda2, simsource.data.real, 'k.', label=r\"Stokes $Q$\")\n",
    "plt.plot(simsource.lambda2, simsource.data.imag, 'c.', label=r\"Stokes $U$\")\n",
    "plt.plot(simsource.lambda2, np.abs(simsource.data), 'g.', label=r\"$|P|$\")\n",
    "plt.xlabel(r'$\\lambda^2$[m$^{2}$]')\n",
    "plt.ylabel(r'Jy/beam')\n",
    "plt.legend(loc=(1.04, 0.755), fancybox=True, shadow=True)\n",
    "plt.tight_layout()\n",
    "#plt.ylim([-0.01,0.01])\n",
    "#plt.savefig(\"pol_sim1.png\", dpi=100)"
   ]
  },
  {
   "cell_type": "code",
   "execution_count": null,
   "id": "9d405a57",
   "metadata": {
    "ExecuteTime": {
     "end_time": "2022-05-27T00:12:23.904625Z",
     "start_time": "2022-05-27T00:12:23.902437Z"
    }
   },
   "outputs": [],
   "source": [
    "(simsource.m / original_source.m) * 100"
   ]
  },
  {
   "cell_type": "code",
   "execution_count": null,
   "id": "11f2af1e",
   "metadata": {
    "ExecuteTime": {
     "end_time": "2022-05-27T00:12:23.963715Z",
     "start_time": "2022-05-27T00:12:23.905361Z"
    }
   },
   "outputs": [],
   "source": [
    "sigma_qu = 0.5 * (np.std(simsource.data.real) + np.std(simsource.data.imag))\n",
    "sigma_qu"
   ]
  },
  {
   "cell_type": "code",
   "execution_count": null,
   "id": "d04a08cd",
   "metadata": {
    "ExecuteTime": {
     "end_time": "2022-05-27T00:12:24.170528Z",
     "start_time": "2022-05-27T00:12:23.964483Z"
    }
   },
   "outputs": [],
   "source": [
    "import astropy.units as u\n",
    "\n",
    "plt.plot(\n",
    "    simsource.lambda2,\n",
    "    simsource.calculate_polangle('data').to(u.deg),\n",
    "    'k.',\n",
    "    label=r\"Polarization angle\"\n",
    ")\n",
    "plt.xlabel(r'$\\lambda^2$[m$^{2}$]')\n",
    "plt.ylabel(r'Polarization angle (deg)')\n",
    "plt.legend(loc='upper right')\n",
    "plt.tight_layout()"
   ]
  },
  {
   "cell_type": "code",
   "execution_count": null,
   "id": "4389f066",
   "metadata": {
    "ExecuteTime": {
     "end_time": "2022-05-27T00:12:24.244044Z",
     "start_time": "2022-05-27T00:12:24.171409Z"
    }
   },
   "outputs": [],
   "source": [
    "plt.plot(simsource.lambda2, simsource.s, 'k.', label=r\"Spectral index\")\n",
    "plt.xlabel(r'$\\lambda^2$[m$^{2}$]')\n",
    "plt.ylabel(r'Unitless')\n",
    "plt.legend(loc='upper right')\n",
    "plt.tight_layout()"
   ]
  },
  {
   "cell_type": "code",
   "execution_count": null,
   "id": "2a35c6e1",
   "metadata": {
    "ExecuteTime": {
     "end_time": "2022-05-27T00:12:24.252251Z",
     "start_time": "2022-05-27T00:12:24.244873Z"
    }
   },
   "outputs": [],
   "source": [
    "dataset = simsource"
   ]
  },
  {
   "cell_type": "code",
   "execution_count": null,
   "id": "8797f242",
   "metadata": {
    "ExecuteTime": {
     "end_time": "2022-05-27T00:12:24.308545Z",
     "start_time": "2022-05-27T00:12:24.253146Z"
    }
   },
   "outputs": [],
   "source": [
    "parameter = Parameter()\n",
    "original_parameter = Parameter()"
   ]
  },
  {
   "cell_type": "code",
   "execution_count": null,
   "id": "aeb1afbe",
   "metadata": {
    "ExecuteTime": {
     "end_time": "2022-05-27T00:12:24.383048Z",
     "start_time": "2022-05-27T00:12:24.309407Z"
    }
   },
   "outputs": [],
   "source": [
    "original_parameter.calculate_cellsize(dataset=original_source, oversampling=8)"
   ]
  },
  {
   "cell_type": "code",
   "execution_count": null,
   "id": "8ebe2b87",
   "metadata": {
    "ExecuteTime": {
     "end_time": "2022-05-27T00:12:24.442232Z",
     "start_time": "2022-05-27T00:12:24.385689Z"
    }
   },
   "outputs": [],
   "source": [
    "parameter.calculate_cellsize(dataset=dataset, oversampling=8)"
   ]
  },
  {
   "cell_type": "code",
   "execution_count": null,
   "id": "b3b85184",
   "metadata": {
    "ExecuteTime": {
     "end_time": "2022-05-27T00:12:24.523647Z",
     "start_time": "2022-05-27T00:12:24.443283Z"
    }
   },
   "outputs": [],
   "source": [
    "nufft = NUFFT1D(dataset=dataset, parameter=parameter, solve=True)"
   ]
  },
  {
   "cell_type": "code",
   "execution_count": null,
   "id": "3adf7bed",
   "metadata": {
    "ExecuteTime": {
     "end_time": "2022-05-27T00:12:24.595614Z",
     "start_time": "2022-05-27T00:12:24.524840Z"
    }
   },
   "outputs": [],
   "source": [
    "dft = DFT1D(dataset=dataset, parameter=parameter)\n",
    "dft_original = DFT1D(dataset=original_source, parameter=original_parameter)"
   ]
  },
  {
   "cell_type": "code",
   "execution_count": null,
   "id": "e6543653",
   "metadata": {
    "ExecuteTime": {
     "end_time": "2022-05-27T00:12:25.148283Z",
     "start_time": "2022-05-27T00:12:24.597136Z"
    }
   },
   "outputs": [],
   "source": [
    "F_dirty = dft.backward(dataset.data)\n",
    "F_dirty_original = dft_original.backward(original_source.data)"
   ]
  },
  {
   "cell_type": "code",
   "execution_count": null,
   "id": "d0474456",
   "metadata": {
    "ExecuteTime": {
     "end_time": "2022-05-27T00:12:25.247640Z",
     "start_time": "2022-05-27T00:12:25.149332Z"
    },
    "scrolled": false
   },
   "outputs": [],
   "source": [
    "plt.plot(original_parameter.phi, F_dirty_original.real, 'c--', label=r\"Stokes $Q$\")\n",
    "plt.plot(original_parameter.phi, F_dirty_original.imag, 'c:', label=r\"Stokes $U$\")\n",
    "plt.plot(original_parameter.phi, np.abs(F_dirty_original), '-', c='grey', label=r\"|P|\")\n",
    "plt.plot([-200., -200.], [0., 0.0035], ls='-', lw=2., c='black')\n",
    "plt.plot(original_parameter.phi, np.zeros(len(original_parameter.phi)), ls='-', lw=2., c='black')\n",
    "plt.xlabel(r'$\\phi$[rad m$^{-2}$]')\n",
    "plt.ylabel(r'Jy/beam m$^2$ rad$^{-1}$ rmtf$^{-1}$')\n",
    "plt.legend(loc='upper right')\n",
    "plt.xlim([-1000, 1000])\n",
    "plt.tight_layout()\n",
    "#plt.savefig(\"fds_sim1.png\", dpi=100)"
   ]
  },
  {
   "cell_type": "code",
   "execution_count": null,
   "id": "41202cd3",
   "metadata": {
    "ExecuteTime": {
     "end_time": "2022-05-27T00:12:25.347827Z",
     "start_time": "2022-05-27T00:12:25.248705Z"
    }
   },
   "outputs": [],
   "source": [
    "plt.plot(parameter.phi, F_dirty.real, 'c--', label=r\"Stokes $Q$\")\n",
    "plt.plot(parameter.phi, F_dirty.imag, 'c:', label=r\"Stokes $U$\")\n",
    "plt.plot(parameter.phi, np.abs(F_dirty), '-', c='grey', label=r\"|P|\")\n",
    "plt.plot([-200., -200.], [0., 0.0035], ls='-', lw=2., c='black')\n",
    "plt.plot(parameter.phi, np.zeros(len(parameter.phi)), ls='-', lw=2., c='black')\n",
    "plt.xlabel(r'$\\phi$[rad m$^{-2}$]')\n",
    "plt.ylabel(r'Jy/beam m$^2$ rad$^{-1}$ rmtf$^{-1}$')\n",
    "plt.legend(loc='upper right')\n",
    "plt.xlim([-1000, 1000])\n",
    "plt.tight_layout()\n",
    "#plt.savefig(\"fds_sim1.png\", dpi=100)"
   ]
  },
  {
   "cell_type": "code",
   "execution_count": null,
   "id": "0c8859d0",
   "metadata": {
    "ExecuteTime": {
     "end_time": "2022-05-27T00:12:25.363747Z",
     "start_time": "2022-05-27T00:12:25.348836Z"
    }
   },
   "outputs": [],
   "source": [
    "idx_noise = np.where(np.abs(parameter.phi) > 0.8 * parameter.max_faraday_depth)\n",
    "noise_F = 0.5 * (\n",
    "    median_abs_deviation(F_dirty[idx_noise].real, scale=\"normal\") +\n",
    "    median_abs_deviation(F_dirty[idx_noise].imag, scale=\"normal\")\n",
    ")\n",
    "noise_F"
   ]
  },
  {
   "cell_type": "code",
   "execution_count": null,
   "id": "ee6b5767",
   "metadata": {
    "ExecuteTime": {
     "end_time": "2022-05-27T00:12:25.464674Z",
     "start_time": "2022-05-27T00:12:25.364668Z"
    }
   },
   "outputs": [],
   "source": [
    "dataset.theo_noise"
   ]
  },
  {
   "cell_type": "code",
   "execution_count": null,
   "id": "15ddb287",
   "metadata": {
    "ExecuteTime": {
     "end_time": "2022-05-27T00:12:25.568271Z",
     "start_time": "2022-05-27T00:12:25.465728Z"
    }
   },
   "outputs": [],
   "source": [
    "noise_from_w = 1.0 / np.sqrt(np.sum(dataset.w))\n",
    "noise_from_w * 1000.0"
   ]
  },
  {
   "cell_type": "code",
   "execution_count": null,
   "id": "92cfd55a",
   "metadata": {
    "ExecuteTime": {
     "end_time": "2022-05-27T00:12:25.835447Z",
     "start_time": "2022-05-27T00:12:25.569860Z"
    }
   },
   "outputs": [],
   "source": [
    "F_back = dft.backward(dataset.data)"
   ]
  },
  {
   "cell_type": "code",
   "execution_count": null,
   "id": "7f01d647",
   "metadata": {
    "ExecuteTime": {
     "end_time": "2022-05-27T00:12:25.894951Z",
     "start_time": "2022-05-27T00:12:25.836417Z"
    }
   },
   "outputs": [],
   "source": [
    "plt.plot(parameter.phi, F_back.real, 'c--', label=r\"Real part\")\n",
    "plt.plot(parameter.phi, F_back.imag, 'c:', label=r\"Imaginary part\")\n",
    "plt.plot(parameter.phi, np.abs(F_back), 'k-', label=r\"Amplitude\")\n",
    "plt.xlim([-1000, 1000])"
   ]
  },
  {
   "cell_type": "code",
   "execution_count": null,
   "id": "3f8fecd3",
   "metadata": {
    "ExecuteTime": {
     "end_time": "2022-05-27T00:12:25.913647Z",
     "start_time": "2022-05-27T00:12:25.895944Z"
    }
   },
   "outputs": [],
   "source": [
    "wav = None\n",
    "#wav = DiscreteWavelet(wavelet_name=\"coif3\", mode=\"periodization\", append_signal=False)\n",
    "#wav = UndecimatedWavelet(wavelet_name=\"sym2\", mode=\"periodization\", append_signal=True)"
   ]
  },
  {
   "cell_type": "code",
   "execution_count": null,
   "id": "0ba60f85",
   "metadata": {
    "ExecuteTime": {
     "end_time": "2022-05-27T00:12:25.989543Z",
     "start_time": "2022-05-27T00:12:25.914790Z"
    }
   },
   "outputs": [],
   "source": [
    "parameter.data = F_dirty\n",
    "parameter.complex_data_to_real()\n",
    "if wav is not None:\n",
    "    print(wav.calculate_max_level(parameter.data))\n",
    "    parameter.data = wav.decompose(parameter.data)\n",
    "    if wav.append_signal is True:\n",
    "        parameter.data[0:2 * len(F_dirty)] = 0.0\n",
    "    plt.plot(parameter.data)"
   ]
  },
  {
   "cell_type": "code",
   "execution_count": null,
   "id": "721999d3",
   "metadata": {
    "ExecuteTime": {
     "end_time": "2022-05-27T00:12:26.063347Z",
     "start_time": "2022-05-27T00:12:25.990734Z"
    }
   },
   "outputs": [],
   "source": [
    "len(parameter.data)"
   ]
  },
  {
   "cell_type": "code",
   "execution_count": null,
   "id": "9af53c89",
   "metadata": {
    "ExecuteTime": {
     "end_time": "2022-05-27T00:12:26.139140Z",
     "start_time": "2022-05-27T00:12:26.064301Z"
    }
   },
   "outputs": [],
   "source": [
    "np.sqrt(2) * np.mean(dataset.sigma) * 1000.0"
   ]
  },
  {
   "cell_type": "code",
   "execution_count": null,
   "id": "de413480",
   "metadata": {
    "ExecuteTime": {
     "end_time": "2022-05-27T00:12:26.213225Z",
     "start_time": "2022-05-27T00:12:26.140140Z"
    }
   },
   "outputs": [],
   "source": [
    "#lambda_l1 = np.sqrt(2*dataset.m + (4*np.sqrt(2*dataset.m))) * dataset.theo_noise\n",
    "#lambda_l1 = np.sqrt(dataset.m + (2*np.sqrt(2*dataset.m))) * np.sqrt(2) * dataset.theo_noise\n",
    "#lambda_l1 = np.sqrt(dataset.m) * noise_F\n",
    "if wav is not None:\n",
    "    lambda_l1 = np.sqrt(dataset.m +\n",
    "                        2 * np.sqrt(dataset.m)) * 2. * np.sqrt(2) * np.mean(dataset.sigma)\n",
    "else:\n",
    "    lambda_l1 = np.sqrt(dataset.m + 2 * np.sqrt(dataset.m)) * np.sqrt(2) * np.mean(dataset.sigma)\n",
    "#lambda_l1 = np.sqrt(dataset.m) * noise_F\n",
    "#print(lambda_l1)\n",
    "#lambda_l1 /= 2\n",
    "#lambda_l1=0.5\n",
    "lambda_tsv = 0.0\n",
    "chi2 = Chi2(dft_obj=nufft, wavelet=wav)\n",
    "l1 = L1(reg=lambda_l1)\n",
    "tsv = TSV(reg=lambda_tsv)\n",
    "# F_func = [chi2(P, dft, W), L1(lambda_l1)]\n",
    "F_func = [chi2, l1]\n",
    "f_func = [chi2]\n",
    "g_func = [l1]\n",
    "\n",
    "F_obj = OFunction(F_func)\n",
    "f_obj = OFunction(f_func)\n",
    "g_obj = OFunction(g_func)"
   ]
  },
  {
   "cell_type": "code",
   "execution_count": null,
   "id": "32f2daf9",
   "metadata": {
    "ExecuteTime": {
     "end_time": "2022-05-27T00:12:26.292710Z",
     "start_time": "2022-05-27T00:12:26.214265Z"
    }
   },
   "outputs": [],
   "source": [
    "lambda_l1"
   ]
  },
  {
   "cell_type": "code",
   "execution_count": null,
   "id": "e6d1c713",
   "metadata": {
    "ExecuteTime": {
     "end_time": "2022-05-27T00:12:27.886382Z",
     "start_time": "2022-05-27T00:12:26.293725Z"
    }
   },
   "outputs": [],
   "source": [
    "if wav is not None:\n",
    "    opt = FISTA(\n",
    "        guess_param=parameter,\n",
    "        F_obj=F_obj,\n",
    "        fx=chi2,\n",
    "        gx=g_obj,\n",
    "        noise=2.0 * dataset.theo_noise,\n",
    "        verbose=False\n",
    "    )\n",
    "else:\n",
    "    opt = FISTA(\n",
    "        guess_param=parameter,\n",
    "        F_obj=F_obj,\n",
    "        fx=chi2,\n",
    "        gx=g_obj,\n",
    "        noise=dataset.theo_noise,\n",
    "        verbose=False\n",
    "    )\n",
    "#opt = FISTA(i_guess=F_real, F_obj=F_obj, fx=chi2, gx=g_obj, maxiter=1000, noise=1e-5, verbose=True)\n",
    "obj, X = opt.run()\n",
    "print(obj)"
   ]
  },
  {
   "cell_type": "code",
   "execution_count": null,
   "id": "88711e52",
   "metadata": {
    "ExecuteTime": {
     "end_time": "2022-05-27T00:12:27.888916Z",
     "start_time": "2022-05-27T00:12:27.887482Z"
    }
   },
   "outputs": [],
   "source": [
    "if wav is not None:\n",
    "    plt.plot(X.data)"
   ]
  },
  {
   "cell_type": "code",
   "execution_count": null,
   "id": "f00f1b9d",
   "metadata": {
    "ExecuteTime": {
     "end_time": "2022-05-27T00:12:27.941690Z",
     "start_time": "2022-05-27T00:12:27.889660Z"
    }
   },
   "outputs": [],
   "source": [
    "if wav is not None:\n",
    "    X.data = wav.reconstruct(X.data)\n",
    "X.real_data_to_complex()"
   ]
  },
  {
   "cell_type": "code",
   "execution_count": null,
   "id": "8029540a",
   "metadata": {
    "ExecuteTime": {
     "end_time": "2022-05-27T00:12:28.094643Z",
     "start_time": "2022-05-27T00:12:27.942552Z"
    }
   },
   "outputs": [],
   "source": [
    "plt.plot(parameter.phi, X.data.real, 'c--', label=r\"Stokes $Q$\")\n",
    "plt.plot(parameter.phi, X.data.imag, 'c:', label=r\"Stokes $U$\")\n",
    "plt.plot(parameter.phi, np.abs(X.data), 'k-', label=r\"$|P|$\")\n",
    "plt.xlabel(r'$\\phi$[rad m$^{-2}$]')\n",
    "plt.ylabel(r'Jy/beam m$^2$ rad$^{-1}$ pix$^{-1}$')\n",
    "plt.legend(loc='upper right')\n",
    "plt.tight_layout()\n",
    "plt.xlim([-1000, 1000])"
   ]
  },
  {
   "cell_type": "code",
   "execution_count": null,
   "id": "915c26c4",
   "metadata": {
    "ExecuteTime": {
     "end_time": "2022-05-27T00:12:28.097940Z",
     "start_time": "2022-05-27T00:12:28.095535Z"
    }
   },
   "outputs": [],
   "source": [
    "model_data_2 = nufft.forward_normalized(X.data)"
   ]
  },
  {
   "cell_type": "code",
   "execution_count": null,
   "id": "84fc247b",
   "metadata": {
    "ExecuteTime": {
     "end_time": "2022-05-27T00:12:28.201783Z",
     "start_time": "2022-05-27T00:12:28.098717Z"
    }
   },
   "outputs": [],
   "source": [
    "plt.plot(dataset.lambda2, dataset.model_data.real, 'k.', label=r\"Stokes $Q$\")\n",
    "plt.plot(dataset.lambda2, dataset.model_data.imag, 'c.', label=r\"Stokes $U$\")\n",
    "plt.plot(dataset.lambda2, np.abs(dataset.model_data), 'g.', label=r\"$|P|$\")"
   ]
  },
  {
   "cell_type": "code",
   "execution_count": null,
   "id": "0a2962f9",
   "metadata": {
    "ExecuteTime": {
     "end_time": "2022-05-27T00:12:28.279352Z",
     "start_time": "2022-05-27T00:12:28.202651Z"
    }
   },
   "outputs": [],
   "source": [
    "plt.plot(\n",
    "    dataset.lambda2,\n",
    "    dataset.calculate_polangle('model_data').to(u.deg),\n",
    "    'k.',\n",
    "    label=r\"Polarization angle\"\n",
    ")\n",
    "plt.xlabel(r'$\\lambda^2$[m$^{2}$]')\n",
    "plt.ylabel(r'Polarization angle (deg)')\n",
    "plt.legend(loc='upper right')\n",
    "plt.tight_layout()"
   ]
  },
  {
   "cell_type": "code",
   "execution_count": null,
   "id": "d4317572",
   "metadata": {
    "ExecuteTime": {
     "end_time": "2022-05-27T00:12:28.345526Z",
     "start_time": "2022-05-27T00:12:28.280213Z"
    }
   },
   "outputs": [],
   "source": [
    "plt.plot(dataset.lambda2, dataset.residual.real, 'k.', label=r\"Stokes $Q$\")\n",
    "plt.plot(dataset.lambda2, dataset.residual.imag, 'c.', label=r\"Stokes $U$\")\n",
    "plt.plot(dataset.lambda2, np.abs(dataset.residual), 'g.', label=r\"$|P|$\")"
   ]
  },
  {
   "cell_type": "code",
   "execution_count": null,
   "id": "253a6145",
   "metadata": {
    "ExecuteTime": {
     "end_time": "2022-05-27T00:12:28.410417Z",
     "start_time": "2022-05-27T00:12:28.346449Z"
    }
   },
   "outputs": [],
   "source": [
    "plt.plot(dataset.lambda2, dataset.data.real, 'k.', label=r\"Stokes $Q$\")\n",
    "plt.plot(dataset.lambda2, dataset.data.imag, 'c.', label=r\"Stokes $U$\")\n",
    "plt.plot(dataset.lambda2, np.abs(dataset.data), 'g.', label=r\"$|P|$\")"
   ]
  },
  {
   "cell_type": "code",
   "execution_count": null,
   "id": "be6c5b9e",
   "metadata": {
    "ExecuteTime": {
     "end_time": "2022-05-27T00:12:28.413188Z",
     "start_time": "2022-05-27T00:12:28.411332Z"
    }
   },
   "outputs": [],
   "source": [
    "sigma_res = 0.5 * (np.std(dataset.residual.real) + np.std(dataset.residual.imag))"
   ]
  },
  {
   "cell_type": "code",
   "execution_count": null,
   "id": "6860f092",
   "metadata": {
    "ExecuteTime": {
     "end_time": "2022-05-27T00:12:28.477478Z",
     "start_time": "2022-05-27T00:12:28.414073Z"
    }
   },
   "outputs": [],
   "source": [
    "sigma_res * 1000.0"
   ]
  },
  {
   "cell_type": "code",
   "execution_count": null,
   "id": "94e895d5",
   "metadata": {
    "ExecuteTime": {
     "end_time": "2022-05-27T00:12:28.744637Z",
     "start_time": "2022-05-27T00:12:28.478503Z"
    }
   },
   "outputs": [],
   "source": [
    "F_residual = dft.backward(dataset.residual)"
   ]
  },
  {
   "cell_type": "code",
   "execution_count": null,
   "id": "9696e5b0",
   "metadata": {
    "ExecuteTime": {
     "end_time": "2022-05-27T00:12:28.844172Z",
     "start_time": "2022-05-27T00:12:28.745627Z"
    }
   },
   "outputs": [],
   "source": [
    "plt.plot(parameter.phi, F_residual.real, 'c--', label=r\"Stokes $Q$\")\n",
    "plt.plot(parameter.phi, F_residual.imag, 'c:', label=r\"Stokes $U$\")\n",
    "plt.plot(parameter.phi, np.abs(F_residual), '-', c='grey', label=r\"|P|\")\n",
    "#plt.plot([-200.,-200.],[0.,0.0035],ls='-',lw=2.,c='black')\n",
    "#plt.plot(parameter.phi,np.zeros(len(parameter.phi)),ls='-',lw=2.,c='black')\n",
    "plt.axhline(y=5 * dataset.theo_noise, color='crimson', alpha=0.7)\n",
    "plt.axhline(y=-5 * dataset.theo_noise, color='crimson', alpha=0.7)\n",
    "plt.xlabel(r'$\\phi$[rad m$^{-2}$]')\n",
    "plt.ylabel(r'Jy/beam m$^2$ rad$^{-1}$ rmtf$^{-1}$')\n",
    "plt.legend(loc='upper right')\n",
    "plt.xlim([-1000, 1000])\n",
    "plt.tight_layout()\n",
    "#plt.savefig(\"fds_sim1.png\", dpi=100)"
   ]
  },
  {
   "cell_type": "code",
   "execution_count": null,
   "id": "dd8b2315",
   "metadata": {
    "ExecuteTime": {
     "end_time": "2022-05-27T00:12:28.848448Z",
     "start_time": "2022-05-27T00:12:28.845158Z"
    }
   },
   "outputs": [],
   "source": [
    "rms_residual = 0.5 * (np.std(F_residual.real) + np.std(F_residual.imag))\n",
    "rms_residual * 1000.0"
   ]
  },
  {
   "cell_type": "code",
   "execution_count": null,
   "id": "7c4f9a34",
   "metadata": {
    "ExecuteTime": {
     "end_time": "2022-05-27T00:12:28.900906Z",
     "start_time": "2022-05-27T00:12:28.849409Z"
    }
   },
   "outputs": [],
   "source": [
    "dataset.theo_noise * 1000.0"
   ]
  },
  {
   "cell_type": "code",
   "execution_count": null,
   "id": "72f1dd64",
   "metadata": {
    "ExecuteTime": {
     "end_time": "2022-05-27T00:12:28.974639Z",
     "start_time": "2022-05-27T00:12:28.902026Z"
    }
   },
   "outputs": [],
   "source": [
    "noise_F * 1000.0"
   ]
  },
  {
   "cell_type": "code",
   "execution_count": null,
   "id": "23e5f261",
   "metadata": {
    "ExecuteTime": {
     "end_time": "2022-05-27T00:12:29.022392Z",
     "start_time": "2022-05-27T00:12:28.975752Z"
    }
   },
   "outputs": [],
   "source": [
    "applied_noise * 1000.0"
   ]
  },
  {
   "cell_type": "code",
   "execution_count": null,
   "id": "8a91dccc",
   "metadata": {
    "ExecuteTime": {
     "end_time": "2022-05-27T00:12:29.079600Z",
     "start_time": "2022-05-27T00:12:29.023656Z"
    }
   },
   "outputs": [],
   "source": [
    "sigma_qu * 1000.0"
   ]
  },
  {
   "cell_type": "code",
   "execution_count": null,
   "id": "a744cbdf",
   "metadata": {
    "ExecuteTime": {
     "end_time": "2022-05-27T00:12:29.333567Z",
     "start_time": "2022-05-27T00:12:29.080494Z"
    }
   },
   "outputs": [],
   "source": [
    "model_2 = dft.backward(dataset.model_data)"
   ]
  },
  {
   "cell_type": "code",
   "execution_count": null,
   "id": "bcdc5dcb",
   "metadata": {
    "ExecuteTime": {
     "end_time": "2022-05-27T00:12:29.500737Z",
     "start_time": "2022-05-27T00:12:29.334533Z"
    }
   },
   "outputs": [],
   "source": [
    "plt.plot(parameter.phi, model_2.real, 'c--', label=r\"Stokes $Q$\")\n",
    "plt.plot(parameter.phi, model_2.imag, 'c:', label=r\"Stokes $U$\")\n",
    "plt.plot(parameter.phi, np.abs(model_2), '-', c='grey', label=r\"|P|\")\n",
    "#plt.plot([-200.,-200.],[0.,0.0035],ls='-',lw=2.,c='black')\n",
    "#plt.plot(parameter.phi,np.zeros(len(parameter.phi)),ls='-',lw=2.,c='black')\n",
    "plt.xlabel(r'$\\phi$[rad m$^{-2}$]')\n",
    "plt.ylabel(r'Jy/beam m$^2$ rad$^{-1}$ rmtf$^{-1}$')\n",
    "plt.legend(loc='upper right')\n",
    "plt.xlim([-1000, 1000])\n",
    "plt.tight_layout()\n",
    "#plt.savefig(\"fds_sim1.png\", dpi=100)"
   ]
  },
  {
   "cell_type": "code",
   "execution_count": null,
   "id": "b2d0baf3",
   "metadata": {
    "ExecuteTime": {
     "end_time": "2022-05-27T00:12:29.503474Z",
     "start_time": "2022-05-27T00:12:29.501794Z"
    }
   },
   "outputs": [],
   "source": [
    "residual_faraday = F_dirty - model_2"
   ]
  },
  {
   "cell_type": "code",
   "execution_count": null,
   "id": "78592696",
   "metadata": {
    "ExecuteTime": {
     "end_time": "2022-05-27T00:12:29.568027Z",
     "start_time": "2022-05-27T00:12:29.504755Z"
    }
   },
   "outputs": [],
   "source": [
    "conv_model = X.convolve() + F_residual"
   ]
  },
  {
   "cell_type": "code",
   "execution_count": null,
   "id": "2a531d22",
   "metadata": {
    "ExecuteTime": {
     "end_time": "2022-05-27T00:12:29.620304Z",
     "start_time": "2022-05-27T00:12:29.569068Z"
    }
   },
   "outputs": [],
   "source": [
    "SMALL_SIZE = 17\n",
    "MEDIUM_SIZE = 18\n",
    "BIGGER_SIZE = 19\n",
    "\n",
    "plt.rcParams.update(\n",
    "    {\n",
    "        \"font.family\": \"serif\",\n",
    "        \"text.usetex\": True,\n",
    "        \"pgf.rcfonts\": False,\n",
    "        \"pgf.texsystem\": 'pdflatex',  # default is xetex\n",
    "    }\n",
    ")\n",
    "\n",
    "plt.rc('font', size=MEDIUM_SIZE)  # controls default text sizes\n",
    "plt.rc('axes', titlesize=SMALL_SIZE)  # fontsize of the axes title\n",
    "plt.rc('axes', labelsize=MEDIUM_SIZE)  # fontsize of the x and y labels\n",
    "plt.rc('xtick', labelsize=SMALL_SIZE)  # fontsize of the tick labels\n",
    "plt.rc('ytick', labelsize=SMALL_SIZE)  # fontsize of the tick labels\n",
    "plt.rc('legend', fontsize=SMALL_SIZE)  # legend fontsize"
   ]
  },
  {
   "cell_type": "code",
   "execution_count": null,
   "id": "364bf05e",
   "metadata": {
    "ExecuteTime": {
     "end_time": "2022-05-27T00:12:30.252797Z",
     "start_time": "2022-05-27T00:12:29.622067Z"
    }
   },
   "outputs": [],
   "source": [
    "fig = plt.figure(figsize=(18, 5))\n",
    "#fig, ax = plt.subplots(ncols=3, nrows=1, figsize=(18, 5))\n",
    "ax1 = fig.add_subplot(1, 3, 1)\n",
    "ax1.plot(original_source.lambda2, original_source.data.real, 'c--', label=r\"Stokes $Q$\")\n",
    "ax1.plot(original_source.lambda2, original_source.data.imag, 'c:', label=r\"Stokes $U$\")\n",
    "ax1.plot(original_source.lambda2, np.abs(original_source.data), '.', color=\"grey\", label=r\"$|P|$\")\n",
    "ax1.set_xlabel(r'$\\lambda^2$[m$^{2}$]')\n",
    "ax1.set_ylabel(r'Jy/beam')\n",
    "\n",
    "ax2 = fig.add_subplot(1, 3, 2)\n",
    "ax2.plot(original_parameter.phi, F_dirty_original.real, 'c--', label=r\"Stokes $Q$\")\n",
    "ax2.plot(original_parameter.phi, F_dirty_original.imag, 'c:', label=r\"Stokes $U$\")\n",
    "ax2.plot(original_parameter.phi, np.abs(F_dirty_original), '-', c='grey', label=r\"|P|\")\n",
    "ax2.plot([-200., -200.], [0., 0.0035], ls='-', lw=2., c='black')\n",
    "ax2.plot([130., 130.], [0., 0.0035], ls='-', lw=2., c='black')\n",
    "ax2.plot([270., 270.], [0., 0.0035], ls='-', lw=2., c='black')\n",
    "ax2.plot([130., 270.], [0.0035, 0.0035], ls='-', lw=2., c='black')\n",
    "ax2.plot(original_parameter.phi, np.zeros(len(original_parameter.phi)), ls='-', lw=2., c='black')\n",
    "#ax2.axhline (y = 5*original_source.theo_noise*1000.0, color = 'crimson', alpha=0.7)\n",
    "#ax2.axhline (y = -5*original_source.theo_noise*1000.0, color = 'crimson', alpha=0.7)\n",
    "ax2.set_xlabel(r'$\\phi$[rad m$^{-2}$]')\n",
    "ax2.set_ylabel(r'Jy/beam m$^2$ rad$^{-1}$ rmtf$^{-1}$')\n",
    "ax2.set_xlim([-1000, 1000])\n",
    "\n",
    "ax3 = fig.add_subplot(1, 3, 3, sharex=ax2, sharey=ax2)\n",
    "ax3.plot(parameter.phi, conv_model.real, 'c--', label=r\"Stokes $Q$\")\n",
    "ax3.plot(parameter.phi, conv_model.imag, 'c:', label=r\"Stokes $U$\")\n",
    "ax3.plot(parameter.phi, np.abs(conv_model), '-', c='grey', label=r\"$|P|$\")\n",
    "ax3.plot([-200., -200.], [0., 0.0035], ls='-', lw=2., c='black')\n",
    "ax3.plot([130., 130.], [0., 0.0035], ls='-', lw=2., c='black')\n",
    "ax3.plot([270., 270.], [0., 0.0035], ls='-', lw=2., c='black')\n",
    "ax3.plot([130., 270.], [0.0035, 0.0035], ls='-', lw=2., c='black')\n",
    "ax3.plot(parameter.phi, np.zeros(len(parameter.phi)), ls='-', lw=2., c='black')\n",
    "#ax3.set_xlim([-1000,1000])\n",
    "ax3.axhline(y=5 * dataset.theo_noise, color='crimson', alpha=0.7)\n",
    "ax3.axhline(y=-5 * dataset.theo_noise, color='crimson', alpha=0.7)\n",
    "ax3.set_xlabel(r'$\\phi$[rad m$^{-2}$]')\n",
    "ax3.set_ylabel(r'Jy/beam m$^2$ rad$^{-1}$ rmtf$^{-1}$')\n",
    "\n",
    "handles, labels = ax3.get_legend_handles_labels()\n",
    "legend = fig.legend(handles, labels, loc=\"upper right\", borderaxespad=0)\n",
    "legend.get_frame().set_alpha(1.0)\n",
    "fig.tight_layout()\n",
    "fig.savefig(\"thinthicksource.pdf\", dpi=500)"
   ]
  },
  {
   "cell_type": "code",
   "execution_count": null,
   "id": "b33114ef",
   "metadata": {
    "ExecuteTime": {
     "end_time": "2022-05-27T00:12:30.471266Z",
     "start_time": "2022-05-27T00:12:30.253660Z"
    }
   },
   "outputs": [],
   "source": [
    "plt.plot(parameter.phi, residual_faraday.real, 'c--', label=r\"Stokes $Q$\")\n",
    "plt.plot(parameter.phi, residual_faraday.imag, 'c:', label=r\"Stokes $U$\")\n",
    "plt.plot(parameter.phi, np.abs(residual_faraday), '-', c='grey', label=r\"$|P|$\")\n",
    "#plt.plot([-200.,-200.],[0.,0.0035],ls='-',lw=2.,c='black')\n",
    "#plt.plot(parameter.phi,np.zeros(len(parameter.phi)),ls='-',lw=2.,c='black')\n",
    "plt.axhline(y=5 * dataset.theo_noise, color='crimson', alpha=0.7)\n",
    "plt.axhline(y=-5 * dataset.theo_noise, color='crimson', alpha=0.7)\n",
    "plt.xlabel(r'$\\phi$[rad m$^{-2}$]')\n",
    "plt.ylabel(r'Jy/beam m$^2$ rad$^{-1}$ rmtf$^{-1}$')\n",
    "plt.legend(loc='upper right')\n",
    "plt.xlim([-1000, 1000])\n",
    "plt.tight_layout()\n",
    "#plt.savefig(\"fds_sim1.png\", dpi=100)"
   ]
  },
  {
   "cell_type": "code",
   "execution_count": null,
   "id": "8bc518c9",
   "metadata": {
    "ExecuteTime": {
     "end_time": "2022-05-27T00:12:30.561132Z",
     "start_time": "2022-05-27T00:12:30.472096Z"
    }
   },
   "outputs": [],
   "source": [
    "plt.plot(parameter.phi, conv_model.real, 'c--', label=r\"Stokes $Q$\")\n",
    "plt.plot(parameter.phi, conv_model.imag, 'c:', label=r\"Stokes $U$\")\n",
    "plt.plot(parameter.phi, np.abs(conv_model), 'k-', label=r\"$|P|$\")\n",
    "plt.plot([-200., -200.], [0., 0.0035], ls='-', lw=2., c='black')\n",
    "plt.plot(parameter.phi, np.zeros(len(parameter.phi)), ls='-', lw=2., c='black')\n",
    "plt.xlim([-1000, 1000])\n",
    "plt.axhline(y=5 * noise_F, color='b')\n",
    "plt.axhline(y=-5 * noise_F, color='b')\n",
    "plt.xlabel(r'$\\phi$[rad m$^{-2}$]')\n",
    "plt.ylabel(r'Jy/beam m$^2$ rad$^{-1}$ rmtf$^{-1}$')\n",
    "plt.legend(loc='upper right')\n",
    "plt.tight_layout()\n",
    "#plt.savefig(\"restored.png\", dpi=100)"
   ]
  },
  {
   "cell_type": "code",
   "execution_count": null,
   "id": "78d95348",
   "metadata": {
    "ExecuteTime": {
     "end_time": "2022-05-27T00:12:30.571381Z",
     "start_time": "2022-05-27T00:12:30.561959Z"
    }
   },
   "outputs": [],
   "source": [
    "np.nanmax(np.abs(conv_model))"
   ]
  },
  {
   "cell_type": "code",
   "execution_count": null,
   "id": "3ec3b41a",
   "metadata": {
    "ExecuteTime": {
     "end_time": "2022-05-27T00:12:30.626710Z",
     "start_time": "2022-05-27T00:12:30.572197Z"
    }
   },
   "outputs": [],
   "source": [
    "P = np.sqrt(np.max(np.abs(conv_model))**2 - (2.3 * rms_residual**2))"
   ]
  },
  {
   "cell_type": "code",
   "execution_count": null,
   "id": "c33691de",
   "metadata": {
    "ExecuteTime": {
     "end_time": "2022-05-27T00:12:30.683222Z",
     "start_time": "2022-05-27T00:12:30.627482Z"
    }
   },
   "outputs": [],
   "source": [
    "parameter.rmtf_fwhm / (2 * P / rms_residual)"
   ]
  },
  {
   "cell_type": "code",
   "execution_count": null,
   "id": "98b617ea",
   "metadata": {
    "ExecuteTime": {
     "end_time": "2022-05-27T00:12:30.743808Z",
     "start_time": "2022-05-27T00:12:30.683943Z"
    }
   },
   "outputs": [],
   "source": [
    "residual_1d = np.concatenate([residual_faraday.real, residual_faraday.imag])\n",
    "#residual_1d = np.concatenate([dataset.residual.real, dataset.residual.imag])\n",
    "stat, p = stats.jarque_bera(residual_1d)"
   ]
  },
  {
   "cell_type": "code",
   "execution_count": null,
   "id": "d8f4532c",
   "metadata": {
    "ExecuteTime": {
     "end_time": "2022-05-27T00:12:30.803954Z",
     "start_time": "2022-05-27T00:12:30.744644Z"
    }
   },
   "outputs": [],
   "source": [
    "print(\"stat={0:.3f}, p={1:.3f}\".format(stat, p))"
   ]
  },
  {
   "cell_type": "code",
   "execution_count": null,
   "id": "49334fa9",
   "metadata": {
    "ExecuteTime": {
     "end_time": "2022-05-27T00:12:30.864588Z",
     "start_time": "2022-05-27T00:12:30.804745Z"
    }
   },
   "outputs": [],
   "source": [
    "p"
   ]
  },
  {
   "cell_type": "code",
   "execution_count": null,
   "id": "b30a533b",
   "metadata": {
    "ExecuteTime": {
     "end_time": "2022-05-27T00:12:30.928247Z",
     "start_time": "2022-05-27T00:12:30.865289Z"
    }
   },
   "outputs": [],
   "source": [
    "if p > 0.05:\n",
    "    print(\"Probably Gaussian\")\n",
    "else:\n",
    "    print(\"Probably not Gaussian\")"
   ]
  },
  {
   "cell_type": "code",
   "execution_count": null,
   "id": "5a9e61af",
   "metadata": {
    "ExecuteTime": {
     "end_time": "2022-05-27T00:12:30.993270Z",
     "start_time": "2022-05-27T00:12:30.929067Z"
    }
   },
   "outputs": [],
   "source": [
    "residual_all = np.concatenate([F_residual.real, F_residual.imag]) * 1000.0"
   ]
  },
  {
   "cell_type": "code",
   "execution_count": null,
   "id": "bc2e3cfb",
   "metadata": {
    "ExecuteTime": {
     "end_time": "2022-05-27T00:12:31.057968Z",
     "start_time": "2022-05-27T00:12:30.994634Z"
    }
   },
   "outputs": [],
   "source": [
    "frequency, bins = np.histogram(residual_all, bins=\"auto\", density=True)\n",
    "frequency /= np.max(frequency)\n",
    "xmin = np.min(bins)\n",
    "xmax = np.max(bins)\n",
    "dist = np.abs(xmax - xmin)\n",
    "x = np.linspace(xmin, xmax, 100)\n",
    "p = norm.pdf(x, 0.0, dataset.theo_noise * 1000.0)\n",
    "p /= np.max(p)"
   ]
  },
  {
   "cell_type": "code",
   "execution_count": null,
   "id": "fdbdbe64",
   "metadata": {
    "ExecuteTime": {
     "end_time": "2022-05-27T00:12:31.698958Z",
     "start_time": "2022-05-27T00:12:31.058886Z"
    }
   },
   "outputs": [],
   "source": [
    "fig, ax = plt.subplots(nrows=2, ncols=4, sharex='row', figsize=(20, 10))\n",
    "\n",
    "# Data\n",
    "ax[0, 0].plot(dataset.lambda2, dataset.data.real * 1000.0, 'k.', label=r\"Stokes $Q$\")\n",
    "ax[0, 0].plot(dataset.lambda2, dataset.data.imag * 1000.0, 'c.', label=r\"Stokes $U$\")\n",
    "ax[0, 0].plot(dataset.lambda2, np.abs(dataset.data) * 1000.0, 'g.', label=r\"$|P|$\")\n",
    "ax[0, 0].set_xlabel(r'$\\lambda^2$[m$^{2}$]')\n",
    "ax[0, 0].set_ylabel(r'mJy/beam')\n",
    "ax[0, 0].title.set_text(\"Data\")\n",
    "\n",
    "ax[1, 0].plot(parameter.phi, F_dirty.real * 1000.0, 'c--', label=r\"Stokes $Q$\")\n",
    "ax[1, 0].plot(parameter.phi, F_dirty.imag * 1000.0, 'c:', label=r\"Stokes $U$\")\n",
    "ax[1, 0].plot(parameter.phi, np.abs(F_dirty) * 1000.0, 'k-', label=r\"|P|\")\n",
    "ax[1, 0].set_xlabel(r'$\\phi$[rad m$^{-2}$]')\n",
    "ax[1, 0].set_ylabel(r'mJy/beam m$^2$ rad$^{-1}$ rmtf$^{-1}$')\n",
    "ax[1, 0].set_xlim([-1000, 1000])\n",
    "\n",
    "# Model\n",
    "ax[0, 1].plot(dataset.lambda2, dataset.model_data.real * 1000.0, 'k.', label=r\"Stokes $Q$\")\n",
    "ax[0, 1].plot(dataset.lambda2, dataset.model_data.imag * 1000.0, 'c.', label=r\"Stokes $U$\")\n",
    "ax[0, 1].plot(dataset.lambda2, np.abs(dataset.model_data) * 1000.0, 'g.', label=r\"$|P|$\")\n",
    "ax[0, 1].set_xlabel(r'$\\lambda^2$[m$^{2}$]')\n",
    "ax[0, 1].set_ylabel(r'mJy/beam')\n",
    "ax[0, 1].title.set_text(\"Model\")\n",
    "# Model\n",
    "ax[1, 1].plot(parameter.phi, X.data.real * 1000.0, 'c--', label=r\"Stokes $Q$\")\n",
    "ax[1, 1].plot(parameter.phi, X.data.imag * 1000.0, 'c:', label=r\"Stokes $U$\")\n",
    "ax[1, 1].plot(parameter.phi, np.abs(X.data) * 1000.0, 'k-', label=r\"$|P|$\")\n",
    "ax[1, 1].set_xlabel(r'$\\phi$[rad m$^{-2}$]')\n",
    "ax[1, 1].set_ylabel(r'mJy/beam m$^2$ rad$^{-1}$ pix$^{-1}$')\n",
    "ax[1, 1].set_xlim([-1000, 1000])\n",
    "\n",
    "# Residual\n",
    "\n",
    "ax[0, 2].plot(dataset.lambda2, dataset.residual.real * 1000.0, 'k.', label=r\"Stokes $Q$\")\n",
    "ax[0, 2].plot(dataset.lambda2, dataset.residual.imag * 1000.0, 'c.', label=r\"Stokes $U$\")\n",
    "ax[0, 2].plot(dataset.lambda2, np.abs(dataset.residual) * 1000.0, 'g.', label=r\"$|P|$\")\n",
    "ax[0, 2].set_xlabel(r'$\\lambda^2$[m$^{2}$]')\n",
    "ax[0, 2].set_ylabel(r'mJy/beam')\n",
    "ax[0, 2].title.set_text(\"Residuals\")\n",
    "\n",
    "ax[0, 3].get_shared_x_axes().remove(ax[0, 3])\n",
    "# Create and assign new ticker\n",
    "xticker = matplotlib.axis.Ticker()\n",
    "ax[0, 3].xaxis.major = xticker\n",
    "\n",
    "# The new ticker needs new locator and formatters\n",
    "xloc = matplotlib.ticker.AutoLocator()\n",
    "xfmt = matplotlib.ticker.ScalarFormatter()\n",
    "\n",
    "ax[0, 3].xaxis.set_major_locator(xloc)\n",
    "ax[0, 3].xaxis.set_major_formatter(xfmt)\n",
    "\n",
    "ax[0, 3].bar(bins[:-1], frequency, width=dist / 20, alpha=0.3)\n",
    "ax[0, 3].plot(x, p, 'crimson', linewidth=2)\n",
    "\n",
    "ax[1, 2].plot(parameter.phi, F_residual.real * 1000.0, 'c--', label=r\"Stokes $Q$\")\n",
    "ax[1, 2].plot(parameter.phi, F_residual.imag * 1000.0, 'c:', label=r\"Stokes $U$\")\n",
    "ax[1, 2].plot(parameter.phi, np.abs(F_residual) * 1000.0, 'k-', label=r\"$|P|$\")\n",
    "ax[1, 2].axhline(y=5 * dataset.theo_noise * 1000.0, color='b')\n",
    "ax[1, 2].axhline(y=-5 * dataset.theo_noise * 1000.0, color='b')\n",
    "ax[1, 2].set_xlabel(r'$\\phi$[rad m$^{-2}$]')\n",
    "ax[1, 2].set_ylabel(r'mJy/beam m$^2$ rad$^{-1}$ rmtf$^{-1}$')\n",
    "ax[1, 2].set_xlim([-1000, 1000])\n",
    "\n",
    "ax[1, 3].plot(parameter.phi, conv_model.real * 1000.0, 'c--', label=r\"Stokes $Q$\")\n",
    "ax[1, 3].plot(parameter.phi, conv_model.imag * 1000.0, 'c:', label=r\"Stokes $U$\")\n",
    "ax[1, 3].plot(parameter.phi, np.abs(conv_model) * 1000.0, 'k-', label=r\"$|P|$\")\n",
    "ax[1, 3].axhline(y=5 * dataset.theo_noise * 1000.0, color='b')\n",
    "ax[1, 3].axhline(y=-5 * dataset.theo_noise * 1000.0, color='b')\n",
    "ax[1, 3].set_xlim([-1000, 1000])\n",
    "ax[1, 3].set_xlabel(r'$\\phi$[rad m$^{-2}$]')\n",
    "ax[1, 3].set_ylabel(r'mJy/beam m$^2$ rad$^{-1}$ rmtf$^{-1}$')\n",
    "ax[1, 3].title.set_text(\"Restored\")\n",
    "\n",
    "title = \"Scenario 3 - \"\n",
    "\"\"\"\n",
    "if isinstance(dataset, FaradayThinSource):\n",
    "    title += \"Scenario 1 - \"\n",
    "elif isinstance(dataset, FaradayThickSource):\n",
    "    title += \"Scenario 2 - \"\n",
    "else:\n",
    "    title += \"Scenario 3 - \"\n",
    "\"\"\"\n",
    "if wav is None:\n",
    "    title += \"Delta function basis \"\n",
    "else:\n",
    "    if isinstance(wav, DiscreteWavelet):\n",
    "        if wav.append_signal is True:\n",
    "            title += \"Delta function basis + {0} discrete wavelet \".format(wav.wavelet_name)\n",
    "        else:\n",
    "            title += \"{0} discrete wavelet \".format(wav.wavelet_name)\n",
    "    else:\n",
    "        if wav.append_signal is True:\n",
    "            title += \"Delta function basis + {0} undecimated wavelet \".format(wav.wavelet_name)\n",
    "        else:\n",
    "            title += \"{0} undecimated wavelet \".format(wav.wavelet_name)\n",
    "\"\"\"\n",
    "if wav is None:\n",
    "    title += \"- Delta function basis \"\n",
    "else:\n",
    "    if isinstance(wav, DiscreteWavelet):\n",
    "        if wav.append_signal is True:\n",
    "            title += \"- Delta function basis + {0} discrete wavelet \".format(wav.wavelet_name)\n",
    "        else:\n",
    "            title += \"- {0} discrete wavelet \".format(wav.wavelet_name)\n",
    "    else:\n",
    "        if wav.append_signal is True:\n",
    "            title += \"- Delta function basis + {0} undecimated wavelet \".format(wav.wavelet_name)\n",
    "        else:\n",
    "            title += \"- {0} undecimated wavelet \".format(wav.wavelet_name)\n",
    "\n",
    "if (dataset.w == dataset.w[0]).all():\n",
    "    title += \"uniform weights equal to {0:.3f}\".format(dataset.w[0])   \n",
    "else:\n",
    "    title += \"natural weights \"\n",
    "\n",
    "\n",
    "\n",
    "\n",
    "\"\"\"\n",
    "fig.suptitle(title)\n",
    "fig.tight_layout()"
   ]
  },
  {
   "cell_type": "code",
   "execution_count": null,
   "id": "48d8534d",
   "metadata": {
    "ExecuteTime": {
     "end_time": "2022-05-27T00:12:32.294790Z",
     "start_time": "2022-05-27T00:12:31.699917Z"
    }
   },
   "outputs": [],
   "source": [
    "fig, ax = plt.subplots(nrows=3, ncols=2, figsize=(11, 11))\n",
    "ax[0, 0].plot(\n",
    "    original_source.nu[::-1] / 1e9,\n",
    "    original_source.data[::-1].real * 1000.0,\n",
    "    'k.',\n",
    "    label=r\"Stokes $Q$\"\n",
    ")\n",
    "ax[0, 0].plot(\n",
    "    original_source.nu[::-1] / 1e9,\n",
    "    original_source.data[::-1].imag * 1000.0,\n",
    "    'c.',\n",
    "    label=r\"Stokes $U$\"\n",
    ")\n",
    "ax[0, 0].plot(\n",
    "    original_source.nu[::-1] / 1e9,\n",
    "    np.abs(original_source.data[::-1]) * 1000.0,\n",
    "    'g.',\n",
    "    label=r\"$|P|$\"\n",
    ")\n",
    "ax[0, 0].set_xlabel(r'$\\nu$ [GHz]')\n",
    "ax[0, 0].set_ylabel(r'mJy/beam')\n",
    "\n",
    "#hide x-axis\n",
    "#ax.get_xaxis().set_visible(False)\n",
    "\n",
    "#hide y-axis\n",
    "#ax.get_yaxis().set_visible(False)\n",
    "ax[0, 1].get_xaxis().set_visible(False)\n",
    "ax[0, 1].get_yaxis().set_visible(False)\n",
    "ax[0, 1].set_frame_on(False)\n",
    "\n",
    "ax[1,\n",
    "   0].plot(original_source.lambda2, original_source.data.real * 1000.0, 'k.', label=r\"Stokes $Q$\")\n",
    "ax[1,\n",
    "   0].plot(original_source.lambda2, original_source.data.imag * 1000.0, 'c.', label=r\"Stokes $U$\")\n",
    "ax[1, 0].plot(original_source.lambda2, np.abs(original_source.data) * 1000.0, 'g.', label=r\"$|P|$\")\n",
    "ax[1, 0].set_xlabel(r'$\\lambda^2$ [m$^{2}$]')\n",
    "ax[1, 0].set_ylabel(r'mJy/beam')\n",
    "\n",
    "ax[1, 1].plot(original_parameter.phi, F_dirty_original.real * 1000.0, 'c--', label=r\"Stokes $Q$\")\n",
    "ax[1, 1].plot(original_parameter.phi, F_dirty_original.imag * 1000.0, 'c:', label=r\"Stokes $U$\")\n",
    "ax[1,\n",
    "   1].plot(original_parameter.phi, np.abs(F_dirty_original) * 1000.0, '-', c='grey', label=r\"|P|\")\n",
    "#ax[1,1].plot([-200., -200.], [0., 0.0035], ls='-', lw=2., c='black')\n",
    "#ax[1,1].plot(original_parameter.phi, np.zeros(len(original_parameter.phi)), ls='-', lw=2., c='black')\n",
    "ax[1, 1].set_xlabel(r'$\\phi$ [rad m$^{-2}$]')\n",
    "ax[1, 1].set_ylabel(r'mJy/beam m$^2$ rad$^{-1}$ rmtf$^{-1}$')\n",
    "#ax[1,1].legend(loc='upper right')\n",
    "ax[1, 1].set_xlim([-1000, 1000])\n",
    "\n",
    "ax[2, 0].plot(dataset.lambda2, dataset.data.real * 1000.0, 'k.', label=r\"Stokes $Q$\")\n",
    "ax[2, 0].plot(dataset.lambda2, dataset.data.imag * 1000.0, 'c.', label=r\"Stokes $U$\")\n",
    "ax[2, 0].plot(dataset.lambda2, np.abs(dataset.data) * 1000.0, 'g.', label=r\"$|P|$\")\n",
    "ax[2, 0].set_xlabel(r'$\\lambda^2$ [m$^{2}$]')\n",
    "ax[2, 0].set_ylabel(r'mJy/beam')\n",
    "\n",
    "ax[2, 1].plot(parameter.phi, F_dirty.real * 1000.0, 'c--', label=r\"Stokes $Q$\")\n",
    "ax[2, 1].plot(parameter.phi, F_dirty.imag * 1000.0, 'c:', label=r\"Stokes $U$\")\n",
    "ax[2, 1].plot(parameter.phi, np.abs(F_dirty) * 1000.0, '-', c='grey', label=r\"|P|\")\n",
    "ax[2, 1].set_xlabel(r'$\\phi$[ rad m$^{-2}$]')\n",
    "ax[2, 1].set_ylabel(r'mJy/beam m$^2$ rad$^{-1}$ rmtf$^{-1}$')\n",
    "ax[2, 1].set_xlim([-1000, 1000])\n",
    "\n",
    "fig.tight_layout()\n",
    "\n",
    "fig.savefig(\"example_ursi.pdf\", dpi=100)"
   ]
  },
  {
   "cell_type": "code",
   "execution_count": null,
   "id": "9465d982",
   "metadata": {},
   "outputs": [],
   "source": []
  }
 ],
 "metadata": {
  "kernelspec": {
   "display_name": "Python 3 (ipykernel)",
   "language": "python",
   "name": "python3"
  },
  "language_info": {
   "codemirror_mode": {
    "name": "ipython",
    "version": 3
   },
   "file_extension": ".py",
   "mimetype": "text/x-python",
   "name": "python",
   "nbconvert_exporter": "python",
   "pygments_lexer": "ipython3",
   "version": "3.10.5"
  },
  "latex_envs": {
   "LaTeX_envs_menu_present": true,
   "autoclose": false,
   "autocomplete": true,
   "bibliofile": "biblio.bib",
   "cite_by": "apalike",
   "current_citInitial": 1,
   "eqLabelWithNumbers": true,
   "eqNumInitial": 1,
   "hotkeys": {
    "equation": "Ctrl-E",
    "itemize": "Ctrl-I"
   },
   "labels_anchors": false,
   "latex_user_defs": false,
   "report_style_numbering": false,
   "user_envs_cfg": false
  },
  "toc": {
   "base_numbering": 1,
   "nav_menu": {},
   "number_sections": true,
   "sideBar": true,
   "skip_h1_title": false,
   "title_cell": "Table of Contents",
   "title_sidebar": "Contents",
   "toc_cell": false,
   "toc_position": {},
   "toc_section_display": true,
   "toc_window_display": false
  },
  "varInspector": {
   "cols": {
    "lenName": 16,
    "lenType": 16,
    "lenVar": 40
   },
   "kernels_config": {
    "python": {
     "delete_cmd_postfix": "",
     "delete_cmd_prefix": "del ",
     "library": "var_list.py",
     "varRefreshCmd": "print(var_dic_list())"
    },
    "r": {
     "delete_cmd_postfix": ") ",
     "delete_cmd_prefix": "rm(",
     "library": "var_list.r",
     "varRefreshCmd": "cat(var_dic_list()) "
    }
   },
   "types_to_exclude": [
    "module",
    "function",
    "builtin_function_or_method",
    "instance",
    "_Feature"
   ],
   "window_display": false
  }
 },
 "nbformat": 4,
 "nbformat_minor": 5
}
