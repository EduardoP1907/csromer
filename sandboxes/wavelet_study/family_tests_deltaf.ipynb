{
 "cells": [
  {
   "cell_type": "code",
   "execution_count": 1,
   "id": "024c325a",
   "metadata": {
    "ExecuteTime": {
     "end_time": "2022-10-10T10:23:16.083970Z",
     "start_time": "2022-10-10T10:23:15.162273Z"
    },
    "pycharm": {
     "name": "#%%\n"
    }
   },
   "outputs": [],
   "source": [
    "import copy\n",
    "import itertools\n",
    "import os\n",
    "import time\n",
    "\n",
    "import matplotlib.pyplot as plt\n",
    "import numpy as np\n",
    "import pywt\n",
    "from IPython.display import clear_output\n",
    "from pynufft import NUFFT\n",
    "from scipy import signal as sci_signal\n",
    "from scipy.constants import c\n",
    "\n",
    "from csromer.base import Dataset\n",
    "from csromer.dictionaries.discrete import DiscreteWavelet\n",
    "from csromer.dictionaries.undecimated import UndecimatedWavelet\n",
    "from csromer.io import Reader, Writer\n",
    "from csromer.objectivefunction import L1, TSV, TV, Chi2, OFunction\n",
    "from csromer.optimization import FISTA, GradientBasedMethod\n",
    "from csromer.reconstruction import Parameter\n",
    "from csromer.simulation import FaradayThickSource, FaradayThinSource\n",
    "from csromer.transformers import NDFT1D, NUFFT1D, Gridding\n",
    "from csromer.utils import Gaussian, complex_to_real, real_to_complex\n",
    "\n",
    "%matplotlib inline\n",
    "\n",
    "#np.random.seed(666)"
   ]
  },
  {
   "cell_type": "code",
   "execution_count": 2,
   "id": "1d59c1d4",
   "metadata": {
    "ExecuteTime": {
     "end_time": "2022-10-10T10:23:16.087774Z",
     "start_time": "2022-10-10T10:23:16.085429Z"
    },
    "pycharm": {
     "name": "#%%\n"
    }
   },
   "outputs": [],
   "source": [
    "def gini_coefficient(w):\n",
    "    # Order vector\n",
    "    w_ordered = np.sort(np.abs(w), kind=\"stable\")\n",
    "    l1_norm = np.sum(np.abs(w_ordered))\n",
    "    M = len(w_ordered)\n",
    "    m = np.arange(0, M)\n",
    "    const = (M - m + 1.5) / M\n",
    "    if l1_norm == 0.0:\n",
    "        coeff = np.nan\n",
    "    else:\n",
    "        coeff = np.sum((w_ordered / l1_norm) * const)\n",
    "    return 1.0 - 2.0 * coeff"
   ]
  },
  {
   "cell_type": "code",
   "execution_count": 3,
   "id": "8c3ce1c3",
   "metadata": {
    "ExecuteTime": {
     "end_time": "2022-10-10T10:23:16.135893Z",
     "start_time": "2022-10-10T10:23:16.088686Z"
    },
    "pycharm": {
     "name": "#%%\n"
    }
   },
   "outputs": [],
   "source": [
    "def chi2_calc(residuals):\n",
    "    if residuals.dtype == np.complex64 or residuals.dtype == np.complex128:\n",
    "        data = residuals.real**2 + residuals.imag**2\n",
    "    else:\n",
    "        data = residuals**2\n",
    "    return np.sum(data)"
   ]
  },
  {
   "cell_type": "code",
   "execution_count": 4,
   "id": "30848b9d",
   "metadata": {
    "ExecuteTime": {
     "end_time": "2022-10-10T10:23:16.184522Z",
     "start_time": "2022-10-10T10:23:16.136926Z"
    },
    "pycharm": {
     "name": "#%%\n"
    }
   },
   "outputs": [],
   "source": [
    "def aicbic(residuals, x):\n",
    "    rss = chi2_calc(residuals)\n",
    "    if x.dtype == np.complex64 or x.dtype == np.complex128:\n",
    "        df = np.count_nonzero(x.real) + np.count_nonzero(x.imag)\n",
    "    else:\n",
    "        df = np.count_nonzero(x)\n",
    "    l = 2 * len(residuals)\n",
    "    return l * np.log(rss / l) + 2 * df, l * np.log(rss / l) + df * np.log(l)"
   ]
  },
  {
   "cell_type": "code",
   "execution_count": 5,
   "id": "c4b50cda",
   "metadata": {
    "ExecuteTime": {
     "end_time": "2022-10-10T10:23:16.256990Z",
     "start_time": "2022-10-10T10:23:16.185736Z"
    },
    "pycharm": {
     "name": "#%%\n"
    }
   },
   "outputs": [],
   "source": [
    "def list_to2darray(x: list = None, cols: int = None, dtype=None):\n",
    "    b = list(map(list, zip(*[iter(x)] * cols)))\n",
    "    #b = [x[cols*i : cols*(i+1)] for i in range(rows)]\n",
    "    if dtype is None:\n",
    "        return np.array(b)\n",
    "    else:\n",
    "        return np.array(b, dtype=dtype)"
   ]
  },
  {
   "cell_type": "code",
   "execution_count": 6,
   "id": "441e68a2",
   "metadata": {
    "ExecuteTime": {
     "end_time": "2022-10-10T10:23:16.318196Z",
     "start_time": "2022-10-10T10:23:16.258968Z"
    },
    "pycharm": {
     "name": "#%%\n"
    }
   },
   "outputs": [],
   "source": [
    "class statistics:\n",
    "\n",
    "    def __init__(self, m, n, z):\n",
    "        self.sum = np.zeros((m, n), dtype=np.float32)\n",
    "        self.sum2 = np.zeros((m, n), dtype=np.float32)\n",
    "        self.n = z * np.ones((m, n), dtype=np.int32)\n",
    "\n",
    "    def cumul(self, x):\n",
    "        x_values = np.where(x != np.nan, x, 0.0)\n",
    "        subtract = np.where(x == np.nan, -1, 0)\n",
    "        self.sum += x_values\n",
    "        self.sum2 += x_values * x_values\n",
    "        self.n += subtract\n",
    "\n",
    "    def mean(self):\n",
    "        return np.where(self.n > 0, self.sum / self.n, np.nan)\n",
    "\n",
    "    def std(self):\n",
    "        return np.where(\n",
    "            self.n > 0, np.sqrt(self.sum2 / self.n - self.sum * self.sum / self.n / self.n), np.nan\n",
    "        )"
   ]
  },
  {
   "cell_type": "code",
   "execution_count": 7,
   "id": "74c19991",
   "metadata": {
    "ExecuteTime": {
     "end_time": "2022-10-10T10:23:16.382574Z",
     "start_time": "2022-10-10T10:23:16.320076Z"
    },
    "pycharm": {
     "name": "#%%\n"
    }
   },
   "outputs": [],
   "source": [
    "class Test:\n",
    "\n",
    "    def __init__(\n",
    "        self,\n",
    "        nu_min=None,\n",
    "        nu_max=None,\n",
    "        nchannels=None,\n",
    "        noise_frac=None,\n",
    "        remove_frac=None,\n",
    "        use_gridding=False,\n",
    "        ftransform=\"nufft\",\n",
    "        use_wavelet=None,\n",
    "        source_1=None,\n",
    "        source_2=None,\n",
    "        scenario=1,\n",
    "        append_signal=False\n",
    "    ):\n",
    "        self.nu_min = nu_min\n",
    "        self.nu_max = nu_max\n",
    "        self.nchannels = nchannels\n",
    "        self.noise_frac = noise_frac\n",
    "        self.remove_frac = remove_frac\n",
    "        self.use_gridding = use_gridding\n",
    "        self.use_wavelet = use_wavelet\n",
    "        self.ftransform = ftransform\n",
    "        self.scenario = scenario\n",
    "        self.append_signal = append_signal\n",
    "        self.nu = np.linspace(start=nu_min, stop=nu_max, num=nchannels)\n",
    "        self.source_1 = copy.deepcopy(source_1)\n",
    "        self.source_2 = copy.deepcopy(source_2)\n",
    "\n",
    "        if self.source_1 is not None:\n",
    "            self.source_1.nu = self.nu\n",
    "            self.source_1.l2_ref = self.source_1.calculate_l2ref()\n",
    "            self.source_1.simulate()\n",
    "\n",
    "        if self.source_2 is not None:\n",
    "            self.source_2.nu = self.nu\n",
    "            self.source_2.l2_ref = self.source_2.calculate_l2ref()\n",
    "            self.source_2.simulate()\n",
    "\n",
    "        if scenario == 1:\n",
    "            self.source = self.source_1\n",
    "        elif scenario == 2:\n",
    "            self.source = self.source_2\n",
    "        elif scenario == 3:\n",
    "            self.source = self.source_1 + self.source_2\n",
    "        else:\n",
    "            raise ValueError(\"This scenario does not exist\")\n",
    "\n",
    "        if remove_frac:\n",
    "            self.source.remove_channels(remove_frac, np.random.RandomState(int(time.time())))\n",
    "\n",
    "        self.noiseless_source = copy.deepcopy(self.source)\n",
    "\n",
    "        if scenario == 1:\n",
    "            self.avg_signal = np.abs(self.source_1.s_nu)\n",
    "        elif scenario == 2:\n",
    "            self.avg_signal = np.abs(self.source_2.s_nu)\n",
    "        else:\n",
    "            self.avg_signal = (np.abs(self.source_1.s_nu) + np.abs(self.source_2.s_nu)) / 2.0\n",
    "\n",
    "        if noise_frac:\n",
    "            self.source.apply_noise(self.avg_signal * self.noise_frac)\n",
    "\n",
    "        if use_gridding:\n",
    "            gridding = Gridding(self.source)\n",
    "            gridding_noiseless = Gridding(self.noiseless_source)\n",
    "            self.source = gridding.run()\n",
    "            self.noiseless_source = gridding_noiseless.run()\n",
    "\n",
    "    def apply_noise(self):\n",
    "        if self.noise_frac:\n",
    "            self.source.apply_noise(\n",
    "                self.avg_signal * self.noise_frac, np.random.RandomState(int(time.time()))\n",
    "            )\n",
    "\n",
    "    def run(self, lambda_tv: float = None, lambda_tsv: float = None):\n",
    "        self.parameter = Parameter()\n",
    "        self.parameter.calculate_cellsize(dataset=self.source)\n",
    "\n",
    "        dft = NDFT1D(dataset=self.source, parameter=self.parameter)\n",
    "\n",
    "        self.F_dirty = dft.backward(self.source.data)\n",
    "\n",
    "        if self.use_wavelet:\n",
    "            self.wavelet = DiscreteWavelet(\n",
    "                wavelet_name=self.use_wavelet,\n",
    "                mode=\"periodization\",\n",
    "                append_signal=self.append_signal\n",
    "            )\n",
    "            #self.wavelet = UndecimatedWavelet(wavelet_name=self.use_wavelet, mode=\"periodization\", append_signal=self.append_signal)\n",
    "            self.lambda_l1 = np.sqrt(len(self.source.data) + 2 * np.sqrt(len(self.source.data))\n",
    "                                     ) * 2.0 * np.sqrt(2) * np.mean(self.source.sigma)\n",
    "        else:\n",
    "            self.lambda_l1 = np.sqrt(len(self.source.data) + 2 * np.sqrt(len(self.source.data))\n",
    "                                     ) * np.sqrt(2) * np.mean(self.source.sigma)\n",
    "\n",
    "        if lambda_tv is None:\n",
    "            lambda_tv = 0.0\n",
    "\n",
    "        if lambda_tsv is None:\n",
    "            lambda_tsv = 0.0\n",
    "\n",
    "        if self.ftransform == \"nufft\":\n",
    "            nufft = NUFFT1D(dataset=self.source, parameter=self.parameter, solve=True)\n",
    "            if self.use_wavelet:\n",
    "                chi2 = Chi2(dft_obj=nufft, wavelet=self.wavelet)\n",
    "            else:\n",
    "                chi2 = Chi2(dft_obj=nufft)\n",
    "        else:\n",
    "            if self.use_wavelet:\n",
    "                chi2 = Chi2(dft_obj=dft, wavelet=self.wavelet)\n",
    "            else:\n",
    "                chi2 = Chi2(dft_obj=dft)\n",
    "\n",
    "        l1 = L1(reg=self.lambda_l1)\n",
    "        tsv = TSV(reg=lambda_tsv)\n",
    "        tv = TV(reg=lambda_tv)\n",
    "        F_func = [chi2, l1, tsv]\n",
    "        f_func = [chi2]\n",
    "        g_func = [l1, tsv]\n",
    "\n",
    "        F_obj = OFunction(F_func)\n",
    "        f_obj = OFunction(f_func)\n",
    "        g_obj = OFunction(g_func)\n",
    "\n",
    "        self.parameter.data = self.F_dirty\n",
    "\n",
    "        self.parameter.complex_data_to_real()\n",
    "\n",
    "        if self.use_wavelet:\n",
    "            self.parameter.data = self.wavelet.decompose(self.parameter.data)\n",
    "            opt = FISTA(\n",
    "                guess_param=self.parameter,\n",
    "                F_obj=F_obj,\n",
    "                fx=chi2,\n",
    "                gx=g_obj,\n",
    "                noise=2.0 * self.source.theo_noise,\n",
    "                verbose=False\n",
    "            )\n",
    "        else:\n",
    "            opt = FISTA(\n",
    "                guess_param=self.parameter,\n",
    "                F_obj=F_obj,\n",
    "                fx=chi2,\n",
    "                gx=g_obj,\n",
    "                noise=self.source.theo_noise,\n",
    "                verbose=False\n",
    "            )\n",
    "\n",
    "        self.obj, self.X = opt.run()\n",
    "\n",
    "        if self.use_wavelet is not None:\n",
    "            self.coeffs = copy.deepcopy(self.X.data)\n",
    "            k = np.count_nonzero(self.coeffs)\n",
    "            self.sparsity = k / len(self.coeffs)\n",
    "            self.gini = gini_coefficient(self.coeffs)\n",
    "            self.X.data = self.wavelet.reconstruct(self.X.data)\n",
    "            self.aic, self.bic = aicbic(self.source.residual, self.coeffs)\n",
    "\n",
    "        else:\n",
    "            k = np.count_nonzero(self.X.data)\n",
    "            self.sparsity = k / len(self.X.data)\n",
    "            self.gini = gini_coefficient(self.X.data)\n",
    "            self.aic, self.bic = aicbic(self.source.residual, self.X.data)\n",
    "\n",
    "        self.X.real_data_to_complex()\n",
    "\n",
    "        self.X_residual = dft.backward(self.source.residual)\n",
    "\n",
    "        self.X_restored = self.X.convolve() + self.X_residual\n",
    "\n",
    "        self.res_noise = 0.5 * (np.std(self.X_residual.real) + np.std(self.X_residual.imag))\n",
    "        self.rmse = np.sqrt(\n",
    "            np.sum(self.source.residual.real**2 + self.source.residual.imag**2) /\n",
    "            (2 * len(self.source.residual))\n",
    "        )\n",
    "        meaningful_signal = np.where(np.abs(self.parameter.phi) < self.parameter.max_faraday_depth)\n",
    "        self.signal = np.mean(np.abs(self.X_restored[meaningful_signal]))\n",
    "        self.peak_signal = np.max(np.abs(self.X_restored))\n",
    "\n",
    "        self.snr = self.signal / self.res_noise\n",
    "        self.psnr = self.peak_signal / self.res_noise\n",
    "\n",
    "        print(\"Signal-to-noise ratio: {0}\".format(self.snr))\n",
    "        print(\"Peak Signal-to-noise ratio: {0}\".format(self.psnr))\n",
    "        print(\"Standard deviation: {0}\".format(self.res_noise))\n",
    "\n",
    "        # self.lags, self.autocorr_res, self.autocorr_res_sq, self.bound, self.percentage_real_in, self.percentage_imag_in, self.percentage_real_in_sq, self.percentage_imag_in_sq = self.source.assess_residuals()\n",
    "\n",
    "        # self.residual_comparison = self.noiseless_source.data - self.source.model_data\n",
    "        \"\"\"\n",
    "        \n",
    "        self.fig, self.ax = plt.subplots(nrows=2, ncols=4, sharey='row', figsize=(18, 5))\n",
    "\n",
    "        # Data\n",
    "        self.ax[0,0].plot(self.source.lambda2, self.source.data.real, 'k.', label=r\"Stokes $Q$\")\n",
    "        self.ax[0,0].plot(self.source.lambda2, self.source.data.imag, 'c.', label=r\"Stokes $U$\")\n",
    "        self.ax[0,0].plot(self.source.lambda2, np.abs(self.source.data), 'g.', label=r\"$|P|$\")\n",
    "        self.ax[0,0].set_xlabel(r'$\\lambda^2$[m$^{2}$]')\n",
    "        self.ax[0,0].set_ylabel(r'Jy/beam')\n",
    "        self.ax[0,0].title.set_text(\"Data\")\n",
    "\n",
    "        self.ax[1,0].plot(self.parameter.phi, self.F_dirty.real, 'c--', label=r\"Stokes $Q$\")\n",
    "        self.ax[1,0].plot(self.parameter.phi, self.F_dirty.imag, 'c:', label=r\"Stokes $U$\")\n",
    "        self.ax[1,0].plot(self.parameter.phi, np.abs(self.F_dirty), 'k-', label=r\"|P|\")\n",
    "        self.ax[1,0].set_xlabel(r'$\\phi$[rad m$^{-2}$]')\n",
    "        self.ax[1,0].set_ylabel(r'Jy/beam m$^2$ rad$^{-1}$ rmtf$^{-1}$')\n",
    "        self.ax[1,0].set_xlim([-1000,1000])\n",
    "\n",
    "        # Model\n",
    "        self.ax[0,1].plot(self.source.lambda2, self.source.model_data.real, 'k.', label=r\"Stokes $Q$\")\n",
    "        self.ax[0,1].plot(self.source.lambda2, self.source.model_data.imag, 'c.', label=r\"Stokes $U$\")\n",
    "        self.ax[0,1].plot(self.source.lambda2, np.abs(self.source.model_data), 'g.', label=r\"$|P|$\")\n",
    "        self.ax[0,1].set_xlabel(r'$\\lambda^2$[m$^{2}$]')\n",
    "        self.ax[0,1].set_ylabel(r'Jy/beam')\n",
    "        self.ax[0,1].title.set_text(\"Model\")\n",
    "\n",
    "        self.ax[1,1].get_shared_y_axes().remove(self.ax[1,1])\n",
    "        self.ax[1,1].clear()\n",
    "        self.ax[1,1].plot(self.parameter.phi, self.X.data.real, 'c--', label=r\"Stokes $Q$\")\n",
    "        self.ax[1,1].plot(self.parameter.phi, self.X.data.imag, 'c:', label=r\"Stokes $U$\")\n",
    "        self.ax[1,1].plot(self.parameter.phi, np.abs(self.X.data), 'k-', label=r\"$|P|$\")\n",
    "        self.ax[1,1].set_xlabel(r'$\\phi$[rad m$^{-2}$]')\n",
    "        self.ax[1,1].set_ylabel(r'Jy/beam m$^2$ rad$^{-1}$ pix$^{-1}$')\n",
    "        self.ax[1,1].set_xlim([-1000,1000])\n",
    "        \n",
    "        # Residual\n",
    "\n",
    "        self.ax[0,2].plot(self.source.lambda2, self.source.residual.real, 'k.', label=r\"Stokes $Q$\")\n",
    "        self.ax[0,2].plot(self.source.lambda2, self.source.residual.imag, 'c.', label=r\"Stokes $U$\")\n",
    "        self.ax[0,2].plot(self.source.lambda2, np.abs(self.source.residual), 'g.', label=r\"$|P|$\")\n",
    "        self.ax[0,2].set_xlabel(r'$\\lambda^2$[m$^{2}$]')\n",
    "        self.ax[0,2].set_ylabel(r'Jy/beam')\n",
    "        self.ax[0,2].title.set_text(\"Residual\")\n",
    "\n",
    "        self.ax[1,2].plot(self.parameter.phi, self.X_residual.real, 'c--', label=r\"Stokes $Q$\")\n",
    "        self.ax[1,2].plot(self.parameter.phi, self.X_residual.imag, 'c:', label=r\"Stokes $U$\")\n",
    "        self.ax[1,2].plot(self.parameter.phi, np.abs(self.X_residual), 'k-', label=r\"$|P|$\")\n",
    "        self.ax[1,2].set_xlabel(r'$\\phi$[rad m$^{-2}$]')\n",
    "        self.ax[1,2].set_ylabel(r'Jy/beam m$^2$ rad$^{-1}$ rmtf$^{-1}$')\n",
    "        self.ax[1,2].set_xlim([-1000,1000])\n",
    "        \n",
    "        if self.use_wavelet:\n",
    "            self.ax[0,3].get_shared_y_axes().remove(self.ax[0,3])\n",
    "            self.ax[0,3].clear()\n",
    "            self.ax[0,3].plot(self.coeffs)\n",
    "            self.ax[0,3].title.set_text(\"Coefficients\")\n",
    "\n",
    "        self.ax[1,3].plot(self.parameter.phi, self.X_restored.real, 'c--', label=r\"Stokes $Q$\")\n",
    "        self.ax[1,3].plot(self.parameter.phi, self.X_restored.imag, 'c:', label=r\"Stokes $U$\")\n",
    "        self.ax[1,3].plot(self.parameter.phi, np.abs(self.X_restored), 'k-', label=r\"$|P|$\")\n",
    "        self.ax[1,3].set_xlim([-1000,1000])\n",
    "        self.ax[1,3].set_xlabel(r'$\\phi$[rad m$^{-2}$]')\n",
    "        self.ax[1,3].set_ylabel(r'Jy/beam m$^2$ rad$^{-1}$ rmtf$^{-1}$')\n",
    "        self.ax[1,3].title.set_text(\"Restored\")\n",
    "        \n",
    "        self.fig.tight_layout()\n",
    "        \"\"\""
   ]
  },
  {
   "cell_type": "code",
   "execution_count": 8,
   "id": "dd9c11eb",
   "metadata": {
    "ExecuteTime": {
     "end_time": "2022-10-10T10:23:16.442908Z",
     "start_time": "2022-10-10T10:23:16.386105Z"
    },
    "pycharm": {
     "name": "#%%\n"
    }
   },
   "outputs": [],
   "source": [
    "def run_test(\n",
    "    source_1,\n",
    "    source_2,\n",
    "    nsigma,\n",
    "    remove_frac,\n",
    "    nu_min=1.008e9,\n",
    "    nu_max=2.031e9,\n",
    "    nchannels=1000,\n",
    "    scenario=1,\n",
    "    use_wavelet=None,\n",
    "    append_signal=False\n",
    "):\n",
    "    nosigma_objs = []\n",
    "    for remv_frac in remove_frac:\n",
    "        nosigma_objs.append(\n",
    "            Test(\n",
    "                nu_min=nu_min,\n",
    "                nu_max=nu_max,\n",
    "                nchannels=nchannels,\n",
    "                noise_frac=0.0,\n",
    "                remove_frac=remv_frac,\n",
    "                scenario=scenario,\n",
    "                source_1=source_1,\n",
    "                source_2=source_2,\n",
    "                use_wavelet=use_wavelet,\n",
    "                append_signal=append_signal\n",
    "            )\n",
    "        )\n",
    "\n",
    "    test_objs = []\n",
    "    for nsig in nsigma:\n",
    "        for i in range(0, len(remove_frac)):\n",
    "            copy_object = copy.deepcopy(nosigma_objs[i])\n",
    "            copy_object.noise_frac = nsig\n",
    "            copy_object.apply_noise()\n",
    "            test_objs.append(copy_object)\n",
    "\n",
    "    del nosigma_objs\n",
    "\n",
    "    nid = len(nsigma) * len(remove_frac)\n",
    "    for _id in range(0, nid):\n",
    "        test_objs[_id].run()\n",
    "\n",
    "    return test_objs"
   ]
  },
  {
   "cell_type": "code",
   "execution_count": 9,
   "id": "edfe2e9b",
   "metadata": {
    "ExecuteTime": {
     "end_time": "2022-10-10T10:23:16.503716Z",
     "start_time": "2022-10-10T10:23:16.443985Z"
    },
    "pycharm": {
     "name": "#%%\n"
    }
   },
   "outputs": [],
   "source": [
    "# JVLA 1.008 - 2.031 GHz 546 channels\n",
    "# MeerKAT 0.9 GHz-1.420 GHz 546\n",
    "# eMERLIN 1.230 - 1.740 GHz 4096\n",
    "def run_tests(\n",
    "    source_1,\n",
    "    source_2,\n",
    "    nsigma,\n",
    "    remove_frac,\n",
    "    nsamples,\n",
    "    nu_min=1.008e9,\n",
    "    nu_max=2.031e9,\n",
    "    nchannels=1000,\n",
    "    scenario=1,\n",
    "    use_wavelet=None,\n",
    "    append_signal=False\n",
    "):\n",
    "    m = len(nsigma)\n",
    "    n = len(remove_frac)\n",
    "    psnrs = statistics(m, n, nsamples)\n",
    "    rmses = statistics(m, n, nsamples)\n",
    "    #noises = statistics(m, n, nsamples)\n",
    "    sparsities = statistics(m, n, nsamples)\n",
    "    #ginies = statistics(m, n, nsamples)\n",
    "    aics = statistics(m, n, nsamples)\n",
    "    bics = statistics(m, n, nsamples)\n",
    "\n",
    "    for i in range(0, nsamples):\n",
    "        test = run_test(\n",
    "            source_1,\n",
    "            source_2,\n",
    "            nsigma,\n",
    "            remove_frac,\n",
    "            nu_min=nu_min,\n",
    "            nu_max=nu_max,\n",
    "            nchannels=nchannels,\n",
    "            scenario=scenario,\n",
    "            use_wavelet=use_wavelet,\n",
    "            append_signal=append_signal\n",
    "        )\n",
    "        psnrs.cumul(list_to2darray([x.psnr for x in test], n, dtype=np.float32))\n",
    "        #noises.cumul(list_to2darray([x.res_noise for x in test], n, dtype=np.float32))\n",
    "        sparsities.cumul(list_to2darray([x.sparsity * 100.0 for x in test], n, dtype=np.float32))\n",
    "        #ginies.cumul(list_to2darray([x.gini for x in test], n, dtype=np.float32))\n",
    "        rmses.cumul(list_to2darray([x.rmse for x in test], n, dtype=np.float32))\n",
    "        aics.cumul(list_to2darray([x.aic for x in test], n, dtype=np.float32))\n",
    "        bics.cumul(list_to2darray([x.bic for x in test], n, dtype=np.float32))\n",
    "        for t in test:\n",
    "            del t\n",
    "        test = []\n",
    "\n",
    "    psnr_mean, psnr_std = psnrs.mean(), psnrs.std()\n",
    "    rmse_mean, rmse_std = rmses.mean(), rmses.std()\n",
    "    #noise_mean, noise_std = noises.mean(), noises.std()\n",
    "    sparsity_mean, sparsity_std = sparsities.mean(), sparsities.std()\n",
    "    #gini_mean, gini_std = ginies.mean(), ginies.std()\n",
    "    aic_mean, aic_std = aics.mean(), aics.std()\n",
    "    bic_mean, bic_std = bics.mean(), bics.std()\n",
    "    return psnr_mean, psnr_std, rmse_mean, rmse_std, aic_mean, aic_std, bic_mean, bic_std, sparsity_mean, sparsity_std"
   ]
  },
  {
   "cell_type": "code",
   "execution_count": 10,
   "id": "2df5426b",
   "metadata": {
    "ExecuteTime": {
     "end_time": "2022-10-10T10:23:16.563543Z",
     "start_time": "2022-10-10T10:23:16.505324Z"
    },
    "pycharm": {
     "name": "#%%\n"
    }
   },
   "outputs": [],
   "source": [
    "source_1 = FaradayThinSource(s_nu=0.0035, phi_gal=-200, spectral_idx=1.0)\n",
    "source_2 = FaradayThickSource(s_nu=0.0035, phi_fg=140, phi_center=200, spectral_idx=1.0)"
   ]
  },
  {
   "cell_type": "code",
   "execution_count": 11,
   "id": "e7e34513",
   "metadata": {
    "ExecuteTime": {
     "end_time": "2022-10-10T10:23:16.615931Z",
     "start_time": "2022-10-10T10:23:16.565107Z"
    },
    "pycharm": {
     "name": "#%%\n"
    }
   },
   "outputs": [],
   "source": [
    "nsigma = [0.2]\n",
    "remove_frac = [0.3]\n",
    "scenarios = [1, 2, 3]"
   ]
  },
  {
   "cell_type": "code",
   "execution_count": 12,
   "id": "f9cc3e0e",
   "metadata": {
    "ExecuteTime": {
     "end_time": "2022-10-10T11:19:09.655635Z",
     "start_time": "2022-10-10T10:23:16.617683Z"
    },
    "pycharm": {
     "name": "#%%\n"
    }
   },
   "outputs": [
    {
     "name": "stdout",
     "output_type": "stream",
     "text": [
      "FWHM of the main peak of the RMTF: 56.638 rad/m^2\n",
      "Maximum recovered width structure: 144.042 rad/m^2\n",
      "Maximum Faraday Depth to which one has more than 50% sensitivity: 19795.009\n",
      "Signal-to-noise ratio: 37.61603414588614\n",
      "Peak Signal-to-noise ratio: 236.16695722234215\n",
      "Standard deviation: 2.4246604880318046e-05\n",
      "FWHM of the main peak of the RMTF: 52.917 rad/m^2\n",
      "Maximum recovered width structure: 137.719 rad/m^2\n",
      "Maximum Faraday Depth to which one has more than 50% sensitivity: 18494.321\n",
      "Signal-to-noise ratio: 2.5523571178627886\n",
      "Peak Signal-to-noise ratio: 87.04932065197517\n",
      "Standard deviation: 3.735479185706936e-05\n",
      "FWHM of the main peak of the RMTF: 52.102 rad/m^2\n",
      "Maximum recovered width structure: 144.188 rad/m^2\n",
      "Maximum Faraday Depth to which one has more than 50% sensitivity: 18209.648\n",
      "Signal-to-noise ratio: 8.943200682554679\n",
      "Peak Signal-to-noise ratio: 136.49852473187016\n",
      "Standard deviation: 2.5146680854959413e-05\n",
      "FWHM of the main peak of the RMTF: 62.599 rad/m^2\n",
      "Maximum recovered width structure: 142.448 rad/m^2\n",
      "Maximum Faraday Depth to which one has more than 50% sensitivity: 21878.232\n",
      "Signal-to-noise ratio: 19.383344201419966\n",
      "Peak Signal-to-noise ratio: 191.72778222620965\n",
      "Standard deviation: 3.0205590519472025e-05\n",
      "FWHM of the main peak of the RMTF: 52.276 rad/m^2\n",
      "Maximum recovered width structure: 142.737 rad/m^2\n",
      "Maximum Faraday Depth to which one has more than 50% sensitivity: 18270.484\n",
      "Signal-to-noise ratio: 28.63751118833998\n",
      "Peak Signal-to-noise ratio: 183.90401245295064\n",
      "Standard deviation: 2.454195055179298e-05\n",
      "FWHM of the main peak of the RMTF: 52.154 rad/m^2\n",
      "Maximum recovered width structure: 143.752 rad/m^2\n",
      "Maximum Faraday Depth to which one has more than 50% sensitivity: 18227.760\n",
      "Signal-to-noise ratio: 43.524433846340756\n",
      "Peak Signal-to-noise ratio: 162.26288181090575\n",
      "Standard deviation: 2.7748166758101434e-05\n",
      "FWHM of the main peak of the RMTF: 54.684 rad/m^2\n",
      "Maximum recovered width structure: 144.188 rad/m^2\n",
      "Maximum Faraday Depth to which one has more than 50% sensitivity: 19111.931\n",
      "Signal-to-noise ratio: 5.012164678912447\n",
      "Peak Signal-to-noise ratio: 109.98001698431187\n",
      "Standard deviation: 3.1888270314084366e-05\n",
      "FWHM of the main peak of the RMTF: 52.223 rad/m^2\n",
      "Maximum recovered width structure: 143.172 rad/m^2\n",
      "Maximum Faraday Depth to which one has more than 50% sensitivity: 18252.094\n",
      "Signal-to-noise ratio: 179.4509708114705\n",
      "Peak Signal-to-noise ratio: 847.49139209836\n",
      "Standard deviation: 3.200836727046408e-05\n",
      "FWHM of the main peak of the RMTF: 52.102 rad/m^2\n",
      "Maximum recovered width structure: 144.188 rad/m^2\n",
      "Maximum Faraday Depth to which one has more than 50% sensitivity: 18209.648\n",
      "Signal-to-noise ratio: 237.66751117255112\n",
      "Peak Signal-to-noise ratio: 911.3452784424718\n",
      "Standard deviation: 3.0155813874443993e-05\n",
      "FWHM of the main peak of the RMTF: 62.630 rad/m^2\n",
      "Maximum recovered width structure: 144.188 rad/m^2\n",
      "Maximum Faraday Depth to which one has more than 50% sensitivity: 21889.018\n",
      "Signal-to-noise ratio: 31.530514007198022\n",
      "Peak Signal-to-noise ratio: 193.33534921698484\n",
      "Standard deviation: 2.343822779948823e-05\n",
      "FWHM of the main peak of the RMTF: 52.525 rad/m^2\n",
      "Maximum recovered width structure: 144.188 rad/m^2\n",
      "Maximum Faraday Depth to which one has more than 50% sensitivity: 18357.386\n",
      "Signal-to-noise ratio: 337.70657001921836\n",
      "Peak Signal-to-noise ratio: 1254.4433176964449\n",
      "Standard deviation: 2.315711935807485e-05\n",
      "FWHM of the main peak of the RMTF: 52.102 rad/m^2\n",
      "Maximum recovered width structure: 144.188 rad/m^2\n",
      "Maximum Faraday Depth to which one has more than 50% sensitivity: 18209.648\n",
      "Signal-to-noise ratio: 25.16841323761764\n",
      "Peak Signal-to-noise ratio: 123.92775077022749\n",
      "Standard deviation: 2.5085195375140756e-05\n",
      "FWHM of the main peak of the RMTF: 52.508 rad/m^2\n",
      "Maximum recovered width structure: 140.863 rad/m^2\n",
      "Maximum Faraday Depth to which one has more than 50% sensitivity: 18351.594\n",
      "Signal-to-noise ratio: 301.0182122455894\n",
      "Peak Signal-to-noise ratio: 1246.523908970286\n",
      "Standard deviation: 2.8719401598209515e-05\n",
      "FWHM of the main peak of the RMTF: 52.879 rad/m^2\n",
      "Maximum recovered width structure: 138.003 rad/m^2\n",
      "Maximum Faraday Depth to which one has more than 50% sensitivity: 18481.052\n",
      "Signal-to-noise ratio: 8.174843676182599\n",
      "Peak Signal-to-noise ratio: 115.03429947270901\n",
      "Standard deviation: 3.0252882424974814e-05\n",
      "FWHM of the main peak of the RMTF: 54.377 rad/m^2\n",
      "Maximum recovered width structure: 143.172 rad/m^2\n",
      "Maximum Faraday Depth to which one has more than 50% sensitivity: 19004.892\n",
      "Signal-to-noise ratio: 358.6033021923468\n",
      "Peak Signal-to-noise ratio: 1475.2514707640212\n",
      "Standard deviation: 2.8500959160737693e-05\n",
      "FWHM of the main peak of the RMTF: 52.102 rad/m^2\n",
      "Maximum recovered width structure: 144.188 rad/m^2\n",
      "Maximum Faraday Depth to which one has more than 50% sensitivity: 18209.648\n",
      "Signal-to-noise ratio: 4.166192004227587\n",
      "Peak Signal-to-noise ratio: 111.2208550859983\n",
      "Standard deviation: 2.750475687207654e-05\n",
      "FWHM of the main peak of the RMTF: 52.102 rad/m^2\n",
      "Maximum recovered width structure: 144.188 rad/m^2\n",
      "Maximum Faraday Depth to which one has more than 50% sensitivity: 18209.648\n",
      "Signal-to-noise ratio: 11.624387984610886\n",
      "Peak Signal-to-noise ratio: 76.17956374060593\n",
      "Standard deviation: 3.8232290535233915e-05\n",
      "FWHM of the main peak of the RMTF: 58.925 rad/m^2\n",
      "Maximum recovered width structure: 144.188 rad/m^2\n",
      "Maximum Faraday Depth to which one has more than 50% sensitivity: 20594.365\n",
      "Signal-to-noise ratio: 9.340679011244877\n",
      "Peak Signal-to-noise ratio: 87.55193765878346\n",
      "Standard deviation: 2.974432209157385e-05\n",
      "FWHM of the main peak of the RMTF: 55.552 rad/m^2\n",
      "Maximum recovered width structure: 140.002 rad/m^2\n",
      "Maximum Faraday Depth to which one has more than 50% sensitivity: 19415.294\n",
      "Signal-to-noise ratio: 1741.529623969029\n",
      "Peak Signal-to-noise ratio: 3230.844750785835\n",
      "Standard deviation: 1.5481069567613304e-05\n",
      "FWHM of the main peak of the RMTF: 52.102 rad/m^2\n",
      "Maximum recovered width structure: 144.188 rad/m^2\n",
      "Maximum Faraday Depth to which one has more than 50% sensitivity: 18209.648\n",
      "Signal-to-noise ratio: 396.49139432999743\n",
      "Peak Signal-to-noise ratio: 999.5877529295044\n",
      "Standard deviation: 2.0282723198761232e-05\n",
      "FWHM of the main peak of the RMTF: 52.102 rad/m^2\n",
      "Maximum recovered width structure: 144.188 rad/m^2\n",
      "Maximum Faraday Depth to which one has more than 50% sensitivity: 18209.648\n",
      "Signal-to-noise ratio: 8.1529067190971\n",
      "Peak Signal-to-noise ratio: 109.90567188383734\n",
      "Standard deviation: 3.309024032205343e-05\n",
      "FWHM of the main peak of the RMTF: 52.102 rad/m^2\n",
      "Maximum recovered width structure: 144.188 rad/m^2\n",
      "Maximum Faraday Depth to which one has more than 50% sensitivity: 18209.648\n",
      "Signal-to-noise ratio: 7.27733805369454\n",
      "Peak Signal-to-noise ratio: 94.25819891768423\n",
      "Standard deviation: 2.81637749139918e-05\n",
      "FWHM of the main peak of the RMTF: 55.272 rad/m^2\n",
      "Maximum recovered width structure: 144.188 rad/m^2\n",
      "Maximum Faraday Depth to which one has more than 50% sensitivity: 19317.701\n",
      "Signal-to-noise ratio: 18.43055849014895\n",
      "Peak Signal-to-noise ratio: 147.62102723725278\n",
      "Standard deviation: 3.17753801937215e-05\n",
      "FWHM of the main peak of the RMTF: 54.011 rad/m^2\n",
      "Maximum recovered width structure: 130.153 rad/m^2\n",
      "Maximum Faraday Depth to which one has more than 50% sensitivity: 18876.726\n",
      "Signal-to-noise ratio: 37.00822446946807\n",
      "Peak Signal-to-noise ratio: 158.93956543779535\n",
      "Standard deviation: 2.925925400631968e-05\n",
      "FWHM of the main peak of the RMTF: 52.241 rad/m^2\n",
      "Maximum recovered width structure: 143.027 rad/m^2\n",
      "Maximum Faraday Depth to which one has more than 50% sensitivity: 18258.210\n",
      "Signal-to-noise ratio: 9.914412836188173\n",
      "Peak Signal-to-noise ratio: 78.06890919680926\n",
      "Standard deviation: 3.5495118936523795e-05\n",
      "FWHM of the main peak of the RMTF: 54.391 rad/m^2\n",
      "Maximum recovered width structure: 144.188 rad/m^2\n",
      "Maximum Faraday Depth to which one has more than 50% sensitivity: 19009.775\n",
      "Signal-to-noise ratio: 25.47141060262055\n",
      "Peak Signal-to-noise ratio: 230.14222591579448\n",
      "Standard deviation: 3.433636447880417e-05\n",
      "FWHM of the main peak of the RMTF: 57.838 rad/m^2\n",
      "Maximum recovered width structure: 144.188 rad/m^2\n",
      "Maximum Faraday Depth to which one has more than 50% sensitivity: 20214.404\n",
      "Signal-to-noise ratio: 13.201619706028488\n",
      "Peak Signal-to-noise ratio: 89.62656133117325\n",
      "Standard deviation: 3.375315645826049e-05\n",
      "FWHM of the main peak of the RMTF: 52.102 rad/m^2\n",
      "Maximum recovered width structure: 144.188 rad/m^2\n",
      "Maximum Faraday Depth to which one has more than 50% sensitivity: 18209.648\n"
     ]
    },
    {
     "name": "stdout",
     "output_type": "stream",
     "text": [
      "Signal-to-noise ratio: 14.205580779678122\n",
      "Peak Signal-to-noise ratio: 80.68039333870838\n",
      "Standard deviation: 3.5714525438379496e-05\n",
      "FWHM of the main peak of the RMTF: 57.406 rad/m^2\n",
      "Maximum recovered width structure: 140.863 rad/m^2\n",
      "Maximum Faraday Depth to which one has more than 50% sensitivity: 20063.297\n",
      "Signal-to-noise ratio: 20.399812276175716\n",
      "Peak Signal-to-noise ratio: 103.99848423269461\n",
      "Standard deviation: 2.176630550820846e-05\n",
      "FWHM of the main peak of the RMTF: 52.102 rad/m^2\n",
      "Maximum recovered width structure: 144.188 rad/m^2\n",
      "Maximum Faraday Depth to which one has more than 50% sensitivity: 18209.648\n",
      "Signal-to-noise ratio: 5.518265515001983\n",
      "Peak Signal-to-noise ratio: 119.26548850899272\n",
      "Standard deviation: 2.424180638627149e-05\n",
      "FWHM of the main peak of the RMTF: 54.844 rad/m^2\n",
      "Maximum recovered width structure: 136.585 rad/m^2\n",
      "Maximum Faraday Depth to which one has more than 50% sensitivity: 19168.041\n",
      "Signal-to-noise ratio: 283.20106858401476\n",
      "Peak Signal-to-noise ratio: 1007.3643245877262\n",
      "Standard deviation: 3.226935587008484e-05\n",
      "FWHM of the main peak of the RMTF: 57.525 rad/m^2\n",
      "Maximum recovered width structure: 143.172 rad/m^2\n",
      "Maximum Faraday Depth to which one has more than 50% sensitivity: 20104.994\n",
      "Signal-to-noise ratio: 187.18656140294857\n",
      "Peak Signal-to-noise ratio: 574.8042207335983\n",
      "Standard deviation: 2.3096054064808413e-05\n",
      "FWHM of the main peak of the RMTF: 52.102 rad/m^2\n",
      "Maximum recovered width structure: 144.188 rad/m^2\n",
      "Maximum Faraday Depth to which one has more than 50% sensitivity: 1"
     ]
    },
    {
     "data": {
      "text/html": [
       "<b>limit_output extension: Maximum message size of 10000 exceeded with 10009 characters</b>"
      ]
     },
     "metadata": {},
     "output_type": "display_data"
    }
   ],
   "source": [
    "names = [\"PSNR\", \"RMSE\", \"AIC\", \"BIC\"]\n",
    "samples = 50\n",
    "scenarios_means = np.empty((3, len(names)), dtype=np.float32)\n",
    "scenarios_stds = np.empty((3, len(names)), dtype=np.float32)\n",
    "\n",
    "append_signal = False\n",
    "\n",
    "for i in range(len(scenarios)):\n",
    "    psnr_mean, psnr_std, rmse_mean, rmse_std, aic_mean, aic_std, bic_mean, bic_std, sparsity_mean, sparsity_std = run_tests(\n",
    "        source_1,\n",
    "        source_2,\n",
    "        nsigma,\n",
    "        remove_frac,\n",
    "        samples,\n",
    "        scenario=scenarios[i],\n",
    "        use_wavelet=None,\n",
    "        append_signal=append_signal,\n",
    "        nu_min=1.008e9,\n",
    "        nu_max=2.031e9\n",
    "    )\n",
    "    scenarios_means[i, 0] = psnr_mean\n",
    "    scenarios_means[i, 1] = rmse_mean\n",
    "    scenarios_means[i, 2] = aic_mean\n",
    "    scenarios_means[i, 3] = bic_mean\n",
    "\n",
    "    scenarios_stds[i, 0] = psnr_std\n",
    "    scenarios_stds[i, 1] = rmse_std\n",
    "    scenarios_stds[i, 2] = aic_std\n",
    "    scenarios_stds[i, 3] = bic_std"
   ]
  },
  {
   "cell_type": "code",
   "execution_count": 13,
   "id": "fc6a8ad2",
   "metadata": {
    "ExecuteTime": {
     "end_time": "2022-10-10T11:19:09.666291Z",
     "start_time": "2022-10-10T11:19:09.656998Z"
    },
    "pycharm": {
     "name": "#%%\n"
    }
   },
   "outputs": [],
   "source": [
    "radiotelescope = \"jvla\"\n",
    "np.save(\"deltaf_\" + radiotelescope + \"_scenarios_means.npy\", scenarios_means)\n",
    "np.save(\"deltaf_\" + radiotelescope + \"_scenarios_stds.npy\", scenarios_stds)"
   ]
  },
  {
   "cell_type": "code",
   "execution_count": 14,
   "id": "7dc585af",
   "metadata": {
    "ExecuteTime": {
     "end_time": "2022-10-10T11:19:09.730031Z",
     "start_time": "2022-10-10T11:19:09.667965Z"
    },
    "pycharm": {
     "name": "#%%\n"
    }
   },
   "outputs": [
    {
     "name": "stdout",
     "output_type": "stream",
     "text": [
      "Scenario 1: Best AIC Delta function basis : -12565.85 \\pm 2554.65\n",
      "Scenario 2: Best AIC Delta function basis : -12004.64 \\pm 2768.96\n",
      "Scenario 3: Best AIC Delta function basis : -12022.95 \\pm 2536.90\n"
     ]
    }
   ],
   "source": [
    "print(\n",
    "    \"Scenario 1: Best AIC Delta function basis : {0:.2f} \\pm {1:.2f}\".format(\n",
    "        scenarios_means[0, 2], scenarios_stds[0, 2]\n",
    "    )\n",
    ")\n",
    "print(\n",
    "    \"Scenario 2: Best AIC Delta function basis : {0:.2f} \\pm {1:.2f}\".format(\n",
    "        scenarios_means[1, 2], scenarios_stds[1, 2]\n",
    "    )\n",
    ")\n",
    "print(\n",
    "    \"Scenario 3: Best AIC Delta function basis : {0:.2f} \\pm {1:.2f}\".format(\n",
    "        scenarios_means[2, 2], scenarios_stds[2, 2]\n",
    "    )\n",
    ")"
   ]
  },
  {
   "cell_type": "code",
   "execution_count": 15,
   "id": "4b5b430f",
   "metadata": {
    "ExecuteTime": {
     "end_time": "2022-10-10T11:19:09.777756Z",
     "start_time": "2022-10-10T11:19:09.730997Z"
    },
    "pycharm": {
     "name": "#%%\n"
    }
   },
   "outputs": [
    {
     "name": "stdout",
     "output_type": "stream",
     "text": [
      "Scenario 1: Best BIC Delta function basis : 7612.15 \\pm 9164.23\n",
      "Scenario 2: Best BIC Delta function basis : 9959.96 \\pm 10194.14\n",
      "Scenario 3: Best BIC Delta function basis : 9875.58 \\pm 9413.10\n"
     ]
    }
   ],
   "source": [
    "print(\n",
    "    \"Scenario 1: Best BIC Delta function basis : {0:.2f} \\pm {1:.2f}\".format(\n",
    "        scenarios_means[0, 3], scenarios_stds[0, 3]\n",
    "    )\n",
    ")\n",
    "print(\n",
    "    \"Scenario 2: Best BIC Delta function basis : {0:.2f} \\pm {1:.2f}\".format(\n",
    "        scenarios_means[1, 3], scenarios_stds[1, 3]\n",
    "    )\n",
    ")\n",
    "print(\n",
    "    \"Scenario 3: Best BIC Delta function basis : {0:.2f} \\pm {1:.2f}\".format(\n",
    "        scenarios_means[2, 3], scenarios_stds[2, 3]\n",
    "    )\n",
    ")"
   ]
  },
  {
   "cell_type": "code",
   "execution_count": 16,
   "id": "4e5884f9",
   "metadata": {
    "ExecuteTime": {
     "end_time": "2022-10-10T11:19:09.827296Z",
     "start_time": "2022-10-10T11:19:09.778862Z"
    },
    "pycharm": {
     "name": "#%%\n"
    }
   },
   "outputs": [
    {
     "name": "stdout",
     "output_type": "stream",
     "text": [
      "Scenario 1: Best PSNR Delta function basis : 499.04 \\pm 632.79\n",
      "Scenario 2: Best PSNR Delta function basis : 536.07 \\pm 658.17\n",
      "Scenario 3: Best PSNR Delta function basis : 673.90 \\pm 934.62\n"
     ]
    }
   ],
   "source": [
    "print(\n",
    "    \"Scenario 1: Best PSNR Delta function basis : {0:.2f} \\pm {1:.2f}\".format(\n",
    "        scenarios_means[0, 0], scenarios_stds[0, 0]\n",
    "    )\n",
    ")\n",
    "print(\n",
    "    \"Scenario 2: Best PSNR Delta function basis : {0:.2f} \\pm {1:.2f}\".format(\n",
    "        scenarios_means[1, 0], scenarios_stds[1, 0]\n",
    "    )\n",
    ")\n",
    "print(\n",
    "    \"Scenario 3: Best PSNR Delta function basis : {0:.2f} \\pm {1:.2f}\".format(\n",
    "        scenarios_means[2, 0], scenarios_stds[2, 0]\n",
    "    )\n",
    ")"
   ]
  },
  {
   "cell_type": "code",
   "execution_count": 17,
   "id": "29307609",
   "metadata": {
    "ExecuteTime": {
     "end_time": "2022-10-10T11:19:09.887847Z",
     "start_time": "2022-10-10T11:19:09.828954Z"
    },
    "pycharm": {
     "name": "#%%\n"
    }
   },
   "outputs": [
    {
     "name": "stdout",
     "output_type": "stream",
     "text": [
      "Scenario 1: Best RMSE Delta function basis : 72.35 \\pm 7.02\n",
      "Scenario 2: Best RMSE Delta function basis : 69.61 \\pm 8.90\n",
      "Scenario 3: Best RMSE Delta function basis : 69.63 \\pm 7.79\n"
     ]
    }
   ],
   "source": [
    "print(\n",
    "    \"Scenario 1: Best RMSE Delta function basis : {0:.2f} \\pm {1:.2f}\".format(\n",
    "        scenarios_means[0, 1] * 10**5, scenarios_stds[0, 1] * 10**5\n",
    "    )\n",
    ")\n",
    "print(\n",
    "    \"Scenario 2: Best RMSE Delta function basis : {0:.2f} \\pm {1:.2f}\".format(\n",
    "        scenarios_means[1, 1] * 10**5, scenarios_stds[1, 1] * 10**5\n",
    "    )\n",
    ")\n",
    "print(\n",
    "    \"Scenario 3: Best RMSE Delta function basis : {0:.2f} \\pm {1:.2f}\".format(\n",
    "        scenarios_means[2, 1] * 10**5, scenarios_stds[2, 1] * 10**5\n",
    "    )\n",
    ")"
   ]
  },
  {
   "cell_type": "code",
   "execution_count": null,
   "id": "5f973048",
   "metadata": {
    "pycharm": {
     "name": "#%%\n"
    }
   },
   "outputs": [],
   "source": []
  }
 ],
 "metadata": {
  "kernelspec": {
   "display_name": "Python 3 (ipykernel)",
   "language": "python",
   "name": "python3"
  },
  "language_info": {
   "codemirror_mode": {
    "name": "ipython",
    "version": 3
   },
   "file_extension": ".py",
   "mimetype": "text/x-python",
   "name": "python",
   "nbconvert_exporter": "python",
   "pygments_lexer": "ipython3",
   "version": "3.10.7"
  },
  "latex_envs": {
   "LaTeX_envs_menu_present": true,
   "autoclose": false,
   "autocomplete": true,
   "bibliofile": "biblio.bib",
   "cite_by": "apalike",
   "current_citInitial": 1,
   "eqLabelWithNumbers": true,
   "eqNumInitial": 1,
   "hotkeys": {
    "equation": "Ctrl-E",
    "itemize": "Ctrl-I"
   },
   "labels_anchors": false,
   "latex_user_defs": false,
   "report_style_numbering": false,
   "user_envs_cfg": false
  },
  "toc": {
   "base_numbering": 1,
   "nav_menu": {},
   "number_sections": true,
   "sideBar": true,
   "skip_h1_title": false,
   "title_cell": "Table of Contents",
   "title_sidebar": "Contents",
   "toc_cell": false,
   "toc_position": {},
   "toc_section_display": true,
   "toc_window_display": false
  },
  "varInspector": {
   "cols": {
    "lenName": 16,
    "lenType": 16,
    "lenVar": 40
   },
   "kernels_config": {
    "python": {
     "delete_cmd_postfix": "",
     "delete_cmd_prefix": "del ",
     "library": "var_list.py",
     "varRefreshCmd": "print(var_dic_list())"
    },
    "r": {
     "delete_cmd_postfix": ") ",
     "delete_cmd_prefix": "rm(",
     "library": "var_list.r",
     "varRefreshCmd": "cat(var_dic_list()) "
    }
   },
   "types_to_exclude": [
    "module",
    "function",
    "builtin_function_or_method",
    "instance",
    "_Feature"
   ],
   "window_display": false
  }
 },
 "nbformat": 4,
 "nbformat_minor": 5
}
