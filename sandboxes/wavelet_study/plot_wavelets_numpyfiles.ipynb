{
 "cells": [
  {
   "cell_type": "code",
   "execution_count": 1,
   "id": "0142b612",
   "metadata": {
    "ExecuteTime": {
     "end_time": "2022-07-01T12:44:08.006058Z",
     "start_time": "2022-07-01T12:44:07.515606Z"
    }
   },
   "outputs": [],
   "source": [
    "import os\n",
    "\n",
    "import matplotlib.pyplot as plt\n",
    "import numpy as np\n",
    "import pywt\n",
    "\n",
    "%matplotlib inline"
   ]
  },
  {
   "cell_type": "code",
   "execution_count": 2,
   "id": "9a257732",
   "metadata": {
    "ExecuteTime": {
     "end_time": "2022-07-01T12:44:08.010251Z",
     "start_time": "2022-07-01T12:44:08.007384Z"
    }
   },
   "outputs": [],
   "source": [
    "SMALL_SIZE = 17\n",
    "MEDIUM_SIZE = 18\n",
    "BIGGER_SIZE = 19\n",
    "\n",
    "plt.rcParams.update(\n",
    "    {\n",
    "        \"font.family\": \"serif\",\n",
    "        \"text.usetex\": True,\n",
    "        \"pgf.rcfonts\": False,\n",
    "        \"pgf.texsystem\": 'pdflatex',  # default is xetex\n",
    "    }\n",
    ")\n",
    "\n",
    "plt.rc('font', size=MEDIUM_SIZE)  # controls default text sizes\n",
    "plt.rc('axes', titlesize=SMALL_SIZE)  # fontsize of the axes title\n",
    "plt.rc('axes', labelsize=MEDIUM_SIZE)  # fontsize of the x and y labels\n",
    "plt.rc('xtick', labelsize=SMALL_SIZE)  # fontsize of the tick labels\n",
    "plt.rc('ytick', labelsize=SMALL_SIZE)  # fontsize of the tick labels\n",
    "plt.rc('legend', fontsize=SMALL_SIZE)  # legend fontsize"
   ]
  },
  {
   "cell_type": "code",
   "execution_count": 3,
   "id": "aad9a921",
   "metadata": {
    "ExecuteTime": {
     "end_time": "2022-07-01T12:44:08.071385Z",
     "start_time": "2022-07-01T12:44:08.011930Z"
    }
   },
   "outputs": [],
   "source": [
    "nscenarios = 3"
   ]
  },
  {
   "cell_type": "code",
   "execution_count": 4,
   "id": "8460ebfe",
   "metadata": {
    "ExecuteTime": {
     "end_time": "2022-07-01T12:44:08.120355Z",
     "start_time": "2022-07-01T12:44:08.072709Z"
    }
   },
   "outputs": [],
   "source": [
    "undecimated = \"undecimated_\"\n",
    "radiotelescope = \"jvla\""
   ]
  },
  {
   "cell_type": "code",
   "execution_count": 5,
   "id": "0fe0d5e2",
   "metadata": {
    "ExecuteTime": {
     "end_time": "2022-07-01T12:44:08.216203Z",
     "start_time": "2022-07-01T12:44:08.121652Z"
    }
   },
   "outputs": [],
   "source": [
    "scenario_1_means = np.load(undecimated + \"wavelet_\" + radiotelescope + \"_scenario_1_means.npy\")\n",
    "scenario_1_stds = np.load(undecimated + \"wavelet_\" + radiotelescope + \"_scenario_1_stds.npy\")\n",
    "\n",
    "scenario_2_means = np.load(undecimated + \"wavelet_\" + radiotelescope + \"_scenario_2_means.npy\")\n",
    "scenario_2_stds = np.load(undecimated + \"wavelet_\" + radiotelescope + \"_scenario_2_stds.npy\")\n",
    "\n",
    "scenario_3_means = np.load(undecimated + \"wavelet_\" + radiotelescope + \"_scenario_3_means.npy\")\n",
    "scenario_3_stds = np.load(undecimated + \"wavelet_\" + radiotelescope + \"_scenario_3_stds.npy\")"
   ]
  },
  {
   "cell_type": "code",
   "execution_count": 6,
   "id": "cf20d692",
   "metadata": {
    "ExecuteTime": {
     "end_time": "2022-07-01T12:44:08.270627Z",
     "start_time": "2022-07-01T12:44:08.217866Z"
    }
   },
   "outputs": [
    {
     "data": {
      "text/plain": [
       "(4, 17)"
      ]
     },
     "execution_count": 6,
     "metadata": {},
     "output_type": "execute_result"
    }
   ],
   "source": [
    "scenario_1_means.shape"
   ]
  },
  {
   "cell_type": "code",
   "execution_count": 7,
   "id": "8d0be00a",
   "metadata": {
    "ExecuteTime": {
     "end_time": "2022-07-01T12:44:08.316699Z",
     "start_time": "2022-07-01T12:44:08.271696Z"
    }
   },
   "outputs": [],
   "source": [
    "family_per_scenario = [\"coif\", \"haar\", \"haar\"]"
   ]
  },
  {
   "cell_type": "code",
   "execution_count": 8,
   "id": "7ba3cb20",
   "metadata": {
    "ExecuteTime": {
     "end_time": "2022-07-01T12:44:08.365074Z",
     "start_time": "2022-07-01T12:44:08.317715Z"
    }
   },
   "outputs": [],
   "source": [
    "wavelist_per_scenario = [pywt.wavelist(i, kind=\"discrete\") for i in family_per_scenario]"
   ]
  },
  {
   "cell_type": "code",
   "execution_count": 9,
   "id": "45874e4c",
   "metadata": {
    "ExecuteTime": {
     "end_time": "2022-07-01T12:44:08.414001Z",
     "start_time": "2022-07-01T12:44:08.366239Z"
    }
   },
   "outputs": [],
   "source": [
    "# Getting minimum AICs\n",
    "idx_sc1 = np.argmin(scenario_1_means[2])\n",
    "idx_sc2 = np.argmin(scenario_2_means[2])\n",
    "idx_sc3 = np.argmin(scenario_3_means[2])"
   ]
  },
  {
   "cell_type": "code",
   "execution_count": 10,
   "id": "38e4ffc7",
   "metadata": {
    "ExecuteTime": {
     "end_time": "2022-07-01T12:44:08.463791Z",
     "start_time": "2022-07-01T12:44:08.414973Z"
    }
   },
   "outputs": [
    {
     "name": "stdout",
     "output_type": "stream",
     "text": [
      "Scenario 1: Best AIC Wavelet family coif3 : -19160.76 \\pm 289.65\n",
      "Scenario 2: Best AIC Wavelet family haar : -19645.68 \\pm 224.31\n",
      "Scenario 3: Best AIC Wavelet family haar : -18843.48 \\pm 258.36\n"
     ]
    }
   ],
   "source": [
    "print(\n",
    "    \"Scenario 1: Best AIC Wavelet family {0} : {1:.2f} \\pm {2:.2f}\".format(\n",
    "        wavelist_per_scenario[0][idx_sc1], scenario_1_means[2, idx_sc1], scenario_1_stds[2, idx_sc1]\n",
    "    )\n",
    ")\n",
    "print(\n",
    "    \"Scenario 2: Best AIC Wavelet family {0} : {1:.2f} \\pm {2:.2f}\".format(\n",
    "        wavelist_per_scenario[1][idx_sc2], scenario_2_means[2, idx_sc2], scenario_2_stds[2, idx_sc2]\n",
    "    )\n",
    ")\n",
    "print(\n",
    "    \"Scenario 3: Best AIC Wavelet family {0} : {1:.2f} \\pm {2:.2f}\".format(\n",
    "        wavelist_per_scenario[2][idx_sc3], scenario_3_means[2, idx_sc3], scenario_3_stds[2, idx_sc3]\n",
    "    )\n",
    ")"
   ]
  },
  {
   "cell_type": "code",
   "execution_count": 11,
   "id": "4d427510",
   "metadata": {
    "ExecuteTime": {
     "end_time": "2022-07-01T12:44:08.539612Z",
     "start_time": "2022-07-01T12:44:08.465323Z"
    }
   },
   "outputs": [
    {
     "name": "stdout",
     "output_type": "stream",
     "text": [
      "Scenario 1: Best BIC Wavelet family coif3 : -17036.11 \\pm 969.87\n",
      "Scenario 2: Best BIC Wavelet family haar : -18211.49 \\pm 751.10\n",
      "Scenario 3: Best BIC Wavelet family haar : -16523.64 \\pm 766.83\n"
     ]
    }
   ],
   "source": [
    "print(\n",
    "    \"Scenario 1: Best BIC Wavelet family {0} : {1:.2f} \\pm {2:.2f}\".format(\n",
    "        wavelist_per_scenario[0][idx_sc1], scenario_1_means[3, idx_sc1], scenario_1_stds[3, idx_sc1]\n",
    "    )\n",
    ")\n",
    "print(\n",
    "    \"Scenario 2: Best BIC Wavelet family {0} : {1:.2f} \\pm {2:.2f}\".format(\n",
    "        wavelist_per_scenario[1][idx_sc2], scenario_2_means[3, idx_sc2], scenario_2_stds[3, idx_sc2]\n",
    "    )\n",
    ")\n",
    "print(\n",
    "    \"Scenario 3: Best BIC Wavelet family {0} : {1:.2f} \\pm {2:.2f}\".format(\n",
    "        wavelist_per_scenario[2][idx_sc3], scenario_3_means[3, idx_sc3], scenario_3_stds[3, idx_sc3]\n",
    "    )\n",
    ")"
   ]
  },
  {
   "cell_type": "code",
   "execution_count": 12,
   "id": "87dfadd7",
   "metadata": {
    "ExecuteTime": {
     "end_time": "2022-07-01T12:44:08.627762Z",
     "start_time": "2022-07-01T12:44:08.544168Z"
    }
   },
   "outputs": [
    {
     "name": "stdout",
     "output_type": "stream",
     "text": [
      "Scenario 1: Best PSNR Wavelet family coif3 : 108.09 \\pm 5.96\n",
      "Scenario 2: Best PSNR Wavelet family haar : 49.84 \\pm 4.91\n",
      "Scenario 3: Best PSNR Wavelet family haar : 101.53 \\pm 9.86\n"
     ]
    }
   ],
   "source": [
    "print(\n",
    "    \"Scenario 1: Best PSNR Wavelet family {0} : {1:.2f} \\pm {2:.2f}\".format(\n",
    "        wavelist_per_scenario[0][idx_sc1], scenario_1_means[0, idx_sc1], scenario_1_stds[0, idx_sc1]\n",
    "    )\n",
    ")\n",
    "print(\n",
    "    \"Scenario 2: Best PSNR Wavelet family {0} : {1:.2f} \\pm {2:.2f}\".format(\n",
    "        wavelist_per_scenario[1][idx_sc2], scenario_2_means[0, idx_sc2], scenario_2_stds[0, idx_sc2]\n",
    "    )\n",
    ")\n",
    "print(\n",
    "    \"Scenario 3: Best PSNR Wavelet family {0} : {1:.2f} \\pm {2:.2f}\".format(\n",
    "        wavelist_per_scenario[2][idx_sc3], scenario_3_means[0, idx_sc3], scenario_3_stds[0, idx_sc3]\n",
    "    )\n",
    ")"
   ]
  },
  {
   "cell_type": "code",
   "execution_count": 13,
   "id": "3154850d",
   "metadata": {
    "ExecuteTime": {
     "end_time": "2022-07-01T12:44:08.684594Z",
     "start_time": "2022-07-01T12:44:08.628948Z"
    }
   },
   "outputs": [
    {
     "name": "stdout",
     "output_type": "stream",
     "text": [
      "Scenario 1: Best RMSE Wavelet family coif3 : (79.95 \\pm 3.66)*1e-5\n",
      "Scenario 2: Best RMSE Wavelet family haar : (73.81 \\pm 1.76)*1e-5\n",
      "Scenario 3: Best RMSE Wavelet family haar : (87.25 \\pm 5.05)*1e-5\n"
     ]
    }
   ],
   "source": [
    "print(\n",
    "    \"Scenario 1: Best RMSE Wavelet family {0} : ({1:.2f} \\pm {2:.2f})*1e-5\".format(\n",
    "        wavelist_per_scenario[0][idx_sc1], scenario_1_means[1, idx_sc1] * 10**5,\n",
    "        scenario_1_stds[1, idx_sc1] * 10**5\n",
    "    )\n",
    ")\n",
    "print(\n",
    "    \"Scenario 2: Best RMSE Wavelet family {0} : ({1:.2f} \\pm {2:.2f})*1e-5\".format(\n",
    "        wavelist_per_scenario[1][idx_sc2], scenario_2_means[1, idx_sc2] * 10**5,\n",
    "        scenario_2_stds[1, idx_sc2] * 10**5\n",
    "    )\n",
    ")\n",
    "print(\n",
    "    \"Scenario 3: Best RMSE Wavelet family {0} : ({1:.2f} \\pm {2:.2f})*1e-5\".format(\n",
    "        wavelist_per_scenario[2][idx_sc3], scenario_3_means[1, idx_sc3] * 10**5,\n",
    "        scenario_3_stds[1, idx_sc3] * 10**5\n",
    "    )\n",
    ")"
   ]
  },
  {
   "cell_type": "code",
   "execution_count": 14,
   "id": "c511289c",
   "metadata": {
    "ExecuteTime": {
     "end_time": "2022-07-01T12:44:08.761523Z",
     "start_time": "2022-07-01T12:44:08.685548Z"
    }
   },
   "outputs": [
    {
     "data": {
      "text/plain": [
       "(4, 17)"
      ]
     },
     "execution_count": 14,
     "metadata": {},
     "output_type": "execute_result"
    }
   ],
   "source": [
    "scenario_1_means.shape"
   ]
  },
  {
   "cell_type": "code",
   "execution_count": 15,
   "id": "634b5b15",
   "metadata": {
    "ExecuteTime": {
     "end_time": "2022-07-01T12:44:08.817566Z",
     "start_time": "2022-07-01T12:44:08.762455Z"
    }
   },
   "outputs": [
    {
     "data": {
      "text/plain": [
       "38"
      ]
     },
     "execution_count": 15,
     "metadata": {},
     "output_type": "execute_result"
    }
   ],
   "source": [
    "len(pywt.wavelist(\"db\", kind=\"discrete\"))"
   ]
  },
  {
   "cell_type": "code",
   "execution_count": 16,
   "id": "77de9ce0",
   "metadata": {
    "ExecuteTime": {
     "end_time": "2022-07-01T12:44:08.874532Z",
     "start_time": "2022-07-01T12:44:08.818513Z"
    }
   },
   "outputs": [
    {
     "data": {
      "text/plain": [
       "17"
      ]
     },
     "execution_count": 16,
     "metadata": {},
     "output_type": "execute_result"
    }
   ],
   "source": [
    "len(wavelist_per_scenario[0])"
   ]
  },
  {
   "cell_type": "code",
   "execution_count": 17,
   "id": "b1dbe1f4",
   "metadata": {
    "ExecuteTime": {
     "end_time": "2022-07-01T12:44:08.930243Z",
     "start_time": "2022-07-01T12:44:08.875988Z"
    }
   },
   "outputs": [],
   "source": [
    "delta_basis_means = np.load(\"deltaf_jvla_scenarios_means.npy\")\n",
    "delta_basis_stds = np.load(\"deltaf_jvla_scenarios_stds.npy\")"
   ]
  },
  {
   "cell_type": "code",
   "execution_count": 18,
   "id": "153fef86",
   "metadata": {
    "ExecuteTime": {
     "end_time": "2022-07-01T12:44:10.733884Z",
     "start_time": "2022-07-01T12:44:08.931525Z"
    }
   },
   "outputs": [
    {
     "data": {
      "image/png": "[encoded data removed]",
      "text/plain": [
       "<Figure size 1296x360 with 12 Axes>"
      ]
     },
     "metadata": {
      "needs_background": "light"
     },
     "output_type": "display_data"
    }
   ],
   "source": [
    "names = [\"PSNR\", \"RMSE\", \"AIC\", \"BIC\"]\n",
    "fig, ax = plt.subplots(nrows=3, ncols=len(names), sharey='col', sharex='row', figsize=(18, 5))\n",
    "cmap1 = plt.get_cmap('tab20')\n",
    "cmap2 = plt.get_cmap('tab20')\n",
    "cmap3 = plt.get_cmap('tab20b')\n",
    "cmaps = [cmap1, cmap2, cmap3]\n",
    "\n",
    "for i in range(3):\n",
    "    wavelets = wavelist_per_scenario[i]\n",
    "    nwavelets = len(wavelets)\n",
    "    id_wav = np.arange(0, nwavelets)\n",
    "    colors = [cmaps[i](cmap) for cmap in np.linspace(0, 1, nwavelets)]\n",
    "    for j in range(len(names)):\n",
    "        for k in range(nwavelets):\n",
    "            if i == 0:\n",
    "                ax[i, j].plot(id_wav[k], scenario_1_means[j, k], label=wavelets[k], color=colors[k])\n",
    "                ax[i, j].errorbar(\n",
    "                    id_wav[k],\n",
    "                    scenario_1_means[j, k],\n",
    "                    yerr=scenario_1_means[j, k],\n",
    "                    fmt='.',\n",
    "                    capsize=4,\n",
    "                    color=colors[k]\n",
    "                )\n",
    "            elif i == 1:\n",
    "                ax[i, j].plot(id_wav[k], scenario_2_means[j, k], label=wavelets[k], color=colors[k])\n",
    "                ax[i, j].errorbar(\n",
    "                    id_wav[k],\n",
    "                    scenario_2_means[j, k],\n",
    "                    yerr=scenario_2_means[j, k],\n",
    "                    fmt='.',\n",
    "                    capsize=4,\n",
    "                    color=colors[k]\n",
    "                )\n",
    "            else:\n",
    "                ax[i, j].plot(id_wav[k], scenario_3_means[j, k], label=wavelets[k], color=colors[k])\n",
    "                ax[i, j].errorbar(\n",
    "                    id_wav[k],\n",
    "                    scenario_3_means[j, k],\n",
    "                    yerr=scenario_3_means[j, k],\n",
    "                    fmt='.',\n",
    "                    capsize=4,\n",
    "                    color=colors[k]\n",
    "                )\n",
    "                ax[i, j].set_xlabel(\"Wavelet\")\n",
    "            ax[i, j].set_ylabel(names[j])\n",
    "        if i == 2:\n",
    "            ax[i, j].plot(id_wav[-1] + 1, delta_basis_means[i, j], label=\"delta\", color=\"orangered\")\n",
    "        else:\n",
    "            ax[i, j].plot(id_wav[-1] + 1, delta_basis_means[i, j], color=\"orangered\")\n",
    "        ax[i, j].errorbar(\n",
    "            id_wav[-1] + 1,\n",
    "            delta_basis_means[i, j],\n",
    "            yerr=delta_basis_stds[i, j],\n",
    "            fmt='.',\n",
    "            capsize=4,\n",
    "            color=\"orangered\"\n",
    "        )\n",
    "\n",
    "#for i in range(3):\n",
    "#    for j in range(len(names)):\n",
    "#        for k in range(scenarios_means.shape[2]):\n",
    "#            ax[i,j].plot(_id[k], scenarios_means[i,j,k], label=use_wavelet[k], color=colors[k])\n",
    "#            ax[i,j].errorbar(_id[k], scenarios_means[i,j,k], yerr = scenarios_stds[i,j,k], fmt ='.', capsize=4, color=colors[k])\n",
    "#            #if names[f] == \"PSNR\" and sc==3:\n",
    "#            #ax[sc-1,f].legend(loc='upper center', bbox_to_anchor=(0.5, -0.5), ncol=19, fancybox=True, shadow=True, title=\"Wavelets\")\n",
    "#            ax[i,j].set_ylabel(names[j])\n",
    "#        if i==2:\n",
    "#            ax[i,j].set_xlabel(\"Wavelet\")\n",
    "\n",
    "#for k in range(len(idx_coif)):\n",
    "#    for i in range(scenarios_means.shape[0]):\n",
    "#        for j in range(len(names)):\n",
    "#            ax[i,j].axvline(x = idx_coif[k], color = 'k', linestyle=\"--\", alpha=0.8)\n",
    "\n",
    "#for i in range(scenarios_means.shape[0]):\n",
    "#ax[i,1].set_ylim([0,0.0015])\n",
    "#ax[i,2].set_ylim([-25000,-20000])\n",
    "#ax[i,3].set_ylim([-25000,-20000])\n",
    "\n",
    "#ax[i,2].set_ylim([-25000,-15000]) #undecimated\n",
    "#ax[i,3].set_ylim([-25000,17500]) #undecimated\n",
    "\n",
    "ofile_name = \"family_\" + undecimated + \"wavelets_\" + radiotelescope + \".pdf\"\n",
    "#fig.legend(loc='lower center', bbox_to_anchor=(0.5, -0.5), ncol=19, fancybox=True, shadow=True, title=\"Wavelets\")\n",
    "#ax[len(scenarios)-1, 1].legend(loc='upper left', bbox_to_anchor=[1.0, -0.5], ncol=19, fancybox=True, shadow=True, title=\"Wavelets\")\n",
    "h, l = ax[0, 0].get_legend_handles_labels()\n",
    "h1, l1 = ax[1, 0].get_legend_handles_labels()\n",
    "h2, l2 = ax[2, 0].get_legend_handles_labels()\n",
    "h = h + h2\n",
    "l = l + l2\n",
    "legend = fig.legend(\n",
    "    h,\n",
    "    l,\n",
    "    loc='lower center',\n",
    "    ncol=10,\n",
    "    fancybox=True,\n",
    "    bbox_to_anchor=[0.52, -0.375],\n",
    "    shadow=True,\n",
    "    title=\"Wavelet families\"\n",
    ")\n",
    "# fig.suptitle(\"Delta dirac basis + Undecimated Wavelet\")\n",
    "fig.tight_layout()\n",
    "if os.path.isfile(ofile_name):\n",
    "    os.remove(ofile_name)  # Opt.: os.system(\"rm \"+strFile)\n",
    "fig.savefig(ofile_name, dpi=100, bbox_inches='tight')  #"
   ]
  },
  {
   "cell_type": "code",
   "execution_count": null,
   "id": "9290e6e0",
   "metadata": {},
   "outputs": [],
   "source": []
  }
 ],
 "metadata": {
  "kernelspec": {
   "display_name": "Python 3 (ipykernel)",
   "language": "python",
   "name": "python3"
  },
  "language_info": {
   "codemirror_mode": {
    "name": "ipython",
    "version": 3
   },
   "file_extension": ".py",
   "mimetype": "text/x-python",
   "name": "python",
   "nbconvert_exporter": "python",
   "pygments_lexer": "ipython3",
   "version": "3.10.5"
  },
  "latex_envs": {
   "LaTeX_envs_menu_present": true,
   "autoclose": false,
   "autocomplete": true,
   "bibliofile": "biblio.bib",
   "cite_by": "apalike",
   "current_citInitial": 1,
   "eqLabelWithNumbers": true,
   "eqNumInitial": 1,
   "hotkeys": {
    "equation": "Ctrl-E",
    "itemize": "Ctrl-I"
   },
   "labels_anchors": false,
   "latex_user_defs": false,
   "report_style_numbering": false,
   "user_envs_cfg": false
  },
  "varInspector": {
   "cols": {
    "lenName": 16,
    "lenType": 16,
    "lenVar": 40
   },
   "kernels_config": {
    "python": {
     "delete_cmd_postfix": "",
     "delete_cmd_prefix": "del ",
     "library": "var_list.py",
     "varRefreshCmd": "print(var_dic_list())"
    },
    "r": {
     "delete_cmd_postfix": ") ",
     "delete_cmd_prefix": "rm(",
     "library": "var_list.r",
     "varRefreshCmd": "cat(var_dic_list()) "
    }
   },
   "types_to_exclude": [
    "module",
    "function",
    "builtin_function_or_method",
    "instance",
    "_Feature"
   ],
   "window_display": false
  }
 },
 "nbformat": 4,
 "nbformat_minor": 5
}
