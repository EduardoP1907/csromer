{
 "cells": [
  {
   "cell_type": "code",
   "execution_count": 1,
   "id": "0142b612",
   "metadata": {
    "ExecuteTime": {
     "end_time": "2022-10-12T18:29:36.161086Z",
     "start_time": "2022-10-12T18:29:35.623805Z"
    }
   },
   "outputs": [],
   "source": [
    "import os\n",
    "\n",
    "import matplotlib.pyplot as plt\n",
    "import numpy as np\n",
    "import pywt\n",
    "\n",
    "%matplotlib inline"
   ]
  },
  {
   "cell_type": "code",
   "execution_count": 2,
   "id": "9a257732",
   "metadata": {
    "ExecuteTime": {
     "end_time": "2022-10-12T18:29:36.165849Z",
     "start_time": "2022-10-12T18:29:36.162490Z"
    }
   },
   "outputs": [],
   "source": [
    "SMALL_SIZE = 17\n",
    "MEDIUM_SIZE = 18\n",
    "BIGGER_SIZE = 19\n",
    "\n",
    "plt.rcParams.update(\n",
    "    {\n",
    "        \"font.family\": \"serif\",\n",
    "        \"text.usetex\": True,\n",
    "        \"pgf.rcfonts\": False,\n",
    "        \"pgf.texsystem\": 'pdflatex',  # default is xetex\n",
    "    }\n",
    ")\n",
    "\n",
    "plt.rc('font', size=MEDIUM_SIZE)  # controls default text sizes\n",
    "plt.rc('axes', titlesize=SMALL_SIZE)  # fontsize of the axes title\n",
    "plt.rc('axes', labelsize=MEDIUM_SIZE)  # fontsize of the x and y labels\n",
    "plt.rc('xtick', labelsize=SMALL_SIZE)  # fontsize of the tick labels\n",
    "plt.rc('ytick', labelsize=SMALL_SIZE)  # fontsize of the tick labels\n",
    "plt.rc('legend', fontsize=SMALL_SIZE)  # legend fontsize"
   ]
  },
  {
   "cell_type": "code",
   "execution_count": 3,
   "id": "aad9a921",
   "metadata": {
    "ExecuteTime": {
     "end_time": "2022-10-12T18:29:36.225196Z",
     "start_time": "2022-10-12T18:29:36.167902Z"
    }
   },
   "outputs": [],
   "source": [
    "nscenarios = 3"
   ]
  },
  {
   "cell_type": "code",
   "execution_count": 4,
   "id": "05ee62bd",
   "metadata": {
    "ExecuteTime": {
     "end_time": "2022-10-12T18:29:36.274338Z",
     "start_time": "2022-10-12T18:29:36.226324Z"
    }
   },
   "outputs": [],
   "source": [
    "mean_files = [\"wavelet_jvla_means.npy\", \"wavelet_red_jvla_means.npy\"]"
   ]
  },
  {
   "cell_type": "code",
   "execution_count": 5,
   "id": "cb34f850",
   "metadata": {
    "ExecuteTime": {
     "end_time": "2022-10-12T18:29:36.323777Z",
     "start_time": "2022-10-12T18:29:36.275589Z"
    }
   },
   "outputs": [],
   "source": [
    "std_files = [\"wavelet_jvla_stds.npy\", \"wavelet_red_jvla_stds.npy\"]"
   ]
  },
  {
   "cell_type": "code",
   "execution_count": 6,
   "id": "0fe0d5e2",
   "metadata": {
    "ExecuteTime": {
     "end_time": "2022-10-12T18:29:36.373322Z",
     "start_time": "2022-10-12T18:29:36.325482Z"
    }
   },
   "outputs": [],
   "source": [
    "scenarios_means = np.load(mean_files[0])\n",
    "scenarios_red_means = np.load(mean_files[1])\n",
    "\n",
    "scenarios_stds = np.load(std_files[0])\n",
    "scenarios_red_stds = np.load(std_files[1])"
   ]
  },
  {
   "cell_type": "code",
   "execution_count": 7,
   "id": "4f8504ae",
   "metadata": {
    "ExecuteTime": {
     "end_time": "2022-10-12T18:29:36.462231Z",
     "start_time": "2022-10-12T18:29:36.375115Z"
    }
   },
   "outputs": [
    {
     "data": {
      "text/plain": [
       "(3, 4, 5)"
      ]
     },
     "execution_count": 7,
     "metadata": {},
     "output_type": "execute_result"
    }
   ],
   "source": [
    "scenarios_means.shape"
   ]
  },
  {
   "cell_type": "code",
   "execution_count": 8,
   "id": "7ba3cb20",
   "metadata": {
    "ExecuteTime": {
     "end_time": "2022-10-12T18:29:36.535403Z",
     "start_time": "2022-10-12T18:29:36.463764Z"
    }
   },
   "outputs": [],
   "source": [
    "use_wavelet = [\"haar\", \"coif\", \"db\", \"dmey\", \"sym\"]\n",
    "# use_wavelet.remove(\"haar\")\n",
    "nwavelets = len(use_wavelet)\n",
    "#idx_coif = [use_wavelet.index(\"coif\") - 0.5, use_wavelet.index(\"db\") - 0.5, use_wavelet.index(\"dmey\") - 0.5,  use_wavelet.index(\"rbio\") - 0.5, use_wavelet.index(\"sym\") - 0.5]"
   ]
  },
  {
   "cell_type": "code",
   "execution_count": 9,
   "id": "45874e4c",
   "metadata": {
    "ExecuteTime": {
     "end_time": "2022-10-12T18:29:36.584552Z",
     "start_time": "2022-10-12T18:29:36.536810Z"
    }
   },
   "outputs": [],
   "source": [
    "# Getting minimum AICs wavelets\n",
    "idx_sc1 = np.argmin(scenarios_means[0, 2])\n",
    "idx_sc2 = np.argmin(scenarios_means[1, 2])\n",
    "idx_sc3 = np.argmin(scenarios_means[2, 2])"
   ]
  },
  {
   "cell_type": "code",
   "execution_count": 10,
   "id": "91d6a539",
   "metadata": {
    "ExecuteTime": {
     "end_time": "2022-10-12T18:29:36.633417Z",
     "start_time": "2022-10-12T18:29:36.586282Z"
    }
   },
   "outputs": [],
   "source": [
    "# Getting minimum AICs wavelets + redundancy\n",
    "idx_sc1_red = np.argmin(scenarios_red_means[0, 2])\n",
    "idx_sc2_red = np.argmin(scenarios_red_means[1, 2])\n",
    "idx_sc3_red = np.argmin(scenarios_red_means[2, 2])"
   ]
  },
  {
   "cell_type": "code",
   "execution_count": 11,
   "id": "d86a96a2",
   "metadata": {
    "ExecuteTime": {
     "end_time": "2022-10-12T18:29:36.690023Z",
     "start_time": "2022-10-12T18:29:36.635143Z"
    }
   },
   "outputs": [],
   "source": [
    "delta_basis_means = np.load(\"deltaf_jvla_scenarios_means.npy\")\n",
    "delta_basis_stds = np.load(\"deltaf_jvla_scenarios_stds.npy\")"
   ]
  },
  {
   "cell_type": "code",
   "execution_count": 12,
   "id": "3eab29d1",
   "metadata": {
    "ExecuteTime": {
     "end_time": "2022-10-12T18:29:36.747214Z",
     "start_time": "2022-10-12T18:29:36.694428Z"
    }
   },
   "outputs": [
    {
     "data": {
      "text/plain": [
       "(3, 4)"
      ]
     },
     "execution_count": 12,
     "metadata": {},
     "output_type": "execute_result"
    }
   ],
   "source": [
    "delta_basis_means.shape"
   ]
  },
  {
   "cell_type": "code",
   "execution_count": 13,
   "id": "38e4ffc7",
   "metadata": {
    "ExecuteTime": {
     "end_time": "2022-10-12T18:29:36.805099Z",
     "start_time": "2022-10-12T18:29:36.748698Z"
    }
   },
   "outputs": [
    {
     "name": "stdout",
     "output_type": "stream",
     "text": [
      "Scenario 1: Best AIC Wavelet family coif : nan \\pm nan\n",
      "Scenario 1: Best AIC Wavelet+Redundancy family db : nan \\pm nan\n",
      "Scenario 1: Best AIC Delta function family : -19547.01 \\pm 130.12\n",
      "\n",
      "Scenario 2: Best AIC Wavelet family haar : -20223.81 \\pm 57.27\n",
      "Scenario 2: Best AIC Wavelet+Redundancy family haar : -20223.23 \\pm 58.71\n",
      "Scenario 2: Best AIC Delta function family : -19504.11 \\pm 108.53\n",
      "\n",
      "Scenario 3: Best AIC Wavelet family coif : nan \\pm nan\n",
      "Scenario 3: Best AIC Wavelet+Redundancy family coif : nan \\pm nan\n",
      "Scenario 3: Best AIC Delta function family : -19495.31 \\pm 106.82\n",
      "\n"
     ]
    }
   ],
   "source": [
    "print(\n",
    "    \"Scenario 1: Best AIC Wavelet family {0} : {1:.2f} \\pm {2:.2f}\".format(\n",
    "        use_wavelet[idx_sc1], scenarios_means[0, 2, idx_sc1], scenarios_stds[0, 2, idx_sc1]\n",
    "    )\n",
    ")\n",
    "\n",
    "print(\n",
    "    \"Scenario 1: Best AIC Wavelet+Redundancy family {0} : {1:.2f} \\pm {2:.2f}\".format(\n",
    "        use_wavelet[idx_sc1_red], scenarios_red_means[0, 2, idx_sc1_red],\n",
    "        scenarios_red_stds[0, 2, idx_sc1_red]\n",
    "    )\n",
    ")\n",
    "\n",
    "print(\n",
    "    \"Scenario 1: Best AIC Delta function family : {0:.2f} \\pm {1:.2f}\\n\".format(\n",
    "        delta_basis_means[0, 2], delta_basis_stds[0, 2]\n",
    "    )\n",
    ")\n",
    "\n",
    "print(\n",
    "    \"Scenario 2: Best AIC Wavelet family {0} : {1:.2f} \\pm {2:.2f}\".format(\n",
    "        use_wavelet[idx_sc2], scenarios_means[1, 2, idx_sc2], scenarios_stds[1, 2, idx_sc2]\n",
    "    )\n",
    ")\n",
    "\n",
    "print(\n",
    "    \"Scenario 2: Best AIC Wavelet+Redundancy family {0} : {1:.2f} \\pm {2:.2f}\".format(\n",
    "        use_wavelet[idx_sc2_red], scenarios_red_means[1, 2, idx_sc2_red],\n",
    "        scenarios_red_stds[1, 2, idx_sc2_red]\n",
    "    )\n",
    ")\n",
    "\n",
    "print(\n",
    "    \"Scenario 2: Best AIC Delta function family : {0:.2f} \\pm {1:.2f}\\n\".format(\n",
    "        delta_basis_means[1, 2], delta_basis_stds[1, 2]\n",
    "    )\n",
    ")\n",
    "\n",
    "print(\n",
    "    \"Scenario 3: Best AIC Wavelet family {0} : {1:.2f} \\pm {2:.2f}\".format(\n",
    "        use_wavelet[idx_sc3], scenarios_means[2, 2, idx_sc3], scenarios_stds[2, 2, idx_sc3]\n",
    "    )\n",
    ")\n",
    "\n",
    "print(\n",
    "    \"Scenario 3: Best AIC Wavelet+Redundancy family {0} : {1:.2f} \\pm {2:.2f}\".format(\n",
    "        use_wavelet[idx_sc3_red], scenarios_red_means[2, 2, idx_sc3_red],\n",
    "        scenarios_red_stds[2, 2, idx_sc3_red]\n",
    "    )\n",
    ")\n",
    "\n",
    "print(\n",
    "    \"Scenario 3: Best AIC Delta function family : {0:.2f} \\pm {1:.2f}\\n\".format(\n",
    "        delta_basis_means[2, 2], delta_basis_stds[2, 2]\n",
    "    )\n",
    ")"
   ]
  },
  {
   "cell_type": "code",
   "execution_count": 14,
   "id": "4d427510",
   "metadata": {
    "ExecuteTime": {
     "end_time": "2022-10-12T18:29:36.879815Z",
     "start_time": "2022-10-12T18:29:36.806952Z"
    }
   },
   "outputs": [
    {
     "name": "stdout",
     "output_type": "stream",
     "text": [
      "Scenario 1: Best BIC Wavelet family coif : nan \\pm nan\n",
      "Scenario 1: Best BIC Wavelet+Redundancy family db : nan \\pm nan\n",
      "Scenario 1: Best BIC Delta function family : -16853.78 \\pm 434.37\n",
      "\n",
      "Scenario 2: Best BIC Wavelet family haar : -19710.71 \\pm 115.58\n",
      "Scenario 2: Best BIC Wavelet+Redundancy family haar : -19659.89 \\pm 122.08\n",
      "Scenario 2: Best BIC Delta function family : -16745.33 \\pm 326.80\n",
      "\n",
      "Scenario 3: Best BIC Wavelet family coif : nan \\pm nan\n",
      "Scenario 3: Best BIC Wavelet+Redundancy family coif : nan \\pm nan\n",
      "Scenario 2: Best BIC Delta function family : -16761.29 \\pm 399.64\n",
      "\n"
     ]
    }
   ],
   "source": [
    "print(\n",
    "    \"Scenario 1: Best BIC Wavelet family {0} : {1:.2f} \\pm {2:.2f}\".format(\n",
    "        use_wavelet[idx_sc1], scenarios_means[0, 3, idx_sc1], scenarios_stds[0, 3, idx_sc1]\n",
    "    )\n",
    ")\n",
    "\n",
    "print(\n",
    "    \"Scenario 1: Best BIC Wavelet+Redundancy family {0} : {1:.2f} \\pm {2:.2f}\".format(\n",
    "        use_wavelet[idx_sc1_red], scenarios_red_means[0, 3, idx_sc1_red],\n",
    "        scenarios_red_stds[0, 3, idx_sc1_red]\n",
    "    )\n",
    ")\n",
    "\n",
    "print(\n",
    "    \"Scenario 1: Best BIC Delta function family : {0:.2f} \\pm {1:.2f}\\n\".format(\n",
    "        delta_basis_means[0, 3], delta_basis_stds[0, 3]\n",
    "    )\n",
    ")\n",
    "\n",
    "print(\n",
    "    \"Scenario 2: Best BIC Wavelet family {0} : {1:.2f} \\pm {2:.2f}\".format(\n",
    "        use_wavelet[idx_sc2], scenarios_means[1, 3, idx_sc2], scenarios_stds[1, 3, idx_sc2]\n",
    "    )\n",
    ")\n",
    "\n",
    "print(\n",
    "    \"Scenario 2: Best BIC Wavelet+Redundancy family {0} : {1:.2f} \\pm {2:.2f}\".format(\n",
    "        use_wavelet[idx_sc2_red], scenarios_red_means[1, 3, idx_sc2_red],\n",
    "        scenarios_red_stds[1, 3, idx_sc2_red]\n",
    "    )\n",
    ")\n",
    "\n",
    "print(\n",
    "    \"Scenario 2: Best BIC Delta function family : {0:.2f} \\pm {1:.2f}\\n\".format(\n",
    "        delta_basis_means[1, 3], delta_basis_stds[1, 3]\n",
    "    )\n",
    ")\n",
    "\n",
    "print(\n",
    "    \"Scenario 3: Best BIC Wavelet family {0} : {1:.2f} \\pm {2:.2f}\".format(\n",
    "        use_wavelet[idx_sc3], scenarios_means[2, 3, idx_sc3], scenarios_stds[2, 3, idx_sc3]\n",
    "    )\n",
    ")\n",
    "\n",
    "print(\n",
    "    \"Scenario 3: Best BIC Wavelet+Redundancy family {0} : {1:.2f} \\pm {2:.2f}\".format(\n",
    "        use_wavelet[idx_sc3_red], scenarios_red_means[2, 3, idx_sc3_red],\n",
    "        scenarios_red_stds[2, 3, idx_sc3_red]\n",
    "    )\n",
    ")\n",
    "\n",
    "print(\n",
    "    \"Scenario 2: Best BIC Delta function family : {0:.2f} \\pm {1:.2f}\\n\".format(\n",
    "        delta_basis_means[2, 3], delta_basis_stds[2, 3]\n",
    "    )\n",
    ")"
   ]
  },
  {
   "cell_type": "code",
   "execution_count": 15,
   "id": "87dfadd7",
   "metadata": {
    "ExecuteTime": {
     "end_time": "2022-10-12T18:29:36.957694Z",
     "start_time": "2022-10-12T18:29:36.880807Z"
    },
    "code_folding": [
     13
    ]
   },
   "outputs": [
    {
     "name": "stdout",
     "output_type": "stream",
     "text": [
      "Scenario 1: Best PSNR Wavelet family coif : nan \\pm nan\n",
      "Scenario 1: Best PSNR Wavelet+Redundancy family db : nan \\pm nan\n",
      "Scenario 1: Best PSNR Delta function family : 150.71 \\pm 6.55\n",
      "\n",
      "Scenario 2: Best PSNR Wavelet family haar : 10.43 \\pm 0.94\n",
      "Scenario 2: Best PSNR Wavelet+Redundancy family haar : 10.74 \\pm 0.98\n",
      "Scenario 2: Best PSNR Delta function family : 12.66 \\pm 1.16\n",
      "\n",
      "Scenario 3: Best PSNR Wavelet family coif : nan \\pm nan\n",
      "Scenario 3: Best PSNR Wavelet+Redundancy family coif : nan \\pm nan\n",
      "Scenario 3: Best PSNR Delta function family : 147.92 \\pm 5.53\n",
      "\n"
     ]
    }
   ],
   "source": [
    "print(\n",
    "    \"Scenario 1: Best PSNR Wavelet family {0} : {1:.2f} \\pm {2:.2f}\".format(\n",
    "        use_wavelet[idx_sc1], scenarios_means[0, 0, idx_sc1], scenarios_stds[0, 0, idx_sc1]\n",
    "    )\n",
    ")\n",
    "\n",
    "print(\n",
    "    \"Scenario 1: Best PSNR Wavelet+Redundancy family {0} : {1:.2f} \\pm {2:.2f}\".format(\n",
    "        use_wavelet[idx_sc1_red], scenarios_red_means[0, 0, idx_sc1_red],\n",
    "        scenarios_red_stds[0, 0, idx_sc1_red]\n",
    "    )\n",
    ")\n",
    "\n",
    "print(\n",
    "    \"Scenario 1: Best PSNR Delta function family : {0:.2f} \\pm {1:.2f}\\n\".format(\n",
    "        delta_basis_means[0, 0], delta_basis_stds[0, 0]\n",
    "    )\n",
    ")\n",
    "\n",
    "print(\n",
    "    \"Scenario 2: Best PSNR Wavelet family {0} : {1:.2f} \\pm {2:.2f}\".format(\n",
    "        use_wavelet[idx_sc2], scenarios_means[1, 0, idx_sc2], scenarios_stds[1, 0, idx_sc2]\n",
    "    )\n",
    ")\n",
    "\n",
    "print(\n",
    "    \"Scenario 2: Best PSNR Wavelet+Redundancy family {0} : {1:.2f} \\pm {2:.2f}\".format(\n",
    "        use_wavelet[idx_sc2_red], scenarios_red_means[1, 0, idx_sc2_red],\n",
    "        scenarios_red_stds[1, 0, idx_sc2_red]\n",
    "    )\n",
    ")\n",
    "\n",
    "print(\n",
    "    \"Scenario 2: Best PSNR Delta function family : {0:.2f} \\pm {1:.2f}\\n\".format(\n",
    "        delta_basis_means[1, 0], delta_basis_stds[1, 0]\n",
    "    )\n",
    ")\n",
    "\n",
    "print(\n",
    "    \"Scenario 3: Best PSNR Wavelet family {0} : {1:.2f} \\pm {2:.2f}\".format(\n",
    "        use_wavelet[idx_sc3], scenarios_means[2, 0, idx_sc3], scenarios_stds[2, 0, idx_sc3]\n",
    "    )\n",
    ")\n",
    "\n",
    "print(\n",
    "    \"Scenario 3: Best PSNR Wavelet+Redundancy family {0} : {1:.2f} \\pm {2:.2f}\".format(\n",
    "        use_wavelet[idx_sc3_red], scenarios_red_means[2, 0, idx_sc3_red],\n",
    "        scenarios_red_stds[2, 0, idx_sc3_red]\n",
    "    )\n",
    ")\n",
    "\n",
    "print(\n",
    "    \"Scenario 3: Best PSNR Delta function family : {0:.2f} \\pm {1:.2f}\\n\".format(\n",
    "        delta_basis_means[2, 0], delta_basis_stds[2, 0]\n",
    "    )\n",
    ")"
   ]
  },
  {
   "cell_type": "code",
   "execution_count": 16,
   "id": "3154850d",
   "metadata": {
    "ExecuteTime": {
     "end_time": "2022-10-12T18:29:37.033494Z",
     "start_time": "2022-10-12T18:29:36.959566Z"
    }
   },
   "outputs": [
    {
     "name": "stdout",
     "output_type": "stream",
     "text": [
      "Scenario 1: Best RMSE Wavelet family coif : nan \\pm nan\n",
      "Scenario 1: Best RMSE Wavelet+Redundancy family db : nan \\pm nan\n",
      "Scenario 1: Best RMSE Delta function family : 64.40 \\pm 1.02\n",
      "\n",
      "Scenario 2: Best RMSE Wavelet family haar : 68.06 \\pm 1.16\n",
      "Scenario 2: Best RMSE Wavelet+Redundancy family haar : 67.61 \\pm 1.31\n",
      "Scenario 2: Best RMSE Delta function family : 64.82 \\pm 1.06\n",
      "\n",
      "Scenario 3: Best RMSE Wavelet family coif : nan \\pm nan\n",
      "Scenario 3: Best RMSE Wavelet+Redundancy family coif : nan \\pm nan\n",
      "Scenario 3: Best RMSE Delta function family : 65.24 \\pm 0.99\n",
      "\n"
     ]
    }
   ],
   "source": [
    "print(\n",
    "    \"Scenario 1: Best RMSE Wavelet family {0} : {1:.2f} \\pm {2:.2f}\".format(\n",
    "        use_wavelet[idx_sc1], scenarios_means[0, 1, idx_sc1] * 10**5,\n",
    "        scenarios_stds[0, 1, idx_sc1] * 10**5\n",
    "    )\n",
    ")\n",
    "\n",
    "print(\n",
    "    \"Scenario 1: Best RMSE Wavelet+Redundancy family {0} : {1:.2f} \\pm {2:.2f}\".format(\n",
    "        use_wavelet[idx_sc1_red], scenarios_red_means[0, 1, idx_sc1_red] * 10**5,\n",
    "        scenarios_red_stds[0, 1, idx_sc1_red] * 10**5\n",
    "    )\n",
    ")\n",
    "\n",
    "print(\n",
    "    \"Scenario 1: Best RMSE Delta function family : {0:.2f} \\pm {1:.2f}\\n\".format(\n",
    "        delta_basis_means[0, 1] * 10**5, delta_basis_stds[0, 1] * 10**5\n",
    "    )\n",
    ")\n",
    "\n",
    "print(\n",
    "    \"Scenario 2: Best RMSE Wavelet family {0} : {1:.2f} \\pm {2:.2f}\".format(\n",
    "        use_wavelet[idx_sc2], scenarios_means[1, 1, idx_sc2] * 10**5,\n",
    "        scenarios_stds[1, 1, idx_sc2] * 10**5\n",
    "    )\n",
    ")\n",
    "\n",
    "print(\n",
    "    \"Scenario 2: Best RMSE Wavelet+Redundancy family {0} : {1:.2f} \\pm {2:.2f}\".format(\n",
    "        use_wavelet[idx_sc2_red], scenarios_red_means[1, 1, idx_sc2_red] * 10**5,\n",
    "        scenarios_red_stds[1, 1, idx_sc2_red] * 10**5\n",
    "    )\n",
    ")\n",
    "\n",
    "print(\n",
    "    \"Scenario 2: Best RMSE Delta function family : {0:.2f} \\pm {1:.2f}\\n\".format(\n",
    "        delta_basis_means[1, 1] * 10**5, delta_basis_stds[1, 1] * 10**5\n",
    "    )\n",
    ")\n",
    "\n",
    "print(\n",
    "    \"Scenario 3: Best RMSE Wavelet family {0} : {1:.2f} \\pm {2:.2f}\".format(\n",
    "        use_wavelet[idx_sc3], scenarios_means[2, 1, idx_sc3] * 10**5,\n",
    "        scenarios_stds[2, 1, idx_sc3] * 10**5\n",
    "    )\n",
    ")\n",
    "\n",
    "print(\n",
    "    \"Scenario 3: Best RMSE Wavelet+Redundancy family {0} : {1:.2f} \\pm {2:.2f}\".format(\n",
    "        use_wavelet[idx_sc3_red], scenarios_red_means[2, 1, idx_sc3_red] * 10**5,\n",
    "        scenarios_red_stds[2, 1, idx_sc3_red] * 10**5\n",
    "    )\n",
    ")\n",
    "\n",
    "print(\n",
    "    \"Scenario 3: Best RMSE Delta function family : {0:.2f} \\pm {1:.2f}\\n\".format(\n",
    "        delta_basis_means[2, 1] * 10**5, delta_basis_stds[2, 1] * 10**5\n",
    "    )\n",
    ")"
   ]
  },
  {
   "cell_type": "code",
   "execution_count": 17,
   "id": "153fef86",
   "metadata": {
    "ExecuteTime": {
     "end_time": "2022-10-12T18:29:39.719617Z",
     "start_time": "2022-10-12T18:29:37.034872Z"
    }
   },
   "outputs": [
    {
     "data": {
      "image/png": "[encoded data removed]",
      "text/plain": [
       "<Figure size 1800x500 with 12 Axes>"
      ]
     },
     "metadata": {},
     "output_type": "display_data"
    }
   ],
   "source": [
    "_id = np.arange(0, 2 * nwavelets, 2)\n",
    "names = [\"PSNR\", \"RMSE\", \"AIC\", \"BIC\"]\n",
    "fig, ax = plt.subplots(\n",
    "    nrows=scenarios_means.shape[0], ncols=len(names), sharey='col', sharex='all', figsize=(18, 5)\n",
    ")\n",
    "#cmap = plt.get_cmap('tab20')\n",
    "cmap = plt.get_cmap('tab10')\n",
    "colors = [cmap(i) for i in np.linspace(0, 1, 2 * nwavelets)]\n",
    "\n",
    "for i in range(scenarios_means.shape[0]):\n",
    "    for j in range(len(names)):\n",
    "        for k in range(scenarios_means.shape[2]):\n",
    "            ax[i, j].plot(_id[k], scenarios_means[i, j, k], label=use_wavelet[k], color=colors[k])\n",
    "            ax[i, j].plot(\n",
    "                _id[k] + 1,\n",
    "                scenarios_red_means[i, j, k],\n",
    "                label=\"delta+\" + use_wavelet[k],\n",
    "                color=colors[k]\n",
    "            )\n",
    "            ax[i, j].errorbar(\n",
    "                _id[k],\n",
    "                scenarios_means[i, j, k],\n",
    "                yerr=scenarios_stds[i, j, k],\n",
    "                fmt='.',\n",
    "                capsize=4,\n",
    "                color=colors[k]\n",
    "            )\n",
    "            ax[i, j].errorbar(\n",
    "                _id[k] + 1,\n",
    "                scenarios_red_means[i, j, k],\n",
    "                yerr=scenarios_red_stds[i, j, k],\n",
    "                fmt='.',\n",
    "                capsize=4,\n",
    "                color=colors[k]\n",
    "            )\n",
    "            #if names[f] == \"PSNR\" and sc==3:\n",
    "            #ax[sc-1,f].legend(loc='upper center', bbox_to_anchor=(0.5, -0.5), ncol=19, fancybox=True, shadow=True, title=\"Wavelets\")\n",
    "            ax[i, j].set_ylabel(names[j])\n",
    "        if i == 2:\n",
    "            ax[i, j].set_xlabel(\"Family\")\n",
    "        ax[i, j].plot(_id[-1] + 1, delta_basis_means[i, j], label=\"delta\", color=\"orange\")\n",
    "        ax[i, j].errorbar(\n",
    "            _id[-1] + 2,\n",
    "            delta_basis_means[i, j],\n",
    "            yerr=delta_basis_stds[i, j],\n",
    "            fmt='.',\n",
    "            capsize=4,\n",
    "            color=\"orange\"\n",
    "        )\n",
    "\n",
    "#for k in range(len(idx_coif)):\n",
    "#    for i in range(scenarios_means.shape[0]):\n",
    "#        for j in range(len(names)):\n",
    "#            ax[i,j].axvline(x = idx_coif[k], color = 'k', linestyle=\"--\", alpha=0.8)\n",
    "\n",
    "#for i in range(scenarios_means.shape[0]):\n",
    "#ax[i,1].set_ylim([0,0.0015])\n",
    "#ax[i,2].set_ylim([-25000,-20000])\n",
    "#ax[i,3].set_ylim([-25000,-20000])\n",
    "\n",
    "#ax[i,2].set_ylim([-25000,-15000]) #undecimated\n",
    "#ax[i,3].set_ylim([-25000,17500]) #undecimated\n",
    "undecimated = \"\"\n",
    "ofile_name = \"families\" + undecimated + \"_wavelets_jvla.pdf\"\n",
    "#fig.legend(loc='lower center', bbox_to_anchor=(0.5, -0.5), ncol=19, fancybox=True, shadow=True, title=\"Wavelets\")\n",
    "#ax[len(scenarios)-1, 1].legend(loc='upper left', bbox_to_anchor=[1.0, -0.5], ncol=19, fancybox=True, shadow=True, title=\"Wavelets\")\n",
    "h, l = ax[0, 0].get_legend_handles_labels()\n",
    "legend = fig.legend(\n",
    "    h,\n",
    "    l,\n",
    "    loc='lower center',\n",
    "    ncol=18,\n",
    "    fancybox=True,\n",
    "    bbox_to_anchor=[0.52, -0.2],\n",
    "    shadow=True,\n",
    "    title=\"Wavelet families\"\n",
    ")\n",
    "# fig.suptitle(\"Delta dirac basis + Undecimated Wavelet\")\n",
    "fig.tight_layout()\n",
    "if os.path.isfile(ofile_name):\n",
    "    os.remove(ofile_name)  # Opt.: os.system(\"rm \"+strFile)\n",
    "fig.savefig(ofile_name, dpi=100, bbox_inches='tight')  #"
   ]
  },
  {
   "cell_type": "code",
   "execution_count": null,
   "id": "e40ce77f",
   "metadata": {},
   "outputs": [],
   "source": []
  }
 ],
 "metadata": {
  "kernelspec": {
   "display_name": "Python 3 (ipykernel)",
   "language": "python",
   "name": "python3"
  },
  "language_info": {
   "codemirror_mode": {
    "name": "ipython",
    "version": 3
   },
   "file_extension": ".py",
   "mimetype": "text/x-python",
   "name": "python",
   "nbconvert_exporter": "python",
   "pygments_lexer": "ipython3",
   "version": "3.10.7"
  },
  "latex_envs": {
   "LaTeX_envs_menu_present": true,
   "autoclose": false,
   "autocomplete": true,
   "bibliofile": "biblio.bib",
   "cite_by": "apalike",
   "current_citInitial": 1,
   "eqLabelWithNumbers": true,
   "eqNumInitial": 1,
   "hotkeys": {
    "equation": "Ctrl-E",
    "itemize": "Ctrl-I"
   },
   "labels_anchors": false,
   "latex_user_defs": false,
   "report_style_numbering": false,
   "user_envs_cfg": false
  },
  "toc": {
   "base_numbering": 1,
   "nav_menu": {},
   "number_sections": true,
   "sideBar": true,
   "skip_h1_title": false,
   "title_cell": "Table of Contents",
   "title_sidebar": "Contents",
   "toc_cell": false,
   "toc_position": {},
   "toc_section_display": true,
   "toc_window_display": false
  },
  "varInspector": {
   "cols": {
    "lenName": 16,
    "lenType": 16,
    "lenVar": 40
   },
   "kernels_config": {
    "python": {
     "delete_cmd_postfix": "",
     "delete_cmd_prefix": "del ",
     "library": "var_list.py",
     "varRefreshCmd": "print(var_dic_list())"
    },
    "r": {
     "delete_cmd_postfix": ") ",
     "delete_cmd_prefix": "rm(",
     "library": "var_list.r",
     "varRefreshCmd": "cat(var_dic_list()) "
    }
   },
   "types_to_exclude": [
    "module",
    "function",
    "builtin_function_or_method",
    "instance",
    "_Feature"
   ],
   "window_display": false
  }
 },
 "nbformat": 4,
 "nbformat_minor": 5
}
