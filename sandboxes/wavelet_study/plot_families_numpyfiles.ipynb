{
 "cells": [
  {
   "cell_type": "code",
   "execution_count": 1,
   "id": "0142b612",
   "metadata": {
    "ExecuteTime": {
     "end_time": "2022-07-13T10:12:05.130554Z",
     "start_time": "2022-07-13T10:12:04.166805Z"
    }
   },
   "outputs": [],
   "source": [
    "import os\n",
    "\n",
    "import matplotlib.pyplot as plt\n",
    "import numpy as np\n",
    "import pywt\n",
    "\n",
    "%matplotlib inline"
   ]
  },
  {
   "cell_type": "code",
   "execution_count": 2,
   "id": "9a257732",
   "metadata": {
    "ExecuteTime": {
     "end_time": "2022-07-13T10:12:05.160232Z",
     "start_time": "2022-07-13T10:12:05.155033Z"
    }
   },
   "outputs": [],
   "source": [
    "SMALL_SIZE = 17\n",
    "MEDIUM_SIZE = 18\n",
    "BIGGER_SIZE = 19\n",
    "\n",
    "plt.rcParams.update(\n",
    "    {\n",
    "        \"font.family\": \"serif\",\n",
    "        \"text.usetex\": True,\n",
    "        \"pgf.rcfonts\": False,\n",
    "        \"pgf.texsystem\": 'pdflatex',  # default is xetex\n",
    "    }\n",
    ")\n",
    "\n",
    "plt.rc('font', size=MEDIUM_SIZE)  # controls default text sizes\n",
    "plt.rc('axes', titlesize=SMALL_SIZE)  # fontsize of the axes title\n",
    "plt.rc('axes', labelsize=MEDIUM_SIZE)  # fontsize of the x and y labels\n",
    "plt.rc('xtick', labelsize=SMALL_SIZE)  # fontsize of the tick labels\n",
    "plt.rc('ytick', labelsize=SMALL_SIZE)  # fontsize of the tick labels\n",
    "plt.rc('legend', fontsize=SMALL_SIZE)  # legend fontsize"
   ]
  },
  {
   "cell_type": "code",
   "execution_count": 3,
   "id": "aad9a921",
   "metadata": {
    "ExecuteTime": {
     "end_time": "2022-07-13T10:12:05.176575Z",
     "start_time": "2022-07-13T10:12:05.173983Z"
    }
   },
   "outputs": [],
   "source": [
    "nscenarios = 3"
   ]
  },
  {
   "cell_type": "code",
   "execution_count": 4,
   "id": "05ee62bd",
   "metadata": {
    "ExecuteTime": {
     "end_time": "2022-07-13T10:12:05.583391Z",
     "start_time": "2022-07-13T10:12:05.580400Z"
    }
   },
   "outputs": [],
   "source": [
    "mean_files = [\"wavelet_meerkat_means.npy\", \"wavelet_red_meerkat_means.npy\"]"
   ]
  },
  {
   "cell_type": "code",
   "execution_count": 5,
   "id": "cb34f850",
   "metadata": {
    "ExecuteTime": {
     "end_time": "2022-07-13T10:12:06.285070Z",
     "start_time": "2022-07-13T10:12:06.279926Z"
    }
   },
   "outputs": [],
   "source": [
    "std_files = [\"wavelet_meerkat_stds.npy\", \"wavelet_red_meerkat_stds.npy\"]"
   ]
  },
  {
   "cell_type": "code",
   "execution_count": 6,
   "id": "0fe0d5e2",
   "metadata": {
    "ExecuteTime": {
     "end_time": "2022-07-13T10:12:06.885453Z",
     "start_time": "2022-07-13T10:12:06.876393Z"
    }
   },
   "outputs": [],
   "source": [
    "scenarios_means = np.load(mean_files[0])\n",
    "scenarios_red_means = np.load(mean_files[1])\n",
    "\n",
    "scenarios_stds = np.load(std_files[0])\n",
    "scenarios_red_stds = np.load(std_files[1])"
   ]
  },
  {
   "cell_type": "code",
   "execution_count": 7,
   "id": "4f8504ae",
   "metadata": {
    "ExecuteTime": {
     "end_time": "2022-07-13T10:12:07.874515Z",
     "start_time": "2022-07-13T10:12:07.866961Z"
    }
   },
   "outputs": [
    {
     "data": {
      "text/plain": [
       "(3, 4, 5)"
      ]
     },
     "execution_count": 7,
     "metadata": {},
     "output_type": "execute_result"
    }
   ],
   "source": [
    "scenarios_means.shape"
   ]
  },
  {
   "cell_type": "code",
   "execution_count": 8,
   "id": "7ba3cb20",
   "metadata": {
    "ExecuteTime": {
     "end_time": "2022-07-13T10:12:08.557855Z",
     "start_time": "2022-07-13T10:12:08.554372Z"
    }
   },
   "outputs": [],
   "source": [
    "use_wavelet = [\"haar\", \"coif\", \"db\", \"dmey\", \"sym\"]\n",
    "# use_wavelet.remove(\"haar\")\n",
    "nwavelets = len(use_wavelet)\n",
    "#idx_coif = [use_wavelet.index(\"coif\") - 0.5, use_wavelet.index(\"db\") - 0.5, use_wavelet.index(\"dmey\") - 0.5,  use_wavelet.index(\"rbio\") - 0.5, use_wavelet.index(\"sym\") - 0.5]"
   ]
  },
  {
   "cell_type": "code",
   "execution_count": 9,
   "id": "45874e4c",
   "metadata": {
    "ExecuteTime": {
     "end_time": "2022-07-13T10:12:09.162405Z",
     "start_time": "2022-07-13T10:12:09.159149Z"
    }
   },
   "outputs": [],
   "source": [
    "# Getting minimum AICs wavelets\n",
    "idx_sc1 = np.argmin(scenarios_means[0, 2])\n",
    "idx_sc2 = np.argmin(scenarios_means[1, 2])\n",
    "idx_sc3 = np.argmin(scenarios_means[2, 2])"
   ]
  },
  {
   "cell_type": "code",
   "execution_count": 10,
   "id": "91d6a539",
   "metadata": {
    "ExecuteTime": {
     "end_time": "2022-07-13T10:12:09.700075Z",
     "start_time": "2022-07-13T10:12:09.694485Z"
    }
   },
   "outputs": [],
   "source": [
    "# Getting minimum AICs wavelets + redundancy\n",
    "idx_sc1_red = np.argmin(scenarios_red_means[0, 2])\n",
    "idx_sc2_red = np.argmin(scenarios_red_means[1, 2])\n",
    "idx_sc3_red = np.argmin(scenarios_red_means[2, 2])"
   ]
  },
  {
   "cell_type": "code",
   "execution_count": 12,
   "id": "d86a96a2",
   "metadata": {
    "ExecuteTime": {
     "end_time": "2022-07-13T10:12:22.614767Z",
     "start_time": "2022-07-13T10:12:22.610525Z"
    }
   },
   "outputs": [],
   "source": [
    "delta_basis_means = np.load(\"deltaf_meerkat_scenarios_means.npy\")\n",
    "delta_basis_stds = np.load(\"deltaf_meerkat_scenarios_stds.npy\")"
   ]
  },
  {
   "cell_type": "code",
   "execution_count": 13,
   "id": "3eab29d1",
   "metadata": {
    "ExecuteTime": {
     "end_time": "2022-07-13T10:12:23.236299Z",
     "start_time": "2022-07-13T10:12:23.230128Z"
    }
   },
   "outputs": [
    {
     "data": {
      "text/plain": [
       "(3, 4)"
      ]
     },
     "execution_count": 13,
     "metadata": {},
     "output_type": "execute_result"
    }
   ],
   "source": [
    "delta_basis_means.shape"
   ]
  },
  {
   "cell_type": "code",
   "execution_count": 14,
   "id": "38e4ffc7",
   "metadata": {
    "ExecuteTime": {
     "end_time": "2022-07-13T10:12:23.713941Z",
     "start_time": "2022-07-13T10:12:23.701843Z"
    }
   },
   "outputs": [
    {
     "name": "stdout",
     "output_type": "stream",
     "text": [
      "Scenario 1: Best AIC Wavelet family coif : -19989.87 \\pm 136.18\n",
      "Scenario 1: Best AIC Wavelet+Redundancy family db : -20279.15 \\pm 63.18\n",
      "Scenario 1: Best AIC Delta function family : -20237.86 \\pm 70.09\n",
      "\n",
      "Scenario 2: Best AIC Wavelet family sym : -20091.11 \\pm 71.92\n",
      "Scenario 2: Best AIC Wavelet+Redundancy family db : -20222.77 \\pm 73.46\n",
      "Scenario 2: Best AIC Delta function family : -20183.10 \\pm 66.40\n",
      "\n",
      "Scenario 3: Best AIC Wavelet family dmey : -19839.78 \\pm 119.58\n",
      "Scenario 3: Best AIC Wavelet+Redundancy family db : -20140.16 \\pm 96.37\n",
      "Scenario 3: Best AIC Delta function family : -20161.74 \\pm 74.68\n",
      "\n"
     ]
    }
   ],
   "source": [
    "print(\n",
    "    \"Scenario 1: Best AIC Wavelet family {0} : {1:.2f} \\pm {2:.2f}\".format(\n",
    "        use_wavelet[idx_sc1], scenarios_means[0, 2, idx_sc1], scenarios_stds[0, 2, idx_sc1]\n",
    "    )\n",
    ")\n",
    "\n",
    "print(\n",
    "    \"Scenario 1: Best AIC Wavelet+Redundancy family {0} : {1:.2f} \\pm {2:.2f}\".format(\n",
    "        use_wavelet[idx_sc1_red], scenarios_red_means[0, 2, idx_sc1_red],\n",
    "        scenarios_red_stds[0, 2, idx_sc1_red]\n",
    "    )\n",
    ")\n",
    "\n",
    "print(\n",
    "    \"Scenario 1: Best AIC Delta function family : {0:.2f} \\pm {1:.2f}\\n\".format(\n",
    "        delta_basis_means[0, 2], delta_basis_stds[0, 2]\n",
    "    )\n",
    ")\n",
    "\n",
    "print(\n",
    "    \"Scenario 2: Best AIC Wavelet family {0} : {1:.2f} \\pm {2:.2f}\".format(\n",
    "        use_wavelet[idx_sc2], scenarios_means[1, 2, idx_sc2], scenarios_stds[1, 2, idx_sc2]\n",
    "    )\n",
    ")\n",
    "\n",
    "print(\n",
    "    \"Scenario 2: Best AIC Wavelet+Redundancy family {0} : {1:.2f} \\pm {2:.2f}\".format(\n",
    "        use_wavelet[idx_sc2_red], scenarios_red_means[1, 2, idx_sc2_red],\n",
    "        scenarios_red_stds[1, 2, idx_sc2_red]\n",
    "    )\n",
    ")\n",
    "\n",
    "print(\n",
    "    \"Scenario 2: Best AIC Delta function family : {0:.2f} \\pm {1:.2f}\\n\".format(\n",
    "        delta_basis_means[1, 2], delta_basis_stds[1, 2]\n",
    "    )\n",
    ")\n",
    "\n",
    "print(\n",
    "    \"Scenario 3: Best AIC Wavelet family {0} : {1:.2f} \\pm {2:.2f}\".format(\n",
    "        use_wavelet[idx_sc3], scenarios_means[2, 2, idx_sc3], scenarios_stds[2, 2, idx_sc3]\n",
    "    )\n",
    ")\n",
    "\n",
    "print(\n",
    "    \"Scenario 3: Best AIC Wavelet+Redundancy family {0} : {1:.2f} \\pm {2:.2f}\".format(\n",
    "        use_wavelet[idx_sc3_red], scenarios_red_means[2, 2, idx_sc3_red],\n",
    "        scenarios_red_stds[2, 2, idx_sc3_red]\n",
    "    )\n",
    ")\n",
    "\n",
    "print(\n",
    "    \"Scenario 3: Best AIC Delta function family : {0:.2f} \\pm {1:.2f}\\n\".format(\n",
    "        delta_basis_means[2, 2], delta_basis_stds[2, 2]\n",
    "    )\n",
    ")"
   ]
  },
  {
   "cell_type": "code",
   "execution_count": 15,
   "id": "4d427510",
   "metadata": {
    "ExecuteTime": {
     "end_time": "2022-07-13T10:12:24.103602Z",
     "start_time": "2022-07-13T10:12:24.090988Z"
    }
   },
   "outputs": [
    {
     "name": "stdout",
     "output_type": "stream",
     "text": [
      "Scenario 1: Best BIC Wavelet family coif : -19751.59 \\pm 174.49\n",
      "Scenario 1: Best BIC Wavelet+Redundancy family db : -20210.46 \\pm 70.82\n",
      "Scenario 1: Best BIC Delta function family : -20012.46 \\pm 150.53\n",
      "\n",
      "Scenario 2: Best BIC Wavelet family sym : -19895.22 \\pm 87.03\n",
      "Scenario 2: Best BIC Wavelet+Redundancy family db : -20081.72 \\pm 102.04\n",
      "Scenario 2: Best BIC Delta function family : -19859.63 \\pm 151.46\n",
      "\n",
      "Scenario 3: Best BIC Wavelet family dmey : -19503.94 \\pm 143.50\n",
      "Scenario 3: Best BIC Wavelet+Redundancy family db : -19955.00 \\pm 132.67\n",
      "Scenario 2: Best BIC Delta function family : -19810.37 \\pm 165.54\n",
      "\n"
     ]
    }
   ],
   "source": [
    "print(\n",
    "    \"Scenario 1: Best BIC Wavelet family {0} : {1:.2f} \\pm {2:.2f}\".format(\n",
    "        use_wavelet[idx_sc1], scenarios_means[0, 3, idx_sc1], scenarios_stds[0, 3, idx_sc1]\n",
    "    )\n",
    ")\n",
    "\n",
    "print(\n",
    "    \"Scenario 1: Best BIC Wavelet+Redundancy family {0} : {1:.2f} \\pm {2:.2f}\".format(\n",
    "        use_wavelet[idx_sc1_red], scenarios_red_means[0, 3, idx_sc1_red],\n",
    "        scenarios_red_stds[0, 3, idx_sc1_red]\n",
    "    )\n",
    ")\n",
    "\n",
    "print(\n",
    "    \"Scenario 1: Best BIC Delta function family : {0:.2f} \\pm {1:.2f}\\n\".format(\n",
    "        delta_basis_means[0, 3], delta_basis_stds[0, 3]\n",
    "    )\n",
    ")\n",
    "\n",
    "print(\n",
    "    \"Scenario 2: Best BIC Wavelet family {0} : {1:.2f} \\pm {2:.2f}\".format(\n",
    "        use_wavelet[idx_sc2], scenarios_means[1, 3, idx_sc2], scenarios_stds[1, 3, idx_sc2]\n",
    "    )\n",
    ")\n",
    "\n",
    "print(\n",
    "    \"Scenario 2: Best BIC Wavelet+Redundancy family {0} : {1:.2f} \\pm {2:.2f}\".format(\n",
    "        use_wavelet[idx_sc2_red], scenarios_red_means[1, 3, idx_sc2_red],\n",
    "        scenarios_red_stds[1, 3, idx_sc2_red]\n",
    "    )\n",
    ")\n",
    "\n",
    "print(\n",
    "    \"Scenario 2: Best BIC Delta function family : {0:.2f} \\pm {1:.2f}\\n\".format(\n",
    "        delta_basis_means[1, 3], delta_basis_stds[1, 3]\n",
    "    )\n",
    ")\n",
    "\n",
    "print(\n",
    "    \"Scenario 3: Best BIC Wavelet family {0} : {1:.2f} \\pm {2:.2f}\".format(\n",
    "        use_wavelet[idx_sc3], scenarios_means[2, 3, idx_sc3], scenarios_stds[2, 3, idx_sc3]\n",
    "    )\n",
    ")\n",
    "\n",
    "print(\n",
    "    \"Scenario 3: Best BIC Wavelet+Redundancy family {0} : {1:.2f} \\pm {2:.2f}\".format(\n",
    "        use_wavelet[idx_sc3_red], scenarios_red_means[2, 3, idx_sc3_red],\n",
    "        scenarios_red_stds[2, 3, idx_sc3_red]\n",
    "    )\n",
    ")\n",
    "\n",
    "print(\n",
    "    \"Scenario 2: Best BIC Delta function family : {0:.2f} \\pm {1:.2f}\\n\".format(\n",
    "        delta_basis_means[2, 3], delta_basis_stds[2, 3]\n",
    "    )\n",
    ")"
   ]
  },
  {
   "cell_type": "code",
   "execution_count": 16,
   "id": "87dfadd7",
   "metadata": {
    "ExecuteTime": {
     "end_time": "2022-07-13T10:12:25.021537Z",
     "start_time": "2022-07-13T10:12:25.011282Z"
    },
    "code_folding": [
     13
    ]
   },
   "outputs": [
    {
     "name": "stdout",
     "output_type": "stream",
     "text": [
      "Scenario 1: Best PSNR Wavelet family coif : 107.50 \\pm 9.13\n",
      "Scenario 1: Best PSNR Wavelet+Redundancy family db : 127.17 \\pm 4.64\n",
      "Scenario 1: Best PSNR Delta function family : 127.14 \\pm 4.96\n",
      "\n",
      "Scenario 2: Best PSNR Wavelet family sym : 60.77 \\pm 6.67\n",
      "Scenario 2: Best PSNR Wavelet+Redundancy family db : 64.44 \\pm 5.21\n",
      "Scenario 2: Best PSNR Delta function family : 64.37 \\pm 3.72\n",
      "\n",
      "Scenario 3: Best PSNR Wavelet family dmey : 99.16 \\pm 8.43\n",
      "Scenario 3: Best PSNR Wavelet+Redundancy family db : 123.06 \\pm 5.40\n",
      "Scenario 3: Best PSNR Delta function family : 127.31 \\pm 4.77\n",
      "\n"
     ]
    }
   ],
   "source": [
    "print(\n",
    "    \"Scenario 1: Best PSNR Wavelet family {0} : {1:.2f} \\pm {2:.2f}\".format(\n",
    "        use_wavelet[idx_sc1], scenarios_means[0, 0, idx_sc1], scenarios_stds[0, 0, idx_sc1]\n",
    "    )\n",
    ")\n",
    "\n",
    "print(\n",
    "    \"Scenario 1: Best PSNR Wavelet+Redundancy family {0} : {1:.2f} \\pm {2:.2f}\".format(\n",
    "        use_wavelet[idx_sc1_red], scenarios_red_means[0, 0, idx_sc1_red],\n",
    "        scenarios_red_stds[0, 0, idx_sc1_red]\n",
    "    )\n",
    ")\n",
    "\n",
    "print(\n",
    "    \"Scenario 1: Best PSNR Delta function family : {0:.2f} \\pm {1:.2f}\\n\".format(\n",
    "        delta_basis_means[0, 0], delta_basis_stds[0, 0]\n",
    "    )\n",
    ")\n",
    "\n",
    "print(\n",
    "    \"Scenario 2: Best PSNR Wavelet family {0} : {1:.2f} \\pm {2:.2f}\".format(\n",
    "        use_wavelet[idx_sc2], scenarios_means[1, 0, idx_sc2], scenarios_stds[1, 0, idx_sc2]\n",
    "    )\n",
    ")\n",
    "\n",
    "print(\n",
    "    \"Scenario 2: Best PSNR Wavelet+Redundancy family {0} : {1:.2f} \\pm {2:.2f}\".format(\n",
    "        use_wavelet[idx_sc2_red], scenarios_red_means[1, 0, idx_sc2_red],\n",
    "        scenarios_red_stds[1, 0, idx_sc2_red]\n",
    "    )\n",
    ")\n",
    "\n",
    "print(\n",
    "    \"Scenario 2: Best PSNR Delta function family : {0:.2f} \\pm {1:.2f}\\n\".format(\n",
    "        delta_basis_means[1, 0], delta_basis_stds[1, 0]\n",
    "    )\n",
    ")\n",
    "\n",
    "print(\n",
    "    \"Scenario 3: Best PSNR Wavelet family {0} : {1:.2f} \\pm {2:.2f}\".format(\n",
    "        use_wavelet[idx_sc3], scenarios_means[2, 0, idx_sc3], scenarios_stds[2, 0, idx_sc3]\n",
    "    )\n",
    ")\n",
    "\n",
    "print(\n",
    "    \"Scenario 3: Best PSNR Wavelet+Redundancy family {0} : {1:.2f} \\pm {2:.2f}\".format(\n",
    "        use_wavelet[idx_sc3_red], scenarios_red_means[2, 0, idx_sc3_red],\n",
    "        scenarios_red_stds[2, 0, idx_sc3_red]\n",
    "    )\n",
    ")\n",
    "\n",
    "print(\n",
    "    \"Scenario 3: Best PSNR Delta function family : {0:.2f} \\pm {1:.2f}\\n\".format(\n",
    "        delta_basis_means[2, 0], delta_basis_stds[2, 0]\n",
    "    )\n",
    ")"
   ]
  },
  {
   "cell_type": "code",
   "execution_count": 17,
   "id": "3154850d",
   "metadata": {
    "ExecuteTime": {
     "end_time": "2022-07-13T10:12:25.770904Z",
     "start_time": "2022-07-13T10:12:25.756945Z"
    }
   },
   "outputs": [
    {
     "name": "stdout",
     "output_type": "stream",
     "text": [
      "Scenario 1: Best RMSE Wavelet family coif : 76.88 \\pm 3.56\n",
      "Scenario 1: Best RMSE Wavelet+Redundancy family db : 70.90 \\pm 1.41\n",
      "Scenario 1: Best RMSE Delta function family : 70.43 \\pm 1.32\n",
      "\n",
      "Scenario 2: Best RMSE Wavelet family sym : 74.52 \\pm 1.79\n",
      "Scenario 2: Best RMSE Wavelet+Redundancy family db : 71.64 \\pm 1.72\n",
      "Scenario 2: Best RMSE Delta function family : 70.87 \\pm 1.65\n",
      "\n",
      "Scenario 3: Best RMSE Wavelet family dmey : 80.03 \\pm 3.34\n",
      "Scenario 3: Best RMSE Wavelet+Redundancy family db : 73.35 \\pm 2.21\n",
      "Scenario 3: Best RMSE Delta function family : 71.14 \\pm 1.49\n",
      "\n"
     ]
    }
   ],
   "source": [
    "print(\n",
    "    \"Scenario 1: Best RMSE Wavelet family {0} : {1:.2f} \\pm {2:.2f}\".format(\n",
    "        use_wavelet[idx_sc1], scenarios_means[0, 1, idx_sc1] * 10**5,\n",
    "        scenarios_stds[0, 1, idx_sc1] * 10**5\n",
    "    )\n",
    ")\n",
    "\n",
    "print(\n",
    "    \"Scenario 1: Best RMSE Wavelet+Redundancy family {0} : {1:.2f} \\pm {2:.2f}\".format(\n",
    "        use_wavelet[idx_sc1_red], scenarios_red_means[0, 1, idx_sc1_red] * 10**5,\n",
    "        scenarios_red_stds[0, 1, idx_sc1_red] * 10**5\n",
    "    )\n",
    ")\n",
    "\n",
    "print(\n",
    "    \"Scenario 1: Best RMSE Delta function family : {0:.2f} \\pm {1:.2f}\\n\".format(\n",
    "        delta_basis_means[0, 1] * 10**5, delta_basis_stds[0, 1] * 10**5\n",
    "    )\n",
    ")\n",
    "\n",
    "print(\n",
    "    \"Scenario 2: Best RMSE Wavelet family {0} : {1:.2f} \\pm {2:.2f}\".format(\n",
    "        use_wavelet[idx_sc2], scenarios_means[1, 1, idx_sc2] * 10**5,\n",
    "        scenarios_stds[1, 1, idx_sc2] * 10**5\n",
    "    )\n",
    ")\n",
    "\n",
    "print(\n",
    "    \"Scenario 2: Best RMSE Wavelet+Redundancy family {0} : {1:.2f} \\pm {2:.2f}\".format(\n",
    "        use_wavelet[idx_sc2_red], scenarios_red_means[1, 1, idx_sc2_red] * 10**5,\n",
    "        scenarios_red_stds[1, 1, idx_sc2_red] * 10**5\n",
    "    )\n",
    ")\n",
    "\n",
    "print(\n",
    "    \"Scenario 2: Best RMSE Delta function family : {0:.2f} \\pm {1:.2f}\\n\".format(\n",
    "        delta_basis_means[1, 1] * 10**5, delta_basis_stds[1, 1] * 10**5\n",
    "    )\n",
    ")\n",
    "\n",
    "print(\n",
    "    \"Scenario 3: Best RMSE Wavelet family {0} : {1:.2f} \\pm {2:.2f}\".format(\n",
    "        use_wavelet[idx_sc3], scenarios_means[2, 1, idx_sc3] * 10**5,\n",
    "        scenarios_stds[2, 1, idx_sc3] * 10**5\n",
    "    )\n",
    ")\n",
    "\n",
    "print(\n",
    "    \"Scenario 3: Best RMSE Wavelet+Redundancy family {0} : {1:.2f} \\pm {2:.2f}\".format(\n",
    "        use_wavelet[idx_sc3_red], scenarios_red_means[2, 1, idx_sc3_red] * 10**5,\n",
    "        scenarios_red_stds[2, 1, idx_sc3_red] * 10**5\n",
    "    )\n",
    ")\n",
    "\n",
    "print(\n",
    "    \"Scenario 3: Best RMSE Delta function family : {0:.2f} \\pm {1:.2f}\\n\".format(\n",
    "        delta_basis_means[2, 1] * 10**5, delta_basis_stds[2, 1] * 10**5\n",
    "    )\n",
    ")"
   ]
  },
  {
   "cell_type": "code",
   "execution_count": 19,
   "id": "153fef86",
   "metadata": {
    "ExecuteTime": {
     "end_time": "2022-07-13T10:39:06.600084Z",
     "start_time": "2022-07-13T10:39:03.895519Z"
    }
   },
   "outputs": [
    {
     "data": {
      "image/png": "[encoded data removed]",
      "text/plain": [
       "<Figure size 1296x360 with 12 Axes>"
      ]
     },
     "metadata": {
      "needs_background": "light"
     },
     "output_type": "display_data"
    }
   ],
   "source": [
    "_id = np.arange(0, 2 * nwavelets, 2)\n",
    "names = [\"PSNR\", \"RMSE\", \"AIC\", \"BIC\"]\n",
    "fig, ax = plt.subplots(\n",
    "    nrows=scenarios_means.shape[0], ncols=len(names), sharey='col', sharex='all', figsize=(18, 5)\n",
    ")\n",
    "#cmap = plt.get_cmap('tab20')\n",
    "cmap = plt.get_cmap('tab10')\n",
    "colors = [cmap(i) for i in np.linspace(0, 1, 2 * nwavelets)]\n",
    "\n",
    "for i in range(scenarios_means.shape[0]):\n",
    "    for j in range(len(names)):\n",
    "        for k in range(scenarios_means.shape[2]):\n",
    "            ax[i, j].plot(_id[k], scenarios_means[i, j, k], label=use_wavelet[k], color=colors[k])\n",
    "            ax[i, j].plot(\n",
    "                _id[k] + 1,\n",
    "                scenarios_red_means[i, j, k],\n",
    "                label=\"delta+\" + use_wavelet[k],\n",
    "                color=colors[k]\n",
    "            )\n",
    "            ax[i, j].errorbar(\n",
    "                _id[k],\n",
    "                scenarios_means[i, j, k],\n",
    "                yerr=scenarios_stds[i, j, k],\n",
    "                fmt='.',\n",
    "                capsize=4,\n",
    "                color=colors[k]\n",
    "            )\n",
    "            ax[i, j].errorbar(\n",
    "                _id[k] + 1,\n",
    "                scenarios_red_means[i, j, k],\n",
    "                yerr=scenarios_red_stds[i, j, k],\n",
    "                fmt='.',\n",
    "                capsize=4,\n",
    "                color=colors[k]\n",
    "            )\n",
    "            #if names[f] == \"PSNR\" and sc==3:\n",
    "            #ax[sc-1,f].legend(loc='upper center', bbox_to_anchor=(0.5, -0.5), ncol=19, fancybox=True, shadow=True, title=\"Wavelets\")\n",
    "            ax[i, j].set_ylabel(names[j])\n",
    "        if i == 2:\n",
    "            ax[i, j].set_xlabel(\"Family\")\n",
    "        ax[i, j].plot(_id[-1] + 1, delta_basis_means[i, j], label=\"delta\", color=\"orange\")\n",
    "        ax[i, j].errorbar(\n",
    "            _id[-1] + 2,\n",
    "            delta_basis_means[i, j],\n",
    "            yerr=delta_basis_stds[i, j],\n",
    "            fmt='.',\n",
    "            capsize=4,\n",
    "            color=\"orange\"\n",
    "        )\n",
    "\n",
    "#for k in range(len(idx_coif)):\n",
    "#    for i in range(scenarios_means.shape[0]):\n",
    "#        for j in range(len(names)):\n",
    "#            ax[i,j].axvline(x = idx_coif[k], color = 'k', linestyle=\"--\", alpha=0.8)\n",
    "\n",
    "#for i in range(scenarios_means.shape[0]):\n",
    "#ax[i,1].set_ylim([0,0.0015])\n",
    "#ax[i,2].set_ylim([-25000,-20000])\n",
    "#ax[i,3].set_ylim([-25000,-20000])\n",
    "\n",
    "#ax[i,2].set_ylim([-25000,-15000]) #undecimated\n",
    "#ax[i,3].set_ylim([-25000,17500]) #undecimated\n",
    "undecimated = \"\"\n",
    "ofile_name = \"families\" + undecimated + \"_wavelets_meerkat.pdf\"\n",
    "#fig.legend(loc='lower center', bbox_to_anchor=(0.5, -0.5), ncol=19, fancybox=True, shadow=True, title=\"Wavelets\")\n",
    "#ax[len(scenarios)-1, 1].legend(loc='upper left', bbox_to_anchor=[1.0, -0.5], ncol=19, fancybox=True, shadow=True, title=\"Wavelets\")\n",
    "h, l = ax[0, 0].get_legend_handles_labels()\n",
    "legend = fig.legend(\n",
    "    h,\n",
    "    l,\n",
    "    loc='lower center',\n",
    "    ncol=18,\n",
    "    fancybox=True,\n",
    "    bbox_to_anchor=[0.52, -0.2],\n",
    "    shadow=True,\n",
    "    title=\"Wavelet families\"\n",
    ")\n",
    "# fig.suptitle(\"Delta dirac basis + Undecimated Wavelet\")\n",
    "fig.tight_layout()\n",
    "if os.path.isfile(ofile_name):\n",
    "    os.remove(ofile_name)  # Opt.: os.system(\"rm \"+strFile)\n",
    "fig.savefig(ofile_name, dpi=100, bbox_inches='tight')  #"
   ]
  },
  {
   "cell_type": "code",
   "execution_count": null,
   "id": "e40ce77f",
   "metadata": {},
   "outputs": [],
   "source": []
  }
 ],
 "metadata": {
  "kernelspec": {
   "display_name": "Python 3 (ipykernel)",
   "language": "python",
   "name": "python3"
  },
  "language_info": {
   "codemirror_mode": {
    "name": "ipython",
    "version": 3
   },
   "file_extension": ".py",
   "mimetype": "text/x-python",
   "name": "python",
   "nbconvert_exporter": "python",
   "pygments_lexer": "ipython3",
   "version": "3.10.5"
  },
  "latex_envs": {
   "LaTeX_envs_menu_present": true,
   "autoclose": false,
   "autocomplete": true,
   "bibliofile": "biblio.bib",
   "cite_by": "apalike",
   "current_citInitial": 1,
   "eqLabelWithNumbers": true,
   "eqNumInitial": 1,
   "hotkeys": {
    "equation": "Ctrl-E",
    "itemize": "Ctrl-I"
   },
   "labels_anchors": false,
   "latex_user_defs": false,
   "report_style_numbering": false,
   "user_envs_cfg": false
  },
  "toc": {
   "base_numbering": 1,
   "nav_menu": {},
   "number_sections": true,
   "sideBar": true,
   "skip_h1_title": false,
   "title_cell": "Table of Contents",
   "title_sidebar": "Contents",
   "toc_cell": false,
   "toc_position": {},
   "toc_section_display": true,
   "toc_window_display": false
  },
  "varInspector": {
   "cols": {
    "lenName": 16,
    "lenType": 16,
    "lenVar": 40
   },
   "kernels_config": {
    "python": {
     "delete_cmd_postfix": "",
     "delete_cmd_prefix": "del ",
     "library": "var_list.py",
     "varRefreshCmd": "print(var_dic_list())"
    },
    "r": {
     "delete_cmd_postfix": ") ",
     "delete_cmd_prefix": "rm(",
     "library": "var_list.r",
     "varRefreshCmd": "cat(var_dic_list()) "
    }
   },
   "types_to_exclude": [
    "module",
    "function",
    "builtin_function_or_method",
    "instance",
    "_Feature"
   ],
   "window_display": false
  }
 },
 "nbformat": 4,
 "nbformat_minor": 5
}
