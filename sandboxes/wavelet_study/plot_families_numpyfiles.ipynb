{
 "cells": [
  {
   "cell_type": "code",
   "execution_count": 1,
   "id": "0142b612",
   "metadata": {
    "ExecuteTime": {
     "end_time": "2022-07-01T08:38:21.372945Z",
     "start_time": "2022-07-01T08:38:20.586613Z"
    }
   },
   "outputs": [],
   "source": [
    "import os\n",
    "\n",
    "import matplotlib.pyplot as plt\n",
    "import numpy as np\n",
    "import pywt\n",
    "\n",
    "%matplotlib inline"
   ]
  },
  {
   "cell_type": "code",
   "execution_count": 2,
   "id": "9a257732",
   "metadata": {
    "ExecuteTime": {
     "end_time": "2022-07-01T08:38:21.376925Z",
     "start_time": "2022-07-01T08:38:21.374054Z"
    }
   },
   "outputs": [],
   "source": [
    "SMALL_SIZE = 17\n",
    "MEDIUM_SIZE = 18\n",
    "BIGGER_SIZE = 19\n",
    "\n",
    "plt.rcParams.update(\n",
    "    {\n",
    "        \"font.family\": \"serif\",\n",
    "        \"text.usetex\": True,\n",
    "        \"pgf.rcfonts\": False,\n",
    "        \"pgf.texsystem\": 'pdflatex',  # default is xetex\n",
    "    }\n",
    ")\n",
    "\n",
    "plt.rc('font', size=MEDIUM_SIZE)  # controls default text sizes\n",
    "plt.rc('axes', titlesize=SMALL_SIZE)  # fontsize of the axes title\n",
    "plt.rc('axes', labelsize=MEDIUM_SIZE)  # fontsize of the x and y labels\n",
    "plt.rc('xtick', labelsize=SMALL_SIZE)  # fontsize of the tick labels\n",
    "plt.rc('ytick', labelsize=SMALL_SIZE)  # fontsize of the tick labels\n",
    "plt.rc('legend', fontsize=SMALL_SIZE)  # legend fontsize"
   ]
  },
  {
   "cell_type": "code",
   "execution_count": 3,
   "id": "aad9a921",
   "metadata": {
    "ExecuteTime": {
     "end_time": "2022-07-01T08:38:21.442970Z",
     "start_time": "2022-07-01T08:38:21.378453Z"
    }
   },
   "outputs": [],
   "source": [
    "nscenarios = 3"
   ]
  },
  {
   "cell_type": "code",
   "execution_count": 4,
   "id": "05ee62bd",
   "metadata": {
    "ExecuteTime": {
     "end_time": "2022-07-01T08:38:21.504880Z",
     "start_time": "2022-07-01T08:38:21.446448Z"
    }
   },
   "outputs": [],
   "source": [
    "mean_files = [\"uwavelet_jvla_means.npy\", \"uwavelet_red_jvla_means.npy\"]"
   ]
  },
  {
   "cell_type": "code",
   "execution_count": 5,
   "id": "cb34f850",
   "metadata": {
    "ExecuteTime": {
     "end_time": "2022-07-01T08:38:21.553069Z",
     "start_time": "2022-07-01T08:38:21.506385Z"
    }
   },
   "outputs": [],
   "source": [
    "std_files = [\"uwavelet_jvla_stds.npy\", \"uwavelet_red_jvla_stds.npy\"]"
   ]
  },
  {
   "cell_type": "code",
   "execution_count": 6,
   "id": "0fe0d5e2",
   "metadata": {
    "ExecuteTime": {
     "end_time": "2022-07-01T08:38:21.641128Z",
     "start_time": "2022-07-01T08:38:21.554723Z"
    }
   },
   "outputs": [],
   "source": [
    "scenarios_means = np.load(mean_files[0])\n",
    "scenarios_red_means = np.load(mean_files[1])\n",
    "\n",
    "scenarios_stds = np.load(std_files[0])\n",
    "scenarios_red_stds = np.load(std_files[1])"
   ]
  },
  {
   "cell_type": "code",
   "execution_count": 7,
   "id": "4f8504ae",
   "metadata": {
    "ExecuteTime": {
     "end_time": "2022-07-01T08:38:21.719673Z",
     "start_time": "2022-07-01T08:38:21.642895Z"
    }
   },
   "outputs": [
    {
     "data": {
      "text/plain": [
       "(3, 4, 5)"
      ]
     },
     "execution_count": 7,
     "metadata": {},
     "output_type": "execute_result"
    }
   ],
   "source": [
    "scenarios_means.shape"
   ]
  },
  {
   "cell_type": "code",
   "execution_count": 8,
   "id": "7ba3cb20",
   "metadata": {
    "ExecuteTime": {
     "end_time": "2022-07-01T08:38:21.765744Z",
     "start_time": "2022-07-01T08:38:21.721347Z"
    }
   },
   "outputs": [],
   "source": [
    "use_wavelet = [\"haar\", \"coif\", \"db\", \"dmey\", \"sym\"]\n",
    "# use_wavelet.remove(\"haar\")\n",
    "nwavelets = len(use_wavelet)\n",
    "#idx_coif = [use_wavelet.index(\"coif\") - 0.5, use_wavelet.index(\"db\") - 0.5, use_wavelet.index(\"dmey\") - 0.5,  use_wavelet.index(\"rbio\") - 0.5, use_wavelet.index(\"sym\") - 0.5]"
   ]
  },
  {
   "cell_type": "code",
   "execution_count": 9,
   "id": "45874e4c",
   "metadata": {
    "ExecuteTime": {
     "end_time": "2022-07-01T08:38:21.814852Z",
     "start_time": "2022-07-01T08:38:21.767463Z"
    }
   },
   "outputs": [],
   "source": [
    "# Getting minimum AICs wavelets\n",
    "idx_sc1 = np.argmin(scenarios_means[0, 2])\n",
    "idx_sc2 = np.argmin(scenarios_means[1, 2])\n",
    "idx_sc3 = np.argmin(scenarios_means[2, 2])"
   ]
  },
  {
   "cell_type": "code",
   "execution_count": 10,
   "id": "91d6a539",
   "metadata": {
    "ExecuteTime": {
     "end_time": "2022-07-01T08:38:21.863030Z",
     "start_time": "2022-07-01T08:38:21.816581Z"
    }
   },
   "outputs": [],
   "source": [
    "# Getting minimum AICs wavelets + redundancy\n",
    "idx_sc1_red = np.argmin(scenarios_red_means[0, 2])\n",
    "idx_sc2_red = np.argmin(scenarios_red_means[1, 2])\n",
    "idx_sc3_red = np.argmin(scenarios_red_means[2, 2])"
   ]
  },
  {
   "cell_type": "code",
   "execution_count": 11,
   "id": "d86a96a2",
   "metadata": {
    "ExecuteTime": {
     "end_time": "2022-07-01T08:38:21.916601Z",
     "start_time": "2022-07-01T08:38:21.867290Z"
    }
   },
   "outputs": [],
   "source": [
    "delta_basis_means = np.load(\"deltaf_jvla_scenarios_means.npy\")\n",
    "delta_basis_stds = np.load(\"deltaf_jvla_scenarios_stds.npy\")"
   ]
  },
  {
   "cell_type": "code",
   "execution_count": 12,
   "id": "3eab29d1",
   "metadata": {
    "ExecuteTime": {
     "end_time": "2022-07-01T08:38:21.973469Z",
     "start_time": "2022-07-01T08:38:21.918364Z"
    }
   },
   "outputs": [
    {
     "data": {
      "text/plain": [
       "(3, 4)"
      ]
     },
     "execution_count": 12,
     "metadata": {},
     "output_type": "execute_result"
    }
   ],
   "source": [
    "delta_basis_means.shape"
   ]
  },
  {
   "cell_type": "code",
   "execution_count": 13,
   "id": "38e4ffc7",
   "metadata": {
    "ExecuteTime": {
     "end_time": "2022-07-01T08:38:22.030170Z",
     "start_time": "2022-07-01T08:38:21.974635Z"
    }
   },
   "outputs": [
    {
     "name": "stdout",
     "output_type": "stream",
     "text": [
      "Scenario 1: Best AIC Wavelet family coif : -19005.43 \\pm 366.62\n",
      "Scenario 1: Best AIC Wavelet+Redundancy family db : -19906.62 \\pm 351.01\n",
      "Scenario 1: Best AIC Delta function family : -23121.27 \\pm 80.70\n",
      "\n",
      "Scenario 2: Best AIC Wavelet family haar : -19598.07 \\pm 272.42\n",
      "Scenario 2: Best AIC Wavelet+Redundancy family haar : -19583.30 \\pm 218.21\n",
      "Scenario 2: Best AIC Delta function family : -23102.94 \\pm 66.85\n",
      "\n",
      "Scenario 3: Best AIC Wavelet family haar : -18931.97 \\pm 305.40\n",
      "Scenario 3: Best AIC Wavelet+Redundancy family haar : -19029.28 \\pm 297.72\n",
      "Scenario 3: Best AIC Delta function family : -23046.02 \\pm 77.92\n",
      "\n"
     ]
    }
   ],
   "source": [
    "print(\n",
    "    \"Scenario 1: Best AIC Wavelet family {0} : {1:.2f} \\pm {2:.2f}\".format(\n",
    "        use_wavelet[idx_sc1], scenarios_means[0, 2, idx_sc1], scenarios_stds[0, 2, idx_sc1]\n",
    "    )\n",
    ")\n",
    "\n",
    "print(\n",
    "    \"Scenario 1: Best AIC Wavelet+Redundancy family {0} : {1:.2f} \\pm {2:.2f}\".format(\n",
    "        use_wavelet[idx_sc1_red], scenarios_red_means[0, 2, idx_sc1_red],\n",
    "        scenarios_red_stds[0, 2, idx_sc1_red]\n",
    "    )\n",
    ")\n",
    "\n",
    "print(\n",
    "    \"Scenario 1: Best AIC Delta function family : {0:.2f} \\pm {1:.2f}\\n\".format(\n",
    "        delta_basis_means[0, 2], delta_basis_stds[0, 2]\n",
    "    )\n",
    ")\n",
    "\n",
    "print(\n",
    "    \"Scenario 2: Best AIC Wavelet family {0} : {1:.2f} \\pm {2:.2f}\".format(\n",
    "        use_wavelet[idx_sc2], scenarios_means[1, 2, idx_sc2], scenarios_stds[1, 2, idx_sc2]\n",
    "    )\n",
    ")\n",
    "\n",
    "print(\n",
    "    \"Scenario 2: Best AIC Wavelet+Redundancy family {0} : {1:.2f} \\pm {2:.2f}\".format(\n",
    "        use_wavelet[idx_sc2_red], scenarios_red_means[1, 2, idx_sc2_red],\n",
    "        scenarios_red_stds[1, 2, idx_sc2_red]\n",
    "    )\n",
    ")\n",
    "\n",
    "print(\n",
    "    \"Scenario 2: Best AIC Delta function family : {0:.2f} \\pm {1:.2f}\\n\".format(\n",
    "        delta_basis_means[1, 2], delta_basis_stds[1, 2]\n",
    "    )\n",
    ")\n",
    "\n",
    "print(\n",
    "    \"Scenario 3: Best AIC Wavelet family {0} : {1:.2f} \\pm {2:.2f}\".format(\n",
    "        use_wavelet[idx_sc3], scenarios_means[2, 2, idx_sc3], scenarios_stds[2, 2, idx_sc3]\n",
    "    )\n",
    ")\n",
    "\n",
    "print(\n",
    "    \"Scenario 3: Best AIC Wavelet+Redundancy family {0} : {1:.2f} \\pm {2:.2f}\".format(\n",
    "        use_wavelet[idx_sc3_red], scenarios_red_means[2, 2, idx_sc3_red],\n",
    "        scenarios_red_stds[2, 2, idx_sc3_red]\n",
    "    )\n",
    ")\n",
    "\n",
    "print(\n",
    "    \"Scenario 3: Best AIC Delta function family : {0:.2f} \\pm {1:.2f}\\n\".format(\n",
    "        delta_basis_means[2, 2], delta_basis_stds[2, 2]\n",
    "    )\n",
    ")"
   ]
  },
  {
   "cell_type": "code",
   "execution_count": 14,
   "id": "4d427510",
   "metadata": {
    "ExecuteTime": {
     "end_time": "2022-07-01T08:38:22.106957Z",
     "start_time": "2022-07-01T08:38:22.031648Z"
    }
   },
   "outputs": [
    {
     "name": "stdout",
     "output_type": "stream",
     "text": [
      "Scenario 1: Best BIC Wavelet family coif : -16538.84 \\pm 1174.24\n",
      "Scenario 1: Best BIC Wavelet+Redundancy family db : -19110.15 \\pm 1016.95\n",
      "Scenario 1: Best BIC Delta function family : -22858.29 \\pm 193.25\n",
      "\n",
      "Scenario 2: Best BIC Wavelet family haar : -18055.33 \\pm 910.82\n",
      "Scenario 2: Best BIC Wavelet+Redundancy family haar : -17992.41 \\pm 743.60\n",
      "Scenario 2: Best BIC Delta function family : -22780.28 \\pm 165.07\n",
      "\n",
      "Scenario 3: Best BIC Wavelet family haar : -16896.58 \\pm 907.18\n",
      "Scenario 3: Best BIC Wavelet+Redundancy family haar : -17023.58 \\pm 884.84\n",
      "Scenario 2: Best BIC Delta function family : -22710.45 \\pm 153.43\n",
      "\n"
     ]
    }
   ],
   "source": [
    "print(\n",
    "    \"Scenario 1: Best BIC Wavelet family {0} : {1:.2f} \\pm {2:.2f}\".format(\n",
    "        use_wavelet[idx_sc1], scenarios_means[0, 3, idx_sc1], scenarios_stds[0, 3, idx_sc1]\n",
    "    )\n",
    ")\n",
    "\n",
    "print(\n",
    "    \"Scenario 1: Best BIC Wavelet+Redundancy family {0} : {1:.2f} \\pm {2:.2f}\".format(\n",
    "        use_wavelet[idx_sc1_red], scenarios_red_means[0, 3, idx_sc1_red],\n",
    "        scenarios_red_stds[0, 3, idx_sc1_red]\n",
    "    )\n",
    ")\n",
    "\n",
    "print(\n",
    "    \"Scenario 1: Best BIC Delta function family : {0:.2f} \\pm {1:.2f}\\n\".format(\n",
    "        delta_basis_means[0, 3], delta_basis_stds[0, 3]\n",
    "    )\n",
    ")\n",
    "\n",
    "print(\n",
    "    \"Scenario 2: Best BIC Wavelet family {0} : {1:.2f} \\pm {2:.2f}\".format(\n",
    "        use_wavelet[idx_sc2], scenarios_means[1, 3, idx_sc2], scenarios_stds[1, 3, idx_sc2]\n",
    "    )\n",
    ")\n",
    "\n",
    "print(\n",
    "    \"Scenario 2: Best BIC Wavelet+Redundancy family {0} : {1:.2f} \\pm {2:.2f}\".format(\n",
    "        use_wavelet[idx_sc2_red], scenarios_red_means[1, 3, idx_sc2_red],\n",
    "        scenarios_red_stds[1, 3, idx_sc2_red]\n",
    "    )\n",
    ")\n",
    "\n",
    "print(\n",
    "    \"Scenario 2: Best BIC Delta function family : {0:.2f} \\pm {1:.2f}\\n\".format(\n",
    "        delta_basis_means[1, 3], delta_basis_stds[1, 3]\n",
    "    )\n",
    ")\n",
    "\n",
    "print(\n",
    "    \"Scenario 3: Best BIC Wavelet family {0} : {1:.2f} \\pm {2:.2f}\".format(\n",
    "        use_wavelet[idx_sc3], scenarios_means[2, 3, idx_sc3], scenarios_stds[2, 3, idx_sc3]\n",
    "    )\n",
    ")\n",
    "\n",
    "print(\n",
    "    \"Scenario 3: Best BIC Wavelet+Redundancy family {0} : {1:.2f} \\pm {2:.2f}\".format(\n",
    "        use_wavelet[idx_sc3_red], scenarios_red_means[2, 3, idx_sc3_red],\n",
    "        scenarios_red_stds[2, 3, idx_sc3_red]\n",
    "    )\n",
    ")\n",
    "\n",
    "print(\n",
    "    \"Scenario 2: Best BIC Delta function family : {0:.2f} \\pm {1:.2f}\\n\".format(\n",
    "        delta_basis_means[2, 3], delta_basis_stds[2, 3]\n",
    "    )\n",
    ")"
   ]
  },
  {
   "cell_type": "code",
   "execution_count": 15,
   "id": "87dfadd7",
   "metadata": {
    "ExecuteTime": {
     "end_time": "2022-07-01T08:38:22.183469Z",
     "start_time": "2022-07-01T08:38:22.107933Z"
    },
    "code_folding": [
     13
    ]
   },
   "outputs": [
    {
     "name": "stdout",
     "output_type": "stream",
     "text": [
      "Scenario 1: Best PSNR Wavelet family coif : 106.18 \\pm 7.38\n",
      "Scenario 1: Best PSNR Wavelet+Redundancy family db : 122.73 \\pm 7.92\n",
      "Scenario 1: Best PSNR Delta function family : 136.26 \\pm 5.42\n",
      "\n",
      "Scenario 2: Best PSNR Wavelet family haar : 49.65 \\pm 4.84\n",
      "Scenario 2: Best PSNR Wavelet+Redundancy family haar : 49.27 \\pm 7.60\n",
      "Scenario 2: Best PSNR Delta function family : 57.28 \\pm 2.80\n",
      "\n",
      "Scenario 3: Best PSNR Wavelet family haar : 104.89 \\pm 8.08\n",
      "Scenario 3: Best PSNR Wavelet+Redundancy family haar : 107.52 \\pm 10.12\n",
      "Scenario 3: Best PSNR Delta function family : 133.71 \\pm 6.49\n",
      "\n"
     ]
    }
   ],
   "source": [
    "print(\n",
    "    \"Scenario 1: Best PSNR Wavelet family {0} : {1:.2f} \\pm {2:.2f}\".format(\n",
    "        use_wavelet[idx_sc1], scenarios_means[0, 0, idx_sc1], scenarios_stds[0, 0, idx_sc1]\n",
    "    )\n",
    ")\n",
    "\n",
    "print(\n",
    "    \"Scenario 1: Best PSNR Wavelet+Redundancy family {0} : {1:.2f} \\pm {2:.2f}\".format(\n",
    "        use_wavelet[idx_sc1_red], scenarios_red_means[0, 0, idx_sc1_red],\n",
    "        scenarios_red_stds[0, 0, idx_sc1_red]\n",
    "    )\n",
    ")\n",
    "\n",
    "print(\n",
    "    \"Scenario 1: Best PSNR Delta function family : {0:.2f} \\pm {1:.2f}\\n\".format(\n",
    "        delta_basis_means[0, 0], delta_basis_stds[0, 0]\n",
    "    )\n",
    ")\n",
    "\n",
    "print(\n",
    "    \"Scenario 2: Best PSNR Wavelet family {0} : {1:.2f} \\pm {2:.2f}\".format(\n",
    "        use_wavelet[idx_sc2], scenarios_means[1, 0, idx_sc2], scenarios_stds[1, 0, idx_sc2]\n",
    "    )\n",
    ")\n",
    "\n",
    "print(\n",
    "    \"Scenario 2: Best PSNR Wavelet+Redundancy family {0} : {1:.2f} \\pm {2:.2f}\".format(\n",
    "        use_wavelet[idx_sc2_red], scenarios_red_means[1, 0, idx_sc2_red],\n",
    "        scenarios_red_stds[1, 0, idx_sc2_red]\n",
    "    )\n",
    ")\n",
    "\n",
    "print(\n",
    "    \"Scenario 2: Best PSNR Delta function family : {0:.2f} \\pm {1:.2f}\\n\".format(\n",
    "        delta_basis_means[1, 0], delta_basis_stds[1, 0]\n",
    "    )\n",
    ")\n",
    "\n",
    "print(\n",
    "    \"Scenario 3: Best PSNR Wavelet family {0} : {1:.2f} \\pm {2:.2f}\".format(\n",
    "        use_wavelet[idx_sc3], scenarios_means[2, 0, idx_sc3], scenarios_stds[2, 0, idx_sc3]\n",
    "    )\n",
    ")\n",
    "\n",
    "print(\n",
    "    \"Scenario 3: Best PSNR Wavelet+Redundancy family {0} : {1:.2f} \\pm {2:.2f}\".format(\n",
    "        use_wavelet[idx_sc3_red], scenarios_red_means[2, 0, idx_sc3_red],\n",
    "        scenarios_red_stds[2, 0, idx_sc3_red]\n",
    "    )\n",
    ")\n",
    "\n",
    "print(\n",
    "    \"Scenario 3: Best PSNR Delta function family : {0:.2f} \\pm {1:.2f}\\n\".format(\n",
    "        delta_basis_means[2, 0], delta_basis_stds[2, 0]\n",
    "    )\n",
    ")"
   ]
  },
  {
   "cell_type": "code",
   "execution_count": 16,
   "id": "3154850d",
   "metadata": {
    "ExecuteTime": {
     "end_time": "2022-07-01T08:38:22.258583Z",
     "start_time": "2022-07-01T08:38:22.185116Z"
    }
   },
   "outputs": [
    {
     "name": "stdout",
     "output_type": "stream",
     "text": [
      "Scenario 1: Best RMSE Wavelet family coif : 80.72 \\pm 4.79\n",
      "Scenario 1: Best RMSE Wavelet+Redundancy family db : 73.41 \\pm 3.63\n",
      "Scenario 1: Best RMSE Delta function family : 70.61 \\pm 1.35\n",
      "\n",
      "Scenario 2: Best RMSE Wavelet family haar : 73.97 \\pm 1.57\n",
      "Scenario 2: Best RMSE Wavelet+Redundancy family haar : 73.89 \\pm 1.83\n",
      "Scenario 2: Best RMSE Delta function family : 70.52 \\pm 1.09\n",
      "\n",
      "Scenario 3: Best RMSE Wavelet family haar : 87.87 \\pm 5.14\n",
      "Scenario 3: Best RMSE Wavelet+Redundancy family haar : 85.20 \\pm 4.71\n",
      "Scenario 3: Best RMSE Delta function family : 71.69 \\pm 1.61\n",
      "\n"
     ]
    }
   ],
   "source": [
    "print(\n",
    "    \"Scenario 1: Best RMSE Wavelet family {0} : {1:.2f} \\pm {2:.2f}\".format(\n",
    "        use_wavelet[idx_sc1], scenarios_means[0, 1, idx_sc1] * 10**5,\n",
    "        scenarios_stds[0, 1, idx_sc1] * 10**5\n",
    "    )\n",
    ")\n",
    "\n",
    "print(\n",
    "    \"Scenario 1: Best RMSE Wavelet+Redundancy family {0} : {1:.2f} \\pm {2:.2f}\".format(\n",
    "        use_wavelet[idx_sc1_red], scenarios_red_means[0, 1, idx_sc1_red] * 10**5,\n",
    "        scenarios_red_stds[0, 1, idx_sc1_red] * 10**5\n",
    "    )\n",
    ")\n",
    "\n",
    "print(\n",
    "    \"Scenario 1: Best RMSE Delta function family : {0:.2f} \\pm {1:.2f}\\n\".format(\n",
    "        delta_basis_means[0, 1] * 10**5, delta_basis_stds[0, 1] * 10**5\n",
    "    )\n",
    ")\n",
    "\n",
    "print(\n",
    "    \"Scenario 2: Best RMSE Wavelet family {0} : {1:.2f} \\pm {2:.2f}\".format(\n",
    "        use_wavelet[idx_sc2], scenarios_means[1, 1, idx_sc2] * 10**5,\n",
    "        scenarios_stds[1, 1, idx_sc2] * 10**5\n",
    "    )\n",
    ")\n",
    "\n",
    "print(\n",
    "    \"Scenario 2: Best RMSE Wavelet+Redundancy family {0} : {1:.2f} \\pm {2:.2f}\".format(\n",
    "        use_wavelet[idx_sc2_red], scenarios_red_means[1, 1, idx_sc2_red] * 10**5,\n",
    "        scenarios_red_stds[1, 1, idx_sc2_red] * 10**5\n",
    "    )\n",
    ")\n",
    "\n",
    "print(\n",
    "    \"Scenario 2: Best RMSE Delta function family : {0:.2f} \\pm {1:.2f}\\n\".format(\n",
    "        delta_basis_means[1, 1] * 10**5, delta_basis_stds[1, 1] * 10**5\n",
    "    )\n",
    ")\n",
    "\n",
    "print(\n",
    "    \"Scenario 3: Best RMSE Wavelet family {0} : {1:.2f} \\pm {2:.2f}\".format(\n",
    "        use_wavelet[idx_sc3], scenarios_means[2, 1, idx_sc3] * 10**5,\n",
    "        scenarios_stds[2, 1, idx_sc3] * 10**5\n",
    "    )\n",
    ")\n",
    "\n",
    "print(\n",
    "    \"Scenario 3: Best RMSE Wavelet+Redundancy family {0} : {1:.2f} \\pm {2:.2f}\".format(\n",
    "        use_wavelet[idx_sc3_red], scenarios_red_means[2, 1, idx_sc3_red] * 10**5,\n",
    "        scenarios_red_stds[2, 1, idx_sc3_red] * 10**5\n",
    "    )\n",
    ")\n",
    "\n",
    "print(\n",
    "    \"Scenario 3: Best RMSE Delta function family : {0:.2f} \\pm {1:.2f}\\n\".format(\n",
    "        delta_basis_means[2, 1] * 10**5, delta_basis_stds[2, 1] * 10**5\n",
    "    )\n",
    ")"
   ]
  },
  {
   "cell_type": "code",
   "execution_count": 17,
   "id": "153fef86",
   "metadata": {
    "ExecuteTime": {
     "end_time": "2022-07-01T08:38:24.157655Z",
     "start_time": "2022-07-01T08:38:22.260154Z"
    }
   },
   "outputs": [
    {
     "data": {
      "image/png": "[encoded data removed]",
      "text/plain": [
       "<Figure size 1296x360 with 12 Axes>"
      ]
     },
     "metadata": {
      "needs_background": "light"
     },
     "output_type": "display_data"
    }
   ],
   "source": [
    "_id = np.arange(0, 2 * nwavelets, 2)\n",
    "names = [\"PSNR\", \"RMSE\", \"AIC\", \"BIC\"]\n",
    "fig, ax = plt.subplots(\n",
    "    nrows=scenarios_means.shape[0], ncols=len(names), sharey='col', sharex='all', figsize=(18, 5)\n",
    ")\n",
    "#cmap = plt.get_cmap('tab20')\n",
    "cmap = plt.get_cmap('tab10')\n",
    "colors = [cmap(i) for i in np.linspace(0, 1, 2 * nwavelets)]\n",
    "\n",
    "for i in range(scenarios_means.shape[0]):\n",
    "    for j in range(len(names)):\n",
    "        for k in range(scenarios_means.shape[2]):\n",
    "            ax[i, j].plot(_id[k], scenarios_means[i, j, k], label=use_wavelet[k], color=colors[k])\n",
    "            ax[i, j].plot(\n",
    "                _id[k] + 1,\n",
    "                scenarios_red_means[i, j, k],\n",
    "                label=\"delta+\" + use_wavelet[k],\n",
    "                color=colors[k]\n",
    "            )\n",
    "            ax[i, j].errorbar(\n",
    "                _id[k],\n",
    "                scenarios_means[i, j, k],\n",
    "                yerr=scenarios_stds[i, j, k],\n",
    "                fmt='.',\n",
    "                capsize=4,\n",
    "                color=colors[k]\n",
    "            )\n",
    "            ax[i, j].errorbar(\n",
    "                _id[k] + 1,\n",
    "                scenarios_red_means[i, j, k],\n",
    "                yerr=scenarios_red_stds[i, j, k],\n",
    "                fmt='.',\n",
    "                capsize=4,\n",
    "                color=colors[k]\n",
    "            )\n",
    "            #if names[f] == \"PSNR\" and sc==3:\n",
    "            #ax[sc-1,f].legend(loc='upper center', bbox_to_anchor=(0.5, -0.5), ncol=19, fancybox=True, shadow=True, title=\"Wavelets\")\n",
    "            ax[i, j].set_ylabel(names[j])\n",
    "        if i == 2:\n",
    "            ax[i, j].set_xlabel(\"Family\")\n",
    "        ax[i, j].plot(_id[-1] + 1, delta_basis_means[i, j], label=\"delta\", color=\"orange\")\n",
    "        ax[i, j].errorbar(\n",
    "            _id[-1] + 2,\n",
    "            delta_basis_means[i, j],\n",
    "            yerr=delta_basis_stds[i, j],\n",
    "            fmt='.',\n",
    "            capsize=4,\n",
    "            color=\"orange\"\n",
    "        )\n",
    "\n",
    "#for k in range(len(idx_coif)):\n",
    "#    for i in range(scenarios_means.shape[0]):\n",
    "#        for j in range(len(names)):\n",
    "#            ax[i,j].axvline(x = idx_coif[k], color = 'k', linestyle=\"--\", alpha=0.8)\n",
    "\n",
    "#for i in range(scenarios_means.shape[0]):\n",
    "#ax[i,1].set_ylim([0,0.0015])\n",
    "#ax[i,2].set_ylim([-25000,-20000])\n",
    "#ax[i,3].set_ylim([-25000,-20000])\n",
    "\n",
    "#ax[i,2].set_ylim([-25000,-15000]) #undecimated\n",
    "#ax[i,3].set_ylim([-25000,17500]) #undecimated\n",
    "undecimated = \"_undecimated\"\n",
    "ofile_name = \"families\" + undecimated + \"_wavelets_jvla.pdf\"\n",
    "#fig.legend(loc='lower center', bbox_to_anchor=(0.5, -0.5), ncol=19, fancybox=True, shadow=True, title=\"Wavelets\")\n",
    "#ax[len(scenarios)-1, 1].legend(loc='upper left', bbox_to_anchor=[1.0, -0.5], ncol=19, fancybox=True, shadow=True, title=\"Wavelets\")\n",
    "h, l = ax[0, 0].get_legend_handles_labels()\n",
    "legend = fig.legend(\n",
    "    h,\n",
    "    l,\n",
    "    loc='lower center',\n",
    "    ncol=18,\n",
    "    fancybox=True,\n",
    "    bbox_to_anchor=[0.52, -0.2],\n",
    "    shadow=True,\n",
    "    title=\"Wavelet families\"\n",
    ")\n",
    "# fig.suptitle(\"Delta dirac basis + Undecimated Wavelet\")\n",
    "fig.tight_layout()\n",
    "if os.path.isfile(ofile_name):\n",
    "    os.remove(ofile_name)  # Opt.: os.system(\"rm \"+strFile)\n",
    "fig.savefig(ofile_name, dpi=100, bbox_inches='tight')  #"
   ]
  },
  {
   "cell_type": "code",
   "execution_count": null,
   "id": "e40ce77f",
   "metadata": {},
   "outputs": [],
   "source": []
  }
 ],
 "metadata": {
  "kernelspec": {
   "display_name": "Python 3 (ipykernel)",
   "language": "python",
   "name": "python3"
  },
  "language_info": {
   "codemirror_mode": {
    "name": "ipython",
    "version": 3
   },
   "file_extension": ".py",
   "mimetype": "text/x-python",
   "name": "python",
   "nbconvert_exporter": "python",
   "pygments_lexer": "ipython3",
   "version": "3.10.5"
  },
  "latex_envs": {
   "LaTeX_envs_menu_present": true,
   "autoclose": false,
   "autocomplete": true,
   "bibliofile": "biblio.bib",
   "cite_by": "apalike",
   "current_citInitial": 1,
   "eqLabelWithNumbers": true,
   "eqNumInitial": 1,
   "hotkeys": {
    "equation": "Ctrl-E",
    "itemize": "Ctrl-I"
   },
   "labels_anchors": false,
   "latex_user_defs": false,
   "report_style_numbering": false,
   "user_envs_cfg": false
  },
  "varInspector": {
   "cols": {
    "lenName": 16,
    "lenType": 16,
    "lenVar": 40
   },
   "kernels_config": {
    "python": {
     "delete_cmd_postfix": "",
     "delete_cmd_prefix": "del ",
     "library": "var_list.py",
     "varRefreshCmd": "print(var_dic_list())"
    },
    "r": {
     "delete_cmd_postfix": ") ",
     "delete_cmd_prefix": "rm(",
     "library": "var_list.r",
     "varRefreshCmd": "cat(var_dic_list()) "
    }
   },
   "types_to_exclude": [
    "module",
    "function",
    "builtin_function_or_method",
    "instance",
    "_Feature"
   ],
   "window_display": false
  }
 },
 "nbformat": 4,
 "nbformat_minor": 5
}
