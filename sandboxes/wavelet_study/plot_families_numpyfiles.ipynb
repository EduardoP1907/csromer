{
 "cells": [
  {
   "cell_type": "code",
   "execution_count": 1,
   "id": "0142b612",
   "metadata": {
    "ExecuteTime": {
     "end_time": "2022-05-23T20:59:23.273962Z",
     "start_time": "2022-05-23T20:59:22.812364Z"
    }
   },
   "outputs": [],
   "source": [
    "import os\n",
    "\n",
    "import matplotlib.pyplot as plt\n",
    "import numpy as np\n",
    "import pywt\n",
    "\n",
    "%matplotlib inline"
   ]
  },
  {
   "cell_type": "code",
   "execution_count": 2,
   "id": "9a257732",
   "metadata": {
    "ExecuteTime": {
     "end_time": "2022-05-23T20:59:23.277512Z",
     "start_time": "2022-05-23T20:59:23.274734Z"
    }
   },
   "outputs": [],
   "source": [
    "SMALL_SIZE = 17\n",
    "MEDIUM_SIZE = 18\n",
    "BIGGER_SIZE = 19\n",
    "\n",
    "plt.rcParams.update(\n",
    "    {\n",
    "        \"font.family\": \"serif\",\n",
    "        \"text.usetex\": True,\n",
    "        \"pgf.rcfonts\": False,\n",
    "        \"pgf.texsystem\": 'pdflatex',  # default is xetex\n",
    "    }\n",
    ")\n",
    "\n",
    "plt.rc('font', size=MEDIUM_SIZE)  # controls default text sizes\n",
    "plt.rc('axes', titlesize=SMALL_SIZE)  # fontsize of the axes title\n",
    "plt.rc('axes', labelsize=MEDIUM_SIZE)  # fontsize of the x and y labels\n",
    "plt.rc('xtick', labelsize=SMALL_SIZE)  # fontsize of the tick labels\n",
    "plt.rc('ytick', labelsize=SMALL_SIZE)  # fontsize of the tick labels\n",
    "plt.rc('legend', fontsize=SMALL_SIZE)  # legend fontsize"
   ]
  },
  {
   "cell_type": "code",
   "execution_count": 3,
   "id": "aad9a921",
   "metadata": {
    "ExecuteTime": {
     "end_time": "2022-05-23T20:59:23.339164Z",
     "start_time": "2022-05-23T20:59:23.278926Z"
    }
   },
   "outputs": [],
   "source": [
    "nscenarios = 3"
   ]
  },
  {
   "cell_type": "code",
   "execution_count": 4,
   "id": "c60e4f67",
   "metadata": {
    "ExecuteTime": {
     "end_time": "2022-05-23T20:59:24.315877Z",
     "start_time": "2022-05-23T20:59:23.340810Z"
    }
   },
   "outputs": [],
   "source": [
    "undecimated = \"\"\n",
    "radiotelescope = \"meerkat\""
   ]
  },
  {
   "cell_type": "code",
   "execution_count": 5,
   "id": "de8154f9",
   "metadata": {
    "ExecuteTime": {
     "end_time": "2022-05-23T20:59:24.401341Z",
     "start_time": "2022-05-23T20:59:24.316781Z"
    }
   },
   "outputs": [],
   "source": [
    "means_file = \"wavelet_red_jvla_means_meerkat.npy\""
   ]
  },
  {
   "cell_type": "code",
   "execution_count": 6,
   "id": "cb34f850",
   "metadata": {
    "ExecuteTime": {
     "end_time": "2022-05-23T20:59:24.449525Z",
     "start_time": "2022-05-23T20:59:24.402946Z"
    }
   },
   "outputs": [],
   "source": [
    "stds_file = \"wavelet_red_jvla_stds_meerkat.npy\""
   ]
  },
  {
   "cell_type": "code",
   "execution_count": 7,
   "id": "0fe0d5e2",
   "metadata": {
    "ExecuteTime": {
     "end_time": "2022-05-23T20:59:24.499369Z",
     "start_time": "2022-05-23T20:59:24.451135Z"
    }
   },
   "outputs": [],
   "source": [
    "scenarios_means = np.load(means_file)\n",
    "scenarios_stds = np.load(stds_file)"
   ]
  },
  {
   "cell_type": "code",
   "execution_count": 8,
   "id": "4f8504ae",
   "metadata": {
    "ExecuteTime": {
     "end_time": "2022-05-23T20:59:24.560414Z",
     "start_time": "2022-05-23T20:59:24.500882Z"
    }
   },
   "outputs": [
    {
     "data": {
      "text/plain": [
       "(3, 4, 5)"
      ]
     },
     "execution_count": 8,
     "metadata": {},
     "output_type": "execute_result"
    }
   ],
   "source": [
    "scenarios_means.shape"
   ]
  },
  {
   "cell_type": "code",
   "execution_count": 9,
   "id": "7ba3cb20",
   "metadata": {
    "ExecuteTime": {
     "end_time": "2022-05-23T20:59:25.503295Z",
     "start_time": "2022-05-23T20:59:24.562086Z"
    }
   },
   "outputs": [],
   "source": [
    "use_wavelet = [\"haar\", \"coif\", \"db\", \"dmey\", \"sym\"]\n",
    "# use_wavelet.remove(\"haar\")\n",
    "nwavelets = len(use_wavelet)\n",
    "#idx_coif = [use_wavelet.index(\"coif\") - 0.5, use_wavelet.index(\"db\") - 0.5, use_wavelet.index(\"dmey\") - 0.5,  use_wavelet.index(\"rbio\") - 0.5, use_wavelet.index(\"sym\") - 0.5]"
   ]
  },
  {
   "cell_type": "code",
   "execution_count": 10,
   "id": "45874e4c",
   "metadata": {
    "ExecuteTime": {
     "end_time": "2022-05-23T20:59:25.556164Z",
     "start_time": "2022-05-23T20:59:25.504132Z"
    }
   },
   "outputs": [],
   "source": [
    "# Getting minimum AICs\n",
    "idx_sc1 = np.argmin(scenarios_means[0, 2])\n",
    "idx_sc2 = np.argmin(scenarios_means[1, 2])\n",
    "idx_sc3 = np.argmin(scenarios_means[2, 2])"
   ]
  },
  {
   "cell_type": "code",
   "execution_count": 11,
   "id": "a5eb9130",
   "metadata": {
    "ExecuteTime": {
     "end_time": "2022-05-23T20:59:25.609928Z",
     "start_time": "2022-05-23T20:59:25.557678Z"
    }
   },
   "outputs": [
    {
     "data": {
      "text/plain": [
       "-6385.3423"
      ]
     },
     "execution_count": 11,
     "metadata": {},
     "output_type": "execute_result"
    }
   ],
   "source": [
    "scenarios_means[0, 2, 4]\n",
    "scenarios_means[1, 2, 4]\n",
    "scenarios_means[2, 2, 4]"
   ]
  },
  {
   "cell_type": "code",
   "execution_count": 12,
   "id": "38e4ffc7",
   "metadata": {
    "ExecuteTime": {
     "end_time": "2022-05-23T20:59:25.666673Z",
     "start_time": "2022-05-23T20:59:25.613081Z"
    }
   },
   "outputs": [
    {
     "name": "stdout",
     "output_type": "stream",
     "text": [
      "Scenario 1: Best AIC Wavelet family dmey : -12002.17 \\pm 62.79\n",
      "Scenario 2: Best AIC Wavelet family haar : -11662.77 \\pm 88.39\n",
      "Scenario 3: Best AIC Wavelet family haar : -11450.86 \\pm 121.98\n"
     ]
    }
   ],
   "source": [
    "print(\n",
    "    \"Scenario 1: Best AIC Wavelet family {0} : {1:.2f} \\pm {2:.2f}\".format(\n",
    "        use_wavelet[idx_sc1], scenarios_means[0, 2, idx_sc1], scenarios_stds[0, 2, idx_sc1]\n",
    "    )\n",
    ")\n",
    "print(\n",
    "    \"Scenario 2: Best AIC Wavelet family {0} : {1:.2f} \\pm {2:.2f}\".format(\n",
    "        use_wavelet[idx_sc2], scenarios_means[1, 2, idx_sc2], scenarios_stds[1, 2, idx_sc2]\n",
    "    )\n",
    ")\n",
    "print(\n",
    "    \"Scenario 3: Best AIC Wavelet family {0} : {1:.2f} \\pm {2:.2f}\".format(\n",
    "        use_wavelet[idx_sc3], scenarios_means[2, 2, idx_sc3], scenarios_stds[2, 2, idx_sc3]\n",
    "    )\n",
    ")"
   ]
  },
  {
   "cell_type": "code",
   "execution_count": 13,
   "id": "4d427510",
   "metadata": {
    "ExecuteTime": {
     "end_time": "2022-05-23T20:59:25.722680Z",
     "start_time": "2022-05-23T20:59:25.668209Z"
    }
   },
   "outputs": [
    {
     "name": "stdout",
     "output_type": "stream",
     "text": [
      "Scenario 1: Best BIC Wavelet family dmey : -11793.03 \\pm 97.80\n",
      "Scenario 2: Best BIC Wavelet family haar : -11297.67 \\pm 136.81\n",
      "Scenario 3: Best BIC Wavelet family haar : -10950.97 \\pm 168.62\n"
     ]
    }
   ],
   "source": [
    "print(\n",
    "    \"Scenario 1: Best BIC Wavelet family {0} : {1:.2f} \\pm {2:.2f}\".format(\n",
    "        use_wavelet[idx_sc1], scenarios_means[0, 3, idx_sc1], scenarios_stds[0, 3, idx_sc1]\n",
    "    )\n",
    ")\n",
    "print(\n",
    "    \"Scenario 2: Best BIC Wavelet family {0} : {1:.2f} \\pm {2:.2f}\".format(\n",
    "        use_wavelet[idx_sc2], scenarios_means[1, 3, idx_sc2], scenarios_stds[1, 3, idx_sc2]\n",
    "    )\n",
    ")\n",
    "print(\n",
    "    \"Scenario 3: Best BIC Wavelet family {0} : {1:.2f} \\pm {2:.2f}\".format(\n",
    "        use_wavelet[idx_sc3], scenarios_means[2, 3, idx_sc3], scenarios_stds[2, 3, idx_sc3]\n",
    "    )\n",
    ")"
   ]
  },
  {
   "cell_type": "code",
   "execution_count": 14,
   "id": "87dfadd7",
   "metadata": {
    "ExecuteTime": {
     "end_time": "2022-05-23T20:59:25.862597Z",
     "start_time": "2022-05-23T20:59:25.724031Z"
    }
   },
   "outputs": [
    {
     "name": "stdout",
     "output_type": "stream",
     "text": [
      "Scenario 1: Best PSNR Wavelet family dmey : 125.47 \\pm 5.87\n",
      "Scenario 2: Best PSNR Wavelet family haar : 196.49 \\pm 9.19\n",
      "Scenario 3: Best PSNR Wavelet family haar : 184.84 \\pm 8.53\n"
     ]
    }
   ],
   "source": [
    "print(\n",
    "    \"Scenario 1: Best PSNR Wavelet family {0} : {1:.2f} \\pm {2:.2f}\".format(\n",
    "        use_wavelet[idx_sc1], scenarios_means[0, 0, idx_sc1], scenarios_stds[0, 0, idx_sc1]\n",
    "    )\n",
    ")\n",
    "print(\n",
    "    \"Scenario 2: Best PSNR Wavelet family {0} : {1:.2f} \\pm {2:.2f}\".format(\n",
    "        use_wavelet[idx_sc2], scenarios_means[1, 0, idx_sc2], scenarios_stds[1, 0, idx_sc2]\n",
    "    )\n",
    ")\n",
    "print(\n",
    "    \"Scenario 3: Best PSNR Wavelet family {0} : {1:.2f} \\pm {2:.2f}\".format(\n",
    "        use_wavelet[idx_sc3], scenarios_means[2, 0, idx_sc3], scenarios_stds[2, 0, idx_sc3]\n",
    "    )\n",
    ")"
   ]
  },
  {
   "cell_type": "code",
   "execution_count": 15,
   "id": "3154850d",
   "metadata": {
    "ExecuteTime": {
     "end_time": "2022-05-23T20:59:25.919376Z",
     "start_time": "2022-05-23T20:59:25.864215Z"
    }
   },
   "outputs": [
    {
     "name": "stdout",
     "output_type": "stream",
     "text": [
      "Scenario 1: Best RMSE Wavelet family dmey : (1336.95 \\pm 26.52)*1e-5\n",
      "Scenario 2: Best RMSE Wavelet family haar : (1477.76 \\pm 40.55)*1e-5\n",
      "Scenario 3: Best RMSE Wavelet family haar : (1565.58 \\pm 61.21)*1e-5\n"
     ]
    }
   ],
   "source": [
    "print(\n",
    "    \"Scenario 1: Best RMSE Wavelet family {0} : ({1:.2f} \\pm {2:.2f})*1e-5\".format(\n",
    "        use_wavelet[idx_sc1], scenarios_means[0, 1, idx_sc1] * 10**5,\n",
    "        scenarios_stds[0, 1, idx_sc1] * 10**5\n",
    "    )\n",
    ")\n",
    "print(\n",
    "    \"Scenario 2: Best RMSE Wavelet family {0} : ({1:.2f} \\pm {2:.2f})*1e-5\".format(\n",
    "        use_wavelet[idx_sc2], scenarios_means[1, 1, idx_sc2] * 10**5,\n",
    "        scenarios_stds[1, 1, idx_sc2] * 10**5\n",
    "    )\n",
    ")\n",
    "print(\n",
    "    \"Scenario 3: Best RMSE Wavelet family {0} : ({1:.2f} \\pm {2:.2f})*1e-5\".format(\n",
    "        use_wavelet[idx_sc3], scenarios_means[2, 1, idx_sc3] * 10**5,\n",
    "        scenarios_stds[2, 1, idx_sc3] * 10**5\n",
    "    )\n",
    ")"
   ]
  },
  {
   "cell_type": "code",
   "execution_count": 16,
   "id": "3550867a",
   "metadata": {
    "ExecuteTime": {
     "end_time": "2022-05-23T20:59:25.974830Z",
     "start_time": "2022-05-23T20:59:25.920162Z"
    }
   },
   "outputs": [],
   "source": [
    "#coif2_idx = [x for x in range(len(use_wavelet)) if use_wavelet[x] == \"coif2\"][0]\n",
    "#sym6_idx = [x for x in range(len(use_wavelet)) if use_wavelet[x] == \"sym6\"][0]"
   ]
  },
  {
   "cell_type": "code",
   "execution_count": 17,
   "id": "14bf0797",
   "metadata": {
    "ExecuteTime": {
     "end_time": "2022-05-23T20:59:26.031886Z",
     "start_time": "2022-05-23T20:59:25.975729Z"
    }
   },
   "outputs": [],
   "source": [
    "#print(\"AIC Scenario 2 coif2: \"+str(scenarios_means[1, 2, coif2_idx]))"
   ]
  },
  {
   "cell_type": "code",
   "execution_count": 18,
   "id": "9f97f268",
   "metadata": {
    "ExecuteTime": {
     "end_time": "2022-05-23T20:59:26.087896Z",
     "start_time": "2022-05-23T20:59:26.033315Z"
    }
   },
   "outputs": [],
   "source": [
    "#print(\"AIC Scenario 2 sym6: \"+str(scenarios_means[1, 2, sym6_idx]))"
   ]
  },
  {
   "cell_type": "code",
   "execution_count": 19,
   "id": "d86a96a2",
   "metadata": {
    "ExecuteTime": {
     "end_time": "2022-05-23T20:59:26.146025Z",
     "start_time": "2022-05-23T20:59:26.088676Z"
    }
   },
   "outputs": [],
   "source": [
    "delta_basis_means = np.load(\"deltaf_meerkat_scenarios_means_50.npy\")\n",
    "delta_basis_stds = np.load(\"deltaf_meerkat_scenarios_stds_50.npy\")"
   ]
  },
  {
   "cell_type": "code",
   "execution_count": 20,
   "id": "153fef86",
   "metadata": {
    "ExecuteTime": {
     "end_time": "2022-05-23T20:59:27.597126Z",
     "start_time": "2022-05-23T20:59:26.147332Z"
    }
   },
   "outputs": [
    {
     "data": {
      "image/png": "[encoded data removed]",
      "text/plain": [
       "<Figure size 1296x360 with 12 Axes>"
      ]
     },
     "metadata": {
      "needs_background": "light"
     },
     "output_type": "display_data"
    }
   ],
   "source": [
    "_id = np.arange(0, nwavelets)\n",
    "names = [\"PSNR\", \"RMSE\", \"AIC\", \"BIC\"]\n",
    "fig, ax = plt.subplots(\n",
    "    nrows=scenarios_means.shape[0], ncols=len(names), sharey='col', sharex='all', figsize=(18, 5)\n",
    ")\n",
    "#cmap = plt.get_cmap('tab20')\n",
    "cmap = plt.get_cmap('tab10')\n",
    "colors = [cmap(i) for i in np.linspace(0, 1, nwavelets)]\n",
    "\n",
    "for i in range(scenarios_means.shape[0]):\n",
    "    for j in range(len(names)):\n",
    "        for k in range(scenarios_means.shape[2]):\n",
    "            ax[i, j].plot(_id[k], scenarios_means[i, j, k], label=use_wavelet[k], color=colors[k])\n",
    "            ax[i, j].errorbar(\n",
    "                _id[k],\n",
    "                scenarios_means[i, j, k],\n",
    "                yerr=scenarios_stds[i, j, k],\n",
    "                fmt='.',\n",
    "                capsize=4,\n",
    "                color=colors[k]\n",
    "            )\n",
    "            #if names[f] == \"PSNR\" and sc==3:\n",
    "            #ax[sc-1,f].legend(loc='upper center', bbox_to_anchor=(0.5, -0.5), ncol=19, fancybox=True, shadow=True, title=\"Wavelets\")\n",
    "            ax[i, j].set_ylabel(names[j])\n",
    "        if i == 2:\n",
    "            ax[i, j].set_xlabel(\"Family\")\n",
    "        ax[i, j].plot(_id[-1] + 1, delta_basis_means[i, j], label=\"delta\", color=\"orange\")\n",
    "        ax[i, j].errorbar(\n",
    "            _id[-1] + 1,\n",
    "            delta_basis_means[i, j],\n",
    "            yerr=delta_basis_stds[i, j],\n",
    "            fmt='.',\n",
    "            capsize=4,\n",
    "            color=\"orange\"\n",
    "        )\n",
    "\n",
    "#for k in range(len(idx_coif)):\n",
    "#    for i in range(scenarios_means.shape[0]):\n",
    "#        for j in range(len(names)):\n",
    "#            ax[i,j].axvline(x = idx_coif[k], color = 'k', linestyle=\"--\", alpha=0.8)\n",
    "\n",
    "#for i in range(scenarios_means.shape[0]):\n",
    "#ax[i,1].set_ylim([0,0.0015])\n",
    "#ax[i,2].set_ylim([-25000,-20000])\n",
    "#ax[i,3].set_ylim([-25000,-20000])\n",
    "\n",
    "#ax[i,2].set_ylim([-25000,-15000]) #undecimated\n",
    "#ax[i,3].set_ylim([-25000,17500]) #undecimated\n",
    "\n",
    "ofile_name = \"families_\" + undecimated + \"wavelets_\" + radiotelescope + \".pdf\"\n",
    "#fig.legend(loc='lower center', bbox_to_anchor=(0.5, -0.5), ncol=19, fancybox=True, shadow=True, title=\"Wavelets\")\n",
    "#ax[len(scenarios)-1, 1].legend(loc='upper left', bbox_to_anchor=[1.0, -0.5], ncol=19, fancybox=True, shadow=True, title=\"Wavelets\")\n",
    "h, l = ax[0, 0].get_legend_handles_labels()\n",
    "legend = fig.legend(\n",
    "    h,\n",
    "    l,\n",
    "    loc='lower center',\n",
    "    ncol=18,\n",
    "    fancybox=True,\n",
    "    bbox_to_anchor=[0.52, -0.2],\n",
    "    shadow=True,\n",
    "    title=\"Wavelet families\"\n",
    ")\n",
    "# fig.suptitle(\"Delta dirac basis + Undecimated Wavelet\")\n",
    "fig.tight_layout()\n",
    "if os.path.isfile(ofile_name):\n",
    "    os.remove(ofile_name)  # Opt.: os.system(\"rm \"+strFile)\n",
    "fig.savefig(ofile_name, dpi=100, bbox_inches='tight')  #"
   ]
  },
  {
   "cell_type": "code",
   "execution_count": null,
   "id": "9290e6e0",
   "metadata": {},
   "outputs": [],
   "source": []
  }
 ],
 "metadata": {
  "kernelspec": {
   "display_name": "Python 3 (ipykernel)",
   "language": "python",
   "name": "python3"
  },
  "language_info": {
   "codemirror_mode": {
    "name": "ipython",
    "version": 3
   },
   "file_extension": ".py",
   "mimetype": "text/x-python",
   "name": "python",
   "nbconvert_exporter": "python",
   "pygments_lexer": "ipython3",
   "version": "3.10.4"
  },
  "latex_envs": {
   "LaTeX_envs_menu_present": true,
   "autoclose": false,
   "autocomplete": true,
   "bibliofile": "biblio.bib",
   "cite_by": "apalike",
   "current_citInitial": 1,
   "eqLabelWithNumbers": true,
   "eqNumInitial": 1,
   "hotkeys": {
    "equation": "Ctrl-E",
    "itemize": "Ctrl-I"
   },
   "labels_anchors": false,
   "latex_user_defs": false,
   "report_style_numbering": false,
   "user_envs_cfg": false
  },
  "varInspector": {
   "cols": {
    "lenName": 16,
    "lenType": 16,
    "lenVar": 40
   },
   "kernels_config": {
    "python": {
     "delete_cmd_postfix": "",
     "delete_cmd_prefix": "del ",
     "library": "var_list.py",
     "varRefreshCmd": "print(var_dic_list())"
    },
    "r": {
     "delete_cmd_postfix": ") ",
     "delete_cmd_prefix": "rm(",
     "library": "var_list.r",
     "varRefreshCmd": "cat(var_dic_list()) "
    }
   },
   "types_to_exclude": [
    "module",
    "function",
    "builtin_function_or_method",
    "instance",
    "_Feature"
   ],
   "window_display": false
  }
 },
 "nbformat": 4,
 "nbformat_minor": 5
}
